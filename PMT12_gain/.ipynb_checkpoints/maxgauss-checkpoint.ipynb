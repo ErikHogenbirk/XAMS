{
 "cells": [
  {
   "cell_type": "code",
   "execution_count": 54,
   "metadata": {
    "collapsed": false
   },
   "outputs": [],
   "source": [
    "import numpy as np\n",
    "import matplotlib.pyplot as plt\n",
    "r = np.random.normal(loc=0.0, scale=1.0, size=(1000000,50))\n",
    "# print(r)\n",
    "rm = [max(r[i]) for i in range(len(r))]\n",
    "# print(rm)"
   ]
  },
  {
   "cell_type": "code",
   "execution_count": 56,
   "metadata": {
    "collapsed": false
   },
   "outputs": [
    {
     "data": {
      "image/png": "[encoded data removed]",
      "text/plain": [
       "<matplotlib.figure.Figure at 0x7f29b0d49a58>"
      ]
     },
     "metadata": {},
     "output_type": "display_data"
    }
   ],
   "source": [
    "histboundaries = [0,6]\n",
    "histbinwidth = 0.05\n",
    "histbins = np.arange(histboundaries[0], histboundaries[1]+histbinwidth, histbinwidth)\n",
    "centers = np.arange(histboundaries[0]+histbinwidth/2.0, histboundaries[1], histbinwidth)\n",
    "counts = hist[0]\n",
    "hist = plt.hist(rm, bins=histbins, histtype='step', color = 'red')\n",
    "\n",
    "\n",
    "plt.show()"
   ]
  },
  {
   "cell_type": "code",
   "execution_count": 34,
   "metadata": {
    "collapsed": false
   },
   "outputs": [
    {
     "data": {
      "text/plain": [
       "array([   1420.,    1730.,    2068.,    2502.,    3163.,    3829.,\n",
       "          4624.,    5548.,    6604.,    7920.,    9448.,   11048.,\n",
       "         13183.,   15118.,   17877.,   20780.,   24190.,   27761.,\n",
       "         31593.,   35935.,   41108.,   46259.,   52175.,   58166.,\n",
       "         65382.,   72072.,   79356.,   87432.,   95652.,  104515.,\n",
       "        112959.,  122309.,  131510.,  141318.,  150058.,  159639.,\n",
       "        169459.,  178196.,  187351.,  195222.,  203380.,  210570.,\n",
       "        218667.,  223167.,  229743.,  233855.,  237382.,  239056.,\n",
       "        242184.,  242617.,  243010.,  242507.,  241129.,  238212.,\n",
       "        235456.,  230548.,  225438.,  220191.,  213096.,  207531.,\n",
       "        199310.,  192663.,  184031.,  175737.,  167635.,  158563.,\n",
       "        150883.,  141205.,  133706.,  125264.,  116897.,  108730.,\n",
       "        100755.,   93559.,   86428.,   79382.,   72423.,   67023.,\n",
       "         60678.,   55462.,   50512.,   45523.,   40596.,   37192.,\n",
       "         33159.,   29509.,   26516.,   23717.,   20926.,   18566.,\n",
       "         16438.,   14369.,   12723.,   11101.,    9745.,    8364.,\n",
       "          7379.,    6532.,    5514.,    4730.])"
      ]
     },
     "execution_count": 34,
     "metadata": {},
     "output_type": "execute_result"
    }
   ],
   "source": [
    "hist[0]"
   ]
  },
  {
   "cell_type": "code",
   "execution_count": null,
   "metadata": {
    "collapsed": true
   },
   "outputs": [],
   "source": []
  }
 ],
 "metadata": {
  "kernelspec": {
   "display_name": "Python 3",
   "language": "python",
   "name": "python3"
  },
  "language_info": {
   "codemirror_mode": {
    "name": "ipython",
    "version": 3
   },
   "file_extension": ".py",
   "mimetype": "text/x-python",
   "name": "python",
   "nbconvert_exporter": "python",
   "pygments_lexer": "ipython3",
   "version": "3.4.5"
  }
 },
 "nbformat": 4,
 "nbformat_minor": 2
}
