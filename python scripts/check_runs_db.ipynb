{
 "cells": [
  {
   "cell_type": "code",
   "execution_count": null,
   "metadata": {
    "collapsed": true
   },
   "outputs": [],
   "source": []
  },
  {
   "cell_type": "code",
   "execution_count": 1,
   "metadata": {
    "collapsed": false,
    "scrolled": true
   },
   "outputs": [],
   "source": [
    "import pytz\n",
    "import time\n",
    "import os\n",
    "import pymongo\n",
    "from pax import core\n",
    "\n",
    "client = pymongo.MongoClient()\n",
    "runs_collection = client['run']['runs']\n",
    "\n",
    "pax_ini_config_path = '/home/xams/xams/PMT12_gain/daq_to_raw_PMT12_gain.ini'\n",
    "data_directory = '/home/xams/xams/PMT12_gain/K_series/'\n",
    "done_field_name = 'event_building_complete'\n",
    "prefab_ini_folder = '/home/xams/xams/daqcontrol/ini/'"
   ]
  },
  {
   "cell_type": "code",
   "execution_count": 2,
   "metadata": {
    "collapsed": true
   },
   "outputs": [],
   "source": [
    "ininames = sorted([x for x in os.listdir(prefab_ini_folder) if x.endswith('.ini')])\n"
   ]
  },
  {
   "cell_type": "code",
   "execution_count": 3,
   "metadata": {
    "collapsed": false
   },
   "outputs": [],
   "source": [
    "ininames.insert(0, ininames.pop(ininames.index('default_config.ini')))\n"
   ]
  },
  {
   "cell_type": "code",
   "execution_count": 4,
   "metadata": {
    "collapsed": false
   },
   "outputs": [
    {
     "data": {
      "text/plain": [
       "['default_config.ini', 'PMT12_gain.ini', 'baseline.ini']"
      ]
     },
     "execution_count": 4,
     "metadata": {},
     "output_type": "execute_result"
    }
   ],
   "source": [
    "ininames"
   ]
  },
  {
   "cell_type": "code",
   "execution_count": 8,
   "metadata": {
    "collapsed": false
   },
   "outputs": [],
   "source": [
    "#Hard coding to set processing to done\n",
    "def set_as_processed(name, done_field_name = done_field_name, set_as =True):\n",
    "    runs_collection.find_one_and_update({'name': name},\n",
    "                                   {'$set': {done_field_name: set_as}})\n",
    "set_as_processed('170203_090152')"
   ]
  },
  {
   "cell_type": "code",
   "execution_count": 11,
   "metadata": {
    "collapsed": true
   },
   "outputs": [],
   "source": [
    "set_as_processed('170206_095041', done_field_name='processing_status', set_as = 'done')"
   ]
  },
  {
   "cell_type": "code",
   "execution_count": 75,
   "metadata": {
    "collapsed": false,
    "scrolled": true
   },
   "outputs": [],
   "source": [
    "runs = list(runs_collection.find())\n",
    "run_doc = runs[0]"
   ]
  },
  {
   "cell_type": "code",
   "execution_count": null,
   "metadata": {
    "collapsed": true
   },
   "outputs": [],
   "source": []
  },
  {
   "cell_type": "code",
   "execution_count": 76,
   "metadata": {
    "collapsed": false
   },
   "outputs": [],
   "source": [
    "with open(os.path.join('/home/xams/', 'run_db_backup_170202.pkl'), mode='wb') as outfile:\n",
    "    #pickle.dump(run_doc, outfile)\n",
    "    pickle.dump(runs, outfile)"
   ]
  },
  {
   "cell_type": "code",
   "execution_count": 77,
   "metadata": {
    "collapsed": false
   },
   "outputs": [],
   "source": [
    "\n",
    "from prettytable import PrettyTable\n",
    "run_doc_human = run_doc.copy()\n",
    "run_doc_human_ini = run_doc_human['ini']\n",
    "for key, val in run_doc_human_ini.items():\n",
    "    run_doc_human['ini_' + key] = val\n",
    "for reg_dict in run_doc_human_ini['registers']:\n",
    "    run_doc_human['ini_registers_' + reg_dict['register']] = reg_dict\n",
    "del(run_doc_human['ini'])\n",
    "del(run_doc_human['ini_registers'])\n",
    "\n",
    "t = PrettyTable(['key', 'value'])\n",
    "for key, val in sorted(run_doc_human.items()):\n",
    "   t.add_row([key, val])\n",
    "t.align = \"l\"\n",
    "with open('/home/xams/blabla.txt', 'w') as f:\n",
    "    f.write(str(t))"
   ]
  },
  {
   "cell_type": "code",
   "execution_count": 78,
   "metadata": {
    "collapsed": false
   },
   "outputs": [
    {
     "data": {
      "text/plain": [
       "array(['_id', 'comment', 'end', 'event_building_complete',\n",
       "       'ini_baseline_mode', 'ini_blt_size', 'ini_boards',\n",
       "       'ini_compression', 'ini_links', 'ini_mongo',\n",
       "       'ini_occurrence_integral', 'ini_processing_mode',\n",
       "       'ini_processing_num_threads', 'ini_processing_readout_threshold',\n",
       "       'ini_registers_1028', 'ini_registers_1080', 'ini_registers_1328',\n",
       "       'ini_registers_1380', 'ini_registers_1428', 'ini_registers_1480',\n",
       "       'ini_registers_8000', 'ini_registers_800C', 'ini_registers_8020',\n",
       "       'ini_registers_809C', 'ini_registers_8100', 'ini_registers_810C',\n",
       "       'ini_registers_8114', 'ini_registers_8120', 'ini_registers_EF00',\n",
       "       'ini_registers_EF14', 'ini_registers_EF18', 'ini_registers_EF1C',\n",
       "       'ini_registers_EF24', 'ini_run_start', 'ini_write_mode', 'name',\n",
       "       'start'], \n",
       "      dtype='<U32')"
      ]
     },
     "execution_count": 78,
     "metadata": {},
     "output_type": "execute_result"
    }
   ],
   "source": [
    "import numpy as np\n",
    "np.sort(list(run_doc_human.keys()))"
   ]
  },
  {
   "cell_type": "code",
   "execution_count": 79,
   "metadata": {
    "collapsed": false
   },
   "outputs": [
    {
     "ename": "SyntaxError",
     "evalue": "invalid syntax (<ipython-input-79-2173c90b7362>, line 2)",
     "output_type": "error",
     "traceback": [
      "\u001b[0;36m  File \u001b[0;32m\"<ipython-input-79-2173c90b7362>\"\u001b[0;36m, line \u001b[0;32m2\u001b[0m\n\u001b[0;31m    for key, val in sortedrun_doc_human.items()):\u001b[0m\n\u001b[0m                                               ^\u001b[0m\n\u001b[0;31mSyntaxError\u001b[0m\u001b[0;31m:\u001b[0m invalid syntax\n"
     ]
    }
   ],
   "source": [
    "t = PrettyTable(['key', 'value'])\n",
    "for key, val in sortedrun_doc_human.items()):\n",
    "   t.add_row([key, val])\n",
    "with open('/home/xams/blabla.txt', 'w') as f:\n",
    "    f.write(str(t))"
   ]
  },
  {
   "cell_type": "code",
   "execution_count": null,
   "metadata": {
    "collapsed": false
   },
   "outputs": [],
   "source": [
    "import json\n",
    "import pickle\n",
    "with open(os.path.join('/home/xams/', 'run_doc.pkl'), mode='w') as outfile:\n",
    "    #pickle.dump(run_doc, outfile)\n",
    "    json.dump(run_doc, outfile)"
   ]
  },
  {
   "cell_type": "code",
   "execution_count": null,
   "metadata": {
    "collapsed": false
   },
   "outputs": [],
   "source": [
    "pickle.load(\n",
    "    open('/home/xams/xams/pmtdata/170202_104333/run_doc.pkl', 'rb')), "
   ]
  },
  {
   "cell_type": "code",
   "execution_count": null,
   "metadata": {
    "collapsed": false,
    "scrolled": true
   },
   "outputs": [],
   "source": [
    "try:\n",
    "    register_list = runs[0]['ini']['registers']\n",
    "    channels_enabled_dict = next(item for item in register_list if item[\"register\"] == \"8120\")\n",
    "    channels_enabled_str = channels_enabled_dict['value']\n",
    "    binary_string = bin(int(channels_enabled_str, 16))[2:]\n",
    "    channel_enabled_list = [ch_n for ch_n, enabled in enumerate(reversed(binary_string)) if enabled=='1']\n",
    "except:\n",
    "    print('WARNING did not correctly read channel enable mask, using [0,3]...')\n",
    "    channel_enabled_list = [0,3]"
   ]
  },
  {
   "cell_type": "code",
   "execution_count": null,
   "metadata": {
    "collapsed": false,
    "scrolled": true
   },
   "outputs": [],
   "source": [
    "channels_enabled_str"
   ]
  },
  {
   "cell_type": "code",
   "execution_count": null,
   "metadata": {
    "collapsed": false,
    "scrolled": true
   },
   "outputs": [],
   "source": [
    "(runs[0]['end'] - runs[0]['start']).total_seconds() / 60"
   ]
  },
  {
   "cell_type": "code",
   "execution_count": null,
   "metadata": {
    "collapsed": false,
    "scrolled": true
   },
   "outputs": [],
   "source": [
    "import datetime\n",
    "datetime.datetime.utcnow().strftime('%y%m%d_%H%M%S')"
   ]
  },
  {
   "cell_type": "code",
   "execution_count": null,
   "metadata": {
    "collapsed": false,
    "scrolled": true
   },
   "outputs": [],
   "source": [
    "while True:\n",
    "    # Get all runs for which events have not been built yet\n",
    "    runs_todo = list(runs_collection.find({done_field_name: {'$exists': False}}))\n",
    "    print(\"%d runs to do\" % len(runs_todo))\n",
    "    \n",
    "    if not runs_todo:\n",
    "        print(\"No more runs to process, waiting a while...\")\n",
    "        time.sleep(10)\n",
    "        continue\n",
    "    \n",
    "    for run_doc in runs_todo:\n",
    "        _id = run_doc['_id']\n",
    "        \n",
    "        # Create a timestamp-based run label, which we use to name the output folder\n",
    "        # Ideally kodiaq would already do this\n",
    "        run_label = run_doc['name'] + '_' + run_doc['start'].strftime('%y%m%d_%H%M%S')\n",
    "        \n",
    "        # Get possible pax config overrides from the run doc\n",
    "        conf_override = run_doc.get('pax_config', {})\n",
    "        \n",
    "        # Set the input (mongo collection) and output ()\n",
    "        conf_override.setdefault('pax', {})\n",
    "        conf_override['pax']['input_name'] = str(_id)\n",
    "        conf_override['pax']['output_name'] = os.path.join(data_directory, run_label)\n",
    "        \n",
    "        # WARNING this will delete your data!\n",
    "        conf_override.setdefault('MongoXAMS', {})\n",
    "        conf_override['MongoXAMS']['delete_data'] = False\n",
    "        \n",
    "        print(\"Starting pax to process run %s\" % _id)\n",
    "        mypax = core.Processor(config_paths=pax_ini_config_path,\n",
    "                               config_dict=conf_override)\n",
    "        mypax.run()\n",
    "        del mypax\n",
    "        print(\"Pax is done!\")\n",
    "        \n",
    "        runs_collection.find_one_and_update({'_id': _id}, {'$set': {done_field_name: True}})\n",
    "        \n",
    "        print(\"Temporary nap to prevent infinite print or something\")\n",
    "        time.sleep(3)"
   ]
  },
  {
   "cell_type": "code",
   "execution_count": null,
   "metadata": {
    "collapsed": true,
    "scrolled": true
   },
   "outputs": [],
   "source": []
  },
  {
   "cell_type": "code",
   "execution_count": null,
   "metadata": {
    "collapsed": false,
    "scrolled": true
   },
   "outputs": [],
   "source": [
    "runs_in_progress = list(collection.find({ 'end' : {'$exists': True}}, projection=['_id']))\n",
    "if len(runs_in_progress)"
   ]
  },
  {
   "cell_type": "code",
   "execution_count": null,
   "metadata": {
    "collapsed": true,
    "scrolled": true
   },
   "outputs": [],
   "source": []
  }
 ],
 "metadata": {
  "kernelspec": {
   "display_name": "Python 3",
   "language": "python",
   "name": "python3"
  },
  "language_info": {
   "codemirror_mode": {
    "name": "ipython",
    "version": 3
   },
   "file_extension": ".py",
   "mimetype": "text/x-python",
   "name": "python",
   "nbconvert_exporter": "python",
   "pygments_lexer": "ipython3",
   "version": "3.4.5"
  }
 },
 "nbformat": 4,
 "nbformat_minor": 0
}
