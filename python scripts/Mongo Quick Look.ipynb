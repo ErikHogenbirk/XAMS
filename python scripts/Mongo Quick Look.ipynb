{
 "cells": [
  {
   "cell_type": "code",
   "execution_count": 260,
   "metadata": {
    "collapsed": false
   },
   "outputs": [],
   "source": [
    "from pymongo import MongoClient\n",
    "import matplotlib.pyplot as plt\n",
    "import snappy\n",
    "import numpy as np\n",
    "%matplotlib inline"
   ]
  },
  {
   "cell_type": "code",
   "execution_count": 261,
   "metadata": {
    "collapsed": false
   },
   "outputs": [],
   "source": [
    "client = MongoClient()"
   ]
  },
  {
   "cell_type": "code",
   "execution_count": null,
   "metadata": {
    "collapsed": true
   },
   "outputs": [],
   "source": []
  },
  {
   "cell_type": "code",
   "execution_count": null,
   "metadata": {
    "collapsed": true
   },
   "outputs": [],
   "source": []
  },
  {
   "cell_type": "code",
   "execution_count": null,
   "metadata": {
    "collapsed": true
   },
   "outputs": [],
   "source": []
  },
  {
   "cell_type": "markdown",
   "metadata": {},
   "source": [
    "### Radon analysis"
   ]
  },
  {
   "cell_type": "code",
   "execution_count": 262,
   "metadata": {
    "collapsed": false
   },
   "outputs": [
    {
     "data": {
      "text/plain": [
       "Collection(Database(MongoClient(host=['localhost:27017'], document_class=dict, tz_aware=False, connect=True), 'xamsdata0'), '170213_105309')"
      ]
     },
     "execution_count": 262,
     "metadata": {},
     "output_type": "execute_result"
    }
   ],
   "source": [
    "dbname = 'xamsdata0'\n",
    "collname = '170213_105309'\n",
    "client[dbname][collname]"
   ]
  },
  {
   "cell_type": "code",
   "execution_count": 289,
   "metadata": {
    "collapsed": false
   },
   "outputs": [
    {
     "name": "stdout",
     "output_type": "stream",
     "text": [
      "Maximum usable events now: 11613\n"
     ]
    }
   ],
   "source": [
    "import pandas as pd\n",
    "n_events = client[dbname][collname].count()//2\n",
    "print('Maximum usable events now: %d' % n_events)\n",
    "    \n",
    "df = pd.DataFrame({'time': np.zeros(n_events), \n",
    "                   'time_ns': np.zeros(n_events, dtype=int), \n",
    "                   'baseline_ch0' : np.zeros(n_events),\n",
    "                   'baseline_ch0_' : np.zeros(n_events),\n",
    "\n",
    "                   'baseline_ch4' : np.zeros(n_events),\n",
    "                   'plateau_ch0' : np.zeros(n_events),\n",
    "                   'max_ch0' : np.zeros(n_events),\n",
    "                   'min_ch4' : np.zeros(n_events),\n",
    "                  })\n",
    "                   "
   ]
  },
  {
   "cell_type": "code",
   "execution_count": 290,
   "metadata": {
    "collapsed": false
   },
   "outputs": [],
   "source": [
    "cursor = client[dbname][collname].find()\n",
    "i = 0\n",
    "for doc in cursor:\n",
    "    if i >= n_events * 2:\n",
    "        break\n",
    "    i_ev = i//2 # 2 channels\n",
    "    # Get the data\n",
    "    d = snappy.decompress(doc['data'])\n",
    "    w = np.fromstring(d, dtype='<i2')\n",
    "    # \n",
    "    if doc['channel'] == 0:\n",
    "        # New event! Let us store all the relevant properties\n",
    "        df.iloc[i_ev, df.columns.get_loc('time_ns')] = doc['time'] * 4\n",
    "        df.iloc[i_ev, df.columns.get_loc('time')] = doc['time'] * 4 * 1e-9\n",
    "        df.iloc[i_ev, df.columns.get_loc('baseline_ch0_')] = np.average(w[:100])\n",
    "        df.iloc[i_ev, df.columns.get_loc('baseline_ch0')] = np.average(w[:250])\n",
    "\n",
    "        df.iloc[i_ev, df.columns.get_loc('plateau_ch0')] = np.average(w[400:600])\n",
    "        df.iloc[i_ev, df.columns.get_loc('max_ch0')] = max(w)\n",
    "    if doc['channel'] == 4:\n",
    "        df.iloc[i_ev, df.columns.get_loc('baseline_ch4')] = np.average(w[:100])\n",
    "        df.iloc[i_ev, df.columns.get_loc('min_ch4')] = max(w)\n",
    "    i+=1"
   ]
  },
  {
   "cell_type": "code",
   "execution_count": 291,
   "metadata": {
    "collapsed": true
   },
   "outputs": [],
   "source": [
    "df['amp'] = df['plateau_ch0'] - df['baseline_ch0']"
   ]
  },
  {
   "cell_type": "code",
   "execution_count": 292,
   "metadata": {
    "collapsed": false
   },
   "outputs": [
    {
     "data": {
      "image/png": "[encoded data removed]",
      "text/plain": [
       "<matplotlib.figure.Figure at 0x7fbd4eb44e48>"
      ]
     },
     "metadata": {},
     "output_type": "display_data"
    }
   ],
   "source": [
    "shift = 30\n",
    "plt.hist(df['amp'], bins=300, histtype='step', \n",
    "         range=(-shift,400 - shift))\n",
    "plt.xlim(-shift,400 - shift)\n",
    "plt.twiny()\n",
    "plt.hist(df['plateau_ch0'], bins=300, histtype='step', range=(8200,8600), color='green')\n",
    "#plt.hist(df['baseline_ch0'], bins=300, histtype='step', range=(8200,8600))\n",
    "\n",
    "# plt.yscale('log')\n",
    "# plt.ylim(1,1e3)\n",
    "plt.show()"
   ]
  },
  {
   "cell_type": "code",
   "execution_count": 312,
   "metadata": {
    "collapsed": false
   },
   "outputs": [
    {
     "data": {
      "image/png": "[encoded data removed]",
      "text/plain": [
       "<matplotlib.figure.Figure at 0x7fbd4ed781d0>"
      ]
     },
     "metadata": {},
     "output_type": "display_data"
    }
   ],
   "source": [
    "bin_counts, bin_edges, _ = plt.hist(df['amp'], \n",
    "                                    bins=1000, histtype='step', range=(100,300))\n",
    "# plt.yscale('log')\n",
    "# plt.ylim(1, 4e2)\n",
    "plt.axvline(205)\n",
    "plt.axvline(230)\n",
    "\n",
    "plt.axvline(265)\n",
    "plt.axvline(290)\n",
    "\n",
    "plt.show()"
   ]
  },
  {
   "cell_type": "code",
   "execution_count": 311,
   "metadata": {
    "collapsed": true
   },
   "outputs": [],
   "source": [
    "def get_peak_properties(start_at, stop_at, bin_counts, bin_edges):\n",
    "    bin_centers = 0.5 * (bin_edges[:-1] + bin_edges[1:])\n",
    "    peak0_max = max(bin_counts[start_at:stop_at])\n",
    "    peak0_index = start_at + np.argmax(bin_counts[start_at:stop_at])\n",
    "    peak0_pos = bin_centers[peak0_index]\n",
    "    i = peak0_index\n",
    "    while bin_counts[i] >= 0.5 * peak0_max:\n",
    "        i -= 1\n",
    "    peak0_left = bin_centers[i]\n",
    "    peak0_left_samples = i\n",
    "    i = peak0_index\n",
    "    while bin_counts[i] >= 0.5 * peak0_max:\n",
    "        i += 1\n",
    "    peak0_right = bin_centers[i]\n",
    "    peak0_right_samples = i\n",
    "    peak0_fwhm = (peak0_right - peak0_left) / peak0_pos * 100\n",
    "    print('Returning properties of peak found at %.1f amplitude %d' % (peak0_pos, peak0_max))\n",
    "    print('Total width in samples is %d' % (peak0_right_samples - peak0_left_samples))\n",
    "    return peak0_fwhm"
   ]
  },
  {
   "cell_type": "code",
   "execution_count": 308,
   "metadata": {
    "collapsed": false
   },
   "outputs": [
    {
     "name": "stdout",
     "output_type": "stream",
     "text": [
      "Returning properties of peak found at 219.5 amplitude 224\n",
      "Total width in samples is 18\n",
      "1.64009111617\n",
      "Returning properties of peak found at 278.1 amplitude 219\n",
      "Total width in samples is 19\n",
      "1.36641495865\n"
     ]
    }
   ],
   "source": [
    "print(get_peak_properties(0, 700, bin_counts, bin_edges))\n",
    "print(get_peak_properties(700, 1000, bin_counts, bin_edges))"
   ]
  },
  {
   "cell_type": "code",
   "execution_count": 296,
   "metadata": {
    "collapsed": false
   },
   "outputs": [
    {
     "name": "stdout",
     "output_type": "stream",
     "text": [
      "Events in windows: 3967 (34.2 %) and 4355 (37.5 %)\n"
     ]
    }
   ],
   "source": [
    "df_0 = df[(df['amp'] > 205) & (df['amp'] < 230)]\n",
    "df_1 = df[(df['amp'] > 265) & (df['amp'] < 290)]\n",
    "print('Events in windows: %d (%.1f %%) and %d (%.1f %%)' % (len(df_0), 100*len(df_0)/len(df),\n",
    "                                                        len(df_1), 100*len(df_1)/len(df)))"
   ]
  },
  {
   "cell_type": "code",
   "execution_count": 298,
   "metadata": {
    "collapsed": false
   },
   "outputs": [
    {
     "data": {
      "image/png": "[encoded data removed]",
      "text/plain": [
       "<matplotlib.figure.Figure at 0x7fbd4ed549e8>"
      ]
     },
     "metadata": {},
     "output_type": "display_data"
    }
   ],
   "source": [
    "plt.hist(df_0['time'], histtype='step', bins=40, range=(0, 8000))\n",
    "plt.hist(df_1['time'], histtype='step', bins=40, range=(0, 8000))\n",
    "plt.yticks()\n",
    "plt.show()"
   ]
  },
  {
   "cell_type": "code",
   "execution_count": null,
   "metadata": {
    "collapsed": true
   },
   "outputs": [],
   "source": []
  }
 ],
 "metadata": {
  "anaconda-cloud": {},
  "kernelspec": {
   "display_name": "Python 3",
   "language": "python",
   "name": "python3"
  },
  "language_info": {
   "codemirror_mode": {
    "name": "ipython",
    "version": 3
   },
   "file_extension": ".py",
   "mimetype": "text/x-python",
   "name": "python",
   "nbconvert_exporter": "python",
   "pygments_lexer": "ipython3",
   "version": "3.4.5"
  }
 },
 "nbformat": 4,
 "nbformat_minor": 1
}
