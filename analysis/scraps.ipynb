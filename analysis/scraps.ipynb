{
 "cells": [
  {
   "cell_type": "code",
   "execution_count": 1,
   "metadata": {
    "collapsed": true
   },
   "outputs": [],
   "source": [
    "import numpy as np"
   ]
  },
  {
   "cell_type": "markdown",
   "metadata": {},
   "source": [
    "### Drift velocity"
   ]
  },
  {
   "cell_type": "code",
   "execution_count": 19,
   "metadata": {
    "collapsed": true
   },
   "outputs": [],
   "source": [
    "v_d = 1.26e5 # cm/sec"
   ]
  },
  {
   "cell_type": "code",
   "execution_count": 20,
   "metadata": {
    "collapsed": false
   },
   "outputs": [
    {
     "name": "stdout",
     "output_type": "stream",
     "text": [
      "79.36507936507937\n"
     ]
    }
   ],
   "source": [
    "max_time = 10 /v_d # sec\n",
    "print(max_time * 1e6)"
   ]
  },
  {
   "cell_type": "code",
   "execution_count": 14,
   "metadata": {
    "collapsed": false
   },
   "outputs": [
    {
     "data": {
      "text/plain": [
       "2.8308285175608763"
      ]
     },
     "execution_count": 14,
     "metadata": {},
     "output_type": "execute_result"
    }
   ],
   "source": [
    "np.log10(5)*4.05"
   ]
  },
  {
   "cell_type": "code",
   "execution_count": 18,
   "metadata": {
    "collapsed": false
   },
   "outputs": [
    {
     "data": {
      "text/plain": [
       "1.2663801734674032"
      ]
     },
     "execution_count": 18,
     "metadata": {},
     "output_type": "execute_result"
    }
   ],
   "source": [
    "10**(0.4/3.9)"
   ]
  },
  {
   "cell_type": "markdown",
   "metadata": {
    "collapsed": true
   },
   "source": [
    "### Volume up to heat exchanger"
   ]
  },
  {
   "cell_type": "code",
   "execution_count": 6,
   "metadata": {
    "collapsed": true
   },
   "outputs": [],
   "source": [
    "# Inner diameter pipe in mm\n",
    "id_pipe = 4.4\n",
    "len_pipe = 900 # mm, estimate\n",
    "id_inner_vessel = 143 #?\n",
    "od_tpc = 138\n",
    "id_tpc = 45\n",
    "\n",
    "surface_pipe = np.pi * (id_pipe / 2)**2\n",
    "volume_pipe = surface_pipe * len_pipe # mm^3\n",
    "surface_tpc = np.pi * (id_tpc / 2)**2 + np.pi * (id_inner_vessel / 2)**2 - np.pi * (od_tpc / 2)**2"
   ]
  },
  {
   "cell_type": "code",
   "execution_count": 10,
   "metadata": {
    "collapsed": false
   },
   "outputs": [
    {
     "name": "stdout",
     "output_type": "stream",
     "text": [
      "One cm in TPC equals 177.169421 cm in the quarter inch pipe.\n"
     ]
    }
   ],
   "source": [
    "print('One cm in TPC equals %f cm in the quarter inch pipe.' % (surface_tpc / surface_pipe))"
   ]
  },
  {
   "cell_type": "code",
   "execution_count": 17,
   "metadata": {
    "collapsed": false
   },
   "outputs": [
    {
     "name": "stdout",
     "output_type": "stream",
     "text": [
      "You need 5.079883 mm in tpc to fill the pipe\n"
     ]
    }
   ],
   "source": [
    "print('You need %f mm liquid level drop in tpc to fill the pipe' % (volume_pipe / surface_tpc))"
   ]
  },
  {
   "cell_type": "code",
   "execution_count": 12,
   "metadata": {
    "collapsed": false
   },
   "outputs": [
    {
     "data": {
      "text/plain": [
       "1590.4312808798327"
      ]
     },
     "execution_count": 12,
     "metadata": {},
     "output_type": "execute_result"
    }
   ],
   "source": [
    "np.pi * (id_tpc / 2)**2 "
   ]
  },
  {
   "cell_type": "code",
   "execution_count": 13,
   "metadata": {
    "collapsed": false
   },
   "outputs": [
    {
     "data": {
      "text/plain": [
       "1103.484419573415"
      ]
     },
     "execution_count": 13,
     "metadata": {},
     "output_type": "execute_result"
    }
   ],
   "source": [
    "np.pi * (id_inner_vessel / 2)**2 - np.pi * (od_tpc / 2)**2"
   ]
  },
  {
   "cell_type": "code",
   "execution_count": 18,
   "metadata": {
    "collapsed": true
   },
   "outputs": [],
   "source": [
    "volume_tpc = 30 * surface_tpc"
   ]
  },
  {
   "cell_type": "code",
   "execution_count": 20,
   "metadata": {
    "collapsed": false
   },
   "outputs": [],
   "source": [
    "volume_heatex = volume_tpc - volume_pipe"
   ]
  },
  {
   "cell_type": "code",
   "execution_count": 24,
   "metadata": {
    "collapsed": false
   },
   "outputs": [
    {
     "name": "stdout",
     "output_type": "stream",
     "text": [
      "Ther should be 67.132693 ml in the heat exchanger.\n"
     ]
    }
   ],
   "source": [
    "print('Ther should be %f ml in the heat exchanger.' % (volume_heatex * 1e-3))"
   ]
  },
  {
   "cell_type": "markdown",
   "metadata": {
    "collapsed": true
   },
   "source": [
    "### Check failed processing"
   ]
  },
  {
   "cell_type": "code",
   "execution_count": 2,
   "metadata": {
    "collapsed": false
   },
   "outputs": [],
   "source": [
    "import os"
   ]
  },
  {
   "cell_type": "code",
   "execution_count": 4,
   "metadata": {
    "collapsed": true
   },
   "outputs": [],
   "source": [
    "raw_folder = '/data/xenon/xams/run8/raw/data/'\n",
    "processed_folder = '/data/xenon/xams/run8/processed/data/'"
   ]
  },
  {
   "cell_type": "code",
   "execution_count": 18,
   "metadata": {
    "collapsed": false
   },
   "outputs": [],
   "source": [
    "raw = os.listdir(raw_folder)\n",
    "pro = os.listdir(processed_folder)\n",
    "dates = ['170401', '170331', '170402', '170401']"
   ]
  },
  {
   "cell_type": "code",
   "execution_count": 23,
   "metadata": {
    "collapsed": false
   },
   "outputs": [
    {
     "name": "stdout",
     "output_type": "stream",
     "text": [
      "qsub p_170331_134214.sh\n",
      "sleep 1\n",
      "qsub p_170331_144218.sh\n",
      "sleep 1\n",
      "qsub p_170331_173832.sh\n",
      "sleep 1\n",
      "qsub p_170331_192442.sh\n",
      "sleep 1\n",
      "qsub p_170331_214112.sh\n",
      "sleep 1\n",
      "qsub p_170401_014352.sh\n",
      "sleep 1\n",
      "qsub p_170401_043042.sh\n",
      "sleep 1\n",
      "qsub p_170401_053122.sh\n",
      "sleep 1\n",
      "qsub p_170401_060142.sh\n",
      "sleep 1\n",
      "qsub p_170401_061652.sh\n",
      "sleep 1\n",
      "qsub p_170401_073242.sh\n",
      "sleep 1\n",
      "qsub p_170401_083322.sh\n",
      "sleep 1\n",
      "qsub p_170401_101933.sh\n",
      "sleep 1\n",
      "qsub p_170401_112013.sh\n",
      "sleep 1\n",
      "qsub p_170401_120543.sh\n",
      "sleep 1\n",
      "qsub p_170401_125113.sh\n",
      "sleep 1\n",
      "qsub p_170401_150743.sh\n",
      "sleep 1\n",
      "qsub p_170401_152253.sh\n",
      "sleep 1\n",
      "qsub p_170401_185513.sh\n",
      "sleep 1\n",
      "qsub p_170401_191023.sh\n",
      "sleep 1\n",
      "qsub p_170401_194043.sh\n",
      "sleep 1\n",
      "qsub p_170401_201103.sh\n",
      "sleep 1\n",
      "qsub p_170401_204123.sh\n",
      "sleep 1\n",
      "qsub p_170401_205633.sh\n",
      "sleep 1\n",
      "qsub p_170401_221223.sh\n",
      "sleep 1\n",
      "qsub p_170401_224243.sh\n",
      "sleep 1\n",
      "qsub p_170401_231303.sh\n",
      "sleep 1\n",
      "qsub p_170401_234323.sh\n",
      "sleep 1\n",
      "qsub p_170401_235833.sh\n",
      "sleep 1\n",
      "qsub p_170402_001343.sh\n",
      "sleep 1\n",
      "qsub p_170402_004403.sh\n",
      "sleep 1\n",
      "qsub p_170402_023013.sh\n",
      "sleep 1\n",
      "qsub p_170402_043133.sh\n",
      "sleep 1\n",
      "qsub p_170402_053213.sh\n",
      "sleep 1\n",
      "qsub p_170402_054723.sh\n",
      "sleep 1\n",
      "qsub p_170402_064803.sh\n",
      "sleep 1\n",
      "qsub p_170402_122143.sh\n",
      "sleep 1\n",
      "qsub p_170402_123653.sh\n",
      "sleep 1\n",
      "qsub p_170402_143813.sh\n",
      "sleep 1\n",
      "qsub p_170402_145323.sh\n",
      "sleep 1\n",
      "qsub p_170402_153853.sh\n",
      "sleep 1\n",
      "qsub p_170402_155403.sh\n",
      "sleep 1\n",
      "qsub p_170402_162423.sh\n",
      "sleep 1\n",
      "qsub p_170402_182543.sh\n",
      "sleep 1\n",
      "qsub p_170402_192623.sh\n",
      "sleep 1\n",
      "qsub p_170402_195643.sh\n",
      "sleep 1\n",
      "qsub p_170402_205723.sh\n",
      "sleep 1\n",
      "qsub p_170402_232903.sh\n",
      "sleep 1\n"
     ]
    }
   ],
   "source": [
    "for meas in raw:\n",
    "    if meas + '.root' not in pro and meas[:6] in dates:\n",
    "        print('qsub p_%s.sh' % meas)\n",
    "        print('sleep 1')\n"
   ]
  },
  {
   "cell_type": "code",
   "execution_count": 3,
   "metadata": {
    "collapsed": true
   },
   "outputs": [],
   "source": []
  },
  {
   "cell_type": "code",
   "execution_count": 20,
   "metadata": {
    "collapsed": false
   },
   "outputs": [
    {
     "data": {
      "text/plain": [
       "array([ 20.18941684,  42.77260028])"
      ]
     },
     "execution_count": 20,
     "metadata": {},
     "output_type": "execute_result"
    }
   ],
   "source": [
    "import pickle\n",
    "\n",
    "def corr_s1_ly_poly(s1, z):\n",
    "    def p2(x, a0, a1, a2):\n",
    "        return a0 + a1 * x + a2 * x**2\n",
    "    popt = [ 823.80262774,  -29.08997046,    1.12911188]\n",
    "    def get_cs1(s1, z, f):\n",
    "        average_s1 = np.average([p2(_z, *popt) for _z in np.linspace(-10, 0, 500)])\n",
    "        return s1/p2(z, *popt) * average_s1\n",
    "    return get_cs1(s1, z, p2)\n",
    "\n",
    "s1 = np.array([20, 50])\n",
    "z  = np.array([-5, -9])\n",
    "\n",
    "corr_s1_ly_poly(s1, z)"
   ]
  },
  {
   "cell_type": "code",
   "execution_count": null,
   "metadata": {
    "collapsed": true
   },
   "outputs": [],
   "source": []
  },
  {
   "cell_type": "code",
   "execution_count": null,
   "metadata": {
    "collapsed": true
   },
   "outputs": [],
   "source": []
  }
 ],
 "metadata": {
  "kernelspec": {
   "display_name": "Python 3",
   "language": "python",
   "name": "python3"
  },
  "language_info": {
   "codemirror_mode": {
    "name": "ipython",
    "version": 3
   },
   "file_extension": ".py",
   "mimetype": "text/x-python",
   "name": "python",
   "nbconvert_exporter": "python",
   "pygments_lexer": "ipython3",
   "version": "3.4.5"
  },
  "latex_envs": {
   "bibliofile": "biblio.bib",
   "cite_by": "apalike",
   "current_citInitial": 1,
   "eqLabelWithNumbers": true,
   "eqNumInitial": 0
  }
 },
 "nbformat": 4,
 "nbformat_minor": 0
}
