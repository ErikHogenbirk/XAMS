{
 "cells": [
  {
   "cell_type": "code",
   "execution_count": null,
   "metadata": {
    "collapsed": true
   },
   "outputs": [],
   "source": [
    "class ExtraS1S2Properties(hax.minitrees.TreeMaker):\n",
    "    '''\n",
    "    \n",
    "    '''\n",
    "    __version__ = '0.0.0'\n",
    "    extra_branches = ['peaks.*', 'interactions*']\n",
    "    \n",
    "    \n",
    "    def extract_data(self, event):\n",
    "        # ================ PEAK PROPERTIES =========================\n",
    "        # Extract data for these types\n",
    "        peak_types = ['s1', 's2']\n",
    "        \n",
    "        # Peak_properties (will be loaded for s1_0, s1_1, s2_0, s2_1)\n",
    "        peak_properties = ['n_saturated_channels']\n",
    "\n",
    "        result_vars = [_pt + '_' + _pp for _pt in peak_types for for _pp in peak_properties ]\n",
    "        result = {k: float('nan') for k in result_vars}\n",
    "        \n",
    "        s1s = []\n",
    "        s2s = []\n",
    "        n_interactions = len(event.interactions)\n",
    "        \n",
    "        # For the first two interactions, take their s1 and s2 index, if they exist\n",
    "        for interaction in event.interactions()\n",
    "            # Get s1 and s2 index\n",
    "            s1s.append(interaction.s1)\n",
    "            s2s.append(interaction.s2)\n",
    "\n",
    "        \n",
    "        # ================= LOAD PEAK DATA ==========================\n",
    "        # Loop over the two peak types\n",
    "        for pt in peak_types:\n",
    "            # Load index list\n",
    "            if pt == 's1':\n",
    "                peak_list = s1s\n",
    "            elif pt == 's2':\n",
    "                peak_list = s2s\n",
    "            else:\n",
    "                raise NotImplementedError('Peak types s1 and s2 supported only!')\n",
    "            \n",
    "            # Now, for this peak type, loop over peak_indices and get peak pos\n",
    "            if len(peak_list) == 0:\n",
    "                # If there are not enough peaks of this type, do not try to find properties\n",
    "                continue\n",
    "            else:\n",
    "                peak_pos = int(peak_list[pi])\n",
    "\n",
    "                # Time to extract data\n",
    "                peak_name = pt + ('_%d' % pi) + '_' # Example: s1_0_\n",
    "\n",
    "                # All standard properties\n",
    "                for prop in peak_properties:\n",
    "                    result[peak_name + prop] = getattr(event.peaks[peak_pos], prop)\n",
    "        \n",
    "        return result"
   ]
  }
 ],
 "metadata": {
  "kernelspec": {
   "display_name": "Python 3",
   "language": "python",
   "name": "python3"
  },
  "language_info": {
   "codemirror_mode": {
    "name": "ipython",
    "version": 3
   },
   "file_extension": ".py",
   "mimetype": "text/x-python",
   "name": "python",
   "nbconvert_exporter": "python",
   "pygments_lexer": "ipython3",
   "version": "3.4.5"
  },
  "latex_envs": {
   "bibliofile": "biblio.bib",
   "cite_by": "apalike",
   "current_citInitial": 1,
   "eqLabelWithNumbers": true,
   "eqNumInitial": 0
  }
 },
 "nbformat": 4,
 "nbformat_minor": 2
}
