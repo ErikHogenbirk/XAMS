{
 "cells": [
  {
   "cell_type": "code",
   "execution_count": 2,
   "metadata": {
    "collapsed": false
   },
   "outputs": [
    {
     "data": {
      "text/plain": [
       "array([ 20.18941684,  42.77260028])"
      ]
     },
     "execution_count": 2,
     "metadata": {},
     "output_type": "execute_result"
    }
   ],
   "source": [
    "import numpy as np\n",
    "\n",
    "def corr_s1_ly_poly(s1, z):\n",
    "    def p2(x, a0, a1, a2):\n",
    "        return a0 + a1 * x + a2 * x**2\n",
    "    popt = [ 823.80262774,  -29.08997046,    1.12911188]\n",
    "    def get_cs1(s1, z, f):\n",
    "        average_s1 = np.average([p2(_z, *popt) for _z in np.linspace(-10, 0, 500)])\n",
    "        return s1/p2(z, *popt) * average_s1\n",
    "    return get_cs1(s1, z, p2)\n",
    "\n",
    "s1 = np.array([20, 50])\n",
    "z  = np.array([-5, -9])\n",
    "\n",
    "corr_s1_ly_poly(s1, z)"
   ]
  },
  {
   "cell_type": "code",
   "execution_count": null,
   "metadata": {
    "collapsed": true
   },
   "outputs": [],
   "source": []
  }
 ],
 "metadata": {
  "kernelspec": {
   "display_name": "Python 3",
   "language": "python",
   "name": "python3"
  },
  "language_info": {
   "codemirror_mode": {
    "name": "ipython",
    "version": 3
   },
   "file_extension": ".py",
   "mimetype": "text/x-python",
   "name": "python",
   "nbconvert_exporter": "python",
   "pygments_lexer": "ipython3",
   "version": "3.4.5"
  },
  "latex_envs": {
   "bibliofile": "biblio.bib",
   "cite_by": "apalike",
   "current_citInitial": 1,
   "eqLabelWithNumbers": true,
   "eqNumInitial": 0
  }
 },
 "nbformat": 4,
 "nbformat_minor": 0
}
