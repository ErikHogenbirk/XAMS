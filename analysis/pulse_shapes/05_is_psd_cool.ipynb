{
 "cells": [
  {
   "cell_type": "markdown",
   "metadata": {},
   "source": [
    "To do\n",
    "  * Build proper bands highfield\n",
    "  * Build proper bands lowfield\n",
    "  * What to do with tts?"
   ]
  },
  {
   "cell_type": "code",
   "execution_count": null,
   "metadata": {
    "collapsed": true
   },
   "outputs": [],
   "source": []
  },
  {
   "cell_type": "code",
   "execution_count": null,
   "metadata": {
    "collapsed": true
   },
   "outputs": [],
   "source": []
  },
  {
   "cell_type": "code",
   "execution_count": 1,
   "metadata": {
    "collapsed": true
   },
   "outputs": [],
   "source": [
    "# %run '../definitions.ipynb'"
   ]
  },
  {
   "cell_type": "code",
   "execution_count": 1,
   "metadata": {
    "collapsed": false
   },
   "outputs": [
    {
     "name": "stdout",
     "output_type": "stream",
     "text": [
      "Reading XAMS data from pickles...\n",
      "Read data in 3.09 seconds\n"
     ]
    }
   ],
   "source": [
    "%run 'psd_mc_functions.ipynb'"
   ]
  },
  {
   "cell_type": "code",
   "execution_count": 9,
   "metadata": {
    "collapsed": true
   },
   "outputs": [],
   "source": [
    "import matplotlib\n",
    "%matplotlib inline\n",
    "import matplotlib.pyplot as plt\n",
    "import os"
   ]
  },
  {
   "cell_type": "code",
   "execution_count": 2,
   "metadata": {
    "collapsed": true
   },
   "outputs": [],
   "source": [
    "X = pickle.load(open('X.pickle', 'rb'))"
   ]
  },
  {
   "cell_type": "markdown",
   "metadata": {},
   "source": [
    "## Band conversion and fit values"
   ]
  },
  {
   "cell_type": "code",
   "execution_count": 70,
   "metadata": {
    "collapsed": true
   },
   "outputs": [],
   "source": [
    "def convert_s1_to_E(cs1, field='high'):\n",
    "    '''\n",
    "    Given the S1, get the energy in ER and NR band center\n",
    "    '''\n",
    "    if field == 'high':\n",
    "        bands = pickle.load(open('OLD_pickles/highfield_bands_1.0_sigmas_er_nr.pickle', 'rb'))\n",
    "    g1, g2 = pickle.load(open('../light_yield/data/doke_sel2.pickle', 'rb'))\n",
    "    \n",
    "    cs1_list = bands[0]\n",
    "    er_mean = bands[1][1]\n",
    "    nr_mean = bands[2][1]\n",
    "    er_cs2 = np.interp(cs1, cs1_list, er_mean)\n",
    "    nr_cs2 = np.interp(cs1, cs1_list, nr_mean)\n",
    "    er_e = 13.7e-3 * ((cs1 / g1) + (er_cs2 / g2))\n",
    "    nr_e = 13.7e-3 * ((cs1 / g1) + (nr_cs2 / g2))\n",
    "    \n",
    "    return er_e, nr_e"
   ]
  },
  {
   "cell_type": "code",
   "execution_count": null,
   "metadata": {
    "collapsed": true
   },
   "outputs": [],
   "source": [
    "def convert_E_to_cs1(E, field='high'):\n",
    "    '''\n",
    "    Given the S1, get the energy in ER and NR band center\n",
    "    '''\n",
    "    if field == 'high':\n",
    "        bands = pickle.load(open('OLD_pickles/highfield_bands_1.0_sigmas_er_nr.pickle', 'rb'))\n",
    "    g1, g2 = pickle.load(open('../light_yield/data/doke_sel2.pickle', 'rb'))\n",
    "    \n",
    "    cs1_list = bands[0]\n",
    "    er_mean = bands[1][1]\n",
    "    nr_mean = bands[2][1]\n",
    "    er_e = 13.7e-3 * ((cs1_list / g1) + (er_cs2 / g2))\n",
    "    \n",
    "    er_cs2 = np.interp(cs1, cs1_list, er_mean)\n",
    "    nr_cs2 = np.interp(cs1, cs1_list, nr_mean)\n",
    "    er_e = 13.7e-3 * ((cs1 / g1) + (er_cs2 / g2))\n",
    "    nr_e = 13.7e-3 * ((cs1 / g1) + (nr_cs2 / g2))\n",
    "    \n",
    "    return er_e, nr_e"
   ]
  },
  {
   "cell_type": "code",
   "execution_count": null,
   "metadata": {
    "collapsed": true
   },
   "outputs": [],
   "source": [
    "def convert_s1_to_E(cs1, field='high'):\n",
    "    '''\n",
    "    Given the S1, get the energy in ER and NR band center\n",
    "    '''\n",
    "    if field == 'high':\n",
    "        bands = pickle.load(open('OLD_pickles/highfield_bands_1.0_sigmas_er_nr.pickle', 'rb'))\n",
    "    g1, g2 = pickle.load(open('../light_yield/data/doke_sel2.pickle', 'rb'))\n",
    "    \n",
    "    cs1_list = bands[0]\n",
    "    er_mean = bands[1][1]\n",
    "    nr_mean = bands[2][1]\n",
    "    er_cs2 = np.interp(cs1, cs1_list, er_mean)\n",
    "    nr_cs2 = np.interp(cs1, cs1_list, nr_mean)\n",
    "    er_e = 13.7e-3 * ((cs1 / g1) + (er_cs2 / g2))\n",
    "    nr_e = 13.7e-3 * ((cs1 / g1) + (nr_cs2 / g2))\n",
    "    \n",
    "    return er_e, nr_e"
   ]
  },
  {
   "cell_type": "code",
   "execution_count": 49,
   "metadata": {
    "collapsed": true
   },
   "outputs": [],
   "source": [
    "def get_fit_values(E, band, X,field='high'):\n",
    "    '''\n",
    "    Extract the fit values for specific energies\n",
    "    '''\n",
    "    if field == 'high':\n",
    "        if band == 'er':\n",
    "            x = X[0]\n",
    "        elif band == 'nr':\n",
    "            x = X[1]\n",
    "    es = x['e']\n",
    "    ret = []\n",
    "    for key in ['t3', 'fs', 't1', 'tts']:\n",
    "        ret.append(np.interp(E, es, x[key]))\n",
    "    return np.array(ret)"
   ]
  },
  {
   "cell_type": "markdown",
   "metadata": {},
   "source": [
    "## Simulation"
   ]
  },
  {
   "cell_type": "code",
   "execution_count": 50,
   "metadata": {
    "collapsed": true
   },
   "outputs": [],
   "source": [
    "def simulate_photon_times(n_photons, t1, t3, fs, tts):\n",
    "    times = np.zeros(n_photons)\n",
    "    n_singlets = np.random.binomial(n=n_photons, p=fs)\n",
    "    times += np.concatenate([\n",
    "        np.random.exponential(t1, n_singlets),\n",
    "        np.random.exponential(t3, n_photons - n_singlets)\n",
    "    ])\n",
    "    np.random.shuffle(times)\n",
    "    times += np.random.normal(0, tts, size=n_photons)\n",
    "    return times\n",
    "    "
   ]
  },
  {
   "cell_type": "code",
   "execution_count": 51,
   "metadata": {
    "collapsed": true
   },
   "outputs": [],
   "source": [
    "def build_likelihood_function(n_photons, t1, t3, fs, tts, hist_range, hist_bins, \n",
    "                              offset = None, plot=False, ):\n",
    "    if offset is None:\n",
    "        offset = 1 / n_photons\n",
    "    times = simulate_photon_times(n_photons, t1, t3, fs, tts)\n",
    "    vals, edges  = np.histogram(times, range = hist_range, bins = hist_bins, normed=True)\n",
    "    vals = np.max([vals, np.ones(len(vals)) * offset], axis=0)\n",
    "    centers = 0.5 * (edges[:-1] + edges[1:])\n",
    "    def f(x):\n",
    "        return np.interp(x, centers, vals)\n",
    "    def negloglikelihood(x):\n",
    "        return np.interp(x, centers, -np.log(vals))\n",
    "    \n",
    "    if plot:\n",
    "        x_plot = centers\n",
    "        plt.hist(times, range = hist_range, bins = hist_bins, normed=True, histtype = 'step')\n",
    "        plt.plot(centers, f(centers))\n",
    "        plt.yscale('log')\n",
    "    return negloglikelihood"
   ]
  },
  {
   "cell_type": "code",
   "execution_count": 52,
   "metadata": {
    "collapsed": true
   },
   "outputs": [],
   "source": [
    "def simulate_s1_times(n_photons, t1, t3, fs, tts, photons_per_s1):\n",
    "    times = simulate_photon_times(n_photons, t1, t3, fs, tts)\n",
    "    n_s1s = int(np.floor(n_photons / photons_per_s1))\n",
    "    times = times[:(n_s1s * photons_per_s1)]\n",
    "    s1_times = np.split(times, n_s1s)\n",
    "    return np.array(s1_times)"
   ]
  },
  {
   "cell_type": "code",
   "execution_count": 53,
   "metadata": {
    "collapsed": true
   },
   "outputs": [],
   "source": [
    "from tqdm import tqdm\n",
    "def max_likelihood(s1_times, f):\n",
    "    shifts = []\n",
    "    likes = []\n",
    "    for s1 in tqdm(s1_times):\n",
    "        optres = scipy.optimize.minimize(lambda x: np.sum(f(s1 + x)), 0.)\n",
    "        shifts.append(optres.x[0])\n",
    "        likes.append(optres.fun)\n",
    "    return likes, shifts"
   ]
  },
  {
   "cell_type": "code",
   "execution_count": 140,
   "metadata": {
    "collapsed": true
   },
   "outputs": [],
   "source": [
    "def likelihood_ratio(s1s, f_er, f_nr):\n",
    "    er_likelihood = max_likelihood(s1s, f_er)\n",
    "    nr_likelihood = max_likelihood(s1s, f_nr)\n",
    "    # LR = np.array(nr_likelihood[0]) / np.array(er_likelihood[0])\n",
    "    LR = np.array(nr_likelihood[0]) - np.array(er_likelihood[0])\n",
    "    return LR"
   ]
  },
  {
   "cell_type": "markdown",
   "metadata": {},
   "source": [
    "## Build likelihoods"
   ]
  },
  {
   "cell_type": "code",
   "execution_count": 106,
   "metadata": {
    "collapsed": true
   },
   "outputs": [],
   "source": [
    "nr_params = dict(\n",
    "    fs = 0.4, \n",
    "    t3 = 24,\n",
    "    t1 = 2.,\n",
    "    tts = 0.1#1.75,\n",
    ")\n",
    "\n",
    "er_params = dict(\n",
    "    fs = 0.18,\n",
    "    t3 = 24,\n",
    "    t1 = 2.,\n",
    "    tts = 0.1 # 1.75,\n",
    ")"
   ]
  },
  {
   "cell_type": "code",
   "execution_count": 107,
   "metadata": {
    "collapsed": false
   },
   "outputs": [],
   "source": [
    "f_er = build_likelihood_function(int(1e7), hist_range = (-50, 250), hist_bins = 1000, **er_params)\n",
    "f_nr = build_likelihood_function(int(1e7), hist_range = (-50, 250), hist_bins = 1000, **nr_params)\n"
   ]
  },
  {
   "cell_type": "code",
   "execution_count": 108,
   "metadata": {
    "collapsed": false
   },
   "outputs": [
    {
     "data": {
      "text/plain": [
       "<matplotlib.legend.Legend at 0x7fdd79ff6940>"
      ]
     },
     "execution_count": 108,
     "metadata": {},
     "output_type": "execute_result"
    },
    {
     "data": {
      "image/png": "[encoded data removed]",
      "text/plain": [
       "<matplotlib.figure.Figure at 0x7fdd7a1449e8>"
      ]
     },
     "metadata": {},
     "output_type": "display_data"
    }
   ],
   "source": [
    "t = np.linspace(-10, 50, 1000)\n",
    "plt.plot(t, f_er(t), label='ER')\n",
    "plt.plot(t, f_nr(t), label='NR')\n",
    "plt.xlabel('Time')\n",
    "plt.ylabel('Negative log likelihood')\n",
    "plt.legend()"
   ]
  },
  {
   "cell_type": "markdown",
   "metadata": {},
   "source": [
    "## Build ER and NR s1 samples"
   ]
  },
  {
   "cell_type": "code",
   "execution_count": 109,
   "metadata": {
    "collapsed": true
   },
   "outputs": [],
   "source": [
    "photons_per_s1 = 30 # photons\n",
    "n_s1s = 500\n",
    "n_ph = n_s1s * photons_per_s1"
   ]
  },
  {
   "cell_type": "code",
   "execution_count": 110,
   "metadata": {
    "collapsed": false
   },
   "outputs": [],
   "source": [
    "s1s_er = simulate_s1_times(n_ph, photons_per_s1 = photons_per_s1, **er_params)\n",
    "s1s_nr = simulate_s1_times(n_ph, photons_per_s1 = photons_per_s1, **nr_params)"
   ]
  },
  {
   "cell_type": "code",
   "execution_count": 111,
   "metadata": {
    "collapsed": false
   },
   "outputs": [
    {
     "data": {
      "image/png": "[encoded data removed]",
      "text/plain": [
       "<matplotlib.figure.Figure at 0x7fdd7a0a0748>"
      ]
     },
     "metadata": {},
     "output_type": "display_data"
    }
   ],
   "source": [
    "t = np.linspace(-50, 250, 1000)\n",
    "plt.plot(t, f_er(t), label='ER')\n",
    "plt.hist(s1s_er[0], bins=100, range=(-10, 100), label='ER sample')\n",
    "plt.plot(t, f_nr(t), label='NR')\n",
    "plt.xlabel('Time')\n",
    "plt.ylabel('Negative log likelihood')\n",
    "plt.xlim(-10, 100)\n",
    "plt.ylim(0, 8)\n",
    "plt.show()"
   ]
  },
  {
   "cell_type": "code",
   "execution_count": 141,
   "metadata": {
    "collapsed": false
   },
   "outputs": [
    {
     "name": "stderr",
     "output_type": "stream",
     "text": [
      "100%|██████████| 500/500 [00:07<00:00, 63.97it/s]\n",
      "100%|██████████| 500/500 [00:06<00:00, 75.02it/s]\n",
      "100%|██████████| 500/500 [00:07<00:00, 67.01it/s]\n",
      "100%|██████████| 500/500 [00:07<00:00, 64.30it/s]\n"
     ]
    }
   ],
   "source": [
    "nr_lr = likelihood_ratio(s1s_nr, f_er, f_nr)\n",
    "er_lr = likelihood_ratio(s1s_er, f_er, f_nr)"
   ]
  },
  {
   "cell_type": "code",
   "execution_count": 143,
   "metadata": {
    "collapsed": false
   },
   "outputs": [
    {
     "data": {
      "text/plain": [
       "(array([   4.,   14.,   29.,   61.,  102.,  112.,   88.,   54.,   26.,   10.]),\n",
       " array([-4.06919592, -3.03925337, -2.00931082, -0.97936826,  0.05057429,\n",
       "         1.08051684,  2.11045939,  3.14040194,  4.1703445 ,  5.20028705,\n",
       "         6.2302296 ]),\n",
       " <a list of 10 Patch objects>)"
      ]
     },
     "execution_count": 143,
     "metadata": {},
     "output_type": "execute_result"
    },
    {
     "data": {
      "image/png": "[encoded data removed]",
      "text/plain": [
       "<matplotlib.figure.Figure at 0x7fdd7a2321d0>"
      ]
     },
     "metadata": {},
     "output_type": "display_data"
    }
   ],
   "source": [
    "plt.hist(nr_lr)\n",
    "plt.hist(er_lr)\n"
   ]
  },
  {
   "cell_type": "code",
   "execution_count": 114,
   "metadata": {
    "collapsed": true
   },
   "outputs": [],
   "source": [
    "off = 0.1\n",
    "\n",
    "scan_values = np.linspace(1 - off, 1 + off, 200)\n",
    "nr_acc = np.array([np.sum(nr_lr >= discval) / len(nr_lr) for discval in scan_values])\n",
    "er_acc = np.array([np.sum(er_lr >= discval) / len(er_lr) for discval in scan_values])"
   ]
  },
  {
   "cell_type": "code",
   "execution_count": 115,
   "metadata": {
    "collapsed": false
   },
   "outputs": [
    {
     "data": {
      "image/png": "[encoded data removed]",
      "text/plain": [
       "<matplotlib.figure.Figure at 0x7fdd7f156f28>"
      ]
     },
     "metadata": {},
     "output_type": "display_data"
    }
   ],
   "source": [
    "plt.hist(er_lr, \n",
    "         bins=100, histtype='step', label='ER', range=(1 - off, 1+ off))\n",
    "plt.hist(nr_lr,\n",
    "         bins=100, histtype='step', label='NR', range=(1 - off, 1+ off))\n",
    "plt.xlabel('NRness')\n",
    "plt.legend()\n",
    "plt.twinx()\n",
    "plt.plot(scan_values, nr_acc)\n",
    "plt.plot(scan_values, er_acc)\n",
    "\n",
    "plt.show()"
   ]
  },
  {
   "cell_type": "code",
   "execution_count": 116,
   "metadata": {
    "collapsed": false
   },
   "outputs": [
    {
     "data": {
      "image/png": "[encoded data removed]",
      "text/plain": [
       "<matplotlib.figure.Figure at 0x7fdd7efc6550>"
      ]
     },
     "metadata": {},
     "output_type": "display_data"
    }
   ],
   "source": [
    "plt.plot(er_acc, nr_acc)\n",
    "plt.plot([0,1], [0,1],ls='--', color='black')\n",
    "plt.xlabel('ER acceptance')\n",
    "plt.ylabel('NR acceptance')\n",
    "plt.xlim(0, 1)\n",
    "plt.ylim(0, 1)\n",
    "plt.title(\"%.2f ns resolution, %d p.e.\" % (er_params['tts'], photons_per_s1))\n",
    "plt.show()"
   ]
  },
  {
   "cell_type": "code",
   "execution_count": null,
   "metadata": {
    "collapsed": true
   },
   "outputs": [],
   "source": []
  },
  {
   "cell_type": "code",
   "execution_count": null,
   "metadata": {
    "collapsed": true
   },
   "outputs": [],
   "source": []
  },
  {
   "cell_type": "markdown",
   "metadata": {
    "collapsed": true
   },
   "source": [
    "## All combined"
   ]
  },
  {
   "cell_type": "code",
   "execution_count": 63,
   "metadata": {
    "collapsed": true
   },
   "outputs": [],
   "source": [
    "cs1 = 20"
   ]
  },
  {
   "cell_type": "code",
   "execution_count": 131,
   "metadata": {
    "collapsed": false
   },
   "outputs": [],
   "source": [
    "def get_er_acc(cs1, n_s1s = 500, field = 'high', plot=True):\n",
    "    E_er, E_nr = convert_s1_to_E(cs1, field=field)\n",
    "    print('Working on cs1 %f, Eer = %.1f keV, Enr = %.1f keV...' % (cs1, E_er, E_nr))\n",
    "    params_er = get_fit_values(E_er, 'er', X, field=field)\n",
    "    params_nr = get_fit_values(E_nr, 'nr', X, field=field)\n",
    "    p_er = dict(t3 = params_er[0], fs = params_er[1], t1 = params_er[2], tts = params_er[3])\n",
    "    p_nr = dict(t3 = params_nr[0], fs = params_nr[1], t1 = params_nr[2], tts = params_nr[3])\n",
    "    print('ER: ' , p_er)\n",
    "    print('NR: ' , p_nr)\n",
    "    \n",
    "    print('Building likelihoods...')\n",
    "    f_er = build_likelihood_function(int(1e7), hist_range = (-50, 250), hist_bins = 1000, **p_er)\n",
    "    f_nr = build_likelihood_function(int(1e7), hist_range = (-50, 250), hist_bins = 1000, **p_nr)\n",
    "    \n",
    "    n_ph = n_s1s * cs1\n",
    "    print('Building samples...')\n",
    "    s1s_er = simulate_s1_times(n_ph, photons_per_s1 = cs1, **p_er)\n",
    "    s1s_nr = simulate_s1_times(n_ph, photons_per_s1 = cs1, **p_nr)\n",
    "    \n",
    "    print('Building likelihood ratios...')\n",
    "    er_lr = likelihood_ratio(s1s_er, f_er, f_nr)\n",
    "    nr_lr = likelihood_ratio(s1s_nr, f_er, f_nr)\n",
    "\n",
    "    \n",
    "    # Now get the 50% nr acc \n",
    "    cutoff = np.mean(nr_lr)\n",
    "    leaks = np.sum(er_lr >= cutoff)\n",
    "    leak_frac = leaks / len(er_lr)\n",
    "    \n",
    "    print('Cutoff at %f' % cutoff)\n",
    "    print('Passing %d of %d ER events, %.1f %%' % (leaks, len(er_lr), 100 * leak_frac))\n",
    "    \n",
    "    if plot:\n",
    "        ran = 3 * np.std(er_lr)\n",
    "        for lr, _l in zip([er_lr, nr_lr], ['ER', 'NR']):\n",
    "            plt.hist(lr, bins=100, histtype='step', range=(1-ran, 1+ran), label=_l)\n",
    "        plt.axvline(cutoff, label='cutoff', ls='--', color='red', lw=2)\n",
    "        plt.legend()\n",
    "        plt.show()\n",
    "    \n",
    "\n",
    "    \n",
    "    return leak_frac"
   ]
  },
  {
   "cell_type": "code",
   "execution_count": null,
   "metadata": {
    "collapsed": true
   },
   "outputs": [],
   "source": []
  },
  {
   "cell_type": "code",
   "execution_count": 105,
   "metadata": {
    "collapsed": false
   },
   "outputs": [
    {
     "name": "stdout",
     "output_type": "stream",
     "text": [
      "Working on cs1 50.000000, Eer = 21.2 keV, Enr = 14.1 keV...\n",
      "ER:  {'t1': 3.3427784718085962, 'fs': 0.17407221528191405, 't3': 25.14819461795215, 'tts': 1.4259026910239254}\n",
      "NR:  {'t1': 2.75, 'fs': 0.245, 't3': 22.0, 'tts': 1.25}\n",
      "Building likelihoods...\n"
     ]
    },
    {
     "name": "stderr",
     "output_type": "stream",
     "text": [
      "  0%|          | 6/5000 [00:00<01:25, 58.10it/s]"
     ]
    },
    {
     "name": "stdout",
     "output_type": "stream",
     "text": [
      "Building samples...\n",
      "Building likelihood ratios...\n"
     ]
    },
    {
     "name": "stderr",
     "output_type": "stream",
     "text": [
      "100%|██████████| 5000/5000 [01:06<00:00, 75.28it/s]\n",
      "100%|██████████| 5000/5000 [01:07<00:00, 74.46it/s]\n",
      " 82%|████████▏ | 4121/5000 [00:55<00:11, 76.21it/s]/home/erik/anaconda3/envs/pax_new/lib/python3.4/site-packages/scipy/optimize/optimize.py:964: RuntimeWarning: divide by zero encountered in double_scalars\n",
      "  rhok = 1.0 / (numpy.dot(yk, sk))\n",
      "100%|██████████| 5000/5000 [01:07<00:00, 74.24it/s]\n",
      " 27%|██▋       | 1361/5000 [00:18<00:51, 70.64it/s]/home/erik/anaconda3/envs/pax_new/lib/python3.4/site-packages/scipy/optimize/optimize.py:964: RuntimeWarning: divide by zero encountered in double_scalars\n",
      "  rhok = 1.0 / (numpy.dot(yk, sk))\n",
      " 39%|███▉      | 1968/5000 [00:26<00:39, 76.33it/s]/home/erik/anaconda3/envs/pax_new/lib/python3.4/site-packages/scipy/optimize/optimize.py:964: RuntimeWarning: divide by zero encountered in double_scalars\n",
      "  rhok = 1.0 / (numpy.dot(yk, sk))\n",
      "100%|██████████| 5000/5000 [01:07<00:00, 74.39it/s]\n"
     ]
    },
    {
     "name": "stdout",
     "output_type": "stream",
     "text": [
      "Cutoff at 0.994486\n",
      "Passing 4538 of 5000 ER events, 90.8 %\n"
     ]
    },
    {
     "data": {
      "image/png": "[encoded data removed]",
      "text/plain": [
       "<matplotlib.figure.Figure at 0x7fdd7a0efdd8>"
      ]
     },
     "metadata": {},
     "output_type": "display_data"
    }
   ],
   "source": [
    "er_lr, nr_lr = get_er_acc(cs1 = 50, n_s1s = 5000)"
   ]
  },
  {
   "cell_type": "code",
   "execution_count": 97,
   "metadata": {
    "collapsed": false
   },
   "outputs": [
    {
     "data": {
      "text/plain": [
       "1.0199339595946724"
      ]
     },
     "execution_count": 97,
     "metadata": {},
     "output_type": "execute_result"
    }
   ],
   "source": [
    "np.median(nr_lr)"
   ]
  },
  {
   "cell_type": "markdown",
   "metadata": {},
   "source": [
    "### Build for various cs1"
   ]
  },
  {
   "cell_type": "code",
   "execution_count": 125,
   "metadata": {
    "collapsed": true
   },
   "outputs": [],
   "source": [
    "cs1_list = [10, 20, 30, 40, 50, 60]"
   ]
  },
  {
   "cell_type": "code",
   "execution_count": 126,
   "metadata": {
    "collapsed": false
   },
   "outputs": [
    {
     "name": "stdout",
     "output_type": "stream",
     "text": [
      "(6.9610550732109475, 4.0112840472132616)\n",
      "(10.406302184743979, 6.8627583952638869)\n",
      "(13.86839724136045, 9.508188707455755)\n",
      "(17.412994262765313, 11.894725102708794)\n",
      "(21.154691751010038, 14.064720687577864)\n",
      "(24.962724148736061, 16.100159913186342)\n"
     ]
    }
   ],
   "source": [
    "for cs1 in cs1_list:\n",
    "    print(convert_s1_to_E(cs1))"
   ]
  },
  {
   "cell_type": "code",
   "execution_count": 127,
   "metadata": {
    "collapsed": true
   },
   "outputs": [],
   "source": [
    "import pandas as pd"
   ]
  },
  {
   "cell_type": "code",
   "execution_count": 132,
   "metadata": {
    "collapsed": false
   },
   "outputs": [
    {
     "name": "stdout",
     "output_type": "stream",
     "text": [
      "Working on cs1 10.000000, Eer = 7.0 keV, Enr = 4.0 keV...\n",
      "ER:  {'t1': 1.5644033964134068, 'fs': 0.18816625055781008, 't3': 23.527284075696087, 'tts': 1.6992386414346372}\n",
      "NR:  {'t1': 0.69265861334347112, 'fs': 0.22807341386656529, 't3': 21.5, 'tts': 1.7018353466641323}\n",
      "Building likelihoods...\n"
     ]
    },
    {
     "name": "stderr",
     "output_type": "stream",
     "text": [
      "  6%|▌         | 6/100 [00:00<00:01, 52.91it/s]"
     ]
    },
    {
     "name": "stdout",
     "output_type": "stream",
     "text": [
      "Building samples...\n",
      "Building likelihood ratios...\n"
     ]
    },
    {
     "name": "stderr",
     "output_type": "stream",
     "text": [
      "100%|██████████| 100/100 [00:01<00:00, 70.64it/s]\n",
      "100%|██████████| 100/100 [00:01<00:00, 70.32it/s]\n",
      "100%|██████████| 100/100 [00:01<00:00, 69.87it/s]\n",
      "100%|██████████| 100/100 [00:01<00:00, 79.87it/s]\n"
     ]
    },
    {
     "name": "stdout",
     "output_type": "stream",
     "text": [
      "Cutoff at 0.995244\n",
      "Passing 62 of 100 ER events, 62.0 %\n"
     ]
    },
    {
     "data": {
      "image/png": "[encoded data removed]",
      "text/plain": [
       "<matplotlib.figure.Figure at 0x7fdd7a019550>"
      ]
     },
     "metadata": {},
     "output_type": "display_data"
    },
    {
     "name": "stdout",
     "output_type": "stream",
     "text": [
      "Working on cs1 20.000000, Eer = 10.4 keV, Enr = 6.9 keV...\n",
      "ER:  {'t1': 2.128300776138389, 'fs': 0.17999999999999999, 't3': 24.222875970172986, 'tts': 1.5777124029827014}\n",
      "NR:  {'t1': 1.3992077930880122, 'fs': 0.22100792206911987, 't3': 21.5, 'tts': 1.5251980517279971}\n",
      "Building likelihoods...\n"
     ]
    },
    {
     "name": "stderr",
     "output_type": "stream",
     "text": [
      "  8%|▊         | 8/100 [00:00<00:01, 76.72it/s]"
     ]
    },
    {
     "name": "stdout",
     "output_type": "stream",
     "text": [
      "Building samples...\n",
      "Building likelihood ratios...\n"
     ]
    },
    {
     "name": "stderr",
     "output_type": "stream",
     "text": [
      "100%|██████████| 100/100 [00:01<00:00, 72.21it/s]\n",
      "100%|██████████| 100/100 [00:01<00:00, 74.31it/s]\n",
      "100%|██████████| 100/100 [00:01<00:00, 78.61it/s]\n",
      "100%|██████████| 100/100 [00:01<00:00, 74.31it/s]\n"
     ]
    },
    {
     "name": "stdout",
     "output_type": "stream",
     "text": [
      "Cutoff at 0.996024\n",
      "Passing 73 of 100 ER events, 73.0 %\n"
     ]
    },
    {
     "data": {
      "image/png": "[encoded data removed]",
      "text/plain": [
       "<matplotlib.figure.Figure at 0x7fdd7a30abe0>"
      ]
     },
     "metadata": {},
     "output_type": "display_data"
    },
    {
     "name": "stdout",
     "output_type": "stream",
     "text": [
      "Working on cs1 30.000000, Eer = 13.9 keV, Enr = 9.5 keV...\n",
      "ER:  {'t1': 2.5873878396075911, 'fs': 0.17999999999999999, 't3': 24.79673479950949, 'tts': 1.520326520049051}\n",
      "NR:  {'t1': 2.07424741816908, 'fs': 0.2314849483633816, 't3': 21.72969896726763, 'tts': 1.3851505163661839}\n",
      "Building likelihoods...\n"
     ]
    },
    {
     "name": "stderr",
     "output_type": "stream",
     "text": [
      "  8%|▊         | 8/100 [00:00<00:01, 73.95it/s]"
     ]
    },
    {
     "name": "stdout",
     "output_type": "stream",
     "text": [
      "Building samples...\n",
      "Building likelihood ratios...\n"
     ]
    },
    {
     "name": "stderr",
     "output_type": "stream",
     "text": [
      "100%|██████████| 100/100 [00:01<00:00, 71.34it/s]\n",
      "100%|██████████| 100/100 [00:01<00:00, 74.97it/s]\n",
      "100%|██████████| 100/100 [00:01<00:00, 69.73it/s]\n",
      "100%|██████████| 100/100 [00:01<00:00, 75.85it/s]\n"
     ]
    },
    {
     "name": "stdout",
     "output_type": "stream",
     "text": [
      "Cutoff at 0.996546\n",
      "Passing 80 of 100 ER events, 80.0 %\n"
     ]
    },
    {
     "data": {
      "image/png": "[encoded data removed]",
      "text/plain": [
       "<matplotlib.figure.Figure at 0x7fdd7a0337b8>"
      ]
     },
     "metadata": {},
     "output_type": "display_data"
    },
    {
     "name": "stdout",
     "output_type": "stream",
     "text": [
      "Working on cs1 40.000000, Eer = 17.4 keV, Enr = 11.9 keV...\n",
      "ER:  {'t1': 2.9767718776959198, 'fs': 0.1777322812230408, 't3': 25.056692969423981, 'tts': 1.4716535152880101}\n",
      "NR:  {'t1': 2.6864284117444122, 'fs': 0.24372856823488825, 't3': 21.974571364697766, 'tts': 1.2627143176511175}\n",
      "Building likelihoods...\n"
     ]
    },
    {
     "name": "stderr",
     "output_type": "stream",
     "text": [
      "  9%|▉         | 9/100 [00:00<00:01, 81.80it/s]"
     ]
    },
    {
     "name": "stdout",
     "output_type": "stream",
     "text": [
      "Building samples...\n",
      "Building likelihood ratios...\n"
     ]
    },
    {
     "name": "stderr",
     "output_type": "stream",
     "text": [
      "100%|██████████| 100/100 [00:01<00:00, 74.59it/s]\n",
      "100%|██████████| 100/100 [00:01<00:00, 75.91it/s]\n",
      "100%|██████████| 100/100 [00:01<00:00, 62.92it/s]\n",
      "100%|██████████| 100/100 [00:01<00:00, 70.61it/s]\n"
     ]
    },
    {
     "name": "stdout",
     "output_type": "stream",
     "text": [
      "Cutoff at 0.994168\n",
      "Passing 84 of 100 ER events, 84.0 %\n"
     ]
    },
    {
     "data": {
      "image/png": "[encoded data removed]",
      "text/plain": [
       "<matplotlib.figure.Figure at 0x7fdd7a1f6da0>"
      ]
     },
     "metadata": {},
     "output_type": "display_data"
    },
    {
     "name": "stdout",
     "output_type": "stream",
     "text": [
      "Working on cs1 50.000000, Eer = 21.2 keV, Enr = 14.1 keV...\n",
      "ER:  {'t1': 3.3427784718085962, 'fs': 0.17407221528191405, 't3': 25.14819461795215, 'tts': 1.4259026910239254}\n",
      "NR:  {'t1': 2.75, 'fs': 0.245, 't3': 22.0, 'tts': 1.25}\n",
      "Building likelihoods...\n"
     ]
    },
    {
     "name": "stderr",
     "output_type": "stream",
     "text": [
      " 10%|█         | 10/100 [00:00<00:00, 92.77it/s]"
     ]
    },
    {
     "name": "stdout",
     "output_type": "stream",
     "text": [
      "Building samples...\n",
      "Building likelihood ratios...\n"
     ]
    },
    {
     "name": "stderr",
     "output_type": "stream",
     "text": [
      "100%|██████████| 100/100 [00:01<00:00, 71.93it/s]\n",
      "100%|██████████| 100/100 [00:01<00:00, 76.89it/s]\n",
      "100%|██████████| 100/100 [00:01<00:00, 74.37it/s]\n",
      "100%|██████████| 100/100 [00:01<00:00, 70.91it/s]\n"
     ]
    },
    {
     "name": "stdout",
     "output_type": "stream",
     "text": [
      "Cutoff at 0.993804\n",
      "Passing 93 of 100 ER events, 93.0 %\n"
     ]
    },
    {
     "data": {
      "image/png": "[encoded data removed]",
      "text/plain": [
       "<matplotlib.figure.Figure at 0x7fdd7a3f8208>"
      ]
     },
     "metadata": {},
     "output_type": "display_data"
    },
    {
     "name": "stdout",
     "output_type": "stream",
     "text": [
      "Working on cs1 60.000000, Eer = 25.0 keV, Enr = 16.1 keV...\n",
      "ER:  {'t1': 3.7152738358889943, 'fs': 0.17034726164111008, 't3': 25.241318458972248, 'tts': 1.3793407705138756}\n",
      "NR:  {'t1': 2.75, 'fs': 0.245, 't3': 22.0, 'tts': 1.25}\n",
      "Building likelihoods...\n"
     ]
    },
    {
     "name": "stderr",
     "output_type": "stream",
     "text": [
      "  7%|▋         | 7/100 [00:00<00:01, 64.94it/s]"
     ]
    },
    {
     "name": "stdout",
     "output_type": "stream",
     "text": [
      "Building samples...\n",
      "Building likelihood ratios...\n"
     ]
    },
    {
     "name": "stderr",
     "output_type": "stream",
     "text": [
      "100%|██████████| 100/100 [00:01<00:00, 69.59it/s]\n",
      "100%|██████████| 100/100 [00:01<00:00, 72.05it/s]\n",
      "100%|██████████| 100/100 [00:01<00:00, 73.55it/s]\n",
      "100%|██████████| 100/100 [00:01<00:00, 72.60it/s]\n"
     ]
    },
    {
     "name": "stdout",
     "output_type": "stream",
     "text": [
      "Cutoff at 0.993891\n",
      "Passing 96 of 100 ER events, 96.0 %\n"
     ]
    },
    {
     "data": {
      "image/png": "[encoded data removed]",
      "text/plain": [
       "<matplotlib.figure.Figure at 0x7fdd7ef1ea58>"
      ]
     },
     "metadata": {},
     "output_type": "display_data"
    }
   ],
   "source": [
    "df = []\n",
    "for cs1 in cs1_list:\n",
    "    el = {}\n",
    "    el['cs1'] = cs1\n",
    "    el['e_er'], el['e_nr'] = convert_s1_to_E(cs1)\n",
    "    el['leak'] = get_er_acc(cs1, n_s1s = 100, plot=False)\n",
    "    df.append(el)\n",
    "    \n",
    "    \n",
    "df = pd.DataFrame(df)"
   ]
  },
  {
   "cell_type": "code",
   "execution_count": 139,
   "metadata": {
    "collapsed": false
   },
   "outputs": [
    {
     "data": {
      "text/plain": [
       "<matplotlib.axes._subplots.AxesSubplot at 0x7fdd7ef37e10>"
      ]
     },
     "execution_count": 139,
     "metadata": {},
     "output_type": "execute_result"
    },
    {
     "data": {
      "image/png": "[encoded data removed]",
      "text/plain": [
       "<matplotlib.figure.Figure at 0x7fdd7a007828>"
      ]
     },
     "metadata": {},
     "output_type": "display_data"
    }
   ],
   "source": [
    "plt.plot(df['cs1'], 1 - df['leak'])\n",
    "# plt.xlim(0, 25)\n",
    "plt.ylim(0, 0.5)\n",
    "plt.xlabel('Number of photons')\n",
    "# plt.xlabel('Energy in ER band')\n",
    "plt.twiny()"
   ]
  },
  {
   "cell_type": "code",
   "execution_count": null,
   "metadata": {
    "collapsed": true
   },
   "outputs": [],
   "source": [
    "convert_s1_to_E"
   ]
  }
 ],
 "metadata": {
  "kernelspec": {
   "display_name": "Python 3",
   "language": "python",
   "name": "python3"
  },
  "language_info": {
   "codemirror_mode": {
    "name": "ipython",
    "version": 3
   },
   "file_extension": ".py",
   "mimetype": "text/x-python",
   "name": "python",
   "nbconvert_exporter": "python",
   "pygments_lexer": "ipython3",
   "version": "3.4.5"
  },
  "latex_envs": {
   "bibliofile": "biblio.bib",
   "cite_by": "apalike",
   "current_citInitial": 1,
   "eqLabelWithNumbers": true,
   "eqNumInitial": 0
  }
 },
 "nbformat": 4,
 "nbformat_minor": 2
}
