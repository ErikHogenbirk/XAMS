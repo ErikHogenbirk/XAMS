{
 "cells": [
  {
   "cell_type": "markdown",
   "metadata": {},
   "source": [
    "### Import and read data"
   ]
  },
  {
   "cell_type": "code",
   "execution_count": 1,
   "metadata": {
    "collapsed": true
   },
   "outputs": [],
   "source": [
    "import pickle\n",
    "import numpy as np\n",
    "import matplotlib.pyplot as plt\n",
    "%matplotlib inline"
   ]
  },
  {
   "cell_type": "markdown",
   "metadata": {},
   "source": [
    "Here we read the data: there are three dataframes: the AmBe data with NR band selection (`nr`), a combination of all ER data, with ER band selection (`er`), and the NR selection applied on BG data (`bg_nr`). Note that the BG livetime is half of the AmBe livetime, so for the contamination, you should multiply the population by two."
   ]
  },
  {
   "cell_type": "code",
   "execution_count": 2,
   "metadata": {
    "collapsed": true
   },
   "outputs": [],
   "source": [
    "nr, er, bg_nr = pickle.load(open('highfield_dataframes.pickle', 'rb'))\n",
    "nr_new, er_new, bg_nr_new = pickle.load(open('highfield_dataframes_new.pickle', 'rb'))"
   ]
  },
  {
   "cell_type": "markdown",
   "metadata": {},
   "source": [
    "All dataframes contain the event-by-event information required..."
   ]
  },
  {
   "cell_type": "code",
   "execution_count": 3,
   "metadata": {
    "collapsed": false
   },
   "outputs": [
    {
     "data": {
      "text/html": [
       "<div>\n",
       "<table border=\"1\" class=\"dataframe\">\n",
       "  <thead>\n",
       "    <tr style=\"text-align: right;\">\n",
       "      <th></th>\n",
       "      <th>run_number</th>\n",
       "      <th>event_number</th>\n",
       "      <th>s1_area_midpoint</th>\n",
       "      <th>s1_center_time</th>\n",
       "      <th>s1_left</th>\n",
       "      <th>s1_n_saturated_channels</th>\n",
       "      <th>s1_range_20p_area</th>\n",
       "      <th>s1_range_80p_area</th>\n",
       "      <th>s1_right</th>\n",
       "      <th>s1_time_from_midpoint_10p</th>\n",
       "      <th>...</th>\n",
       "      <th>s1_10_percentile_point</th>\n",
       "      <th>s1_20_percentile_point</th>\n",
       "      <th>s1_30_percentile_point</th>\n",
       "      <th>s1_40_percentile_point</th>\n",
       "      <th>s1_fraction_outside_pulse</th>\n",
       "      <th>s1_10_percentile_point_pax</th>\n",
       "      <th>s1_shift_error</th>\n",
       "      <th>s1_20_percentile_point_pax</th>\n",
       "      <th>s1_30_percentile_point_pax</th>\n",
       "      <th>s1_40_percentile_point_pax</th>\n",
       "    </tr>\n",
       "  </thead>\n",
       "  <tbody>\n",
       "    <tr>\n",
       "      <th>540</th>\n",
       "      <td>0</td>\n",
       "      <td>540</td>\n",
       "      <td>34504.082031</td>\n",
       "      <td>34514.984375</td>\n",
       "      <td>17233.0</td>\n",
       "      <td>0.0</td>\n",
       "      <td>9.372392</td>\n",
       "      <td>72.916788</td>\n",
       "      <td>17294.0</td>\n",
       "      <td>-14.869240</td>\n",
       "      <td>...</td>\n",
       "      <td>75.213614</td>\n",
       "      <td>77.901925</td>\n",
       "      <td>81.747431</td>\n",
       "      <td>85.725104</td>\n",
       "      <td>9.625401e-09</td>\n",
       "      <td>75.212791</td>\n",
       "      <td>0.984375</td>\n",
       "      <td>77.901103</td>\n",
       "      <td>81.746609</td>\n",
       "      <td>85.724283</td>\n",
       "    </tr>\n",
       "    <tr>\n",
       "      <th>693</th>\n",
       "      <td>0</td>\n",
       "      <td>693</td>\n",
       "      <td>81638.390625</td>\n",
       "      <td>81647.546875</td>\n",
       "      <td>40802.0</td>\n",
       "      <td>0.0</td>\n",
       "      <td>6.905169</td>\n",
       "      <td>59.901494</td>\n",
       "      <td>40875.0</td>\n",
       "      <td>-9.056193</td>\n",
       "      <td>...</td>\n",
       "      <td>81.337993</td>\n",
       "      <td>83.576320</td>\n",
       "      <td>85.547583</td>\n",
       "      <td>87.603758</td>\n",
       "      <td>-6.711568e-09</td>\n",
       "      <td>81.334432</td>\n",
       "      <td>-0.453125</td>\n",
       "      <td>83.572760</td>\n",
       "      <td>85.544023</td>\n",
       "      <td>87.600198</td>\n",
       "    </tr>\n",
       "    <tr>\n",
       "      <th>798</th>\n",
       "      <td>0</td>\n",
       "      <td>798</td>\n",
       "      <td>58629.832031</td>\n",
       "      <td>58626.707031</td>\n",
       "      <td>29296.0</td>\n",
       "      <td>0.0</td>\n",
       "      <td>4.003010</td>\n",
       "      <td>25.680164</td>\n",
       "      <td>29329.0</td>\n",
       "      <td>-15.204214</td>\n",
       "      <td>...</td>\n",
       "      <td>88.627424</td>\n",
       "      <td>90.917856</td>\n",
       "      <td>97.654896</td>\n",
       "      <td>101.804348</td>\n",
       "      <td>5.186011e-09</td>\n",
       "      <td>88.627818</td>\n",
       "      <td>0.707031</td>\n",
       "      <td>90.918250</td>\n",
       "      <td>97.655288</td>\n",
       "      <td>101.804741</td>\n",
       "    </tr>\n",
       "    <tr>\n",
       "      <th>1071</th>\n",
       "      <td>0</td>\n",
       "      <td>1071</td>\n",
       "      <td>81643.140625</td>\n",
       "      <td>81645.750000</td>\n",
       "      <td>40804.0</td>\n",
       "      <td>0.0</td>\n",
       "      <td>5.839726</td>\n",
       "      <td>31.362469</td>\n",
       "      <td>40856.0</td>\n",
       "      <td>-10.946837</td>\n",
       "      <td>...</td>\n",
       "      <td>86.192020</td>\n",
       "      <td>88.649095</td>\n",
       "      <td>91.221984</td>\n",
       "      <td>93.941129</td>\n",
       "      <td>-6.944415e-09</td>\n",
       "      <td>86.193788</td>\n",
       "      <td>-0.250000</td>\n",
       "      <td>88.650862</td>\n",
       "      <td>91.223752</td>\n",
       "      <td>93.942897</td>\n",
       "    </tr>\n",
       "    <tr>\n",
       "      <th>1162</th>\n",
       "      <td>0</td>\n",
       "      <td>1162</td>\n",
       "      <td>81653.210938</td>\n",
       "      <td>81659.093750</td>\n",
       "      <td>40801.0</td>\n",
       "      <td>0.0</td>\n",
       "      <td>15.553748</td>\n",
       "      <td>67.444182</td>\n",
       "      <td>40890.0</td>\n",
       "      <td>-22.232770</td>\n",
       "      <td>...</td>\n",
       "      <td>70.975885</td>\n",
       "      <td>75.817257</td>\n",
       "      <td>80.992886</td>\n",
       "      <td>86.167310</td>\n",
       "      <td>5.250868e-08</td>\n",
       "      <td>70.978167</td>\n",
       "      <td>-0.906250</td>\n",
       "      <td>75.819539</td>\n",
       "      <td>80.995167</td>\n",
       "      <td>86.169590</td>\n",
       "    </tr>\n",
       "  </tbody>\n",
       "</table>\n",
       "<p>5 rows × 48 columns</p>\n",
       "</div>"
      ],
      "text/plain": [
       "      run_number  event_number  s1_area_midpoint  s1_center_time  s1_left  \\\n",
       "540            0           540      34504.082031    34514.984375  17233.0   \n",
       "693            0           693      81638.390625    81647.546875  40802.0   \n",
       "798            0           798      58629.832031    58626.707031  29296.0   \n",
       "1071           0          1071      81643.140625    81645.750000  40804.0   \n",
       "1162           0          1162      81653.210938    81659.093750  40801.0   \n",
       "\n",
       "      s1_n_saturated_channels  s1_range_20p_area  s1_range_80p_area  s1_right  \\\n",
       "540                       0.0           9.372392          72.916788   17294.0   \n",
       "693                       0.0           6.905169          59.901494   40875.0   \n",
       "798                       0.0           4.003010          25.680164   29329.0   \n",
       "1071                      0.0           5.839726          31.362469   40856.0   \n",
       "1162                      0.0          15.553748          67.444182   40890.0   \n",
       "\n",
       "      s1_time_from_midpoint_10p             ...              \\\n",
       "540                  -14.869240             ...               \n",
       "693                   -9.056193             ...               \n",
       "798                  -15.204214             ...               \n",
       "1071                 -10.946837             ...               \n",
       "1162                 -22.232770             ...               \n",
       "\n",
       "      s1_10_percentile_point  s1_20_percentile_point  s1_30_percentile_point  \\\n",
       "540                75.213614               77.901925               81.747431   \n",
       "693                81.337993               83.576320               85.547583   \n",
       "798                88.627424               90.917856               97.654896   \n",
       "1071               86.192020               88.649095               91.221984   \n",
       "1162               70.975885               75.817257               80.992886   \n",
       "\n",
       "      s1_40_percentile_point  s1_fraction_outside_pulse  \\\n",
       "540                85.725104               9.625401e-09   \n",
       "693                87.603758              -6.711568e-09   \n",
       "798               101.804348               5.186011e-09   \n",
       "1071               93.941129              -6.944415e-09   \n",
       "1162               86.167310               5.250868e-08   \n",
       "\n",
       "      s1_10_percentile_point_pax  s1_shift_error  s1_20_percentile_point_pax  \\\n",
       "540                    75.212791        0.984375                   77.901103   \n",
       "693                    81.334432       -0.453125                   83.572760   \n",
       "798                    88.627818        0.707031                   90.918250   \n",
       "1071                   86.193788       -0.250000                   88.650862   \n",
       "1162                   70.978167       -0.906250                   75.819539   \n",
       "\n",
       "      s1_30_percentile_point_pax  s1_40_percentile_point_pax  \n",
       "540                    81.746609                   85.724283  \n",
       "693                    85.544023                   87.600198  \n",
       "798                    97.655288                  101.804741  \n",
       "1071                   91.223752                   93.942897  \n",
       "1162                   80.995167                   86.169590  \n",
       "\n",
       "[5 rows x 48 columns]"
      ]
     },
     "execution_count": 3,
     "metadata": {},
     "output_type": "execute_result"
    }
   ],
   "source": [
    "nr.head()"
   ]
  },
  {
   "cell_type": "markdown",
   "metadata": {},
   "source": [
    "...Such as the S1 pulse!"
   ]
  },
  {
   "cell_type": "code",
   "execution_count": 4,
   "metadata": {
    "collapsed": false
   },
   "outputs": [
    {
     "data": {
      "text/plain": [
       "<matplotlib.text.Text at 0x7f089013eac8>"
      ]
     },
     "execution_count": 4,
     "metadata": {},
     "output_type": "execute_result"
    },
    {
     "data": {
      "image/png": "[encoded data removed]",
      "text/plain": [
       "<matplotlib.figure.Figure at 0x7f08e99d3be0>"
      ]
     },
     "metadata": {},
     "output_type": "display_data"
    }
   ],
   "source": [
    "n_to_plot = 3\n",
    "\n",
    "n_plotted = 0\n",
    "for i, ev in nr.iterrows():\n",
    "    plt.plot(np.linspace(-100, 300, 201)[:-1], np.array(ev['s1_pulse']) / ev['s1'])\n",
    "    n_plotted += 1\n",
    "    if n_plotted >= n_to_plot:\n",
    "        break\n",
    "plt.xlabel('Time (ns)')"
   ]
  },
  {
   "cell_type": "markdown",
   "metadata": {},
   "source": [
    "### Alignment functions"
   ]
  },
  {
   "cell_type": "code",
   "execution_count": 5,
   "metadata": {
    "collapsed": true
   },
   "outputs": [],
   "source": [
    "def build_pulse_hist_entries(d, alignment_field):\n",
    "    '''\n",
    "    Align the S1 pulses. This assumes 400 ns of data and a field (`alignment_field`) that is given in units of \n",
    "    time since start of waveform in ns. This is put at the zero point, which is 100 ns in the waveform.\n",
    "    The function returns two arrays, one containing the time points (shifted by the alignment field) and \n",
    "    one containing the weight, so that lower-than 1 bin sampling and alignment is possible.\n",
    "    '''\n",
    "    time_edges = np.linspace(-100, 300, 201)\n",
    "    # Arbitrarily put the first sample EXACTLY at zero rather than at bin edges\n",
    "    time = time_edges[:-1]\n",
    "    time_entries = []\n",
    "    weight_entries = []\n",
    "    \n",
    "    for i, ev in d.iterrows():\n",
    "        time_entries.append(time + 100 - ev[alignment_field])\n",
    "        weight_entries.append(np.array(ev['s1_pulse']) / ev['s1'])\n",
    "    \n",
    "    return np.concatenate(time_entries), np.concatenate(weight_entries)\n",
    "\n",
    "def compute_average_pulse(d, alignment_field, dt = 2):\n",
    "    '''\n",
    "    Compute the average pulse, calling the underlying `build_pulse_hist_entries` routine. \n",
    "    This assumes 400 ns of data and a field (`alignment_field`) that is given in units of \n",
    "    time since start of waveform in ns. This is put at the zero point, which is 100 ns in the waveform.\n",
    "    dt is sample time in ns, which may be lower than the raw sample of 2 ns. Go ahead and try!\n",
    "    '''\n",
    "    n_bins_time = np.floor(400 / dt) + 1\n",
    "    if 400 % dt:\n",
    "        print('Warning: please use a divisor of 400 for your time bins (i.e. 1, 0.2, 200, ...) .')\n",
    "    time_edges = np.linspace(-100, 300, n_bins_time)\n",
    "    times, weights = build_pulse_hist_entries(d, alignment_field)\n",
    "    \n",
    "    # This takes only the left bin edges, so that the first sample is zero.\n",
    "    time = time_edges[:-1]\n",
    "    amplitude, _ = np.histogram(times, bins=time_edges, weights=weights)\n",
    "    # Normalization\n",
    "    amplitude = amplitude / len(d) / dt\n",
    "    \n",
    "    return time, amplitude\n",
    "\n",
    "def plot_average_pulse_in_slice(d, alignment_field, dt = 2, cs1_range=(0, np.inf), **kwargs):\n",
    "    sel = (d['cs1'] >= cs1_range[0]) & (d['cs1'] < cs1_range[1])\n",
    "    time, average_pulse = compute_average_pulse(d[sel], alignment_field, dt)\n",
    "    plt.plot(time, average_pulse, **kwargs)\n",
    "    plt.xlabel('Time (ns)')\n",
    "    plt.ylabel('Average pulse ((%d ns)$^{-1}$)' % dt)\n",
    "    return "
   ]
  },
  {
   "cell_type": "markdown",
   "metadata": {},
   "source": [
    "### Check out the pulses"
   ]
  },
  {
   "cell_type": "code",
   "execution_count": 11,
   "metadata": {
    "collapsed": false
   },
   "outputs": [
    {
     "data": {
      "image/png": "[encoded data removed]",
      "text/plain": [
       "<matplotlib.figure.Figure at 0x7f088c3b9b70>"
      ]
     },
     "metadata": {},
     "output_type": "display_data"
    }
   ],
   "source": [
    "plot_average_pulse_in_slice(nr, 's1_10_percentile_point_pax', dt=2, cs1_range=(30, 40), label='NR', marker='.')\n",
    "plot_average_pulse_in_slice(er, 's1_10_percentile_point_pax', dt=2, cs1_range=(30, 40), label='ER', marker='.')\n",
    "plt.xlim(-50, 300)\n",
    "plt.legend()\n",
    "plt.yscale('log')\n",
    "plt.show()"
   ]
  },
  {
   "cell_type": "code",
   "execution_count": 12,
   "metadata": {
    "collapsed": false
   },
   "outputs": [
    {
     "data": {
      "image/png": "[encoded data removed]",
      "text/plain": [
       "<matplotlib.figure.Figure at 0x7f088c3ace80>"
      ]
     },
     "metadata": {},
     "output_type": "display_data"
    }
   ],
   "source": [
    "plot_average_pulse_in_slice(nr_new, 's1_10_percentile_point_pax', dt=2, cs1_range=(30, 40), label='NR', marker='.')\n",
    "plot_average_pulse_in_slice(er_new, 's1_10_percentile_point_pax', dt=2, cs1_range=(30, 40), label='ER', marker='.')\n",
    "plt.xlim(-50, 300)\n",
    "plt.legend()\n",
    "plt.yscale('log')\n",
    "plt.show()"
   ]
  },
  {
   "cell_type": "code",
   "execution_count": null,
   "metadata": {
    "collapsed": true
   },
   "outputs": [],
   "source": []
  }
 ],
 "metadata": {
  "kernelspec": {
   "display_name": "Python 3",
   "language": "python",
   "name": "python3"
  },
  "language_info": {
   "codemirror_mode": {
    "name": "ipython",
    "version": 3
   },
   "file_extension": ".py",
   "mimetype": "text/x-python",
   "name": "python",
   "nbconvert_exporter": "python",
   "pygments_lexer": "ipython3",
   "version": "3.4.5"
  },
  "latex_envs": {
   "bibliofile": "biblio.bib",
   "cite_by": "apalike",
   "current_citInitial": 1,
   "eqLabelWithNumbers": true,
   "eqNumInitial": 0
  }
 },
 "nbformat": 4,
 "nbformat_minor": 2
}
