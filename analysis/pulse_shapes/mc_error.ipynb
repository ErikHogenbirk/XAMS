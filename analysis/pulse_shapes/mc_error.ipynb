{
 "cells": [
  {
   "cell_type": "code",
   "execution_count": 1,
   "metadata": {
    "collapsed": false
   },
   "outputs": [
    {
     "name": "stdout",
     "output_type": "stream",
     "text": [
      "Reading XAMS data from pickles...\n",
      "Read data in 86.62 seconds\n"
     ]
    }
   ],
   "source": [
    "%run 'psd_mc_functions.ipynb'\n",
    "\n",
    "import matplotlib\n",
    "%matplotlib inline\n",
    "import matplotlib.pyplot as plt\n",
    "import os"
   ]
  },
  {
   "cell_type": "code",
   "execution_count": 2,
   "metadata": {
    "collapsed": true
   },
   "outputs": [],
   "source": [
    "def mock_s1_wv_sigma(time_matrix, wv_matrix, **params):\n",
    "    \"\"\"Take data S1s, bootstrap sample, then check what the variance is\"\"\"\n",
    "    params = get_params(params)\n",
    "    bootstrap_trials = params['bootstrap_trials']\n",
    "    n_s1s = wv_matrix.shape[1]\n",
    "    waveform_templates = np.zeros((len(spe_ts), bootstrap_trials))\n",
    "\n",
    "    for i in range(bootstrap_trials):\n",
    "        new_indices = np.random.randint(n_s1s, size=n_s1s)\n",
    "\n",
    "        waveform_templates[:, i] = average_pulse(time_matrix[:, new_indices], \n",
    "                                                 wv_matrix[:, new_indices], **params)\n",
    "        \n",
    "    return np.std(waveform_templates, axis=1)"
   ]
  },
  {
   "cell_type": "code",
   "execution_count": 8,
   "metadata": {
    "collapsed": true
   },
   "outputs": [],
   "source": [
    "def build_mock_data(verbose=True, **params):\n",
    "    '''\n",
    "    Mock data is simulated data with just the right statistics given the data.\n",
    "    Arguments: parameters specifying the dataset (dset, e_min, e_max), plus the true values (i.e. the fitted values).\n",
    "    '''\n",
    "#     params = get_params(params)\n",
    "    d = xams_data[params['dset']]\n",
    "    d = d[(d['e_ces'] >= params['e_min']) & (d['e_ces'] < params['e_max']) ]\n",
    "    n_s1s = len(d)\n",
    "    if verbose:\n",
    "        print(\"Selected data from %s, energy from %d to %d\" % (params['dset'], params['e_min'], params['e_max']))\n",
    "        print(\"Selected %d waveforms\" % (n_s1s))\n",
    "    \n",
    "    # Take a generous sample of photons to eneter into the simulation\n",
    "    n_photons_guess = int(1.5 * sum(d['cs1']))\n",
    "    s1_waveforms, s1_waveforms_error, time_matrix, t_shift  = simulate_s1_pulse(n_photons = n_photons_guess, **params)\n",
    "    # Cut off the excess waveforms to exactly match stats\n",
    "    if len(t_shift) < n_s1s:\n",
    "        raise ValueError(\"Number of S1s incorrect, how is possible?\")\n",
    "    s1_waveforms = s1_waveforms[:, :n_s1s]\n",
    "    s1_waveforms_error = s1_waveforms_error[:, :n_s1s]\n",
    "    t_shift = t_shift[:n_s1s]\n",
    "    time_matrix = time_matrix[:, :n_s1s]\n",
    "    avg = average_pulse(time_matrix, s1_waveforms)\n",
    "    stored_stat = mock_s1_wv_sigma(time_matrix, s1_waveforms)\n",
    "    return avg, stored_stat"
   ]
  },
  {
   "cell_type": "code",
   "execution_count": 10,
   "metadata": {
    "collapsed": false
   },
   "outputs": [],
   "source": [
    "def build_grid_around_value(variables, values, step_sizes, nsteps, **params):\n",
    "    mins = [values[i] - nsteps * step_sizes[i] for i in range(len(variables))]\n",
    "    maxes= [values[i] + nsteps * step_sizes[i] for i in range(len(variables))]\n",
    "    dicts = produce_settings_dicts(variables, mins, maxes, step_sizes, **params)\n",
    "    return dicts"
   ]
  },
  {
   "cell_type": "code",
   "execution_count": 15,
   "metadata": {
    "collapsed": true
   },
   "outputs": [],
   "source": [
    "def process_dicts(dicts, avg, stored_stat):\n",
    "    for p in dicts:\n",
    "        model, syst_err, spe_err = s1_models_error(**p)\n",
    "        chi2 = gof_manual(avg, model, syst_err, spe_err, stored_stat_value = stored_stat, verbose=False, **p)\n",
    "        p['chi2'] = chi2\n",
    "    return dicts"
   ]
  },
  {
   "cell_type": "code",
   "execution_count": 16,
   "metadata": {
    "collapsed": false
   },
   "outputs": [],
   "source": [
    "def check_settings(variables = ['t3', 'fs',  't1', 'tts'], step_sizes = [0.25, 0.005, 0.125, 0.125],\n",
    "                   nsteps = 2, nphotons_histat = int(2e6), **params):\n",
    "    avg, stored_stat = build_mock_data(**params)\n",
    "    values = [params[var] for var in variables]\n",
    "    dicts = build_grid_around_value(variables, values, step_sizes, nsteps, nphotons=nphotons_histat)\n",
    "    \n",
    "    dicts = process_dicts(dicts, avg, stored_stat)\n",
    "    return dicts"
   ]
  },
  {
   "cell_type": "code",
   "execution_count": null,
   "metadata": {
    "collapsed": true
   },
   "outputs": [],
   "source": []
  },
  {
   "cell_type": "code",
   "execution_count": null,
   "metadata": {
    "collapsed": true
   },
   "outputs": [],
   "source": []
  },
  {
   "cell_type": "code",
   "execution_count": null,
   "metadata": {
    "collapsed": true
   },
   "outputs": [],
   "source": []
  },
  {
   "cell_type": "code",
   "execution_count": 13,
   "metadata": {
    "collapsed": false
   },
   "outputs": [
    {
     "name": "stdout",
     "output_type": "stream",
     "text": [
      "Selected data from er, energy from 2 to 5\n",
      "Selected 741 waveforms\n",
      "Loaded 1 settings.\n",
      "gof=1.5409374792685488, fs=0.235, t1=0.5, t3=22.25, tts=2.125\n"
     ]
    }
   ],
   "source": [
    "dicts = check_settings(nsteps = 2, nphotons_histat=int(5e4), dset = 'er', e_min = 2, e_max = 5, \n",
    "               fs = 0.235, t1 = 0.5, t3 = 22.25, tts = 2.125)"
   ]
  },
  {
   "cell_type": "code",
   "execution_count": null,
   "metadata": {
    "collapsed": true
   },
   "outputs": [],
   "source": []
  },
  {
   "cell_type": "code",
   "execution_count": null,
   "metadata": {
    "collapsed": true
   },
   "outputs": [],
   "source": []
  },
  {
   "cell_type": "code",
   "execution_count": null,
   "metadata": {
    "collapsed": true
   },
   "outputs": [],
   "source": []
  },
  {
   "cell_type": "code",
   "execution_count": null,
   "metadata": {
    "collapsed": true
   },
   "outputs": [],
   "source": []
  },
  {
   "cell_type": "code",
   "execution_count": 104,
   "metadata": {
    "collapsed": true
   },
   "outputs": [],
   "source": [
    "nsteps = 2\n",
    "variables = ['t3', 'fs',  't1', 'tts']\n",
    "values = [22.25, 0.235, 0.5, 2.125]\n",
    "step_sizes = [0.25, 0.005, 0.125, 0.125]\n",
    "# step_sizes = [0.5 * parval for parval in [0.5,  0.01,  0.25,  0.25]] # WARNING WARNING set to low value"
   ]
  },
  {
   "cell_type": "code",
   "execution_count": 106,
   "metadata": {
    "collapsed": false
   },
   "outputs": [
    {
     "name": "stdout",
     "output_type": "stream",
     "text": [
      "Loaded 625 settings.\n"
     ]
    }
   ],
   "source": [
    "dicts = build_grid_around_value(variables, values, step_sizes, nsteps, n_photons = int(5e5))"
   ]
  },
  {
   "cell_type": "code",
   "execution_count": 109,
   "metadata": {
    "collapsed": false
   },
   "outputs": [],
   "source": [
    "df = pd.DataFrame(list(dicts))"
   ]
  },
  {
   "cell_type": "code",
   "execution_count": 2,
   "metadata": {
    "collapsed": false
   },
   "outputs": [],
   "source": [
    "p_all = dict(\n",
    "    dset = 'er',\n",
    "    e_min = 2,\n",
    "    e_max = 5\n",
    ")"
   ]
  },
  {
   "cell_type": "code",
   "execution_count": 22,
   "metadata": {
    "collapsed": true
   },
   "outputs": [],
   "source": [
    "p_true = {\n",
    " 'fs': 0.23499999999999999,\n",
    " 't1': 0.5,\n",
    " 't3': 22.25,\n",
    " 'tts': 2.125}\n",
    "\n",
    "p_true = merge_two_dicts(p_all, p_true)"
   ]
  },
  {
   "cell_type": "code",
   "execution_count": 4,
   "metadata": {
    "collapsed": false
   },
   "outputs": [],
   "source": [
    "d = xams_data[p_all['dset']]\n",
    "d = d[(d['e_ces'] >= p_all['e_min']) & (d['e_ces'] < p_all['e_max']) ]"
   ]
  },
  {
   "cell_type": "code",
   "execution_count": 18,
   "metadata": {
    "collapsed": false
   },
   "outputs": [],
   "source": [
    "# This is how many S1s we simulate\n",
    "n_s1s = len(d)"
   ]
  },
  {
   "cell_type": "code",
   "execution_count": 6,
   "metadata": {
    "collapsed": true
   },
   "outputs": [],
   "source": [
    "n_photons_guess = int(1.5 * sum(d['cs1']))"
   ]
  },
  {
   "cell_type": "code",
   "execution_count": 7,
   "metadata": {
    "collapsed": false
   },
   "outputs": [
    {
     "data": {
      "text/plain": [
       "15015"
      ]
     },
     "execution_count": 7,
     "metadata": {},
     "output_type": "execute_result"
    }
   ],
   "source": [
    "n_photons_guess"
   ]
  },
  {
   "cell_type": "code",
   "execution_count": 33,
   "metadata": {
    "collapsed": false
   },
   "outputs": [],
   "source": [
    "s1_waveforms, s1_waveforms_error, time_matrix, t_shift  = simulate_s1_pulse(n_photons = n_photons_guess, **p_all)\n",
    "s1_waveforms = s1_waveforms[:, :n_s1s]\n",
    "s1_waveforms_error = s1_waveforms_error[:, :n_s1s]\n",
    "t_shift = t_shift[:n_s1s]\n",
    "time_matrix = time_matrix[:, :n_s1s]"
   ]
  },
  {
   "cell_type": "code",
   "execution_count": 34,
   "metadata": {
    "collapsed": false
   },
   "outputs": [
    {
     "data": {
      "text/plain": [
       "array([[-100.3497289 , -103.35235468, -102.45217145, ..., -101.50794111,\n",
       "        -118.80646788, -103.95952436],\n",
       "       [ -98.3497289 , -101.35235468, -100.45217145, ...,  -99.50794111,\n",
       "        -116.80646788, -101.95952436],\n",
       "       [ -96.3497289 ,  -99.35235468,  -98.45217145, ...,  -97.50794111,\n",
       "        -114.80646788,  -99.95952436],\n",
       "       ..., \n",
       "       [ 283.6502711 ,  280.64764532,  281.54782855, ...,  282.49205889,\n",
       "         265.19353212,  280.04047564],\n",
       "       [ 285.6502711 ,  282.64764532,  283.54782855, ...,  284.49205889,\n",
       "         267.19353212,  282.04047564],\n",
       "       [ 287.6502711 ,  284.64764532,  285.54782855, ...,  286.49205889,\n",
       "         269.19353212,  284.04047564]])"
      ]
     },
     "execution_count": 34,
     "metadata": {},
     "output_type": "execute_result"
    }
   ],
   "source": [
    "time_matrix"
   ]
  },
  {
   "cell_type": "code",
   "execution_count": 36,
   "metadata": {
    "collapsed": false
   },
   "outputs": [],
   "source": [
    "avg = average_pulse(time_matrix, s1_waveforms)"
   ]
  },
  {
   "cell_type": "code",
   "execution_count": 37,
   "metadata": {
    "collapsed": false
   },
   "outputs": [
    {
     "data": {
      "text/plain": [
       "[<matplotlib.lines.Line2D at 0x7efc717aa908>]"
      ]
     },
     "execution_count": 37,
     "metadata": {},
     "output_type": "execute_result"
    },
    {
     "data": {
      "image/png": "[encoded data removed]",
      "text/plain": [
       "<matplotlib.figure.Figure at 0x7efc6d7837f0>"
      ]
     },
     "metadata": {},
     "output_type": "display_data"
    }
   ],
   "source": [
    "plt.plot(avg)"
   ]
  },
  {
   "cell_type": "code",
   "execution_count": 38,
   "metadata": {
    "collapsed": true
   },
   "outputs": [],
   "source": []
  },
  {
   "cell_type": "code",
   "execution_count": 40,
   "metadata": {
    "collapsed": false
   },
   "outputs": [],
   "source": [
    "stored_stat = fake_real_s1_wv_sigma(time_matrix, s1_waveforms)"
   ]
  },
  {
   "cell_type": "code",
   "execution_count": 46,
   "metadata": {
    "collapsed": false
   },
   "outputs": [
    {
     "data": {
      "image/png": "[encoded data removed]",
      "text/plain": [
       "<matplotlib.figure.Figure at 0x7efc6d687b00>"
      ]
     },
     "metadata": {},
     "output_type": "display_data"
    }
   ],
   "source": [
    "plt.plot(avg)\n",
    "plt.fill_between(avg - stored_stat, avg + stored_stat)\n",
    "plt.plot(stored_stat)\n",
    "plt.yscale('log')"
   ]
  },
  {
   "cell_type": "code",
   "execution_count": 31,
   "metadata": {
    "collapsed": true
   },
   "outputs": [],
   "source": [
    "# This is our model, now how well can we fit it?"
   ]
  },
  {
   "cell_type": "code",
   "execution_count": 47,
   "metadata": {
    "collapsed": true
   },
   "outputs": [],
   "source": [
    "p = merge_two_dicts(p_all, p_true)"
   ]
  },
  {
   "cell_type": "code",
   "execution_count": 48,
   "metadata": {
    "collapsed": false
   },
   "outputs": [],
   "source": [
    "p['n_photons'] = int(5e5)"
   ]
  },
  {
   "cell_type": "code",
   "execution_count": 49,
   "metadata": {
    "collapsed": true
   },
   "outputs": [],
   "source": []
  },
  {
   "cell_type": "code",
   "execution_count": 52,
   "metadata": {
    "collapsed": false
   },
   "outputs": [
    {
     "name": "stdout",
     "output_type": "stream",
     "text": [
      "gof=1.1943060360636026, fs=0.235, t1=0.5, t3=22.25, tts=2.125\n",
      "gof=1.1632981470520567, fs=0.235, t1=0.5, t3=22.25, tts=2.125\n",
      "gof=1.1442923436435235, fs=0.235, t1=0.5, t3=22.25, tts=2.125\n",
      "gof=1.1560519896698302, fs=0.235, t1=0.5, t3=22.25, tts=2.125\n",
      "gof=1.278532437748584, fs=0.235, t1=0.5, t3=22.25, tts=2.125\n"
     ]
    }
   ],
   "source": [
    "for i in range(5):\n",
    "    model, syst_err, spe_err = s1_models_error(**p)\n",
    "    chi2 = gof_manual(avg, model, syst_err, spe_err, stored_stat_value = stored_stat, **p)"
   ]
  },
  {
   "cell_type": "code",
   "execution_count": 54,
   "metadata": {
    "collapsed": true
   },
   "outputs": [],
   "source": []
  },
  {
   "cell_type": "code",
   "execution_count": 92,
   "metadata": {
    "collapsed": false
   },
   "outputs": [
    {
     "name": "stdout",
     "output_type": "stream",
     "text": [
      "Loaded 625 settings.\n"
     ]
    }
   ],
   "source": [
    "n_steps = 2\n",
    "variables = ['t3', 'fs',  't1', 'tts']\n",
    "step_sizes = [0.5 * parval for parval in [0.5,  0.01,  0.25,  0.25]] # WARNING WARNING set to low value\n",
    "mins = [p_true[variables[i]] - n_steps * step_sizes[i] for i in range(len(variables))]\n",
    "maxes= [p_true[variables[i]] + n_steps * step_sizes[i] for i in range(len(variables))]\n",
    "dicts = produce_settings_dicts(variables, mins, maxes, step_sizes, n_photons = int(5e5))"
   ]
  },
  {
   "cell_type": "code",
   "execution_count": 98,
   "metadata": {
    "collapsed": false
   },
   "outputs": [
    {
     "name": "stdout",
     "output_type": "stream",
     "text": [
      "gof=2.8206021905470453, fs=0.22499999999999998, t1=0.25, t3=21.75, tts=1.875\n",
      "gof=2.6087681091741626, fs=0.22499999999999998, t1=0.25, t3=21.75, tts=2.0\n",
      "gof=2.4510303674463647, fs=0.22499999999999998, t1=0.25, t3=21.75, tts=2.125\n",
      "gof=2.45478923955988, fs=0.22499999999999998, t1=0.25, t3=21.75, tts=2.25\n",
      "gof=2.7869780319196584, fs=0.22499999999999998, t1=0.25, t3=21.75, tts=2.375\n",
      "gof=2.7874912518326296, fs=0.22499999999999998, t1=0.375, t3=21.75, tts=1.875\n",
      "gof=2.49836897440707, fs=0.22499999999999998, t1=0.375, t3=21.75, tts=2.0\n",
      "gof=2.1471355708797777, fs=0.22499999999999998, t1=0.375, t3=21.75, tts=2.125\n",
      "gof=2.434740127399608, fs=0.22499999999999998, t1=0.375, t3=21.75, tts=2.25\n",
      "gof=2.6808611195211536, fs=0.22499999999999998, t1=0.375, t3=21.75, tts=2.375\n",
      "gof=2.6965756926713094, fs=0.22499999999999998, t1=0.5, t3=21.75, tts=1.875\n",
      "gof=2.315527601427055, fs=0.22499999999999998, t1=0.5, t3=21.75, tts=2.0\n",
      "gof=2.3280858323692692, fs=0.22499999999999998, t1=0.5, t3=21.75, tts=2.125\n",
      "gof=2.268772969160737, fs=0.22499999999999998, t1=0.5, t3=21.75, tts=2.25\n",
      "gof=2.4374630057535662, fs=0.22499999999999998, t1=0.5, t3=21.75, tts=2.375\n",
      "gof=2.6846580014570964, fs=0.22499999999999998, t1=0.625, t3=21.75, tts=1.875\n",
      "gof=2.3638248267429067, fs=0.22499999999999998, t1=0.625, t3=21.75, tts=2.0\n",
      "gof=2.2898120393706467, fs=0.22499999999999998, t1=0.625, t3=21.75, tts=2.125\n",
      "gof=2.2266314071097457, fs=0.22499999999999998, t1=0.625, t3=21.75, tts=2.25\n",
      "gof=2.32030179685534, fs=0.22499999999999998, t1=0.625, t3=21.75, tts=2.375\n",
      "gof=2.683453239285533, fs=0.22499999999999998, t1=0.75, t3=21.75, tts=1.875\n",
      "gof=2.5188248060686638, fs=0.22499999999999998, t1=0.75, t3=21.75, tts=2.0\n",
      "gof=2.134066037934856, fs=0.22499999999999998, t1=0.75, t3=21.75, tts=2.125\n",
      "gof=2.2633895161805326, fs=0.22499999999999998, t1=0.75, t3=21.75, tts=2.25\n",
      "gof=2.2694045916706895, fs=0.22499999999999998, t1=0.75, t3=21.75, tts=2.375\n",
      "gof=2.5222313242086427, fs=0.22499999999999998, t1=0.25, t3=22.0, tts=1.875\n",
      "gof=2.2365513866369198, fs=0.22499999999999998, t1=0.25, t3=22.0, tts=2.0\n",
      "gof=2.1865871104783388, fs=0.22499999999999998, t1=0.25, t3=22.0, tts=2.125\n",
      "gof=2.2496866368368034, fs=0.22499999999999998, t1=0.25, t3=22.0, tts=2.25\n",
      "gof=2.3598225652182814, fs=0.22499999999999998, t1=0.25, t3=22.0, tts=2.375\n",
      "gof=2.50370476721042, fs=0.22499999999999998, t1=0.375, t3=22.0, tts=1.875\n",
      "gof=2.1922644600886563, fs=0.22499999999999998, t1=0.375, t3=22.0, tts=2.0\n",
      "gof=2.075245962778488, fs=0.22499999999999998, t1=0.375, t3=22.0, tts=2.125\n",
      "gof=2.0636508683503014, fs=0.22499999999999998, t1=0.375, t3=22.0, tts=2.25\n",
      "gof=2.218018237795629, fs=0.22499999999999998, t1=0.375, t3=22.0, tts=2.375\n",
      "gof=2.472290318223794, fs=0.22499999999999998, t1=0.5, t3=22.0, tts=1.875\n",
      "gof=2.2669425875294382, fs=0.22499999999999998, t1=0.5, t3=22.0, tts=2.0\n",
      "gof=1.9879980847085776, fs=0.22499999999999998, t1=0.5, t3=22.0, tts=2.125\n",
      "gof=2.0147937012992574, fs=0.22499999999999998, t1=0.5, t3=22.0, tts=2.25\n",
      "gof=2.2620389814618322, fs=0.22499999999999998, t1=0.5, t3=22.0, tts=2.375\n",
      "gof=2.4142451855173905, fs=0.22499999999999998, t1=0.625, t3=22.0, tts=1.875\n",
      "gof=2.16536873739254, fs=0.22499999999999998, t1=0.625, t3=22.0, tts=2.0\n",
      "gof=2.028108678051305, fs=0.22499999999999998, t1=0.625, t3=22.0, tts=2.125\n",
      "gof=1.938883306136782, fs=0.22499999999999998, t1=0.625, t3=22.0, tts=2.25\n",
      "gof=1.9667771024054914, fs=0.22499999999999998, t1=0.625, t3=22.0, tts=2.375\n",
      "gof=2.420775169164162, fs=0.22499999999999998, t1=0.75, t3=22.0, tts=1.875\n",
      "gof=2.0751230885537146, fs=0.22499999999999998, t1=0.75, t3=22.0, tts=2.0\n",
      "gof=1.9211426002180507, fs=0.22499999999999998, t1=0.75, t3=22.0, tts=2.125\n",
      "gof=2.007381084596607, fs=0.22499999999999998, t1=0.75, t3=22.0, tts=2.25\n",
      "gof=2.1039126186229677, fs=0.22499999999999998, t1=0.75, t3=22.0, tts=2.375\n",
      "gof=2.3310506702679827, fs=0.22499999999999998, t1=0.25, t3=22.25, tts=1.875\n",
      "gof=2.103257080737963, fs=0.22499999999999998, t1=0.25, t3=22.25, tts=2.0\n",
      "gof=1.9366256814224092, fs=0.22499999999999998, t1=0.25, t3=22.25, tts=2.125\n",
      "gof=2.067088511836589, fs=0.22499999999999998, t1=0.25, t3=22.25, tts=2.25\n",
      "gof=2.265063667425127, fs=0.22499999999999998, t1=0.25, t3=22.25, tts=2.375\n",
      "gof=2.3477404531738677, fs=0.22499999999999998, t1=0.375, t3=22.25, tts=1.875\n",
      "gof=1.9377858596270974, fs=0.22499999999999998, t1=0.375, t3=22.25, tts=2.0\n",
      "gof=1.8857205675389703, fs=0.22499999999999998, t1=0.375, t3=22.25, tts=2.125\n",
      "gof=1.9804270328730784, fs=0.22499999999999998, t1=0.375, t3=22.25, tts=2.25\n",
      "gof=2.2174392934723035, fs=0.22499999999999998, t1=0.375, t3=22.25, tts=2.375\n",
      "gof=2.160858006479589, fs=0.22499999999999998, t1=0.5, t3=22.25, tts=1.875\n",
      "gof=1.9004464507623704, fs=0.22499999999999998, t1=0.5, t3=22.25, tts=2.0\n",
      "gof=1.8873408554840343, fs=0.22499999999999998, t1=0.5, t3=22.25, tts=2.125\n",
      "gof=1.9054992851009853, fs=0.22499999999999998, t1=0.5, t3=22.25, tts=2.25\n",
      "gof=1.949595333569522, fs=0.22499999999999998, t1=0.5, t3=22.25, tts=2.375\n",
      "gof=2.089442612643053, fs=0.22499999999999998, t1=0.625, t3=22.25, tts=1.875\n",
      "gof=1.8893383784173239, fs=0.22499999999999998, t1=0.625, t3=22.25, tts=2.0\n",
      "gof=1.7176133592125937, fs=0.22499999999999998, t1=0.625, t3=22.25, tts=2.125\n",
      "gof=1.8099349803660716, fs=0.22499999999999998, t1=0.625, t3=22.25, tts=2.25\n",
      "gof=1.9229785209287518, fs=0.22499999999999998, t1=0.625, t3=22.25, tts=2.375\n",
      "gof=2.280968904103591, fs=0.22499999999999998, t1=0.75, t3=22.25, tts=1.875\n",
      "gof=1.8185773776391934, fs=0.22499999999999998, t1=0.75, t3=22.25, tts=2.0\n",
      "gof=1.6643736221646537, fs=0.22499999999999998, t1=0.75, t3=22.25, tts=2.125\n",
      "gof=1.7988275876207473, fs=0.22499999999999998, t1=0.75, t3=22.25, tts=2.25\n",
      "gof=1.8628933629893105, fs=0.22499999999999998, t1=0.75, t3=22.25, tts=2.375\n",
      "gof=2.2585560940805025, fs=0.22499999999999998, t1=0.25, t3=22.5, tts=1.875\n",
      "gof=1.988098975528339, fs=0.22499999999999998, t1=0.25, t3=22.5, tts=2.0\n",
      "gof=1.9364753446074843, fs=0.22499999999999998, t1=0.25, t3=22.5, tts=2.125\n",
      "gof=2.110564838795358, fs=0.22499999999999998, t1=0.25, t3=22.5, tts=2.25\n",
      "gof=2.2010402784392142, fs=0.22499999999999998, t1=0.25, t3=22.5, tts=2.375\n",
      "gof=2.088362509077958, fs=0.22499999999999998, t1=0.375, t3=22.5, tts=1.875\n",
      "gof=1.8814193633601308, fs=0.22499999999999998, t1=0.375, t3=22.5, tts=2.0\n",
      "gof=1.6939414374917714, fs=0.22499999999999998, t1=0.375, t3=22.5, tts=2.125\n",
      "gof=1.8368653875390915, fs=0.22499999999999998, t1=0.375, t3=22.5, tts=2.25\n",
      "gof=2.0304915887831507, fs=0.22499999999999998, t1=0.375, t3=22.5, tts=2.375\n",
      "gof=2.002076961465383, fs=0.22499999999999998, t1=0.5, t3=22.5, tts=1.875\n",
      "gof=1.8150145291742592, fs=0.22499999999999998, t1=0.5, t3=22.5, tts=2.0\n",
      "gof=1.5446066077775005, fs=0.22499999999999998, t1=0.5, t3=22.5, tts=2.125\n",
      "gof=1.7118115782570495, fs=0.22499999999999998, t1=0.5, t3=22.5, tts=2.25\n",
      "gof=1.8920944236900434, fs=0.22499999999999998, t1=0.5, t3=22.5, tts=2.375\n",
      "gof=2.0005719351310036, fs=0.22499999999999998, t1=0.625, t3=22.5, tts=1.875\n",
      "gof=1.7726350340004284, fs=0.22499999999999998, t1=0.625, t3=22.5, tts=2.0\n",
      "gof=1.5961645325338423, fs=0.22499999999999998, t1=0.625, t3=22.5, tts=2.125\n",
      "gof=1.6471490789270975, fs=0.22499999999999998, t1=0.625, t3=22.5, tts=2.25\n",
      "gof=1.923339963642861, fs=0.22499999999999998, t1=0.625, t3=22.5, tts=2.375\n",
      "gof=1.984081897986881, fs=0.22499999999999998, t1=0.75, t3=22.5, tts=1.875\n",
      "gof=1.5988388660879649, fs=0.22499999999999998, t1=0.75, t3=22.5, tts=2.0\n",
      "gof=1.573067127363342, fs=0.22499999999999998, t1=0.75, t3=22.5, tts=2.125\n",
      "gof=1.5210138081879212, fs=0.22499999999999998, t1=0.75, t3=22.5, tts=2.25\n",
      "gof=1.7952934325032763, fs=0.22499999999999998, t1=0.75, t3=22.5, tts=2.375\n",
      "gof=2.1367551236466285, fs=0.22499999999999998, t1=0.25, t3=22.75, tts=1.875\n",
      "gof=1.934423836279788, fs=0.22499999999999998, t1=0.25, t3=22.75, tts=2.0\n",
      "gof=1.8335792627170542, fs=0.22499999999999998, t1=0.25, t3=22.75, tts=2.125\n",
      "gof=1.9200158602503676, fs=0.22499999999999998, t1=0.25, t3=22.75, tts=2.25\n",
      "gof=2.13215176570379, fs=0.22499999999999998, t1=0.25, t3=22.75, tts=2.375\n",
      "gof=2.0744643579002933, fs=0.22499999999999998, t1=0.375, t3=22.75, tts=1.875\n",
      "gof=1.6456881287371834, fs=0.22499999999999998, t1=0.375, t3=22.75, tts=2.0\n",
      "gof=1.7882887678779353, fs=0.22499999999999998, t1=0.375, t3=22.75, tts=2.125\n",
      "gof=1.930567843416443, fs=0.22499999999999998, t1=0.375, t3=22.75, tts=2.25\n",
      "gof=2.1501713750575946, fs=0.22499999999999998, t1=0.375, t3=22.75, tts=2.375\n",
      "gof=1.883397155836966, fs=0.22499999999999998, t1=0.5, t3=22.75, tts=1.875\n",
      "gof=1.7897109170102137, fs=0.22499999999999998, t1=0.5, t3=22.75, tts=2.0\n",
      "gof=1.645206728359574, fs=0.22499999999999998, t1=0.5, t3=22.75, tts=2.125\n",
      "gof=1.7232008557911944, fs=0.22499999999999998, t1=0.5, t3=22.75, tts=2.25\n",
      "gof=1.967570338179569, fs=0.22499999999999998, t1=0.5, t3=22.75, tts=2.375\n",
      "gof=1.979751843264194, fs=0.22499999999999998, t1=0.625, t3=22.75, tts=1.875\n",
      "gof=1.691412296336456, fs=0.22499999999999998, t1=0.625, t3=22.75, tts=2.0\n",
      "gof=1.4998860402203724, fs=0.22499999999999998, t1=0.625, t3=22.75, tts=2.125\n",
      "gof=1.5545009755765795, fs=0.22499999999999998, t1=0.625, t3=22.75, tts=2.25\n",
      "gof=1.792852413466283, fs=0.22499999999999998, t1=0.625, t3=22.75, tts=2.375\n",
      "gof=1.889296567143711, fs=0.22499999999999998, t1=0.75, t3=22.75, tts=1.875\n",
      "gof=1.5148851477919119, fs=0.22499999999999998, t1=0.75, t3=22.75, tts=2.0\n",
      "gof=1.2816395183392584, fs=0.22499999999999998, t1=0.75, t3=22.75, tts=2.125\n",
      "gof=1.4600139700029744, fs=0.22499999999999998, t1=0.75, t3=22.75, tts=2.25\n",
      "gof=1.646007940413764, fs=0.22499999999999998, t1=0.75, t3=22.75, tts=2.375\n",
      "gof=2.778419921820882, fs=0.22999999999999998, t1=0.25, t3=21.75, tts=1.875\n",
      "gof=2.4962131387557807, fs=0.22999999999999998, t1=0.25, t3=21.75, tts=2.0\n",
      "gof=2.367300320181766, fs=0.22999999999999998, t1=0.25, t3=21.75, tts=2.125\n",
      "gof=2.372521406776479, fs=0.22999999999999998, t1=0.25, t3=21.75, tts=2.25\n",
      "gof=2.373279744438827, fs=0.22999999999999998, t1=0.25, t3=21.75, tts=2.375\n",
      "gof=2.844759193726435, fs=0.22999999999999998, t1=0.375, t3=21.75, tts=1.875\n",
      "gof=2.419456559844486, fs=0.22999999999999998, t1=0.375, t3=21.75, tts=2.0\n",
      "gof=2.151545277766802, fs=0.22999999999999998, t1=0.375, t3=21.75, tts=2.125\n",
      "gof=2.2622675102372747, fs=0.22999999999999998, t1=0.375, t3=21.75, tts=2.25\n",
      "gof=2.4406654735310354, fs=0.22999999999999998, t1=0.375, t3=21.75, tts=2.375\n",
      "gof=2.785065003696364, fs=0.22999999999999998, t1=0.5, t3=21.75, tts=1.875\n",
      "gof=2.389343417044397, fs=0.22999999999999998, t1=0.5, t3=21.75, tts=2.0\n",
      "gof=2.291439000502767, fs=0.22999999999999998, t1=0.5, t3=21.75, tts=2.125\n",
      "gof=2.3473467540957205, fs=0.22999999999999998, t1=0.5, t3=21.75, tts=2.25\n",
      "gof=2.228949800984178, fs=0.22999999999999998, t1=0.5, t3=21.75, tts=2.375\n",
      "gof=2.778586192097165, fs=0.22999999999999998, t1=0.625, t3=21.75, tts=1.875\n",
      "gof=2.542179268692548, fs=0.22999999999999998, t1=0.625, t3=21.75, tts=2.0\n",
      "gof=2.077848780365173, fs=0.22999999999999998, t1=0.625, t3=21.75, tts=2.125\n",
      "gof=2.141020241266178, fs=0.22999999999999998, t1=0.625, t3=21.75, tts=2.25\n",
      "gof=2.240514481482385, fs=0.22999999999999998, t1=0.625, t3=21.75, tts=2.375\n",
      "gof=2.7907293767157935, fs=0.22999999999999998, t1=0.75, t3=21.75, tts=1.875\n",
      "gof=2.414103835973406, fs=0.22999999999999998, t1=0.75, t3=21.75, tts=2.0\n",
      "gof=2.232589923818491, fs=0.22999999999999998, t1=0.75, t3=21.75, tts=2.125\n",
      "gof=2.0502941419359537, fs=0.22999999999999998, t1=0.75, t3=21.75, tts=2.25\n",
      "gof=2.30853580382841, fs=0.22999999999999998, t1=0.75, t3=21.75, tts=2.375\n",
      "gof=2.65852568366245, fs=0.22999999999999998, t1=0.25, t3=22.0, tts=1.875\n",
      "gof=2.203325928194161, fs=0.22999999999999998, t1=0.25, t3=22.0, tts=2.0\n",
      "gof=2.1951543060989995, fs=0.22999999999999998, t1=0.25, t3=22.0, tts=2.125\n",
      "gof=1.9666484104161275, fs=0.22999999999999998, t1=0.25, t3=22.0, tts=2.25\n",
      "gof=2.2684055688625904, fs=0.22999999999999998, t1=0.25, t3=22.0, tts=2.375\n",
      "gof=2.601557526777201, fs=0.22999999999999998, t1=0.375, t3=22.0, tts=1.875\n",
      "gof=2.1993091273499874, fs=0.22999999999999998, t1=0.375, t3=22.0, tts=2.0\n",
      "gof=1.9856924964202671, fs=0.22999999999999998, t1=0.375, t3=22.0, tts=2.125\n",
      "gof=1.9611917998911252, fs=0.22999999999999998, t1=0.375, t3=22.0, tts=2.25\n",
      "gof=1.9976904337719792, fs=0.22999999999999998, t1=0.375, t3=22.0, tts=2.375\n",
      "gof=2.677800780556751, fs=0.22999999999999998, t1=0.5, t3=22.0, tts=1.875\n",
      "gof=2.128698368683426, fs=0.22999999999999998, t1=0.5, t3=22.0, tts=2.0\n",
      "gof=1.9082558215718413, fs=0.22999999999999998, t1=0.5, t3=22.0, tts=2.125\n",
      "gof=1.9057359918174537, fs=0.22999999999999998, t1=0.5, t3=22.0, tts=2.25\n",
      "gof=2.0197378659234957, fs=0.22999999999999998, t1=0.5, t3=22.0, tts=2.375\n",
      "gof=2.4571396274662454, fs=0.22999999999999998, t1=0.625, t3=22.0, tts=1.875\n",
      "gof=2.045960328897111, fs=0.22999999999999998, t1=0.625, t3=22.0, tts=2.0\n",
      "gof=1.873681202351815, fs=0.22999999999999998, t1=0.625, t3=22.0, tts=2.125\n",
      "gof=1.7845303358888178, fs=0.22999999999999998, t1=0.625, t3=22.0, tts=2.25\n",
      "gof=2.098682035816029, fs=0.22999999999999998, t1=0.625, t3=22.0, tts=2.375\n",
      "gof=2.5140297803798655, fs=0.22999999999999998, t1=0.75, t3=22.0, tts=1.875\n",
      "gof=2.096357933521549, fs=0.22999999999999998, t1=0.75, t3=22.0, tts=2.0\n",
      "gof=1.8659030832923584, fs=0.22999999999999998, t1=0.75, t3=22.0, tts=2.125\n",
      "gof=1.7757710621665155, fs=0.22999999999999998, t1=0.75, t3=22.0, tts=2.25\n",
      "gof=1.9656397049253598, fs=0.22999999999999998, t1=0.75, t3=22.0, tts=2.375\n",
      "gof=2.3356806341028036, fs=0.22999999999999998, t1=0.25, t3=22.25, tts=1.875\n",
      "gof=2.117127830809715, fs=0.22999999999999998, t1=0.25, t3=22.25, tts=2.0\n",
      "gof=1.8618161364108905, fs=0.22999999999999998, t1=0.25, t3=22.25, tts=2.125\n",
      "gof=1.9390953031047435, fs=0.22999999999999998, t1=0.25, t3=22.25, tts=2.25\n",
      "gof=1.98999154646657, fs=0.22999999999999998, t1=0.25, t3=22.25, tts=2.375\n",
      "gof=2.4423308073362304, fs=0.22999999999999998, t1=0.375, t3=22.25, tts=1.875\n",
      "gof=1.9031802525622117, fs=0.22999999999999998, t1=0.375, t3=22.25, tts=2.0\n",
      "gof=1.8327018824140746, fs=0.22999999999999998, t1=0.375, t3=22.25, tts=2.125\n",
      "gof=1.9364387993973353, fs=0.22999999999999998, t1=0.375, t3=22.25, tts=2.25\n",
      "gof=2.0354218490072387, fs=0.22999999999999998, t1=0.375, t3=22.25, tts=2.375\n",
      "gof=2.292149199666543, fs=0.22999999999999998, t1=0.5, t3=22.25, tts=1.875\n",
      "gof=1.9144981332323392, fs=0.22999999999999998, t1=0.5, t3=22.25, tts=2.0\n",
      "gof=1.7096543853969506, fs=0.22999999999999998, t1=0.5, t3=22.25, tts=2.125\n",
      "gof=1.715612390997705, fs=0.22999999999999998, t1=0.5, t3=22.25, tts=2.25\n",
      "gof=1.9066895771435333, fs=0.22999999999999998, t1=0.5, t3=22.25, tts=2.375\n",
      "gof=2.2266367681181314, fs=0.22999999999999998, t1=0.625, t3=22.25, tts=1.875\n",
      "gof=1.8985386954876233, fs=0.22999999999999998, t1=0.625, t3=22.25, tts=2.0\n",
      "gof=1.7254581422046582, fs=0.22999999999999998, t1=0.625, t3=22.25, tts=2.125\n",
      "gof=1.6163329717411559, fs=0.22999999999999998, t1=0.625, t3=22.25, tts=2.25\n",
      "gof=1.789046284998398, fs=0.22999999999999998, t1=0.625, t3=22.25, tts=2.375\n",
      "gof=2.1739483309767027, fs=0.22999999999999998, t1=0.75, t3=22.25, tts=1.875\n",
      "gof=1.9365860330553195, fs=0.22999999999999998, t1=0.75, t3=22.25, tts=2.0\n",
      "gof=1.6056861147154229, fs=0.22999999999999998, t1=0.75, t3=22.25, tts=2.125\n",
      "gof=1.5569724883198668, fs=0.22999999999999998, t1=0.75, t3=22.25, tts=2.25\n",
      "gof=1.7201274037769312, fs=0.22999999999999998, t1=0.75, t3=22.25, tts=2.375\n",
      "gof=2.3229457391987807, fs=0.22999999999999998, t1=0.25, t3=22.5, tts=1.875\n",
      "gof=1.8604867145517545, fs=0.22999999999999998, t1=0.25, t3=22.5, tts=2.0\n",
      "gof=1.8354353546297502, fs=0.22999999999999998, t1=0.25, t3=22.5, tts=2.125\n",
      "gof=1.7775093132800304, fs=0.22999999999999998, t1=0.25, t3=22.5, tts=2.25\n",
      "gof=1.9871135049418573, fs=0.22999999999999998, t1=0.25, t3=22.5, tts=2.375\n",
      "gof=2.129941225823718, fs=0.22999999999999998, t1=0.375, t3=22.5, tts=1.875\n",
      "gof=1.8001696767712776, fs=0.22999999999999998, t1=0.375, t3=22.5, tts=2.0\n",
      "gof=1.6557565698533179, fs=0.22999999999999998, t1=0.375, t3=22.5, tts=2.125\n",
      "gof=1.7180397280840256, fs=0.22999999999999998, t1=0.375, t3=22.5, tts=2.25\n",
      "gof=1.8476210053737936, fs=0.22999999999999998, t1=0.375, t3=22.5, tts=2.375\n",
      "gof=2.037780635839478, fs=0.22999999999999998, t1=0.5, t3=22.5, tts=1.875\n",
      "gof=1.8166633342792926, fs=0.22999999999999998, t1=0.5, t3=22.5, tts=2.0\n",
      "gof=1.5741927521782062, fs=0.22999999999999998, t1=0.5, t3=22.5, tts=2.125\n",
      "gof=1.4987210820071832, fs=0.22999999999999998, t1=0.5, t3=22.5, tts=2.25\n",
      "gof=1.863453052467713, fs=0.22999999999999998, t1=0.5, t3=22.5, tts=2.375\n",
      "gof=2.0416403718944554, fs=0.22999999999999998, t1=0.625, t3=22.5, tts=1.875\n",
      "gof=1.6802705519588608, fs=0.22999999999999998, t1=0.625, t3=22.5, tts=2.0\n",
      "gof=1.5501654678951344, fs=0.22999999999999998, t1=0.625, t3=22.5, tts=2.125\n",
      "gof=1.4552260619435513, fs=0.22999999999999998, t1=0.625, t3=22.5, tts=2.25\n",
      "gof=1.565930250578372, fs=0.22999999999999998, t1=0.625, t3=22.5, tts=2.375\n",
      "gof=2.032795382072773, fs=0.22999999999999998, t1=0.75, t3=22.5, tts=1.875\n",
      "gof=1.621581766195562, fs=0.22999999999999998, t1=0.75, t3=22.5, tts=2.0\n",
      "gof=1.4965656229483986, fs=0.22999999999999998, t1=0.75, t3=22.5, tts=2.125\n",
      "gof=1.4114224551483276, fs=0.22999999999999998, t1=0.75, t3=22.5, tts=2.25\n",
      "gof=1.5076883801746859, fs=0.22999999999999998, t1=0.75, t3=22.5, tts=2.375\n",
      "gof=2.2444299525873403, fs=0.22999999999999998, t1=0.25, t3=22.75, tts=1.875\n",
      "gof=1.9077333043151916, fs=0.22999999999999998, t1=0.25, t3=22.75, tts=2.0\n",
      "gof=1.6927777520820317, fs=0.22999999999999998, t1=0.25, t3=22.75, tts=2.125\n",
      "gof=1.6972257128069497, fs=0.22999999999999998, t1=0.25, t3=22.75, tts=2.25\n",
      "gof=2.0442077005670174, fs=0.22999999999999998, t1=0.25, t3=22.75, tts=2.375\n",
      "gof=2.1083837398211585, fs=0.22999999999999998, t1=0.375, t3=22.75, tts=1.875\n",
      "gof=1.7439947699878406, fs=0.22999999999999998, t1=0.375, t3=22.75, tts=2.0\n",
      "gof=1.688460311790969, fs=0.22999999999999998, t1=0.375, t3=22.75, tts=2.125\n",
      "gof=1.4521561479524805, fs=0.22999999999999998, t1=0.375, t3=22.75, tts=2.25\n",
      "gof=1.9118537147210453, fs=0.22999999999999998, t1=0.375, t3=22.75, tts=2.375\n",
      "gof=1.9840536390982388, fs=0.22999999999999998, t1=0.5, t3=22.75, tts=1.875\n",
      "gof=1.8532781443214867, fs=0.22999999999999998, t1=0.5, t3=22.75, tts=2.0\n",
      "gof=1.4042355054684004, fs=0.22999999999999998, t1=0.5, t3=22.75, tts=2.125\n",
      "gof=1.441839711875102, fs=0.22999999999999998, t1=0.5, t3=22.75, tts=2.25\n",
      "gof=1.6919538179290359, fs=0.22999999999999998, t1=0.5, t3=22.75, tts=2.375\n",
      "gof=1.9221995174706814, fs=0.22999999999999998, t1=0.625, t3=22.75, tts=1.875\n",
      "gof=1.5222240742146278, fs=0.22999999999999998, t1=0.625, t3=22.75, tts=2.0\n",
      "gof=1.4265595298437426, fs=0.22999999999999998, t1=0.625, t3=22.75, tts=2.125\n",
      "gof=1.4322983506856823, fs=0.22999999999999998, t1=0.625, t3=22.75, tts=2.25\n",
      "gof=1.563667032809953, fs=0.22999999999999998, t1=0.625, t3=22.75, tts=2.375\n",
      "gof=1.747487313311142, fs=0.22999999999999998, t1=0.75, t3=22.75, tts=1.875\n",
      "gof=1.495759121759021, fs=0.22999999999999998, t1=0.75, t3=22.75, tts=2.0\n",
      "gof=1.224945520914154, fs=0.22999999999999998, t1=0.75, t3=22.75, tts=2.125\n",
      "gof=1.4098592127095257, fs=0.22999999999999998, t1=0.75, t3=22.75, tts=2.25\n",
      "gof=1.445975229860578, fs=0.22999999999999998, t1=0.75, t3=22.75, tts=2.375\n",
      "gof=2.9496478375976425, fs=0.235, t1=0.25, t3=21.75, tts=1.875\n",
      "gof=2.557415423954275, fs=0.235, t1=0.25, t3=21.75, tts=2.0\n",
      "gof=2.263039022951877, fs=0.235, t1=0.25, t3=21.75, tts=2.125\n",
      "gof=2.218558371456737, fs=0.235, t1=0.25, t3=21.75, tts=2.25\n",
      "gof=2.31618754779862, fs=0.235, t1=0.25, t3=21.75, tts=2.375\n",
      "gof=2.943587976704926, fs=0.235, t1=0.375, t3=21.75, tts=1.875\n",
      "gof=2.577607862006931, fs=0.235, t1=0.375, t3=21.75, tts=2.0\n",
      "gof=2.131525377501586, fs=0.235, t1=0.375, t3=21.75, tts=2.125\n",
      "gof=2.195702463320883, fs=0.235, t1=0.375, t3=21.75, tts=2.25\n",
      "gof=2.322812278618721, fs=0.235, t1=0.375, t3=21.75, tts=2.375\n",
      "gof=3.020987877814166, fs=0.235, t1=0.5, t3=21.75, tts=1.875\n",
      "gof=2.605972059142098, fs=0.235, t1=0.5, t3=21.75, tts=2.0\n",
      "gof=2.305265518086278, fs=0.235, t1=0.5, t3=21.75, tts=2.125\n",
      "gof=2.0998285691091056, fs=0.235, t1=0.5, t3=21.75, tts=2.25\n",
      "gof=2.1170739529269618, fs=0.235, t1=0.5, t3=21.75, tts=2.375\n",
      "gof=3.029390947711451, fs=0.235, t1=0.625, t3=21.75, tts=1.875\n",
      "gof=2.6409110955456545, fs=0.235, t1=0.625, t3=21.75, tts=2.0\n",
      "gof=2.156831906866056, fs=0.235, t1=0.625, t3=21.75, tts=2.125\n",
      "gof=2.08383625426389, fs=0.235, t1=0.625, t3=21.75, tts=2.25\n",
      "gof=2.092870732765111, fs=0.235, t1=0.625, t3=21.75, tts=2.375\n",
      "gof=3.008284088572135, fs=0.235, t1=0.75, t3=21.75, tts=1.875\n",
      "gof=2.4950868967132935, fs=0.235, t1=0.75, t3=21.75, tts=2.0\n",
      "gof=2.381192214905163, fs=0.235, t1=0.75, t3=21.75, tts=2.125\n",
      "gof=2.0500842949905547, fs=0.235, t1=0.75, t3=21.75, tts=2.25\n",
      "gof=1.9947613415064136, fs=0.235, t1=0.75, t3=21.75, tts=2.375\n",
      "gof=2.640006812829413, fs=0.235, t1=0.25, t3=22.0, tts=1.875\n",
      "gof=2.150440366461605, fs=0.235, t1=0.25, t3=22.0, tts=2.0\n",
      "gof=2.0183932874083514, fs=0.235, t1=0.25, t3=22.0, tts=2.125\n",
      "gof=2.046208255860778, fs=0.235, t1=0.25, t3=22.0, tts=2.25\n",
      "gof=2.161242738276971, fs=0.235, t1=0.25, t3=22.0, tts=2.375\n",
      "gof=2.633528536885477, fs=0.235, t1=0.375, t3=22.0, tts=1.875\n",
      "gof=2.208035197073872, fs=0.235, t1=0.375, t3=22.0, tts=2.0\n",
      "gof=1.9195066922776371, fs=0.235, t1=0.375, t3=22.0, tts=2.125\n",
      "gof=1.8529428974759394, fs=0.235, t1=0.375, t3=22.0, tts=2.25\n",
      "gof=2.098045711867019, fs=0.235, t1=0.375, t3=22.0, tts=2.375\n",
      "gof=2.702778550579517, fs=0.235, t1=0.5, t3=22.0, tts=1.875\n",
      "gof=2.184403625838862, fs=0.235, t1=0.5, t3=22.0, tts=2.0\n",
      "gof=2.0151588416396327, fs=0.235, t1=0.5, t3=22.0, tts=2.125\n",
      "gof=1.84060002935008, fs=0.235, t1=0.5, t3=22.0, tts=2.25\n",
      "gof=2.055727226060687, fs=0.235, t1=0.5, t3=22.0, tts=2.375\n",
      "gof=2.630897664714027, fs=0.235, t1=0.625, t3=22.0, tts=1.875\n",
      "gof=2.3184101901644816, fs=0.235, t1=0.625, t3=22.0, tts=2.0\n",
      "gof=1.9953477207110135, fs=0.235, t1=0.625, t3=22.0, tts=2.125\n",
      "gof=1.6774618471792777, fs=0.235, t1=0.625, t3=22.0, tts=2.25\n",
      "gof=1.8917201090221398, fs=0.235, t1=0.625, t3=22.0, tts=2.375\n",
      "gof=2.6203177642899123, fs=0.235, t1=0.75, t3=22.0, tts=1.875\n",
      "gof=2.1888646030395815, fs=0.235, t1=0.75, t3=22.0, tts=2.0\n",
      "gof=1.9926984373282834, fs=0.235, t1=0.75, t3=22.0, tts=2.125\n",
      "gof=1.870440315482957, fs=0.235, t1=0.75, t3=22.0, tts=2.25\n",
      "gof=1.8297264855155804, fs=0.235, t1=0.75, t3=22.0, tts=2.375\n",
      "gof=2.478216661496502, fs=0.235, t1=0.25, t3=22.25, tts=1.875\n",
      "gof=2.0586254083944797, fs=0.235, t1=0.25, t3=22.25, tts=2.0\n",
      "gof=1.7863613560428602, fs=0.235, t1=0.25, t3=22.25, tts=2.125\n",
      "gof=1.8205707031311673, fs=0.235, t1=0.25, t3=22.25, tts=2.25\n",
      "gof=1.7535826792826725, fs=0.235, t1=0.25, t3=22.25, tts=2.375\n",
      "gof=2.3982220605064044, fs=0.235, t1=0.375, t3=22.25, tts=1.875\n",
      "gof=2.09218920278461, fs=0.235, t1=0.375, t3=22.25, tts=2.0\n",
      "gof=1.8210984766988363, fs=0.235, t1=0.375, t3=22.25, tts=2.125\n",
      "gof=1.6799951373739785, fs=0.235, t1=0.375, t3=22.25, tts=2.25\n",
      "gof=1.9249831160726998, fs=0.235, t1=0.375, t3=22.25, tts=2.375\n",
      "gof=2.301331594064463, fs=0.235, t1=0.5, t3=22.25, tts=1.875\n",
      "gof=2.0036161306798745, fs=0.235, t1=0.5, t3=22.25, tts=2.0\n",
      "gof=1.6869569452563036, fs=0.235, t1=0.5, t3=22.25, tts=2.125\n",
      "gof=1.5324389367630398, fs=0.235, t1=0.5, t3=22.25, tts=2.25\n",
      "gof=1.702204193698138, fs=0.235, t1=0.5, t3=22.25, tts=2.375\n",
      "gof=2.3420614437780567, fs=0.235, t1=0.625, t3=22.25, tts=1.875\n",
      "gof=1.8341278436359227, fs=0.235, t1=0.625, t3=22.25, tts=2.0\n",
      "gof=1.7261268225799358, fs=0.235, t1=0.625, t3=22.25, tts=2.125\n",
      "gof=1.6754223835160342, fs=0.235, t1=0.625, t3=22.25, tts=2.25\n",
      "gof=1.5539479213828185, fs=0.235, t1=0.625, t3=22.25, tts=2.375\n",
      "gof=2.2964055005871993, fs=0.235, t1=0.75, t3=22.25, tts=1.875\n",
      "gof=1.924924785056905, fs=0.235, t1=0.75, t3=22.25, tts=2.0\n",
      "gof=1.5869402025852595, fs=0.235, t1=0.75, t3=22.25, tts=2.125\n",
      "gof=1.520601753557309, fs=0.235, t1=0.75, t3=22.25, tts=2.25\n",
      "gof=1.5912603684349058, fs=0.235, t1=0.75, t3=22.25, tts=2.375\n",
      "gof=2.1976950500745134, fs=0.235, t1=0.25, t3=22.5, tts=1.875\n",
      "gof=1.957994285756734, fs=0.235, t1=0.25, t3=22.5, tts=2.0\n",
      "gof=1.7547211612547893, fs=0.235, t1=0.25, t3=22.5, tts=2.125\n",
      "gof=1.7111166943212957, fs=0.235, t1=0.25, t3=22.5, tts=2.25\n",
      "gof=1.7141787155193031, fs=0.235, t1=0.25, t3=22.5, tts=2.375\n",
      "gof=2.323907393456688, fs=0.235, t1=0.375, t3=22.5, tts=1.875\n",
      "gof=1.7681729822672645, fs=0.235, t1=0.375, t3=22.5, tts=2.0\n",
      "gof=1.5973266300739941, fs=0.235, t1=0.375, t3=22.5, tts=2.125\n",
      "gof=1.481999829653415, fs=0.235, t1=0.375, t3=22.5, tts=2.25\n",
      "gof=1.7360406616798356, fs=0.235, t1=0.375, t3=22.5, tts=2.375\n",
      "gof=2.177571822264031, fs=0.235, t1=0.5, t3=22.5, tts=1.875\n",
      "gof=1.870087207605232, fs=0.235, t1=0.5, t3=22.5, tts=2.0\n",
      "gof=1.5944418803151408, fs=0.235, t1=0.5, t3=22.5, tts=2.125\n",
      "gof=1.46545365965959, fs=0.235, t1=0.5, t3=22.5, tts=2.25\n",
      "gof=1.5835621651107739, fs=0.235, t1=0.5, t3=22.5, tts=2.375\n",
      "gof=2.08892805265421, fs=0.235, t1=0.625, t3=22.5, tts=1.875\n",
      "gof=1.6641330725511196, fs=0.235, t1=0.625, t3=22.5, tts=2.0\n",
      "gof=1.490170969994881, fs=0.235, t1=0.625, t3=22.5, tts=2.125\n",
      "gof=1.4395693884140863, fs=0.235, t1=0.625, t3=22.5, tts=2.25\n",
      "gof=1.5754636680429654, fs=0.235, t1=0.625, t3=22.5, tts=2.375\n",
      "gof=2.049057333911443, fs=0.235, t1=0.75, t3=22.5, tts=1.875\n",
      "gof=1.5645159955614638, fs=0.235, t1=0.75, t3=22.5, tts=2.0\n",
      "gof=1.397486364308764, fs=0.235, t1=0.75, t3=22.5, tts=2.125\n",
      "gof=1.366579826915035, fs=0.235, t1=0.75, t3=22.5, tts=2.25\n",
      "gof=1.3689368295057291, fs=0.235, t1=0.75, t3=22.5, tts=2.375\n",
      "gof=2.1456503160811384, fs=0.235, t1=0.25, t3=22.75, tts=1.875\n",
      "gof=1.6930249825612385, fs=0.235, t1=0.25, t3=22.75, tts=2.0\n",
      "gof=1.6376885971393647, fs=0.235, t1=0.25, t3=22.75, tts=2.125\n",
      "gof=1.614388453671469, fs=0.235, t1=0.25, t3=22.75, tts=2.25\n",
      "gof=1.842985966755364, fs=0.235, t1=0.25, t3=22.75, tts=2.375\n",
      "gof=2.100033242847765, fs=0.235, t1=0.375, t3=22.75, tts=1.875\n",
      "gof=1.7310663680660523, fs=0.235, t1=0.375, t3=22.75, tts=2.0\n",
      "gof=1.4720872469571424, fs=0.235, t1=0.375, t3=22.75, tts=2.125\n",
      "gof=1.4151959667424232, fs=0.235, t1=0.375, t3=22.75, tts=2.25\n",
      "gof=1.6491933923678892, fs=0.235, t1=0.375, t3=22.75, tts=2.375\n",
      "gof=2.120990139995505, fs=0.235, t1=0.5, t3=22.75, tts=1.875\n",
      "gof=1.613718622104982, fs=0.235, t1=0.5, t3=22.75, tts=2.0\n",
      "gof=1.4754714988922653, fs=0.235, t1=0.5, t3=22.75, tts=2.125\n",
      "gof=1.243897527365074, fs=0.235, t1=0.5, t3=22.75, tts=2.25\n",
      "gof=1.449509141910099, fs=0.235, t1=0.5, t3=22.75, tts=2.375\n",
      "gof=1.8470894946968808, fs=0.235, t1=0.625, t3=22.75, tts=1.875\n",
      "gof=1.5490497159986243, fs=0.235, t1=0.625, t3=22.75, tts=2.0\n",
      "gof=1.1953568048402825, fs=0.235, t1=0.625, t3=22.75, tts=2.125\n",
      "gof=1.294146732075394, fs=0.235, t1=0.625, t3=22.75, tts=2.25\n",
      "gof=1.4468673537914425, fs=0.235, t1=0.625, t3=22.75, tts=2.375\n",
      "gof=1.8641742086249184, fs=0.235, t1=0.75, t3=22.75, tts=1.875\n",
      "gof=1.4157724310729065, fs=0.235, t1=0.75, t3=22.75, tts=2.0\n",
      "gof=1.2029649357917387, fs=0.235, t1=0.75, t3=22.75, tts=2.125\n",
      "gof=1.3291631857810888, fs=0.235, t1=0.75, t3=22.75, tts=2.25\n",
      "gof=1.2780606512158956, fs=0.235, t1=0.75, t3=22.75, tts=2.375\n",
      "gof=2.9967801069870523, fs=0.24, t1=0.25, t3=21.75, tts=1.875\n",
      "gof=2.500008256218405, fs=0.24, t1=0.25, t3=21.75, tts=2.0\n",
      "gof=2.319162731857739, fs=0.24, t1=0.25, t3=21.75, tts=2.125\n",
      "gof=2.0161848601063674, fs=0.24, t1=0.25, t3=21.75, tts=2.25\n",
      "gof=2.2111836056746608, fs=0.24, t1=0.25, t3=21.75, tts=2.375\n",
      "gof=2.985627808552066, fs=0.24, t1=0.375, t3=21.75, tts=1.875\n",
      "gof=2.7344404744483017, fs=0.24, t1=0.375, t3=21.75, tts=2.0\n",
      "gof=2.212116526624298, fs=0.24, t1=0.375, t3=21.75, tts=2.125\n",
      "gof=2.0736780413409015, fs=0.24, t1=0.375, t3=21.75, tts=2.25\n",
      "gof=2.082263556313749, fs=0.24, t1=0.375, t3=21.75, tts=2.375\n",
      "gof=3.2516091113262267, fs=0.24, t1=0.5, t3=21.75, tts=1.875\n",
      "gof=2.6333441876726336, fs=0.24, t1=0.5, t3=21.75, tts=2.0\n",
      "gof=2.1550372248404366, fs=0.24, t1=0.5, t3=21.75, tts=2.125\n",
      "gof=1.9387816207916908, fs=0.24, t1=0.5, t3=21.75, tts=2.25\n",
      "gof=2.0441618012633813, fs=0.24, t1=0.5, t3=21.75, tts=2.375\n",
      "gof=3.176262793106884, fs=0.24, t1=0.625, t3=21.75, tts=1.875\n",
      "gof=2.6513938178338425, fs=0.24, t1=0.625, t3=21.75, tts=2.0\n",
      "gof=2.422877143943446, fs=0.24, t1=0.625, t3=21.75, tts=2.125\n",
      "gof=2.19983217815193, fs=0.24, t1=0.625, t3=21.75, tts=2.25\n",
      "gof=2.243422357066641, fs=0.24, t1=0.625, t3=21.75, tts=2.375\n",
      "gof=3.1849737278752004, fs=0.24, t1=0.75, t3=21.75, tts=1.875\n",
      "gof=2.620090787937782, fs=0.24, t1=0.75, t3=21.75, tts=2.0\n",
      "gof=2.488287179535338, fs=0.24, t1=0.75, t3=21.75, tts=2.125\n",
      "gof=2.118548485672825, fs=0.24, t1=0.75, t3=21.75, tts=2.25\n",
      "gof=2.263939774172539, fs=0.24, t1=0.75, t3=21.75, tts=2.375\n",
      "gof=2.814114547420713, fs=0.24, t1=0.25, t3=22.0, tts=1.875\n",
      "gof=2.3322862432979736, fs=0.24, t1=0.25, t3=22.0, tts=2.0\n",
      "gof=1.975841560901148, fs=0.24, t1=0.25, t3=22.0, tts=2.125\n",
      "gof=1.975266143347387, fs=0.24, t1=0.25, t3=22.0, tts=2.25\n",
      "gof=1.921564852123214, fs=0.24, t1=0.25, t3=22.0, tts=2.375\n",
      "gof=2.9959993110241636, fs=0.24, t1=0.375, t3=22.0, tts=1.875\n",
      "gof=2.225517696094136, fs=0.24, t1=0.375, t3=22.0, tts=2.0\n",
      "gof=1.9742811715948108, fs=0.24, t1=0.375, t3=22.0, tts=2.125\n",
      "gof=1.8433849106132865, fs=0.24, t1=0.375, t3=22.0, tts=2.25\n",
      "gof=1.9671783120220308, fs=0.24, t1=0.375, t3=22.0, tts=2.375\n",
      "gof=2.8858245473412283, fs=0.24, t1=0.5, t3=22.0, tts=1.875\n",
      "gof=2.175621859404419, fs=0.24, t1=0.5, t3=22.0, tts=2.0\n",
      "gof=1.9762820651453945, fs=0.24, t1=0.5, t3=22.0, tts=2.125\n",
      "gof=1.7862933185079166, fs=0.24, t1=0.5, t3=22.0, tts=2.25\n",
      "gof=1.998946993903635, fs=0.24, t1=0.5, t3=22.0, tts=2.375\n",
      "gof=2.75858984197936, fs=0.24, t1=0.625, t3=22.0, tts=1.875\n",
      "gof=2.1838902593657687, fs=0.24, t1=0.625, t3=22.0, tts=2.0\n",
      "gof=1.9182896522801605, fs=0.24, t1=0.625, t3=22.0, tts=2.125\n",
      "gof=1.8026659173300523, fs=0.24, t1=0.625, t3=22.0, tts=2.25\n",
      "gof=1.8006518360663701, fs=0.24, t1=0.625, t3=22.0, tts=2.375\n",
      "gof=2.7571573121956274, fs=0.24, t1=0.75, t3=22.0, tts=1.875\n",
      "gof=2.3594869078068106, fs=0.24, t1=0.75, t3=22.0, tts=2.0\n",
      "gof=2.1667630658605037, fs=0.24, t1=0.75, t3=22.0, tts=2.125\n",
      "gof=1.7469102614686256, fs=0.24, t1=0.75, t3=22.0, tts=2.25\n",
      "gof=1.8751758994238563, fs=0.24, t1=0.75, t3=22.0, tts=2.375\n",
      "gof=2.4237008806695526, fs=0.24, t1=0.25, t3=22.25, tts=1.875\n",
      "gof=2.045557017695065, fs=0.24, t1=0.25, t3=22.25, tts=2.0\n",
      "gof=1.7900898875378968, fs=0.24, t1=0.25, t3=22.25, tts=2.125\n",
      "gof=1.5639703644924734, fs=0.24, t1=0.25, t3=22.25, tts=2.25\n",
      "gof=1.7022215595538885, fs=0.24, t1=0.25, t3=22.25, tts=2.375\n",
      "gof=2.5448208376636976, fs=0.24, t1=0.375, t3=22.25, tts=1.875\n",
      "gof=1.968422739548187, fs=0.24, t1=0.375, t3=22.25, tts=2.0\n",
      "gof=1.7158311397700714, fs=0.24, t1=0.375, t3=22.25, tts=2.125\n",
      "gof=1.5517210013246907, fs=0.24, t1=0.375, t3=22.25, tts=2.25\n",
      "gof=1.6071916119056557, fs=0.24, t1=0.375, t3=22.25, tts=2.375\n",
      "gof=2.4503996345447145, fs=0.24, t1=0.5, t3=22.25, tts=1.875\n",
      "gof=2.075452996171287, fs=0.24, t1=0.5, t3=22.25, tts=2.0\n",
      "gof=1.6756951171681045, fs=0.24, t1=0.5, t3=22.25, tts=2.125\n",
      "gof=1.4848908616242353, fs=0.24, t1=0.5, t3=22.25, tts=2.25\n",
      "gof=1.6309554225092089, fs=0.24, t1=0.5, t3=22.25, tts=2.375\n",
      "gof=2.538682967637118, fs=0.24, t1=0.625, t3=22.25, tts=1.875\n",
      "gof=2.021957628631078, fs=0.24, t1=0.625, t3=22.25, tts=2.0\n",
      "gof=1.6881008434140041, fs=0.24, t1=0.625, t3=22.25, tts=2.125\n",
      "gof=1.5596782475636757, fs=0.24, t1=0.625, t3=22.25, tts=2.25\n",
      "gof=1.5788258400348965, fs=0.24, t1=0.625, t3=22.25, tts=2.375\n",
      "gof=2.5213605116651383, fs=0.24, t1=0.75, t3=22.25, tts=1.875\n",
      "gof=2.10866682558895, fs=0.24, t1=0.75, t3=22.25, tts=2.0\n",
      "gof=1.7636199889720365, fs=0.24, t1=0.75, t3=22.25, tts=2.125\n",
      "gof=1.6716364078261277, fs=0.24, t1=0.75, t3=22.25, tts=2.25\n",
      "gof=1.7606462553712292, fs=0.24, t1=0.75, t3=22.25, tts=2.375\n",
      "gof=2.3114755578392834, fs=0.24, t1=0.25, t3=22.5, tts=1.875\n",
      "gof=1.854001236790038, fs=0.24, t1=0.25, t3=22.5, tts=2.0\n",
      "gof=1.647108158986966, fs=0.24, t1=0.25, t3=22.5, tts=2.125\n",
      "gof=1.473836187462293, fs=0.24, t1=0.25, t3=22.5, tts=2.25\n",
      "gof=1.6812338035566519, fs=0.24, t1=0.25, t3=22.5, tts=2.375\n",
      "gof=2.2678671732053797, fs=0.24, t1=0.375, t3=22.5, tts=1.875\n",
      "gof=1.816379115976015, fs=0.24, t1=0.375, t3=22.5, tts=2.0\n",
      "gof=1.675363443105304, fs=0.24, t1=0.375, t3=22.5, tts=2.125\n",
      "gof=1.357075777192238, fs=0.24, t1=0.375, t3=22.5, tts=2.25\n",
      "gof=1.4826078379743006, fs=0.24, t1=0.375, t3=22.5, tts=2.375\n",
      "gof=2.3013945716676174, fs=0.24, t1=0.5, t3=22.5, tts=1.875\n",
      "gof=1.8140762014112488, fs=0.24, t1=0.5, t3=22.5, tts=2.0\n",
      "gof=1.3751925772871163, fs=0.24, t1=0.5, t3=22.5, tts=2.125\n",
      "gof=1.4138766314889957, fs=0.24, t1=0.5, t3=22.5, tts=2.25\n",
      "gof=1.4154185377930555, fs=0.24, t1=0.5, t3=22.5, tts=2.375\n",
      "gof=2.1814887974147217, fs=0.24, t1=0.625, t3=22.5, tts=1.875\n",
      "gof=1.650510677166531, fs=0.24, t1=0.625, t3=22.5, tts=2.0\n",
      "gof=1.4828335405169017, fs=0.24, t1=0.625, t3=22.5, tts=2.125\n",
      "gof=1.344221507656387, fs=0.24, t1=0.625, t3=22.5, tts=2.25\n",
      "gof=1.437384558690129, fs=0.24, t1=0.625, t3=22.5, tts=2.375\n",
      "gof=2.1219575157215633, fs=0.24, t1=0.75, t3=22.5, tts=1.875\n",
      "gof=1.8665523288510872, fs=0.24, t1=0.75, t3=22.5, tts=2.0\n",
      "gof=1.4368875931885037, fs=0.24, t1=0.75, t3=22.5, tts=2.125\n",
      "gof=1.2836904739088975, fs=0.24, t1=0.75, t3=22.5, tts=2.25\n",
      "gof=1.3656552958619945, fs=0.24, t1=0.75, t3=22.5, tts=2.375\n",
      "gof=2.015896281552064, fs=0.24, t1=0.25, t3=22.75, tts=1.875\n",
      "gof=1.673250015162203, fs=0.24, t1=0.25, t3=22.75, tts=2.0\n",
      "gof=1.4790584457927833, fs=0.24, t1=0.25, t3=22.75, tts=2.125\n",
      "gof=1.464222898602491, fs=0.24, t1=0.25, t3=22.75, tts=2.25\n",
      "gof=1.51865423537352, fs=0.24, t1=0.25, t3=22.75, tts=2.375\n",
      "gof=1.9548562335153585, fs=0.24, t1=0.375, t3=22.75, tts=1.875\n",
      "gof=1.6392392005277396, fs=0.24, t1=0.375, t3=22.75, tts=2.0\n",
      "gof=1.4045819853038208, fs=0.24, t1=0.375, t3=22.75, tts=2.125\n",
      "gof=1.337625790378489, fs=0.24, t1=0.375, t3=22.75, tts=2.25\n",
      "gof=1.4365202044829817, fs=0.24, t1=0.375, t3=22.75, tts=2.375\n",
      "gof=2.133578123313694, fs=0.24, t1=0.5, t3=22.75, tts=1.875\n",
      "gof=1.5509891336476147, fs=0.24, t1=0.5, t3=22.75, tts=2.0\n",
      "gof=1.4408593849967024, fs=0.24, t1=0.5, t3=22.75, tts=2.125\n",
      "gof=1.306159445426206, fs=0.24, t1=0.5, t3=22.75, tts=2.25\n",
      "gof=1.3726131411070879, fs=0.24, t1=0.5, t3=22.75, tts=2.375\n",
      "gof=1.9933999448550548, fs=0.24, t1=0.625, t3=22.75, tts=1.875\n",
      "gof=1.5568350613608954, fs=0.24, t1=0.625, t3=22.75, tts=2.0\n",
      "gof=1.357514017494682, fs=0.24, t1=0.625, t3=22.75, tts=2.125\n",
      "gof=1.1436076422358852, fs=0.24, t1=0.625, t3=22.75, tts=2.25\n",
      "gof=1.293379036922285, fs=0.24, t1=0.625, t3=22.75, tts=2.375\n",
      "gof=1.949284691011077, fs=0.24, t1=0.75, t3=22.75, tts=1.875\n",
      "gof=1.4370429781293592, fs=0.24, t1=0.75, t3=22.75, tts=2.0\n",
      "gof=1.266565535650336, fs=0.24, t1=0.75, t3=22.75, tts=2.125\n",
      "gof=1.1905801632499988, fs=0.24, t1=0.75, t3=22.75, tts=2.25\n",
      "gof=1.199214395511277, fs=0.24, t1=0.75, t3=22.75, tts=2.375\n",
      "gof=3.300998782976295, fs=0.245, t1=0.25, t3=21.75, tts=1.875\n",
      "gof=2.786979780857212, fs=0.245, t1=0.25, t3=21.75, tts=2.0\n",
      "gof=2.4122729932972313, fs=0.245, t1=0.25, t3=21.75, tts=2.125\n",
      "gof=2.13283681761239, fs=0.245, t1=0.25, t3=21.75, tts=2.25\n",
      "gof=2.0729153240593146, fs=0.245, t1=0.25, t3=21.75, tts=2.375\n",
      "gof=3.287235739616856, fs=0.245, t1=0.375, t3=21.75, tts=1.875\n",
      "gof=2.6761425439222606, fs=0.245, t1=0.375, t3=21.75, tts=2.0\n",
      "gof=2.3547537165296126, fs=0.245, t1=0.375, t3=21.75, tts=2.125\n",
      "gof=2.0999314194556185, fs=0.245, t1=0.375, t3=21.75, tts=2.25\n",
      "gof=2.1451459614469504, fs=0.245, t1=0.375, t3=21.75, tts=2.375\n",
      "gof=3.5594188318297344, fs=0.245, t1=0.5, t3=21.75, tts=1.875\n",
      "gof=2.668331546797915, fs=0.245, t1=0.5, t3=21.75, tts=2.0\n",
      "gof=2.351862602113179, fs=0.245, t1=0.5, t3=21.75, tts=2.125\n",
      "gof=2.317221726676736, fs=0.245, t1=0.5, t3=21.75, tts=2.25\n",
      "gof=2.2135458839896502, fs=0.245, t1=0.5, t3=21.75, tts=2.375\n",
      "gof=3.393005519656223, fs=0.245, t1=0.625, t3=21.75, tts=1.875\n",
      "gof=3.0106303930449396, fs=0.245, t1=0.625, t3=21.75, tts=2.0\n",
      "gof=2.3514108810934538, fs=0.245, t1=0.625, t3=21.75, tts=2.125\n",
      "gof=2.1003563995223207, fs=0.245, t1=0.625, t3=21.75, tts=2.25\n",
      "gof=2.1714725972802005, fs=0.245, t1=0.625, t3=21.75, tts=2.375\n",
      "gof=3.4560351467992385, fs=0.245, t1=0.75, t3=21.75, tts=1.875\n",
      "gof=2.8943016581683354, fs=0.245, t1=0.75, t3=21.75, tts=2.0\n",
      "gof=2.3404309101319773, fs=0.245, t1=0.75, t3=21.75, tts=2.125\n",
      "gof=2.3849482853052275, fs=0.245, t1=0.75, t3=21.75, tts=2.25\n",
      "gof=2.255680404404964, fs=0.245, t1=0.75, t3=21.75, tts=2.375\n",
      "gof=2.9438862711917246, fs=0.245, t1=0.25, t3=22.0, tts=1.875\n",
      "gof=2.498239492793986, fs=0.245, t1=0.25, t3=22.0, tts=2.0\n",
      "gof=1.9788291678117578, fs=0.245, t1=0.25, t3=22.0, tts=2.125\n",
      "gof=1.8014816214867742, fs=0.245, t1=0.25, t3=22.0, tts=2.25\n",
      "gof=1.8280956661812193, fs=0.245, t1=0.25, t3=22.0, tts=2.375\n",
      "gof=2.9256392639652087, fs=0.245, t1=0.375, t3=22.0, tts=1.875\n",
      "gof=2.466294017290872, fs=0.245, t1=0.375, t3=22.0, tts=2.0\n",
      "gof=1.9694298457338713, fs=0.245, t1=0.375, t3=22.0, tts=2.125\n",
      "gof=1.8072878032224609, fs=0.245, t1=0.375, t3=22.0, tts=2.25\n",
      "gof=1.8109349593974604, fs=0.245, t1=0.375, t3=22.0, tts=2.375\n",
      "gof=2.8508773746361955, fs=0.245, t1=0.5, t3=22.0, tts=1.875\n",
      "gof=2.3934650746442507, fs=0.245, t1=0.5, t3=22.0, tts=2.0\n",
      "gof=1.9024016272921476, fs=0.245, t1=0.5, t3=22.0, tts=2.125\n",
      "gof=1.750697931570908, fs=0.245, t1=0.5, t3=22.0, tts=2.25\n",
      "gof=1.7043651116654568, fs=0.245, t1=0.5, t3=22.0, tts=2.375\n",
      "gof=3.0730975651708654, fs=0.245, t1=0.625, t3=22.0, tts=1.875\n",
      "gof=2.4237947168843004, fs=0.245, t1=0.625, t3=22.0, tts=2.0\n",
      "gof=2.1033808420753597, fs=0.245, t1=0.625, t3=22.0, tts=2.125\n",
      "gof=1.671326206596844, fs=0.245, t1=0.625, t3=22.0, tts=2.25\n",
      "gof=1.8252867720840502, fs=0.245, t1=0.625, t3=22.0, tts=2.375\n",
      "gof=3.157149673301848, fs=0.245, t1=0.75, t3=22.0, tts=1.875\n",
      "gof=2.3579001232925205, fs=0.245, t1=0.75, t3=22.0, tts=2.0\n",
      "gof=1.8835129680790923, fs=0.245, t1=0.75, t3=22.0, tts=2.125\n",
      "gof=1.9542939769460204, fs=0.245, t1=0.75, t3=22.0, tts=2.25\n",
      "gof=1.9272725663033063, fs=0.245, t1=0.75, t3=22.0, tts=2.375\n",
      "gof=2.60819367221464, fs=0.245, t1=0.25, t3=22.25, tts=1.875\n",
      "gof=2.060582885348917, fs=0.245, t1=0.25, t3=22.25, tts=2.0\n",
      "gof=1.5928299214451236, fs=0.245, t1=0.25, t3=22.25, tts=2.125\n",
      "gof=1.4829909213114207, fs=0.245, t1=0.25, t3=22.25, tts=2.25\n",
      "gof=1.6371147192210924, fs=0.245, t1=0.25, t3=22.25, tts=2.375\n",
      "gof=2.695824839600276, fs=0.245, t1=0.375, t3=22.25, tts=1.875\n",
      "gof=2.10246405764186, fs=0.245, t1=0.375, t3=22.25, tts=2.0\n",
      "gof=1.57942763762972, fs=0.245, t1=0.375, t3=22.25, tts=2.125\n",
      "gof=1.7022238410970778, fs=0.245, t1=0.375, t3=22.25, tts=2.25\n",
      "gof=1.6796176769113749, fs=0.245, t1=0.375, t3=22.25, tts=2.375\n",
      "gof=2.548597318167496, fs=0.245, t1=0.5, t3=22.25, tts=1.875\n",
      "gof=2.1381643000198918, fs=0.245, t1=0.5, t3=22.25, tts=2.0\n",
      "gof=1.6845033063766848, fs=0.245, t1=0.5, t3=22.25, tts=2.125\n",
      "gof=1.4825009793632786, fs=0.245, t1=0.5, t3=22.25, tts=2.25\n",
      "gof=1.5464730577085712, fs=0.245, t1=0.5, t3=22.25, tts=2.375\n",
      "gof=2.6629817973940306, fs=0.245, t1=0.625, t3=22.25, tts=1.875\n",
      "gof=2.1489032261045034, fs=0.245, t1=0.625, t3=22.25, tts=2.0\n",
      "gof=1.7160164816305312, fs=0.245, t1=0.625, t3=22.25, tts=2.125\n",
      "gof=1.5361970066406194, fs=0.245, t1=0.625, t3=22.25, tts=2.25\n",
      "gof=1.5810718977703606, fs=0.245, t1=0.625, t3=22.25, tts=2.375\n",
      "gof=2.7144498553742924, fs=0.245, t1=0.75, t3=22.25, tts=1.875\n",
      "gof=2.0624974290461475, fs=0.245, t1=0.75, t3=22.25, tts=2.0\n",
      "gof=1.75313017255566, fs=0.245, t1=0.75, t3=22.25, tts=2.125\n",
      "gof=1.474140670042271, fs=0.245, t1=0.75, t3=22.25, tts=2.25\n",
      "gof=1.5121363972087731, fs=0.245, t1=0.75, t3=22.25, tts=2.375\n",
      "gof=2.3819810232411287, fs=0.245, t1=0.25, t3=22.5, tts=1.875\n",
      "gof=1.8918914277212528, fs=0.245, t1=0.25, t3=22.5, tts=2.0\n",
      "gof=1.448565652052829, fs=0.245, t1=0.25, t3=22.5, tts=2.125\n",
      "gof=1.4401318416172533, fs=0.245, t1=0.25, t3=22.5, tts=2.25\n",
      "gof=1.5165425579065483, fs=0.245, t1=0.25, t3=22.5, tts=2.375\n",
      "gof=2.3299942036014536, fs=0.245, t1=0.375, t3=22.5, tts=1.875\n",
      "gof=1.7979413302066152, fs=0.245, t1=0.375, t3=22.5, tts=2.0\n",
      "gof=1.5567179776889193, fs=0.245, t1=0.375, t3=22.5, tts=2.125\n",
      "gof=1.4074707741897123, fs=0.245, t1=0.375, t3=22.5, tts=2.25\n",
      "gof=1.402073398969953, fs=0.245, t1=0.375, t3=22.5, tts=2.375\n",
      "gof=2.466992726308241, fs=0.245, t1=0.5, t3=22.5, tts=1.875\n",
      "gof=1.961750238610172, fs=0.245, t1=0.5, t3=22.5, tts=2.0\n",
      "gof=1.5331179341706096, fs=0.245, t1=0.5, t3=22.5, tts=2.125\n",
      "gof=1.3963872071593832, fs=0.245, t1=0.5, t3=22.5, tts=2.25\n",
      "gof=1.425080184703496, fs=0.245, t1=0.5, t3=22.5, tts=2.375\n",
      "gof=2.415870310513132, fs=0.245, t1=0.625, t3=22.5, tts=1.875\n",
      "gof=1.7701428862716087, fs=0.245, t1=0.625, t3=22.5, tts=2.0\n",
      "gof=1.5302355184654715, fs=0.245, t1=0.625, t3=22.5, tts=2.125\n",
      "gof=1.3511106534580455, fs=0.245, t1=0.625, t3=22.5, tts=2.25\n",
      "gof=1.3520113148034634, fs=0.245, t1=0.625, t3=22.5, tts=2.375\n",
      "gof=2.439816019699121, fs=0.245, t1=0.75, t3=22.5, tts=1.875\n",
      "gof=1.872314956357122, fs=0.245, t1=0.75, t3=22.5, tts=2.0\n",
      "gof=1.4179101701371, fs=0.245, t1=0.75, t3=22.5, tts=2.125\n",
      "gof=1.2579826273841748, fs=0.245, t1=0.75, t3=22.5, tts=2.25\n",
      "gof=1.2359518125911522, fs=0.245, t1=0.75, t3=22.5, tts=2.375\n",
      "gof=2.1607422553966167, fs=0.245, t1=0.25, t3=22.75, tts=1.875\n",
      "gof=1.664303905080924, fs=0.245, t1=0.25, t3=22.75, tts=2.0\n",
      "gof=1.3973792786037356, fs=0.245, t1=0.25, t3=22.75, tts=2.125\n",
      "gof=1.2746300715593923, fs=0.245, t1=0.25, t3=22.75, tts=2.25\n",
      "gof=1.296956033326623, fs=0.245, t1=0.25, t3=22.75, tts=2.375\n",
      "gof=2.267571322770437, fs=0.245, t1=0.375, t3=22.75, tts=1.875\n",
      "gof=1.6586512895768926, fs=0.245, t1=0.375, t3=22.75, tts=2.0\n",
      "gof=1.303450321137911, fs=0.245, t1=0.375, t3=22.75, tts=2.125\n",
      "gof=1.2992682958054853, fs=0.245, t1=0.375, t3=22.75, tts=2.25\n",
      "gof=1.2606710137831956, fs=0.245, t1=0.375, t3=22.75, tts=2.375\n",
      "gof=2.1510395252938626, fs=0.245, t1=0.5, t3=22.75, tts=1.875\n",
      "gof=1.661663990608782, fs=0.245, t1=0.5, t3=22.75, tts=2.0\n",
      "gof=1.2245080358090135, fs=0.245, t1=0.5, t3=22.75, tts=2.125\n",
      "gof=1.0935162954597657, fs=0.245, t1=0.5, t3=22.75, tts=2.25\n",
      "gof=1.2151992253331976, fs=0.245, t1=0.5, t3=22.75, tts=2.375\n",
      "gof=2.0790001118851595, fs=0.245, t1=0.625, t3=22.75, tts=1.875\n",
      "gof=1.6335368900889673, fs=0.245, t1=0.625, t3=22.75, tts=2.0\n",
      "gof=1.350442529159297, fs=0.245, t1=0.625, t3=22.75, tts=2.125\n",
      "gof=1.168558495114789, fs=0.245, t1=0.625, t3=22.75, tts=2.25\n",
      "gof=1.2160281985554673, fs=0.245, t1=0.625, t3=22.75, tts=2.375\n",
      "gof=2.1153940009397982, fs=0.245, t1=0.75, t3=22.75, tts=1.875\n",
      "gof=1.5756019016475589, fs=0.245, t1=0.75, t3=22.75, tts=2.0\n",
      "gof=1.365817020701806, fs=0.245, t1=0.75, t3=22.75, tts=2.125\n",
      "gof=1.2461921708788621, fs=0.245, t1=0.75, t3=22.75, tts=2.25\n",
      "gof=1.1000441082959225, fs=0.245, t1=0.75, t3=22.75, tts=2.375\n"
     ]
    }
   ],
   "source": [
    "for i, p in enumerate(dicts):\n",
    "    model, syst_err, spe_err = s1_models_error(**p)\n",
    "    chi2 = gof_manual(avg, model, syst_err, spe_err, stored_stat_value = stored_stat, **p)\n",
    "    p['chi2'] = chi2"
   ]
  },
  {
   "cell_type": "code",
   "execution_count": 99,
   "metadata": {
    "collapsed": false
   },
   "outputs": [
    {
     "data": {
      "text/plain": [
       "chi2              1.093516\n",
       "fs                0.245000\n",
       "n_photons    500000.000000\n",
       "t1                0.500000\n",
       "t3               22.750000\n",
       "tts               2.250000\n",
       "Name: 613, dtype: float64"
      ]
     },
     "execution_count": 99,
     "metadata": {},
     "output_type": "execute_result"
    }
   ],
   "source": [
    "import pandas as pd\n",
    "df = pd.DataFrame(list(dicts))\n",
    "df.iloc[df['chi2'].idxmin()]"
   ]
  },
  {
   "cell_type": "code",
   "execution_count": 95,
   "metadata": {
    "collapsed": false
   },
   "outputs": [
    {
     "data": {
      "text/plain": [
       "chi2              1.020818\n",
       "fs                0.245000\n",
       "n_photons    500000.000000\n",
       "t1                0.750000\n",
       "t3               22.750000\n",
       "tts               2.375000\n",
       "Name: 624, dtype: float64"
      ]
     },
     "execution_count": 95,
     "metadata": {},
     "output_type": "execute_result"
    }
   ],
   "source": [
    "import pandas as pd\n",
    "df = pd.DataFrame(list(dicts))\n",
    "df.iloc[df['chi2'].idxmin()]"
   ]
  },
  {
   "cell_type": "code",
   "execution_count": 97,
   "metadata": {
    "collapsed": false
   },
   "outputs": [
    {
     "data": {
      "text/plain": [
       "[21.75, 0.22499999999999998, 0.25, 1.875]"
      ]
     },
     "execution_count": 97,
     "metadata": {},
     "output_type": "execute_result"
    }
   ],
   "source": [
    "mins"
   ]
  },
  {
   "cell_type": "code",
   "execution_count": 90,
   "metadata": {
    "collapsed": false
   },
   "outputs": [
    {
     "data": {
      "text/plain": [
       "chi2              1.273619\n",
       "fs                0.240000\n",
       "n_photons    500000.000000\n",
       "t1                0.625000\n",
       "t3               22.500000\n",
       "tts               2.250000\n",
       "Name: 80, dtype: float64"
      ]
     },
     "execution_count": 90,
     "metadata": {},
     "output_type": "execute_result"
    }
   ],
   "source": []
  },
  {
   "cell_type": "code",
   "execution_count": 91,
   "metadata": {
    "collapsed": false
   },
   "outputs": [
    {
     "data": {
      "text/plain": [
       "{'dset': 'er',\n",
       " 'e_max': 5,\n",
       " 'e_min': 2,\n",
       " 'fs': 0.235,\n",
       " 't1': 0.5,\n",
       " 't3': 22.25,\n",
       " 'tts': 2.125}"
      ]
     },
     "execution_count": 91,
     "metadata": {},
     "output_type": "execute_result"
    }
   ],
   "source": [
    "p_true"
   ]
  },
  {
   "cell_type": "code",
   "execution_count": 84,
   "metadata": {
    "collapsed": false
   },
   "outputs": [
    {
     "data": {
      "text/html": [
       "<div>\n",
       "<table border=\"1\" class=\"dataframe\">\n",
       "  <thead>\n",
       "    <tr style=\"text-align: right;\">\n",
       "      <th></th>\n",
       "      <th>chi2</th>\n",
       "      <th>fs</th>\n",
       "      <th>n_photons</th>\n",
       "      <th>t1</th>\n",
       "      <th>t3</th>\n",
       "      <th>tts</th>\n",
       "    </tr>\n",
       "  </thead>\n",
       "  <tbody>\n",
       "    <tr>\n",
       "      <th>0</th>\n",
       "      <td>2.058910</td>\n",
       "      <td>0.230</td>\n",
       "      <td>500000</td>\n",
       "      <td>0.375</td>\n",
       "      <td>22.00</td>\n",
       "      <td>2.000</td>\n",
       "    </tr>\n",
       "    <tr>\n",
       "      <th>1</th>\n",
       "      <td>2.027801</td>\n",
       "      <td>0.230</td>\n",
       "      <td>500000</td>\n",
       "      <td>0.375</td>\n",
       "      <td>22.00</td>\n",
       "      <td>2.125</td>\n",
       "    </tr>\n",
       "    <tr>\n",
       "      <th>2</th>\n",
       "      <td>2.023981</td>\n",
       "      <td>0.230</td>\n",
       "      <td>500000</td>\n",
       "      <td>0.375</td>\n",
       "      <td>22.00</td>\n",
       "      <td>2.250</td>\n",
       "    </tr>\n",
       "    <tr>\n",
       "      <th>3</th>\n",
       "      <td>2.130555</td>\n",
       "      <td>0.230</td>\n",
       "      <td>500000</td>\n",
       "      <td>0.500</td>\n",
       "      <td>22.00</td>\n",
       "      <td>2.000</td>\n",
       "    </tr>\n",
       "    <tr>\n",
       "      <th>4</th>\n",
       "      <td>1.973730</td>\n",
       "      <td>0.230</td>\n",
       "      <td>500000</td>\n",
       "      <td>0.500</td>\n",
       "      <td>22.00</td>\n",
       "      <td>2.125</td>\n",
       "    </tr>\n",
       "    <tr>\n",
       "      <th>5</th>\n",
       "      <td>2.060170</td>\n",
       "      <td>0.230</td>\n",
       "      <td>500000</td>\n",
       "      <td>0.500</td>\n",
       "      <td>22.00</td>\n",
       "      <td>2.250</td>\n",
       "    </tr>\n",
       "    <tr>\n",
       "      <th>6</th>\n",
       "      <td>2.244192</td>\n",
       "      <td>0.230</td>\n",
       "      <td>500000</td>\n",
       "      <td>0.625</td>\n",
       "      <td>22.00</td>\n",
       "      <td>2.000</td>\n",
       "    </tr>\n",
       "    <tr>\n",
       "      <th>7</th>\n",
       "      <td>1.881243</td>\n",
       "      <td>0.230</td>\n",
       "      <td>500000</td>\n",
       "      <td>0.625</td>\n",
       "      <td>22.00</td>\n",
       "      <td>2.125</td>\n",
       "    </tr>\n",
       "    <tr>\n",
       "      <th>8</th>\n",
       "      <td>1.796069</td>\n",
       "      <td>0.230</td>\n",
       "      <td>500000</td>\n",
       "      <td>0.625</td>\n",
       "      <td>22.00</td>\n",
       "      <td>2.250</td>\n",
       "    </tr>\n",
       "    <tr>\n",
       "      <th>9</th>\n",
       "      <td>1.882942</td>\n",
       "      <td>0.230</td>\n",
       "      <td>500000</td>\n",
       "      <td>0.375</td>\n",
       "      <td>22.25</td>\n",
       "      <td>2.000</td>\n",
       "    </tr>\n",
       "    <tr>\n",
       "      <th>10</th>\n",
       "      <td>1.885948</td>\n",
       "      <td>0.230</td>\n",
       "      <td>500000</td>\n",
       "      <td>0.375</td>\n",
       "      <td>22.25</td>\n",
       "      <td>2.125</td>\n",
       "    </tr>\n",
       "    <tr>\n",
       "      <th>11</th>\n",
       "      <td>1.903436</td>\n",
       "      <td>0.230</td>\n",
       "      <td>500000</td>\n",
       "      <td>0.375</td>\n",
       "      <td>22.25</td>\n",
       "      <td>2.250</td>\n",
       "    </tr>\n",
       "    <tr>\n",
       "      <th>12</th>\n",
       "      <td>1.877161</td>\n",
       "      <td>0.230</td>\n",
       "      <td>500000</td>\n",
       "      <td>0.500</td>\n",
       "      <td>22.25</td>\n",
       "      <td>2.000</td>\n",
       "    </tr>\n",
       "    <tr>\n",
       "      <th>13</th>\n",
       "      <td>1.785508</td>\n",
       "      <td>0.230</td>\n",
       "      <td>500000</td>\n",
       "      <td>0.500</td>\n",
       "      <td>22.25</td>\n",
       "      <td>2.125</td>\n",
       "    </tr>\n",
       "    <tr>\n",
       "      <th>14</th>\n",
       "      <td>1.634605</td>\n",
       "      <td>0.230</td>\n",
       "      <td>500000</td>\n",
       "      <td>0.500</td>\n",
       "      <td>22.25</td>\n",
       "      <td>2.250</td>\n",
       "    </tr>\n",
       "    <tr>\n",
       "      <th>15</th>\n",
       "      <td>1.895491</td>\n",
       "      <td>0.230</td>\n",
       "      <td>500000</td>\n",
       "      <td>0.625</td>\n",
       "      <td>22.25</td>\n",
       "      <td>2.000</td>\n",
       "    </tr>\n",
       "    <tr>\n",
       "      <th>16</th>\n",
       "      <td>1.612134</td>\n",
       "      <td>0.230</td>\n",
       "      <td>500000</td>\n",
       "      <td>0.625</td>\n",
       "      <td>22.25</td>\n",
       "      <td>2.125</td>\n",
       "    </tr>\n",
       "    <tr>\n",
       "      <th>17</th>\n",
       "      <td>1.746396</td>\n",
       "      <td>0.230</td>\n",
       "      <td>500000</td>\n",
       "      <td>0.625</td>\n",
       "      <td>22.25</td>\n",
       "      <td>2.250</td>\n",
       "    </tr>\n",
       "    <tr>\n",
       "      <th>18</th>\n",
       "      <td>1.913450</td>\n",
       "      <td>0.230</td>\n",
       "      <td>500000</td>\n",
       "      <td>0.375</td>\n",
       "      <td>22.50</td>\n",
       "      <td>2.000</td>\n",
       "    </tr>\n",
       "    <tr>\n",
       "      <th>19</th>\n",
       "      <td>1.769486</td>\n",
       "      <td>0.230</td>\n",
       "      <td>500000</td>\n",
       "      <td>0.375</td>\n",
       "      <td>22.50</td>\n",
       "      <td>2.125</td>\n",
       "    </tr>\n",
       "    <tr>\n",
       "      <th>20</th>\n",
       "      <td>1.775044</td>\n",
       "      <td>0.230</td>\n",
       "      <td>500000</td>\n",
       "      <td>0.375</td>\n",
       "      <td>22.50</td>\n",
       "      <td>2.250</td>\n",
       "    </tr>\n",
       "    <tr>\n",
       "      <th>21</th>\n",
       "      <td>1.769902</td>\n",
       "      <td>0.230</td>\n",
       "      <td>500000</td>\n",
       "      <td>0.500</td>\n",
       "      <td>22.50</td>\n",
       "      <td>2.000</td>\n",
       "    </tr>\n",
       "    <tr>\n",
       "      <th>22</th>\n",
       "      <td>1.526440</td>\n",
       "      <td>0.230</td>\n",
       "      <td>500000</td>\n",
       "      <td>0.500</td>\n",
       "      <td>22.50</td>\n",
       "      <td>2.125</td>\n",
       "    </tr>\n",
       "    <tr>\n",
       "      <th>23</th>\n",
       "      <td>1.561420</td>\n",
       "      <td>0.230</td>\n",
       "      <td>500000</td>\n",
       "      <td>0.500</td>\n",
       "      <td>22.50</td>\n",
       "      <td>2.250</td>\n",
       "    </tr>\n",
       "    <tr>\n",
       "      <th>24</th>\n",
       "      <td>1.675159</td>\n",
       "      <td>0.230</td>\n",
       "      <td>500000</td>\n",
       "      <td>0.625</td>\n",
       "      <td>22.50</td>\n",
       "      <td>2.000</td>\n",
       "    </tr>\n",
       "    <tr>\n",
       "      <th>25</th>\n",
       "      <td>1.623229</td>\n",
       "      <td>0.230</td>\n",
       "      <td>500000</td>\n",
       "      <td>0.625</td>\n",
       "      <td>22.50</td>\n",
       "      <td>2.125</td>\n",
       "    </tr>\n",
       "    <tr>\n",
       "      <th>26</th>\n",
       "      <td>1.448503</td>\n",
       "      <td>0.230</td>\n",
       "      <td>500000</td>\n",
       "      <td>0.625</td>\n",
       "      <td>22.50</td>\n",
       "      <td>2.250</td>\n",
       "    </tr>\n",
       "    <tr>\n",
       "      <th>27</th>\n",
       "      <td>2.208305</td>\n",
       "      <td>0.235</td>\n",
       "      <td>500000</td>\n",
       "      <td>0.375</td>\n",
       "      <td>22.00</td>\n",
       "      <td>2.000</td>\n",
       "    </tr>\n",
       "    <tr>\n",
       "      <th>28</th>\n",
       "      <td>2.055256</td>\n",
       "      <td>0.235</td>\n",
       "      <td>500000</td>\n",
       "      <td>0.375</td>\n",
       "      <td>22.00</td>\n",
       "      <td>2.125</td>\n",
       "    </tr>\n",
       "    <tr>\n",
       "      <th>29</th>\n",
       "      <td>1.928800</td>\n",
       "      <td>0.235</td>\n",
       "      <td>500000</td>\n",
       "      <td>0.375</td>\n",
       "      <td>22.00</td>\n",
       "      <td>2.250</td>\n",
       "    </tr>\n",
       "    <tr>\n",
       "      <th>...</th>\n",
       "      <td>...</td>\n",
       "      <td>...</td>\n",
       "      <td>...</td>\n",
       "      <td>...</td>\n",
       "      <td>...</td>\n",
       "      <td>...</td>\n",
       "    </tr>\n",
       "    <tr>\n",
       "      <th>51</th>\n",
       "      <td>1.613739</td>\n",
       "      <td>0.235</td>\n",
       "      <td>500000</td>\n",
       "      <td>0.625</td>\n",
       "      <td>22.50</td>\n",
       "      <td>2.000</td>\n",
       "    </tr>\n",
       "    <tr>\n",
       "      <th>52</th>\n",
       "      <td>1.463609</td>\n",
       "      <td>0.235</td>\n",
       "      <td>500000</td>\n",
       "      <td>0.625</td>\n",
       "      <td>22.50</td>\n",
       "      <td>2.125</td>\n",
       "    </tr>\n",
       "    <tr>\n",
       "      <th>53</th>\n",
       "      <td>1.386670</td>\n",
       "      <td>0.235</td>\n",
       "      <td>500000</td>\n",
       "      <td>0.625</td>\n",
       "      <td>22.50</td>\n",
       "      <td>2.250</td>\n",
       "    </tr>\n",
       "    <tr>\n",
       "      <th>54</th>\n",
       "      <td>2.294504</td>\n",
       "      <td>0.240</td>\n",
       "      <td>500000</td>\n",
       "      <td>0.375</td>\n",
       "      <td>22.00</td>\n",
       "      <td>2.000</td>\n",
       "    </tr>\n",
       "    <tr>\n",
       "      <th>55</th>\n",
       "      <td>1.984607</td>\n",
       "      <td>0.240</td>\n",
       "      <td>500000</td>\n",
       "      <td>0.375</td>\n",
       "      <td>22.00</td>\n",
       "      <td>2.125</td>\n",
       "    </tr>\n",
       "    <tr>\n",
       "      <th>56</th>\n",
       "      <td>1.865047</td>\n",
       "      <td>0.240</td>\n",
       "      <td>500000</td>\n",
       "      <td>0.375</td>\n",
       "      <td>22.00</td>\n",
       "      <td>2.250</td>\n",
       "    </tr>\n",
       "    <tr>\n",
       "      <th>57</th>\n",
       "      <td>2.302230</td>\n",
       "      <td>0.240</td>\n",
       "      <td>500000</td>\n",
       "      <td>0.500</td>\n",
       "      <td>22.00</td>\n",
       "      <td>2.000</td>\n",
       "    </tr>\n",
       "    <tr>\n",
       "      <th>58</th>\n",
       "      <td>1.949990</td>\n",
       "      <td>0.240</td>\n",
       "      <td>500000</td>\n",
       "      <td>0.500</td>\n",
       "      <td>22.00</td>\n",
       "      <td>2.125</td>\n",
       "    </tr>\n",
       "    <tr>\n",
       "      <th>59</th>\n",
       "      <td>1.921130</td>\n",
       "      <td>0.240</td>\n",
       "      <td>500000</td>\n",
       "      <td>0.500</td>\n",
       "      <td>22.00</td>\n",
       "      <td>2.250</td>\n",
       "    </tr>\n",
       "    <tr>\n",
       "      <th>60</th>\n",
       "      <td>2.314986</td>\n",
       "      <td>0.240</td>\n",
       "      <td>500000</td>\n",
       "      <td>0.625</td>\n",
       "      <td>22.00</td>\n",
       "      <td>2.000</td>\n",
       "    </tr>\n",
       "    <tr>\n",
       "      <th>61</th>\n",
       "      <td>2.010997</td>\n",
       "      <td>0.240</td>\n",
       "      <td>500000</td>\n",
       "      <td>0.625</td>\n",
       "      <td>22.00</td>\n",
       "      <td>2.125</td>\n",
       "    </tr>\n",
       "    <tr>\n",
       "      <th>62</th>\n",
       "      <td>1.847744</td>\n",
       "      <td>0.240</td>\n",
       "      <td>500000</td>\n",
       "      <td>0.625</td>\n",
       "      <td>22.00</td>\n",
       "      <td>2.250</td>\n",
       "    </tr>\n",
       "    <tr>\n",
       "      <th>63</th>\n",
       "      <td>2.084933</td>\n",
       "      <td>0.240</td>\n",
       "      <td>500000</td>\n",
       "      <td>0.375</td>\n",
       "      <td>22.25</td>\n",
       "      <td>2.000</td>\n",
       "    </tr>\n",
       "    <tr>\n",
       "      <th>64</th>\n",
       "      <td>1.787908</td>\n",
       "      <td>0.240</td>\n",
       "      <td>500000</td>\n",
       "      <td>0.375</td>\n",
       "      <td>22.25</td>\n",
       "      <td>2.125</td>\n",
       "    </tr>\n",
       "    <tr>\n",
       "      <th>65</th>\n",
       "      <td>1.650265</td>\n",
       "      <td>0.240</td>\n",
       "      <td>500000</td>\n",
       "      <td>0.375</td>\n",
       "      <td>22.25</td>\n",
       "      <td>2.250</td>\n",
       "    </tr>\n",
       "    <tr>\n",
       "      <th>66</th>\n",
       "      <td>2.018192</td>\n",
       "      <td>0.240</td>\n",
       "      <td>500000</td>\n",
       "      <td>0.500</td>\n",
       "      <td>22.25</td>\n",
       "      <td>2.000</td>\n",
       "    </tr>\n",
       "    <tr>\n",
       "      <th>67</th>\n",
       "      <td>1.605456</td>\n",
       "      <td>0.240</td>\n",
       "      <td>500000</td>\n",
       "      <td>0.500</td>\n",
       "      <td>22.25</td>\n",
       "      <td>2.125</td>\n",
       "    </tr>\n",
       "    <tr>\n",
       "      <th>68</th>\n",
       "      <td>1.627776</td>\n",
       "      <td>0.240</td>\n",
       "      <td>500000</td>\n",
       "      <td>0.500</td>\n",
       "      <td>22.25</td>\n",
       "      <td>2.250</td>\n",
       "    </tr>\n",
       "    <tr>\n",
       "      <th>69</th>\n",
       "      <td>2.031801</td>\n",
       "      <td>0.240</td>\n",
       "      <td>500000</td>\n",
       "      <td>0.625</td>\n",
       "      <td>22.25</td>\n",
       "      <td>2.000</td>\n",
       "    </tr>\n",
       "    <tr>\n",
       "      <th>70</th>\n",
       "      <td>1.733934</td>\n",
       "      <td>0.240</td>\n",
       "      <td>500000</td>\n",
       "      <td>0.625</td>\n",
       "      <td>22.25</td>\n",
       "      <td>2.125</td>\n",
       "    </tr>\n",
       "    <tr>\n",
       "      <th>71</th>\n",
       "      <td>1.626730</td>\n",
       "      <td>0.240</td>\n",
       "      <td>500000</td>\n",
       "      <td>0.625</td>\n",
       "      <td>22.25</td>\n",
       "      <td>2.250</td>\n",
       "    </tr>\n",
       "    <tr>\n",
       "      <th>72</th>\n",
       "      <td>1.776700</td>\n",
       "      <td>0.240</td>\n",
       "      <td>500000</td>\n",
       "      <td>0.375</td>\n",
       "      <td>22.50</td>\n",
       "      <td>2.000</td>\n",
       "    </tr>\n",
       "    <tr>\n",
       "      <th>73</th>\n",
       "      <td>1.475919</td>\n",
       "      <td>0.240</td>\n",
       "      <td>500000</td>\n",
       "      <td>0.375</td>\n",
       "      <td>22.50</td>\n",
       "      <td>2.125</td>\n",
       "    </tr>\n",
       "    <tr>\n",
       "      <th>74</th>\n",
       "      <td>1.488036</td>\n",
       "      <td>0.240</td>\n",
       "      <td>500000</td>\n",
       "      <td>0.375</td>\n",
       "      <td>22.50</td>\n",
       "      <td>2.250</td>\n",
       "    </tr>\n",
       "    <tr>\n",
       "      <th>75</th>\n",
       "      <td>1.815272</td>\n",
       "      <td>0.240</td>\n",
       "      <td>500000</td>\n",
       "      <td>0.500</td>\n",
       "      <td>22.50</td>\n",
       "      <td>2.000</td>\n",
       "    </tr>\n",
       "    <tr>\n",
       "      <th>76</th>\n",
       "      <td>1.500023</td>\n",
       "      <td>0.240</td>\n",
       "      <td>500000</td>\n",
       "      <td>0.500</td>\n",
       "      <td>22.50</td>\n",
       "      <td>2.125</td>\n",
       "    </tr>\n",
       "    <tr>\n",
       "      <th>77</th>\n",
       "      <td>1.424964</td>\n",
       "      <td>0.240</td>\n",
       "      <td>500000</td>\n",
       "      <td>0.500</td>\n",
       "      <td>22.50</td>\n",
       "      <td>2.250</td>\n",
       "    </tr>\n",
       "    <tr>\n",
       "      <th>78</th>\n",
       "      <td>1.717403</td>\n",
       "      <td>0.240</td>\n",
       "      <td>500000</td>\n",
       "      <td>0.625</td>\n",
       "      <td>22.50</td>\n",
       "      <td>2.000</td>\n",
       "    </tr>\n",
       "    <tr>\n",
       "      <th>79</th>\n",
       "      <td>1.428917</td>\n",
       "      <td>0.240</td>\n",
       "      <td>500000</td>\n",
       "      <td>0.625</td>\n",
       "      <td>22.50</td>\n",
       "      <td>2.125</td>\n",
       "    </tr>\n",
       "    <tr>\n",
       "      <th>80</th>\n",
       "      <td>1.273619</td>\n",
       "      <td>0.240</td>\n",
       "      <td>500000</td>\n",
       "      <td>0.625</td>\n",
       "      <td>22.50</td>\n",
       "      <td>2.250</td>\n",
       "    </tr>\n",
       "  </tbody>\n",
       "</table>\n",
       "<p>81 rows × 6 columns</p>\n",
       "</div>"
      ],
      "text/plain": [
       "        chi2     fs  n_photons     t1     t3    tts\n",
       "0   2.058910  0.230     500000  0.375  22.00  2.000\n",
       "1   2.027801  0.230     500000  0.375  22.00  2.125\n",
       "2   2.023981  0.230     500000  0.375  22.00  2.250\n",
       "3   2.130555  0.230     500000  0.500  22.00  2.000\n",
       "4   1.973730  0.230     500000  0.500  22.00  2.125\n",
       "5   2.060170  0.230     500000  0.500  22.00  2.250\n",
       "6   2.244192  0.230     500000  0.625  22.00  2.000\n",
       "7   1.881243  0.230     500000  0.625  22.00  2.125\n",
       "8   1.796069  0.230     500000  0.625  22.00  2.250\n",
       "9   1.882942  0.230     500000  0.375  22.25  2.000\n",
       "10  1.885948  0.230     500000  0.375  22.25  2.125\n",
       "11  1.903436  0.230     500000  0.375  22.25  2.250\n",
       "12  1.877161  0.230     500000  0.500  22.25  2.000\n",
       "13  1.785508  0.230     500000  0.500  22.25  2.125\n",
       "14  1.634605  0.230     500000  0.500  22.25  2.250\n",
       "15  1.895491  0.230     500000  0.625  22.25  2.000\n",
       "16  1.612134  0.230     500000  0.625  22.25  2.125\n",
       "17  1.746396  0.230     500000  0.625  22.25  2.250\n",
       "18  1.913450  0.230     500000  0.375  22.50  2.000\n",
       "19  1.769486  0.230     500000  0.375  22.50  2.125\n",
       "20  1.775044  0.230     500000  0.375  22.50  2.250\n",
       "21  1.769902  0.230     500000  0.500  22.50  2.000\n",
       "22  1.526440  0.230     500000  0.500  22.50  2.125\n",
       "23  1.561420  0.230     500000  0.500  22.50  2.250\n",
       "24  1.675159  0.230     500000  0.625  22.50  2.000\n",
       "25  1.623229  0.230     500000  0.625  22.50  2.125\n",
       "26  1.448503  0.230     500000  0.625  22.50  2.250\n",
       "27  2.208305  0.235     500000  0.375  22.00  2.000\n",
       "28  2.055256  0.235     500000  0.375  22.00  2.125\n",
       "29  1.928800  0.235     500000  0.375  22.00  2.250\n",
       "..       ...    ...        ...    ...    ...    ...\n",
       "51  1.613739  0.235     500000  0.625  22.50  2.000\n",
       "52  1.463609  0.235     500000  0.625  22.50  2.125\n",
       "53  1.386670  0.235     500000  0.625  22.50  2.250\n",
       "54  2.294504  0.240     500000  0.375  22.00  2.000\n",
       "55  1.984607  0.240     500000  0.375  22.00  2.125\n",
       "56  1.865047  0.240     500000  0.375  22.00  2.250\n",
       "57  2.302230  0.240     500000  0.500  22.00  2.000\n",
       "58  1.949990  0.240     500000  0.500  22.00  2.125\n",
       "59  1.921130  0.240     500000  0.500  22.00  2.250\n",
       "60  2.314986  0.240     500000  0.625  22.00  2.000\n",
       "61  2.010997  0.240     500000  0.625  22.00  2.125\n",
       "62  1.847744  0.240     500000  0.625  22.00  2.250\n",
       "63  2.084933  0.240     500000  0.375  22.25  2.000\n",
       "64  1.787908  0.240     500000  0.375  22.25  2.125\n",
       "65  1.650265  0.240     500000  0.375  22.25  2.250\n",
       "66  2.018192  0.240     500000  0.500  22.25  2.000\n",
       "67  1.605456  0.240     500000  0.500  22.25  2.125\n",
       "68  1.627776  0.240     500000  0.500  22.25  2.250\n",
       "69  2.031801  0.240     500000  0.625  22.25  2.000\n",
       "70  1.733934  0.240     500000  0.625  22.25  2.125\n",
       "71  1.626730  0.240     500000  0.625  22.25  2.250\n",
       "72  1.776700  0.240     500000  0.375  22.50  2.000\n",
       "73  1.475919  0.240     500000  0.375  22.50  2.125\n",
       "74  1.488036  0.240     500000  0.375  22.50  2.250\n",
       "75  1.815272  0.240     500000  0.500  22.50  2.000\n",
       "76  1.500023  0.240     500000  0.500  22.50  2.125\n",
       "77  1.424964  0.240     500000  0.500  22.50  2.250\n",
       "78  1.717403  0.240     500000  0.625  22.50  2.000\n",
       "79  1.428917  0.240     500000  0.625  22.50  2.125\n",
       "80  1.273619  0.240     500000  0.625  22.50  2.250\n",
       "\n",
       "[81 rows x 6 columns]"
      ]
     },
     "execution_count": 84,
     "metadata": {},
     "output_type": "execute_result"
    }
   ],
   "source": [
    "df"
   ]
  },
  {
   "cell_type": "code",
   "execution_count": 58,
   "metadata": {
    "collapsed": false
   },
   "outputs": [
    {
     "data": {
      "text/plain": [
       "[23.25, 0.255, 1.5, 2.625]"
      ]
     },
     "execution_count": 58,
     "metadata": {},
     "output_type": "execute_result"
    }
   ],
   "source": [
    "maxes"
   ]
  },
  {
   "cell_type": "code",
   "execution_count": null,
   "metadata": {
    "collapsed": true
   },
   "outputs": [],
   "source": []
  },
  {
   "cell_type": "code",
   "execution_count": null,
   "metadata": {
    "collapsed": true
   },
   "outputs": [],
   "source": [
    "produce_settings_dict([''])"
   ]
  },
  {
   "cell_type": "code",
   "execution_count": null,
   "metadata": {
    "collapsed": true
   },
   "outputs": [],
   "source": [
    " 'fs': 0.23499999999999999,\n",
    " 't1': 0.5,\n",
    " 't3': 22.25,\n",
    " 'tts': 2.125}"
   ]
  },
  {
   "cell_type": "code",
   "execution_count": null,
   "metadata": {
    "collapsed": true
   },
   "outputs": [],
   "source": [
    "#x = produce_settings_dicts(['t3', 'fs',  't1', 'tts'], \n",
    "#                           [23,   0.15,  0.5,  0.5], \n",
    "#                           [27,   0.21,  4.5,  2.5],\n",
    "#                           [0.5,  0.01,  0.5,  0.25],  \n",
    "#                           200, **p)\n",
    "\n"
   ]
  },
  {
   "cell_type": "code",
   "execution_count": null,
   "metadata": {
    "collapsed": true
   },
   "outputs": [],
   "source": []
  },
  {
   "cell_type": "code",
   "execution_count": null,
   "metadata": {
    "collapsed": true
   },
   "outputs": [],
   "source": [
    "n_spread = 2"
   ]
  },
  {
   "cell_type": "code",
   "execution_count": null,
   "metadata": {
    "collapsed": true
   },
   "outputs": [],
   "source": [
    "step_size = []"
   ]
  },
  {
   "cell_type": "code",
   "execution_count": null,
   "metadata": {
    "collapsed": true
   },
   "outputs": [],
   "source": [
    "lower_bound = "
   ]
  },
  {
   "cell_type": "code",
   "execution_count": null,
   "metadata": {
    "collapsed": true
   },
   "outputs": [],
   "source": [
    "grid = produce_settings_dicts(['t3', 'fs',  't1', 'tts'], lower_bound, upper_bound, step_size, job_size, **p)"
   ]
  },
  {
   "cell_type": "code",
   "execution_count": 38,
   "metadata": {
    "collapsed": false
   },
   "outputs": [
    {
     "name": "stdout",
     "output_type": "stream",
     "text": [
      "Warning: stored_stat not found, will revert to computing again...\n"
     ]
    },
    {
     "ename": "KeyboardInterrupt",
     "evalue": "",
     "output_type": "error",
     "traceback": [
      "\u001b[0;31m---------------------------------------------------------------------------\u001b[0m",
      "\u001b[0;31mKeyboardInterrupt\u001b[0m                         Traceback (most recent call last)",
      "\u001b[0;32m<ipython-input-38-0a039d672515>\u001b[0m in \u001b[0;36m<module>\u001b[0;34m()\u001b[0m\n\u001b[1;32m      1\u001b[0m \u001b[0;31m# for p in dicts:\u001b[0m\u001b[0;34m\u001b[0m\u001b[0;34m\u001b[0m\u001b[0m\n\u001b[1;32m      2\u001b[0m \u001b[0mmodel\u001b[0m\u001b[0;34m,\u001b[0m \u001b[0msyst_err\u001b[0m\u001b[0;34m,\u001b[0m \u001b[0mspe_err\u001b[0m \u001b[0;34m=\u001b[0m \u001b[0ms1_models_error\u001b[0m\u001b[0;34m(\u001b[0m\u001b[0;34m**\u001b[0m\u001b[0mp\u001b[0m\u001b[0;34m)\u001b[0m\u001b[0;34m\u001b[0m\u001b[0m\n\u001b[0;32m----> 3\u001b[0;31m \u001b[0mchi2\u001b[0m \u001b[0;34m=\u001b[0m \u001b[0mgof_manual\u001b[0m\u001b[0;34m(\u001b[0m\u001b[0mavg\u001b[0m\u001b[0;34m,\u001b[0m \u001b[0mmodel\u001b[0m\u001b[0;34m,\u001b[0m \u001b[0msyst_err\u001b[0m\u001b[0;34m,\u001b[0m \u001b[0mspe_err\u001b[0m\u001b[0;34m,\u001b[0m \u001b[0;34m**\u001b[0m\u001b[0mp\u001b[0m\u001b[0;34m)\u001b[0m\u001b[0;34m\u001b[0m\u001b[0m\n\u001b[0m",
      "\u001b[0;32m<ipython-input-1-128ac7c1a059>\u001b[0m in \u001b[0;36mgof_manual\u001b[0;34m(ydata, model, syst_err, spe_err, verbose, **params)\u001b[0m\n\u001b[1;32m      1\u001b[0m \u001b[0;32mdef\u001b[0m \u001b[0mgof_manual\u001b[0m\u001b[0;34m(\u001b[0m\u001b[0mydata\u001b[0m\u001b[0;34m,\u001b[0m \u001b[0mmodel\u001b[0m\u001b[0;34m,\u001b[0m \u001b[0msyst_err\u001b[0m\u001b[0;34m,\u001b[0m \u001b[0mspe_err\u001b[0m\u001b[0;34m,\u001b[0m \u001b[0mverbose\u001b[0m\u001b[0;34m=\u001b[0m\u001b[0;32mTrue\u001b[0m\u001b[0;34m,\u001b[0m \u001b[0;34m**\u001b[0m\u001b[0mparams\u001b[0m\u001b[0;34m)\u001b[0m\u001b[0;34m:\u001b[0m\u001b[0;34m\u001b[0m\u001b[0m\n\u001b[1;32m      2\u001b[0m     \u001b[0mparams\u001b[0m \u001b[0;34m=\u001b[0m \u001b[0mget_params\u001b[0m\u001b[0;34m(\u001b[0m\u001b[0mparams\u001b[0m\u001b[0;34m)\u001b[0m\u001b[0;34m\u001b[0m\u001b[0m\n\u001b[0;32m----> 3\u001b[0;31m     \u001b[0mres\u001b[0m \u001b[0;34m=\u001b[0m \u001b[0mresiduals\u001b[0m\u001b[0;34m(\u001b[0m\u001b[0mydata\u001b[0m\u001b[0;34m,\u001b[0m \u001b[0mmodel\u001b[0m\u001b[0;34m,\u001b[0m \u001b[0msyst_err\u001b[0m\u001b[0;34m,\u001b[0m \u001b[0mspe_err\u001b[0m\u001b[0;34m,\u001b[0m \u001b[0;34m**\u001b[0m\u001b[0mparams\u001b[0m\u001b[0;34m)\u001b[0m\u001b[0;34m\u001b[0m\u001b[0m\n\u001b[0m\u001b[1;32m      4\u001b[0m     \u001b[0;32massert\u001b[0m \u001b[0mlen\u001b[0m\u001b[0;34m(\u001b[0m\u001b[0mres\u001b[0m\u001b[0;34m)\u001b[0m \u001b[0;34m==\u001b[0m \u001b[0mlen\u001b[0m\u001b[0;34m(\u001b[0m\u001b[0mspe_ts\u001b[0m\u001b[0;34m)\u001b[0m\u001b[0;34m\u001b[0m\u001b[0m\n\u001b[1;32m      5\u001b[0m     \u001b[0mres\u001b[0m \u001b[0;34m=\u001b[0m \u001b[0mres\u001b[0m\u001b[0;34m[\u001b[0m\u001b[0;34m(\u001b[0m\u001b[0mspe_ts\u001b[0m \u001b[0;34m>=\u001b[0m \u001b[0mparams\u001b[0m\u001b[0;34m[\u001b[0m\u001b[0;34m't_min'\u001b[0m\u001b[0;34m]\u001b[0m\u001b[0;34m)\u001b[0m \u001b[0;34m&\u001b[0m \u001b[0;34m(\u001b[0m\u001b[0mspe_ts\u001b[0m \u001b[0;34m<\u001b[0m \u001b[0mparams\u001b[0m\u001b[0;34m[\u001b[0m\u001b[0;34m't_max'\u001b[0m\u001b[0;34m]\u001b[0m\u001b[0;34m)\u001b[0m\u001b[0;34m]\u001b[0m\u001b[0;34m\u001b[0m\u001b[0m\n",
      "\u001b[0;32m<ipython-input-1-53458ad9ad48>\u001b[0m in \u001b[0;36mresiduals\u001b[0;34m(ydata, model, syst_err, spe_err, **params)\u001b[0m\n\u001b[1;32m      1\u001b[0m \u001b[0;32mdef\u001b[0m \u001b[0mresiduals\u001b[0m\u001b[0;34m(\u001b[0m\u001b[0mydata\u001b[0m\u001b[0;34m,\u001b[0m \u001b[0mmodel\u001b[0m\u001b[0;34m,\u001b[0m \u001b[0msyst_err\u001b[0m\u001b[0;34m,\u001b[0m \u001b[0mspe_err\u001b[0m\u001b[0;34m,\u001b[0m \u001b[0;34m**\u001b[0m\u001b[0mparams\u001b[0m\u001b[0;34m)\u001b[0m\u001b[0;34m:\u001b[0m\u001b[0;34m\u001b[0m\u001b[0m\n\u001b[1;32m      2\u001b[0m     \u001b[0mparams\u001b[0m \u001b[0;34m=\u001b[0m \u001b[0mget_params\u001b[0m\u001b[0;34m(\u001b[0m\u001b[0mparams\u001b[0m\u001b[0;34m)\u001b[0m\u001b[0;34m\u001b[0m\u001b[0m\n\u001b[0;32m----> 3\u001b[0;31m     \u001b[0msigma\u001b[0m \u001b[0;34m=\u001b[0m \u001b[0mget_sigma\u001b[0m\u001b[0;34m(\u001b[0m\u001b[0mmodel\u001b[0m\u001b[0;34m,\u001b[0m \u001b[0msyst_err\u001b[0m\u001b[0;34m,\u001b[0m \u001b[0mspe_err\u001b[0m\u001b[0;34m,\u001b[0m \u001b[0;34m**\u001b[0m\u001b[0mparams\u001b[0m\u001b[0;34m)\u001b[0m\u001b[0;34m\u001b[0m\u001b[0m\n\u001b[0m\u001b[1;32m      4\u001b[0m     \u001b[0;32mif\u001b[0m \u001b[0;36m0.\u001b[0m \u001b[0;32min\u001b[0m \u001b[0msigma\u001b[0m\u001b[0;34m:\u001b[0m\u001b[0;34m\u001b[0m\u001b[0m\n\u001b[1;32m      5\u001b[0m         \u001b[0mzero_positions\u001b[0m \u001b[0;34m=\u001b[0m \u001b[0mnp\u001b[0m\u001b[0;34m.\u001b[0m\u001b[0mwhere\u001b[0m\u001b[0;34m(\u001b[0m\u001b[0msigma\u001b[0m \u001b[0;34m==\u001b[0m \u001b[0;36m0\u001b[0m\u001b[0;34m)\u001b[0m\u001b[0;34m\u001b[0m\u001b[0m\n",
      "\u001b[0;32m<ipython-input-1-53458ad9ad48>\u001b[0m in \u001b[0;36mget_sigma\u001b[0;34m(model, syst_err, spe_err, **params)\u001b[0m\n\u001b[1;32m     18\u001b[0m         \u001b[0mprint\u001b[0m\u001b[0;34m(\u001b[0m\u001b[0;34m'Neglecting statistical error...'\u001b[0m\u001b[0;34m)\u001b[0m\u001b[0;34m\u001b[0m\u001b[0m\n\u001b[1;32m     19\u001b[0m         \u001b[0;32mreturn\u001b[0m \u001b[0mnp\u001b[0m\u001b[0;34m.\u001b[0m\u001b[0msqrt\u001b[0m\u001b[0;34m(\u001b[0m\u001b[0msyst_err\u001b[0m\u001b[0;34m**\u001b[0m\u001b[0;36m2\u001b[0m \u001b[0;34m+\u001b[0m \u001b[0mspe_err\u001b[0m\u001b[0;34m**\u001b[0m\u001b[0;36m2\u001b[0m\u001b[0;34m)\u001b[0m\u001b[0;34m\u001b[0m\u001b[0m\n\u001b[0;32m---> 20\u001b[0;31m     \u001b[0msigma_stat\u001b[0m \u001b[0;34m=\u001b[0m \u001b[0mreal_s1_wv_sigma\u001b[0m\u001b[0;34m(\u001b[0m\u001b[0;34m**\u001b[0m\u001b[0mparams\u001b[0m\u001b[0;34m)\u001b[0m\u001b[0;34m\u001b[0m\u001b[0m\n\u001b[0m\u001b[1;32m     21\u001b[0m     sigma = np.sqrt(syst_err**2 + spe_err**2 + sigma_stat**2 + \n\u001b[1;32m     22\u001b[0m                     params['error_offset']**2) #  + (model * params['error_pct'])**2\n",
      "\u001b[0;32m<ipython-input-1-edbbc1ed8d7e>\u001b[0m in \u001b[0;36mreal_s1_wv_sigma\u001b[0;34m(**params)\u001b[0m\n\u001b[1;32m     16\u001b[0m \u001b[0;34m\u001b[0m\u001b[0m\n\u001b[1;32m     17\u001b[0m         waveform_templates[:, i] = average_pulse(time_matrix[:, new_indices], \n\u001b[0;32m---> 18\u001b[0;31m                                                  wv_matrix[:, new_indices], **params)\n\u001b[0m\u001b[1;32m     19\u001b[0m \u001b[0;34m\u001b[0m\u001b[0m\n\u001b[1;32m     20\u001b[0m \u001b[0;34m\u001b[0m\u001b[0m\n",
      "\u001b[0;32m<ipython-input-1-45a3138dadab>\u001b[0m in \u001b[0;36maverage_pulse\u001b[0;34m(time_matrix, wv_matrix, **params)\u001b[0m\n\u001b[1;32m    208\u001b[0m     \u001b[0;34m\"\"\"Return average pulse, given time and waveform matrices\"\"\"\u001b[0m\u001b[0;34m\u001b[0m\u001b[0m\n\u001b[1;32m    209\u001b[0m     \u001b[0mparams\u001b[0m \u001b[0;34m=\u001b[0m \u001b[0mget_params\u001b[0m\u001b[0;34m(\u001b[0m\u001b[0mparams\u001b[0m\u001b[0;34m)\u001b[0m\u001b[0;34m\u001b[0m\u001b[0m\n\u001b[0;32m--> 210\u001b[0;31m     \u001b[0mh\u001b[0m\u001b[0;34m,\u001b[0m \u001b[0m_\u001b[0m     \u001b[0;34m=\u001b[0m \u001b[0mnp\u001b[0m\u001b[0;34m.\u001b[0m\u001b[0mhistogram\u001b[0m\u001b[0;34m(\u001b[0m\u001b[0mtime_matrix\u001b[0m\u001b[0;34m,\u001b[0m \u001b[0mbins\u001b[0m\u001b[0;34m=\u001b[0m\u001b[0mspe_t_edges\u001b[0m\u001b[0;34m,\u001b[0m \u001b[0mweights\u001b[0m\u001b[0;34m=\u001b[0m\u001b[0mwv_matrix\u001b[0m\u001b[0;34m)\u001b[0m\u001b[0;34m\u001b[0m\u001b[0m\n\u001b[0m\u001b[1;32m    211\u001b[0m     \u001b[0;31m# normalize within time range\u001b[0m\u001b[0;34m\u001b[0m\u001b[0;34m\u001b[0m\u001b[0m\n\u001b[1;32m    212\u001b[0m     \u001b[0msel\u001b[0m  \u001b[0;34m=\u001b[0m \u001b[0;34m(\u001b[0m\u001b[0mspe_ts\u001b[0m \u001b[0;34m>=\u001b[0m \u001b[0mparams\u001b[0m\u001b[0;34m[\u001b[0m\u001b[0;34m't_min'\u001b[0m\u001b[0;34m]\u001b[0m\u001b[0;34m)\u001b[0m \u001b[0;34m&\u001b[0m \u001b[0;34m(\u001b[0m\u001b[0mspe_ts\u001b[0m \u001b[0;34m<\u001b[0m \u001b[0mparams\u001b[0m\u001b[0;34m[\u001b[0m\u001b[0;34m't_max'\u001b[0m\u001b[0;34m]\u001b[0m\u001b[0;34m)\u001b[0m\u001b[0;34m\u001b[0m\u001b[0m\n",
      "\u001b[0;32m/home/erik/anaconda3/envs/pax_new/lib/python3.4/site-packages/numpy/lib/function_base.py\u001b[0m in \u001b[0;36mhistogram\u001b[0;34m(a, bins, range, normed, weights, density)\u001b[0m\n\u001b[1;32m    632\u001b[0m                 \u001b[0mtmp_a\u001b[0m \u001b[0;34m=\u001b[0m \u001b[0ma\u001b[0m\u001b[0;34m[\u001b[0m\u001b[0mi\u001b[0m\u001b[0;34m:\u001b[0m\u001b[0mi\u001b[0m\u001b[0;34m+\u001b[0m\u001b[0mBLOCK\u001b[0m\u001b[0;34m]\u001b[0m\u001b[0;34m\u001b[0m\u001b[0m\n\u001b[1;32m    633\u001b[0m                 \u001b[0mtmp_w\u001b[0m \u001b[0;34m=\u001b[0m \u001b[0mweights\u001b[0m\u001b[0;34m[\u001b[0m\u001b[0mi\u001b[0m\u001b[0;34m:\u001b[0m\u001b[0mi\u001b[0m\u001b[0;34m+\u001b[0m\u001b[0mBLOCK\u001b[0m\u001b[0;34m]\u001b[0m\u001b[0;34m\u001b[0m\u001b[0m\n\u001b[0;32m--> 634\u001b[0;31m                 \u001b[0msorting_index\u001b[0m \u001b[0;34m=\u001b[0m \u001b[0mnp\u001b[0m\u001b[0;34m.\u001b[0m\u001b[0margsort\u001b[0m\u001b[0;34m(\u001b[0m\u001b[0mtmp_a\u001b[0m\u001b[0;34m)\u001b[0m\u001b[0;34m\u001b[0m\u001b[0m\n\u001b[0m\u001b[1;32m    635\u001b[0m                 \u001b[0msa\u001b[0m \u001b[0;34m=\u001b[0m \u001b[0mtmp_a\u001b[0m\u001b[0;34m[\u001b[0m\u001b[0msorting_index\u001b[0m\u001b[0;34m]\u001b[0m\u001b[0;34m\u001b[0m\u001b[0m\n\u001b[1;32m    636\u001b[0m                 \u001b[0msw\u001b[0m \u001b[0;34m=\u001b[0m \u001b[0mtmp_w\u001b[0m\u001b[0;34m[\u001b[0m\u001b[0msorting_index\u001b[0m\u001b[0;34m]\u001b[0m\u001b[0;34m\u001b[0m\u001b[0m\n",
      "\u001b[0;32m/home/erik/anaconda3/envs/pax_new/lib/python3.4/site-packages/numpy/core/fromnumeric.py\u001b[0m in \u001b[0;36margsort\u001b[0;34m(a, axis, kind, order)\u001b[0m\n\u001b[1;32m    911\u001b[0m     \u001b[0;32mexcept\u001b[0m \u001b[0mAttributeError\u001b[0m\u001b[0;34m:\u001b[0m\u001b[0;34m\u001b[0m\u001b[0m\n\u001b[1;32m    912\u001b[0m         \u001b[0;32mreturn\u001b[0m \u001b[0m_wrapit\u001b[0m\u001b[0;34m(\u001b[0m\u001b[0ma\u001b[0m\u001b[0;34m,\u001b[0m \u001b[0;34m'argsort'\u001b[0m\u001b[0;34m,\u001b[0m \u001b[0maxis\u001b[0m\u001b[0;34m,\u001b[0m \u001b[0mkind\u001b[0m\u001b[0;34m,\u001b[0m \u001b[0morder\u001b[0m\u001b[0;34m)\u001b[0m\u001b[0;34m\u001b[0m\u001b[0m\n\u001b[0;32m--> 913\u001b[0;31m     \u001b[0;32mreturn\u001b[0m \u001b[0margsort\u001b[0m\u001b[0;34m(\u001b[0m\u001b[0maxis\u001b[0m\u001b[0;34m,\u001b[0m \u001b[0mkind\u001b[0m\u001b[0;34m,\u001b[0m \u001b[0morder\u001b[0m\u001b[0;34m)\u001b[0m\u001b[0;34m\u001b[0m\u001b[0m\n\u001b[0m\u001b[1;32m    914\u001b[0m \u001b[0;34m\u001b[0m\u001b[0m\n\u001b[1;32m    915\u001b[0m \u001b[0;34m\u001b[0m\u001b[0m\n",
      "\u001b[0;31mKeyboardInterrupt\u001b[0m: "
     ]
    }
   ],
   "source": [
    "# for p in dicts:\n",
    "model, syst_err, spe_err = s1_models_error(**p)\n",
    "chi2 = gof_manual(avg, model, syst_err, spe_err, **p)"
   ]
  },
  {
   "cell_type": "code",
   "execution_count": 37,
   "metadata": {
    "collapsed": false
   },
   "outputs": [
    {
     "data": {
      "text/plain": [
       "0.084575957447099004"
      ]
     },
     "execution_count": 37,
     "metadata": {},
     "output_type": "execute_result"
    }
   ],
   "source": [
    "chi2"
   ]
  },
  {
   "cell_type": "code",
   "execution_count": null,
   "metadata": {
    "collapsed": true
   },
   "outputs": [],
   "source": [
    "gof_manual(ydata = avg, model, syst_err, spe_err, verbose=True):"
   ]
  },
  {
   "cell_type": "code",
   "execution_count": null,
   "metadata": {
    "collapsed": true
   },
   "outputs": [],
   "source": [
    " 'fs': 0.23499999999999999,\n",
    " 't1': 0.5,\n",
    " 't3': 22.25,\n",
    " 'tts': 2.125"
   ]
  }
 ],
 "metadata": {
  "kernelspec": {
   "display_name": "Python 3",
   "language": "python",
   "name": "python3"
  },
  "language_info": {
   "codemirror_mode": {
    "name": "ipython",
    "version": 3
   },
   "file_extension": ".py",
   "mimetype": "text/x-python",
   "name": "python",
   "nbconvert_exporter": "python",
   "pygments_lexer": "ipython3",
   "version": "3.4.5"
  },
  "latex_envs": {
   "bibliofile": "biblio.bib",
   "cite_by": "apalike",
   "current_citInitial": 1,
   "eqLabelWithNumbers": true,
   "eqNumInitial": 0
  }
 },
 "nbformat": 4,
 "nbformat_minor": 2
}
