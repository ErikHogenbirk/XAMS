{
 "cells": [
  {
   "cell_type": "markdown",
   "metadata": {},
   "source": [
    "## Imports"
   ]
  },
  {
   "cell_type": "code",
   "execution_count": 83,
   "metadata": {
    "collapsed": false
   },
   "outputs": [],
   "source": [
    "%run 'psd_mc_functions.ipynb'\n",
    "\n",
    "import matplotlib\n",
    "%matplotlib inline\n",
    "import matplotlib.pyplot as plt\n",
    "import os"
   ]
  },
  {
   "cell_type": "code",
   "execution_count": 2,
   "metadata": {
    "collapsed": true
   },
   "outputs": [],
   "source": [
    "import pandas as pd"
   ]
  },
  {
   "cell_type": "markdown",
   "metadata": {},
   "source": [
    "## Functions"
   ]
  },
  {
   "cell_type": "code",
   "execution_count": 158,
   "metadata": {
    "collapsed": true
   },
   "outputs": [],
   "source": [
    "def read_pickles(dirname, base_name, max_i = None):\n",
    "    if max_i is None:\n",
    "        fns = os.listdir(dirname)\n",
    "        fns = [os.path.join(dirname, fn) for fn in fns if base_name in fn]\n",
    "        fns = np.sort(fns)\n",
    "    else:\n",
    "        fns = [os.path.join(dirname, base_name + '_%03d.pickle' % i) for i in range(max_i)]\n",
    "    dicts = []\n",
    "    for fn in fns:\n",
    "        with open(fn, 'rb') as f:\n",
    "            dicts.append(pickle.load(f))\n",
    "    dicts =  np.concatenate(dicts)\n",
    "    df = pd.DataFrame(list(dicts))\n",
    "    if df.isnull().values.any():\n",
    "        print('Warning: found some NaNs or Nones in the dataframe. Maybe check your computation results?')\n",
    "    print('Read %d datapoints from %d files.' % (len(df), len(fns)))\n",
    "    return df\n",
    "\n"
   ]
  },
  {
   "cell_type": "code",
   "execution_count": 4,
   "metadata": {
    "collapsed": true
   },
   "outputs": [],
   "source": [
    "def parslice_2d(df, x, y, **kwargs):\n",
    "    '''\n",
    "    Plot the minimum values of chi2 for two variables (i.e. a projection of the minimum onto the 2d slice)\n",
    "    '''\n",
    "    grouped = df.groupby(by = (x, y)).min()\n",
    "    grouped[x] = grouped.index.get_level_values(x)\n",
    "    grouped[y] = grouped.index.get_level_values(y)\n",
    "    plt.scatter(grouped[x], grouped[y], c= grouped['chi2'], **kwargs)\n",
    "    plt.xlabel(x)\n",
    "    plt.ylabel(y)\n",
    "    plt.colorbar(label='chi2/ndf')\n",
    "    plt.show()"
   ]
  },
  {
   "cell_type": "code",
   "execution_count": 74,
   "metadata": {
    "collapsed": true
   },
   "outputs": [],
   "source": [
    "def plot_all_slices(df, **kwargs):\n",
    "    '''\n",
    "    Inspect the 2d slices to find the minimum.\n",
    "    '''\n",
    "    x, y = ('t3', 'fs')\n",
    "    parslice_2d(df, x, y, **kwargs)\n",
    "    x, y = ('t1', 'tts')\n",
    "    parslice_2d(df, x, y, **kwargs)\n",
    "    x, y = ('t1', 't3')\n",
    "    parslice_2d(df, x, y, **kwargs)\n",
    "#     x, y = ('t3', 'tts')\n",
    "#     parslice_2d(df, x, y, **kwargs)\n",
    "#     x, y = ('fs', 'tts')\n",
    "#     parslice_2d(df, x, y, **kwargs)\n",
    "    return"
   ]
  },
  {
   "cell_type": "code",
   "execution_count": 6,
   "metadata": {
    "collapsed": true
   },
   "outputs": [],
   "source": [
    "def plot_slice_containing_point(df, x, y, row, **kwargs):\n",
    "    df_sel = deepcopy(df)\n",
    "    for key in row.keys():\n",
    "        if (key == x) or (key == y) or (key=='chi2'):\n",
    "            continue\n",
    "        df_sel = df_sel[df_sel[key] == row[key]]\n",
    "    plt.scatter(df_sel[x], df_sel[y], c= df_sel['chi2'], **kwargs)\n",
    "    plt.xlabel(x)\n",
    "    plt.ylabel(y)\n",
    "    plt.colorbar(label='chi2/ndf')\n",
    "    plt.show()"
   ]
  },
  {
   "cell_type": "code",
   "execution_count": 163,
   "metadata": {
    "collapsed": true
   },
   "outputs": [],
   "source": [
    "def read_and_combine(dirname, list_of_base):\n",
    "    df_list = []\n",
    "    for base_name in list_of_base:\n",
    "        df_list.append(read_pickles(dirname, base_name))\n",
    "    df = pd.concat(df_list)\n",
    "    return df"
   ]
  },
  {
   "cell_type": "code",
   "execution_count": 119,
   "metadata": {
    "collapsed": true
   },
   "outputs": [],
   "source": [
    "def get_some_minima(df, n_values):\n",
    "    selected_minima = df.sort_values(by = 'chi2')[:n_values]\n",
    "    print('Selected %d values with chi2 ranging from %.2f to %.2f...' % (len(selected_minima), \n",
    "                                                                         selected_minima['chi2'].min(),\n",
    "                                                                        selected_minima['chi2'].max()))\n",
    "    return deepcopy(selected_minima)"
   ]
  },
  {
   "cell_type": "code",
   "execution_count": 150,
   "metadata": {
    "collapsed": true
   },
   "outputs": [],
   "source": [
    "def check_minima(df, n_values, check_times):\n",
    "    electa = get_some_minima(df, n_values)\n",
    "    electa['ranking_before'] = range(len(electa))\n",
    "    chi2_new = []\n",
    "    for index, settings in electa.iterrows():\n",
    "        print('Working on setting %d' % index)\n",
    "        settings = dict(settings)\n",
    "        gofs = [gof(**settings) for _ in range(check_times)]\n",
    "        chi2_new.append(np.average(gofs))\n",
    "    electa['chi2_new_%d_times' % check_times] = chi2_new\n",
    "    electa = electa.sort_values(by = 'chi2_new_%d_times' % check_times)\n",
    "    electa['ranking_after'] = range(len(electa))\n",
    "    electa = electa.sort_values(by='chi2')\n",
    "    changed = electa['ranking_before'] != electa['ranking_after']\n",
    "    if sum(changed) != 0:\n",
    "        print('Warning: I detected a changing order!')\n",
    "    return electa\n"
   ]
  },
  {
   "cell_type": "markdown",
   "metadata": {},
   "source": [
    "## Read data"
   ]
  },
  {
   "cell_type": "code",
   "execution_count": 201,
   "metadata": {
    "collapsed": false
   },
   "outputs": [
    {
     "name": "stdout",
     "output_type": "stream",
     "text": [
      "Read 4459 datapoints from 17 files.\n"
     ]
    }
   ],
   "source": [
    "df = read_pickles('/data/xenon/ehogenbi/pulsefit/processing_pickles/', 'highstat_withsys_er')\n",
    "# df = read_and_combine('/data/xenon/ehogenbi/pulsefit/processing_pickles', \n",
    "#                       ['highstat_withsys_nr', 'highstat_withsys_nr2', 'highstat_withsys_nr2'])"
   ]
  },
  {
   "cell_type": "markdown",
   "metadata": {},
   "source": [
    "### The Best Fit Point"
   ]
  },
  {
   "cell_type": "code",
   "execution_count": 202,
   "metadata": {
    "collapsed": false
   },
   "outputs": [
    {
     "data": {
      "image/png": "[encoded data removed]",
      "text/plain": [
       "<matplotlib.figure.Figure at 0x7fa2eb776ef0>"
      ]
     },
     "metadata": {},
     "output_type": "display_data"
    },
    {
     "data": {
      "image/png": "[encoded data removed]",
      "text/plain": [
       "<matplotlib.figure.Figure at 0x7fa2f2cdf908>"
      ]
     },
     "metadata": {},
     "output_type": "display_data"
    },
    {
     "data": {
      "image/png": "[encoded data removed]",
      "text/plain": [
       "<matplotlib.figure.Figure at 0x7fa2ed659320>"
      ]
     },
     "metadata": {},
     "output_type": "display_data"
    }
   ],
   "source": [
    "plot_all_slices(df, vmax=1.8)"
   ]
  },
  {
   "cell_type": "code",
   "execution_count": 203,
   "metadata": {
    "collapsed": false
   },
   "outputs": [],
   "source": [
    "minrow = df.iloc[df['chi2'].argmin()]"
   ]
  },
  {
   "cell_type": "code",
   "execution_count": 204,
   "metadata": {
    "collapsed": false
   },
   "outputs": [
    {
     "data": {
      "text/plain": [
       "{'bootstrap_trials': 250,\n",
       " 'chi2': 1.2889927184130863,\n",
       " 'fs': 0.17999999999999999,\n",
       " 'n_photons': 2000000,\n",
       " 'neglect_systematic': False,\n",
       " 't1': 1.5,\n",
       " 't3': 24.0,\n",
       " 'tts': 2.0}"
      ]
     },
     "execution_count": 204,
     "metadata": {},
     "output_type": "execute_result"
    }
   ],
   "source": [
    "dict(minrow)"
   ]
  },
  {
   "cell_type": "code",
   "execution_count": 181,
   "metadata": {
    "collapsed": false
   },
   "outputs": [
    {
     "name": "stdout",
     "output_type": "stream",
     "text": [
      "Selected 10 values with chi2 ranging from 1.27 to 1.51...\n"
     ]
    },
    {
     "data": {
      "text/html": [
       "<div>\n",
       "<table border=\"1\" class=\"dataframe\">\n",
       "  <thead>\n",
       "    <tr style=\"text-align: right;\">\n",
       "      <th></th>\n",
       "      <th>bootstrap_trials</th>\n",
       "      <th>chi2</th>\n",
       "      <th>dset</th>\n",
       "      <th>fs</th>\n",
       "      <th>n_photons</th>\n",
       "      <th>neglect_systematic</th>\n",
       "      <th>t1</th>\n",
       "      <th>t3</th>\n",
       "      <th>tts</th>\n",
       "    </tr>\n",
       "  </thead>\n",
       "  <tbody>\n",
       "    <tr>\n",
       "      <th>107</th>\n",
       "      <td>250</td>\n",
       "      <td>1.273933</td>\n",
       "      <td>nr</td>\n",
       "      <td>0.22</td>\n",
       "      <td>2000000</td>\n",
       "      <td>False</td>\n",
       "      <td>1.5</td>\n",
       "      <td>21.0</td>\n",
       "      <td>1.50</td>\n",
       "    </tr>\n",
       "    <tr>\n",
       "      <th>107</th>\n",
       "      <td>250</td>\n",
       "      <td>1.273933</td>\n",
       "      <td>nr</td>\n",
       "      <td>0.22</td>\n",
       "      <td>2000000</td>\n",
       "      <td>False</td>\n",
       "      <td>1.5</td>\n",
       "      <td>21.0</td>\n",
       "      <td>1.50</td>\n",
       "    </tr>\n",
       "    <tr>\n",
       "      <th>107</th>\n",
       "      <td>250</td>\n",
       "      <td>1.273933</td>\n",
       "      <td>nr</td>\n",
       "      <td>0.22</td>\n",
       "      <td>2000000</td>\n",
       "      <td>False</td>\n",
       "      <td>1.5</td>\n",
       "      <td>21.0</td>\n",
       "      <td>1.50</td>\n",
       "    </tr>\n",
       "    <tr>\n",
       "      <th>591</th>\n",
       "      <td>250</td>\n",
       "      <td>1.282838</td>\n",
       "      <td>nr</td>\n",
       "      <td>0.24</td>\n",
       "      <td>2000000</td>\n",
       "      <td>False</td>\n",
       "      <td>1.0</td>\n",
       "      <td>21.5</td>\n",
       "      <td>1.75</td>\n",
       "    </tr>\n",
       "    <tr>\n",
       "      <th>591</th>\n",
       "      <td>250</td>\n",
       "      <td>1.282838</td>\n",
       "      <td>nr</td>\n",
       "      <td>0.24</td>\n",
       "      <td>2000000</td>\n",
       "      <td>False</td>\n",
       "      <td>1.0</td>\n",
       "      <td>21.5</td>\n",
       "      <td>1.75</td>\n",
       "    </tr>\n",
       "    <tr>\n",
       "      <th>591</th>\n",
       "      <td>250</td>\n",
       "      <td>1.282838</td>\n",
       "      <td>nr</td>\n",
       "      <td>0.24</td>\n",
       "      <td>2000000</td>\n",
       "      <td>False</td>\n",
       "      <td>1.0</td>\n",
       "      <td>21.5</td>\n",
       "      <td>1.75</td>\n",
       "    </tr>\n",
       "    <tr>\n",
       "      <th>653</th>\n",
       "      <td>250</td>\n",
       "      <td>1.292329</td>\n",
       "      <td>nr</td>\n",
       "      <td>0.24</td>\n",
       "      <td>2000000</td>\n",
       "      <td>False</td>\n",
       "      <td>2.0</td>\n",
       "      <td>22.0</td>\n",
       "      <td>1.50</td>\n",
       "    </tr>\n",
       "    <tr>\n",
       "      <th>653</th>\n",
       "      <td>250</td>\n",
       "      <td>1.292329</td>\n",
       "      <td>nr</td>\n",
       "      <td>0.24</td>\n",
       "      <td>2000000</td>\n",
       "      <td>False</td>\n",
       "      <td>2.0</td>\n",
       "      <td>22.0</td>\n",
       "      <td>1.50</td>\n",
       "    </tr>\n",
       "    <tr>\n",
       "      <th>653</th>\n",
       "      <td>250</td>\n",
       "      <td>1.292329</td>\n",
       "      <td>nr</td>\n",
       "      <td>0.24</td>\n",
       "      <td>2000000</td>\n",
       "      <td>False</td>\n",
       "      <td>2.0</td>\n",
       "      <td>22.0</td>\n",
       "      <td>1.50</td>\n",
       "    </tr>\n",
       "    <tr>\n",
       "      <th>542</th>\n",
       "      <td>250</td>\n",
       "      <td>1.511376</td>\n",
       "      <td>nr</td>\n",
       "      <td>0.24</td>\n",
       "      <td>2000000</td>\n",
       "      <td>False</td>\n",
       "      <td>1.0</td>\n",
       "      <td>21.0</td>\n",
       "      <td>1.75</td>\n",
       "    </tr>\n",
       "  </tbody>\n",
       "</table>\n",
       "</div>"
      ],
      "text/plain": [
       "     bootstrap_trials      chi2 dset    fs  n_photons neglect_systematic   t1  \\\n",
       "107               250  1.273933   nr  0.22    2000000              False  1.5   \n",
       "107               250  1.273933   nr  0.22    2000000              False  1.5   \n",
       "107               250  1.273933   nr  0.22    2000000              False  1.5   \n",
       "591               250  1.282838   nr  0.24    2000000              False  1.0   \n",
       "591               250  1.282838   nr  0.24    2000000              False  1.0   \n",
       "591               250  1.282838   nr  0.24    2000000              False  1.0   \n",
       "653               250  1.292329   nr  0.24    2000000              False  2.0   \n",
       "653               250  1.292329   nr  0.24    2000000              False  2.0   \n",
       "653               250  1.292329   nr  0.24    2000000              False  2.0   \n",
       "542               250  1.511376   nr  0.24    2000000              False  1.0   \n",
       "\n",
       "       t3   tts  \n",
       "107  21.0  1.50  \n",
       "107  21.0  1.50  \n",
       "107  21.0  1.50  \n",
       "591  21.5  1.75  \n",
       "591  21.5  1.75  \n",
       "591  21.5  1.75  \n",
       "653  22.0  1.50  \n",
       "653  22.0  1.50  \n",
       "653  22.0  1.50  \n",
       "542  21.0  1.75  "
      ]
     },
     "execution_count": 181,
     "metadata": {},
     "output_type": "execute_result"
    }
   ],
   "source": [
    "get_some_minima(df, 10)"
   ]
  },
  {
   "cell_type": "code",
   "execution_count": 180,
   "metadata": {
    "collapsed": false
   },
   "outputs": [
    {
     "data": {
      "text/plain": [
       "bootstrap_trials          250\n",
       "chi2                  1.27393\n",
       "dset                       nr\n",
       "fs                       0.22\n",
       "n_photons             2000000\n",
       "neglect_systematic      False\n",
       "t1                        1.5\n",
       "t3                         21\n",
       "tts                       1.5\n",
       "Name: 107, dtype: object"
      ]
     },
     "execution_count": 180,
     "metadata": {},
     "output_type": "execute_result"
    }
   ],
   "source": [
    "minrow"
   ]
  },
  {
   "cell_type": "code",
   "execution_count": 171,
   "metadata": {
    "collapsed": false
   },
   "outputs": [
    {
     "data": {
      "image/png": "[encoded data removed]",
      "text/plain": [
       "<matplotlib.figure.Figure at 0x7fa2ed5fd128>"
      ]
     },
     "metadata": {},
     "output_type": "display_data"
    }
   ],
   "source": [
    "plot_slice_containing_point(df, 't3', 'fs', minrow, vmax=5)"
   ]
  },
  {
   "cell_type": "markdown",
   "metadata": {},
   "source": [
    "### Manual check of best fit point"
   ]
  },
  {
   "cell_type": "code",
   "execution_count": 92,
   "metadata": {
    "collapsed": false
   },
   "outputs": [
    {
     "name": "stdout",
     "output_type": "stream",
     "text": [
      "Warning: stored_stat not found, will revert to computing again...\n"
     ]
    }
   ],
   "source": [
    "# del stored_stat\n",
    "stored_stat = real_s1_wv_sigma(**minrow)"
   ]
  },
  {
   "cell_type": "code",
   "execution_count": 95,
   "metadata": {
    "collapsed": false
   },
   "outputs": [
    {
     "name": "stderr",
     "output_type": "stream",
     "text": [
      "/home/erik/anaconda3/envs/pax_new/lib/python3.4/site-packages/ipykernel/__main__.py:1: SettingWithCopyWarning: \n",
      "A value is trying to be set on a copy of a slice from a DataFrame\n",
      "\n",
      "See the caveats in the documentation: http://pandas.pydata.org/pandas-docs/stable/indexing.html#indexing-view-versus-copy\n",
      "  if __name__ == '__main__':\n",
      "/home/erik/anaconda3/envs/pax_new/lib/python3.4/site-packages/ipykernel/__main__.py:2: SettingWithCopyWarning: \n",
      "A value is trying to be set on a copy of a slice from a DataFrame\n",
      "\n",
      "See the caveats in the documentation: http://pandas.pydata.org/pandas-docs/stable/indexing.html#indexing-view-versus-copy\n",
      "  from ipykernel import kernelapp as app\n",
      "/home/erik/anaconda3/envs/pax_new/lib/python3.4/site-packages/pandas/core/series.py:749: SettingWithCopyWarning: \n",
      "A value is trying to be set on a copy of a slice from a DataFrame\n",
      "\n",
      "See the caveats in the documentation: http://pandas.pydata.org/pandas-docs/stable/indexing.html#indexing-view-versus-copy\n",
      "  self.loc[key] = value\n"
     ]
    },
    {
     "name": "stdout",
     "output_type": "stream",
     "text": [
      "{'fs': 0.25, 't3': 22.5, 't1': 2.0, 's1_model': 'two_exp', 's1_min': 30, 'chi2': 1.5963870847563295, 's1_sample': 'data', 'neglect_systematic': False, 'eta': 0.0, 't_min': -10.0, 'bootstrap_trials': 250, 'error_pct': 0.01, 'dset': 'nr', 'tr': 15, 's1_max': 100, 'error_offset': 0.0001, 'aft': 0.28, 'f_r': 0.0, 'fs_r': 0.2, 'tts': 1.5, 't_max': 125.0, 'stored_stat': True, 'n_photons': 2000000, 'neglect_statistical': False}\n",
      "Reading stat error from stored_stat parameter!\n"
     ]
    },
    {
     "data": {
      "image/png": "[encoded data removed]",
      "text/plain": [
       "<matplotlib.figure.Figure at 0x7fa2ed6590b8>"
      ]
     },
     "metadata": {},
     "output_type": "display_data"
    },
    {
     "name": "stdout",
     "output_type": "stream",
     "text": [
      "Reading stat error from stored_stat parameter!\n",
      "chi2 = 1.647148\n"
     ]
    },
    {
     "data": {
      "image/png": "[encoded data removed]",
      "text/plain": [
       "<matplotlib.figure.Figure at 0x7fa2f2d112b0>"
      ]
     },
     "metadata": {},
     "output_type": "display_data"
    }
   ],
   "source": [
    "minrow['error_offset'] = 1e-4\n",
    "minrow['error_pct'] = 0.01\n",
    "plot_model(**minrow)"
   ]
  },
  {
   "cell_type": "markdown",
   "metadata": {},
   "source": [
    "#### Check a few local minima"
   ]
  },
  {
   "cell_type": "markdown",
   "metadata": {},
   "source": [
    "We have seen some spread in the best fit point... Especially if close together. Here the following approach: take the best n fits, recompute chi2 and see if anything changes. If it does, maybe increase stats, but for these points only?"
   ]
  },
  {
   "cell_type": "code",
   "execution_count": 173,
   "metadata": {
    "collapsed": false
   },
   "outputs": [
    {
     "name": "stdout",
     "output_type": "stream",
     "text": [
      "Selected 5 values with chi2 ranging from 1.27 to 1.29...\n",
      "Working on setting 107\n",
      "Reading stat error from stored_stat parameter!\n",
      "gof=1.2190988163780587, fs=0.22, t1=1.5, t3=21.0, tts=1.5\n",
      "Reading stat error from stored_stat parameter!\n",
      "gof=1.2485126891707856, fs=0.22, t1=1.5, t3=21.0, tts=1.5\n",
      "Reading stat error from stored_stat parameter!\n",
      "gof=1.2837532115234893, fs=0.22, t1=1.5, t3=21.0, tts=1.5\n",
      "Reading stat error from stored_stat parameter!\n",
      "gof=1.2748591308164972, fs=0.22, t1=1.5, t3=21.0, tts=1.5\n",
      "Reading stat error from stored_stat parameter!\n",
      "gof=1.24463653903149, fs=0.22, t1=1.5, t3=21.0, tts=1.5\n",
      "Working on setting 107\n",
      "Reading stat error from stored_stat parameter!\n",
      "gof=1.2012328782598831, fs=0.22, t1=1.5, t3=21.0, tts=1.5\n",
      "Reading stat error from stored_stat parameter!\n",
      "gof=1.3235179053828903, fs=0.22, t1=1.5, t3=21.0, tts=1.5\n",
      "Reading stat error from stored_stat parameter!\n",
      "gof=1.2921495056536856, fs=0.22, t1=1.5, t3=21.0, tts=1.5\n",
      "Reading stat error from stored_stat parameter!\n",
      "gof=1.4526450151480454, fs=0.22, t1=1.5, t3=21.0, tts=1.5\n",
      "Reading stat error from stored_stat parameter!\n",
      "gof=1.3476483265189902, fs=0.22, t1=1.5, t3=21.0, tts=1.5\n",
      "Working on setting 591\n",
      "Reading stat error from stored_stat parameter!\n",
      "gof=1.3168596864715334, fs=0.24, t1=1.0, t3=21.5, tts=1.75\n",
      "Reading stat error from stored_stat parameter!\n",
      "gof=1.364159575459436, fs=0.24, t1=1.0, t3=21.5, tts=1.75\n",
      "Reading stat error from stored_stat parameter!\n",
      "gof=1.4532816109526887, fs=0.24, t1=1.0, t3=21.5, tts=1.75\n",
      "Reading stat error from stored_stat parameter!\n",
      "gof=1.4199123750546172, fs=0.24, t1=1.0, t3=21.5, tts=1.75\n",
      "Reading stat error from stored_stat parameter!\n",
      "gof=1.3663486083634908, fs=0.24, t1=1.0, t3=21.5, tts=1.75\n",
      "Working on setting 591\n",
      "Reading stat error from stored_stat parameter!\n",
      "gof=1.4134932526178272, fs=0.24, t1=1.0, t3=21.5, tts=1.75\n",
      "Reading stat error from stored_stat parameter!\n",
      "gof=1.3139968886318338, fs=0.24, t1=1.0, t3=21.5, tts=1.75\n",
      "Reading stat error from stored_stat parameter!\n",
      "gof=1.3870429938056539, fs=0.24, t1=1.0, t3=21.5, tts=1.75\n",
      "Reading stat error from stored_stat parameter!\n",
      "gof=1.34612008001327, fs=0.24, t1=1.0, t3=21.5, tts=1.75\n",
      "Reading stat error from stored_stat parameter!\n",
      "gof=1.320331512764384, fs=0.24, t1=1.0, t3=21.5, tts=1.75\n",
      "Working on setting 653\n",
      "Reading stat error from stored_stat parameter!\n",
      "gof=1.3133625691614685, fs=0.24, t1=2.0, t3=22.0, tts=1.5\n",
      "Reading stat error from stored_stat parameter!\n",
      "gof=1.3098826023691619, fs=0.24, t1=2.0, t3=22.0, tts=1.5\n",
      "Reading stat error from stored_stat parameter!\n",
      "gof=1.3538682674699878, fs=0.24, t1=2.0, t3=22.0, tts=1.5\n",
      "Reading stat error from stored_stat parameter!\n",
      "gof=1.2291451653067527, fs=0.24, t1=2.0, t3=22.0, tts=1.5\n",
      "Reading stat error from stored_stat parameter!\n",
      "gof=1.2911242959621145, fs=0.24, t1=2.0, t3=22.0, tts=1.5\n",
      "Warning: I detected a changing order!\n"
     ]
    }
   ],
   "source": [
    "el2 = check_minima(df, 5, 5)"
   ]
  },
  {
   "cell_type": "code",
   "execution_count": 174,
   "metadata": {
    "collapsed": false
   },
   "outputs": [
    {
     "data": {
      "text/html": [
       "<div>\n",
       "<table border=\"1\" class=\"dataframe\">\n",
       "  <thead>\n",
       "    <tr style=\"text-align: right;\">\n",
       "      <th></th>\n",
       "      <th>bootstrap_trials</th>\n",
       "      <th>chi2</th>\n",
       "      <th>dset</th>\n",
       "      <th>fs</th>\n",
       "      <th>n_photons</th>\n",
       "      <th>neglect_systematic</th>\n",
       "      <th>t1</th>\n",
       "      <th>t3</th>\n",
       "      <th>tts</th>\n",
       "      <th>ranking_before</th>\n",
       "      <th>chi2_new_5_times</th>\n",
       "      <th>ranking_after</th>\n",
       "    </tr>\n",
       "  </thead>\n",
       "  <tbody>\n",
       "    <tr>\n",
       "      <th>107</th>\n",
       "      <td>250</td>\n",
       "      <td>1.273933</td>\n",
       "      <td>nr</td>\n",
       "      <td>0.22</td>\n",
       "      <td>2000000</td>\n",
       "      <td>False</td>\n",
       "      <td>1.5</td>\n",
       "      <td>21.0</td>\n",
       "      <td>1.50</td>\n",
       "      <td>0</td>\n",
       "      <td>1.254172</td>\n",
       "      <td>0</td>\n",
       "    </tr>\n",
       "    <tr>\n",
       "      <th>107</th>\n",
       "      <td>250</td>\n",
       "      <td>1.273933</td>\n",
       "      <td>nr</td>\n",
       "      <td>0.22</td>\n",
       "      <td>2000000</td>\n",
       "      <td>False</td>\n",
       "      <td>1.5</td>\n",
       "      <td>21.0</td>\n",
       "      <td>1.50</td>\n",
       "      <td>1</td>\n",
       "      <td>1.323439</td>\n",
       "      <td>2</td>\n",
       "    </tr>\n",
       "    <tr>\n",
       "      <th>591</th>\n",
       "      <td>250</td>\n",
       "      <td>1.282838</td>\n",
       "      <td>nr</td>\n",
       "      <td>0.24</td>\n",
       "      <td>2000000</td>\n",
       "      <td>False</td>\n",
       "      <td>1.0</td>\n",
       "      <td>21.5</td>\n",
       "      <td>1.75</td>\n",
       "      <td>3</td>\n",
       "      <td>1.356197</td>\n",
       "      <td>3</td>\n",
       "    </tr>\n",
       "    <tr>\n",
       "      <th>591</th>\n",
       "      <td>250</td>\n",
       "      <td>1.282838</td>\n",
       "      <td>nr</td>\n",
       "      <td>0.24</td>\n",
       "      <td>2000000</td>\n",
       "      <td>False</td>\n",
       "      <td>1.0</td>\n",
       "      <td>21.5</td>\n",
       "      <td>1.75</td>\n",
       "      <td>2</td>\n",
       "      <td>1.384112</td>\n",
       "      <td>4</td>\n",
       "    </tr>\n",
       "    <tr>\n",
       "      <th>653</th>\n",
       "      <td>250</td>\n",
       "      <td>1.292329</td>\n",
       "      <td>nr</td>\n",
       "      <td>0.24</td>\n",
       "      <td>2000000</td>\n",
       "      <td>False</td>\n",
       "      <td>2.0</td>\n",
       "      <td>22.0</td>\n",
       "      <td>1.50</td>\n",
       "      <td>4</td>\n",
       "      <td>1.299477</td>\n",
       "      <td>1</td>\n",
       "    </tr>\n",
       "  </tbody>\n",
       "</table>\n",
       "</div>"
      ],
      "text/plain": [
       "     bootstrap_trials      chi2 dset    fs  n_photons neglect_systematic   t1  \\\n",
       "107               250  1.273933   nr  0.22    2000000              False  1.5   \n",
       "107               250  1.273933   nr  0.22    2000000              False  1.5   \n",
       "591               250  1.282838   nr  0.24    2000000              False  1.0   \n",
       "591               250  1.282838   nr  0.24    2000000              False  1.0   \n",
       "653               250  1.292329   nr  0.24    2000000              False  2.0   \n",
       "\n",
       "       t3   tts  ranking_before  chi2_new_5_times  ranking_after  \n",
       "107  21.0  1.50               0          1.254172              0  \n",
       "107  21.0  1.50               1          1.323439              2  \n",
       "591  21.5  1.75               3          1.356197              3  \n",
       "591  21.5  1.75               2          1.384112              4  \n",
       "653  22.0  1.50               4          1.299477              1  "
      ]
     },
     "execution_count": 174,
     "metadata": {},
     "output_type": "execute_result"
    }
   ],
   "source": [
    "el2"
   ]
  },
  {
   "cell_type": "code",
   "execution_count": 172,
   "metadata": {
    "collapsed": false
   },
   "outputs": [
    {
     "data": {
      "text/html": [
       "<div>\n",
       "<table border=\"1\" class=\"dataframe\">\n",
       "  <thead>\n",
       "    <tr style=\"text-align: right;\">\n",
       "      <th></th>\n",
       "      <th>bootstrap_trials</th>\n",
       "      <th>chi2</th>\n",
       "      <th>dset</th>\n",
       "      <th>fs</th>\n",
       "      <th>n_photons</th>\n",
       "      <th>neglect_systematic</th>\n",
       "      <th>t1</th>\n",
       "      <th>t3</th>\n",
       "      <th>tts</th>\n",
       "      <th>ranking_before</th>\n",
       "      <th>chi2_new_5_times</th>\n",
       "      <th>ranking_after</th>\n",
       "    </tr>\n",
       "  </thead>\n",
       "  <tbody>\n",
       "    <tr>\n",
       "      <th>65</th>\n",
       "      <td>250</td>\n",
       "      <td>1.596387</td>\n",
       "      <td>nr</td>\n",
       "      <td>0.25</td>\n",
       "      <td>2000000</td>\n",
       "      <td>False</td>\n",
       "      <td>2.0</td>\n",
       "      <td>22.5</td>\n",
       "      <td>1.50</td>\n",
       "      <td>0</td>\n",
       "      <td>1.630300</td>\n",
       "      <td>0</td>\n",
       "    </tr>\n",
       "    <tr>\n",
       "      <th>10</th>\n",
       "      <td>250</td>\n",
       "      <td>1.759036</td>\n",
       "      <td>nr</td>\n",
       "      <td>0.25</td>\n",
       "      <td>2000000</td>\n",
       "      <td>False</td>\n",
       "      <td>1.5</td>\n",
       "      <td>22.0</td>\n",
       "      <td>1.75</td>\n",
       "      <td>1</td>\n",
       "      <td>1.693299</td>\n",
       "      <td>2</td>\n",
       "    </tr>\n",
       "    <tr>\n",
       "      <th>3</th>\n",
       "      <td>250</td>\n",
       "      <td>1.798394</td>\n",
       "      <td>nr</td>\n",
       "      <td>0.25</td>\n",
       "      <td>2000000</td>\n",
       "      <td>False</td>\n",
       "      <td>1.0</td>\n",
       "      <td>22.0</td>\n",
       "      <td>1.75</td>\n",
       "      <td>2</td>\n",
       "      <td>1.686337</td>\n",
       "      <td>1</td>\n",
       "    </tr>\n",
       "    <tr>\n",
       "      <th>114</th>\n",
       "      <td>250</td>\n",
       "      <td>1.924941</td>\n",
       "      <td>nr</td>\n",
       "      <td>0.25</td>\n",
       "      <td>2000000</td>\n",
       "      <td>False</td>\n",
       "      <td>2.0</td>\n",
       "      <td>23.0</td>\n",
       "      <td>1.50</td>\n",
       "      <td>3</td>\n",
       "      <td>1.854230</td>\n",
       "      <td>3</td>\n",
       "    </tr>\n",
       "    <tr>\n",
       "      <th>59</th>\n",
       "      <td>250</td>\n",
       "      <td>2.053049</td>\n",
       "      <td>nr</td>\n",
       "      <td>0.25</td>\n",
       "      <td>2000000</td>\n",
       "      <td>False</td>\n",
       "      <td>1.5</td>\n",
       "      <td>22.5</td>\n",
       "      <td>1.75</td>\n",
       "      <td>4</td>\n",
       "      <td>2.036419</td>\n",
       "      <td>4</td>\n",
       "    </tr>\n",
       "  </tbody>\n",
       "</table>\n",
       "</div>"
      ],
      "text/plain": [
       "     bootstrap_trials      chi2 dset    fs  n_photons neglect_systematic   t1  \\\n",
       "65                250  1.596387   nr  0.25    2000000              False  2.0   \n",
       "10                250  1.759036   nr  0.25    2000000              False  1.5   \n",
       "3                 250  1.798394   nr  0.25    2000000              False  1.0   \n",
       "114               250  1.924941   nr  0.25    2000000              False  2.0   \n",
       "59                250  2.053049   nr  0.25    2000000              False  1.5   \n",
       "\n",
       "       t3   tts  ranking_before  chi2_new_5_times  ranking_after  \n",
       "65   22.5  1.50               0          1.630300              0  \n",
       "10   22.0  1.75               1          1.693299              2  \n",
       "3    22.0  1.75               2          1.686337              1  \n",
       "114  23.0  1.50               3          1.854230              3  \n",
       "59   22.5  1.75               4          2.036419              4  "
      ]
     },
     "execution_count": 172,
     "metadata": {},
     "output_type": "execute_result"
    }
   ],
   "source": [
    "el"
   ]
  },
  {
   "cell_type": "markdown",
   "metadata": {
    "heading_collapsed": true
   },
   "source": [
    "## Fit stability"
   ]
  },
  {
   "cell_type": "markdown",
   "metadata": {},
   "source": [
    "The current grid is not good enough. The values of chi2 are fluctuating a LOT, so that we get wrong minima. If we use a local minimizer, this is going to fail spectecularly. The values are essentially random if we are close to a mimimum.\n",
    "\n",
    "The stability of chi^2 depends on a couple of things... The error is now composed of:\n",
    "  * statistical error on data. Determined by bootstrap resampling. Depends on number of bootstrap trials.\n",
    "  * Average waveform stability. Depends on number of photons.\n",
    "  * Including systematical error in the average wf\n",
    "  \n",
    "Here we check how we can push these errors (or fluctuations) down. We take the point that came out of the previous minimization (though it can be a false minimum). "
   ]
  },
  {
   "cell_type": "code",
   "execution_count": 63,
   "metadata": {
    "collapsed": false
   },
   "outputs": [],
   "source": [
    "popt = dict(df.iloc[df['chi2'].argmin()])"
   ]
  },
  {
   "cell_type": "markdown",
   "metadata": {},
   "source": [
    "### Statistics"
   ]
  },
  {
   "cell_type": "markdown",
   "metadata": {},
   "source": [
    "Here we investigate the influence of the statistics of the number of photons. To isolate this effect, first:\n",
    "  * turn off systematic errors\n",
    "  * take a giant amount of bootstrap samples (will vary this later)\n",
    "  "
   ]
  },
  {
   "cell_type": "code",
   "execution_count": 66,
   "metadata": {
    "collapsed": true
   },
   "outputs": [],
   "source": [
    "popt['neglect_systematic'] = True"
   ]
  },
  {
   "cell_type": "code",
   "execution_count": 65,
   "metadata": {
    "collapsed": false
   },
   "outputs": [
    {
     "name": "stdout",
     "output_type": "stream",
     "text": [
      "Warning: stored_stat not found, will revert to computing again...\n"
     ]
    }
   ],
   "source": [
    "del stored_stat\n",
    "stored_stat = real_s1_wv_sigma(bootstrap_trials = 2000)"
   ]
  },
  {
   "cell_type": "code",
   "execution_count": 73,
   "metadata": {
    "collapsed": false
   },
   "outputs": [
    {
     "name": "stdout",
     "output_type": "stream",
     "text": [
      "200000\n",
      "Reading stat error from stored_stat parameter!\n",
      "gof=4.847686336182956, fs=0.19, t1=2.0, t3=25.0, tts=1.75\n",
      "Reading stat error from stored_stat parameter!\n",
      "gof=5.893724830132279, fs=0.19, t1=2.0, t3=25.0, tts=1.75\n",
      "Reading stat error from stored_stat parameter!\n",
      "gof=5.6621421313708025, fs=0.19, t1=2.0, t3=25.0, tts=1.75\n",
      "Reading stat error from stored_stat parameter!\n",
      "gof=4.960056160807073, fs=0.19, t1=2.0, t3=25.0, tts=1.75\n",
      "Reading stat error from stored_stat parameter!\n",
      "gof=5.036084011427087, fs=0.19, t1=2.0, t3=25.0, tts=1.75\n",
      "Reading stat error from stored_stat parameter!\n",
      "gof=5.435783839662097, fs=0.19, t1=2.0, t3=25.0, tts=1.75\n",
      "Reading stat error from stored_stat parameter!\n",
      "gof=5.426565338782284, fs=0.19, t1=2.0, t3=25.0, tts=1.75\n",
      "Reading stat error from stored_stat parameter!\n",
      "gof=5.506808589426186, fs=0.19, t1=2.0, t3=25.0, tts=1.75\n",
      "Reading stat error from stored_stat parameter!\n",
      "gof=4.377088315327442, fs=0.19, t1=2.0, t3=25.0, tts=1.75\n",
      "Reading stat error from stored_stat parameter!\n",
      "gof=5.5420077121518485, fs=0.19, t1=2.0, t3=25.0, tts=1.75\n",
      "Reading stat error from stored_stat parameter!\n",
      "gof=5.523930880722322, fs=0.19, t1=2.0, t3=25.0, tts=1.75\n",
      "Reading stat error from stored_stat parameter!\n",
      "gof=6.058227671936422, fs=0.19, t1=2.0, t3=25.0, tts=1.75\n",
      "Reading stat error from stored_stat parameter!\n",
      "gof=7.401152784684285, fs=0.19, t1=2.0, t3=25.0, tts=1.75\n",
      "Reading stat error from stored_stat parameter!\n",
      "gof=4.7098254520503575, fs=0.19, t1=2.0, t3=25.0, tts=1.75\n",
      "Reading stat error from stored_stat parameter!\n",
      "gof=4.348754100249927, fs=0.19, t1=2.0, t3=25.0, tts=1.75\n",
      "Reading stat error from stored_stat parameter!\n",
      "gof=4.331517481855886, fs=0.19, t1=2.0, t3=25.0, tts=1.75\n",
      "Reading stat error from stored_stat parameter!\n",
      "gof=7.885218553568954, fs=0.19, t1=2.0, t3=25.0, tts=1.75\n",
      "Reading stat error from stored_stat parameter!\n",
      "gof=5.749405577411632, fs=0.19, t1=2.0, t3=25.0, tts=1.75\n",
      "Reading stat error from stored_stat parameter!\n",
      "gof=4.187105186642793, fs=0.19, t1=2.0, t3=25.0, tts=1.75\n",
      "Reading stat error from stored_stat parameter!\n",
      "gof=5.330395946586544, fs=0.19, t1=2.0, t3=25.0, tts=1.75\n",
      "Reading stat error from stored_stat parameter!\n",
      "gof=4.5631823158326545, fs=0.19, t1=2.0, t3=25.0, tts=1.75\n",
      "Reading stat error from stored_stat parameter!\n",
      "gof=4.801263752370805, fs=0.19, t1=2.0, t3=25.0, tts=1.75\n",
      "Reading stat error from stored_stat parameter!\n",
      "gof=6.604804379785673, fs=0.19, t1=2.0, t3=25.0, tts=1.75\n",
      "Reading stat error from stored_stat parameter!\n",
      "gof=3.3066312971573004, fs=0.19, t1=2.0, t3=25.0, tts=1.75\n",
      "Reading stat error from stored_stat parameter!\n",
      "gof=4.764583271742003, fs=0.19, t1=2.0, t3=25.0, tts=1.75\n",
      "Reading stat error from stored_stat parameter!\n",
      "gof=5.514425090777507, fs=0.19, t1=2.0, t3=25.0, tts=1.75\n",
      "Reading stat error from stored_stat parameter!\n",
      "gof=5.780871311277507, fs=0.19, t1=2.0, t3=25.0, tts=1.75\n",
      "Reading stat error from stored_stat parameter!\n",
      "gof=5.1473140284490375, fs=0.19, t1=2.0, t3=25.0, tts=1.75\n",
      "Reading stat error from stored_stat parameter!\n",
      "gof=3.8228670968715854, fs=0.19, t1=2.0, t3=25.0, tts=1.75\n",
      "Reading stat error from stored_stat parameter!\n",
      "gof=4.510441344244278, fs=0.19, t1=2.0, t3=25.0, tts=1.75\n",
      "400000\n",
      "Reading stat error from stored_stat parameter!\n",
      "gof=4.50675907337318, fs=0.19, t1=2.0, t3=25.0, tts=1.75\n",
      "Reading stat error from stored_stat parameter!\n",
      "gof=5.536157613461218, fs=0.19, t1=2.0, t3=25.0, tts=1.75\n",
      "Reading stat error from stored_stat parameter!\n",
      "gof=5.485788719545246, fs=0.19, t1=2.0, t3=25.0, tts=1.75\n",
      "Reading stat error from stored_stat parameter!\n",
      "gof=4.993901768123941, fs=0.19, t1=2.0, t3=25.0, tts=1.75\n",
      "Reading stat error from stored_stat parameter!\n",
      "gof=4.64158005730626, fs=0.19, t1=2.0, t3=25.0, tts=1.75\n",
      "Reading stat error from stored_stat parameter!\n",
      "gof=5.323817315406209, fs=0.19, t1=2.0, t3=25.0, tts=1.75\n",
      "Reading stat error from stored_stat parameter!\n",
      "gof=5.105340198198467, fs=0.19, t1=2.0, t3=25.0, tts=1.75\n",
      "Reading stat error from stored_stat parameter!\n",
      "gof=4.643702436341884, fs=0.19, t1=2.0, t3=25.0, tts=1.75\n",
      "Reading stat error from stored_stat parameter!\n",
      "gof=4.917301854720798, fs=0.19, t1=2.0, t3=25.0, tts=1.75\n",
      "Reading stat error from stored_stat parameter!\n",
      "gof=5.548449380949283, fs=0.19, t1=2.0, t3=25.0, tts=1.75\n",
      "Reading stat error from stored_stat parameter!\n",
      "gof=4.885317535919916, fs=0.19, t1=2.0, t3=25.0, tts=1.75\n",
      "Reading stat error from stored_stat parameter!\n",
      "gof=5.820751022111351, fs=0.19, t1=2.0, t3=25.0, tts=1.75\n",
      "Reading stat error from stored_stat parameter!\n",
      "gof=4.320993099360661, fs=0.19, t1=2.0, t3=25.0, tts=1.75\n",
      "Reading stat error from stored_stat parameter!\n",
      "gof=5.52379124443753, fs=0.19, t1=2.0, t3=25.0, tts=1.75\n",
      "Reading stat error from stored_stat parameter!\n",
      "gof=4.462662028697426, fs=0.19, t1=2.0, t3=25.0, tts=1.75\n",
      "Reading stat error from stored_stat parameter!\n",
      "gof=5.710277700976507, fs=0.19, t1=2.0, t3=25.0, tts=1.75\n",
      "Reading stat error from stored_stat parameter!\n",
      "gof=4.946343581324989, fs=0.19, t1=2.0, t3=25.0, tts=1.75\n",
      "Reading stat error from stored_stat parameter!\n",
      "gof=5.917461217630645, fs=0.19, t1=2.0, t3=25.0, tts=1.75\n",
      "Reading stat error from stored_stat parameter!\n",
      "gof=5.918149423287994, fs=0.19, t1=2.0, t3=25.0, tts=1.75\n",
      "Reading stat error from stored_stat parameter!\n",
      "gof=5.7411439478485065, fs=0.19, t1=2.0, t3=25.0, tts=1.75\n",
      "Reading stat error from stored_stat parameter!\n",
      "gof=5.040753895260231, fs=0.19, t1=2.0, t3=25.0, tts=1.75\n",
      "Reading stat error from stored_stat parameter!\n",
      "gof=5.281811948856037, fs=0.19, t1=2.0, t3=25.0, tts=1.75\n",
      "Reading stat error from stored_stat parameter!\n",
      "gof=5.114866627835391, fs=0.19, t1=2.0, t3=25.0, tts=1.75\n",
      "Reading stat error from stored_stat parameter!\n",
      "gof=5.786949667265521, fs=0.19, t1=2.0, t3=25.0, tts=1.75\n",
      "Reading stat error from stored_stat parameter!\n",
      "gof=5.387915045863565, fs=0.19, t1=2.0, t3=25.0, tts=1.75\n",
      "Reading stat error from stored_stat parameter!\n",
      "gof=4.416528195757818, fs=0.19, t1=2.0, t3=25.0, tts=1.75\n",
      "Reading stat error from stored_stat parameter!\n",
      "gof=5.008532787721895, fs=0.19, t1=2.0, t3=25.0, tts=1.75\n",
      "Reading stat error from stored_stat parameter!\n",
      "gof=5.086938224403833, fs=0.19, t1=2.0, t3=25.0, tts=1.75\n",
      "Reading stat error from stored_stat parameter!\n",
      "gof=3.920005044316476, fs=0.19, t1=2.0, t3=25.0, tts=1.75\n",
      "Reading stat error from stored_stat parameter!\n",
      "gof=5.696324290449189, fs=0.19, t1=2.0, t3=25.0, tts=1.75\n",
      "2000000\n",
      "Reading stat error from stored_stat parameter!\n",
      "gof=4.970035863697258, fs=0.19, t1=2.0, t3=25.0, tts=1.75\n",
      "Reading stat error from stored_stat parameter!\n",
      "gof=5.607235357411998, fs=0.19, t1=2.0, t3=25.0, tts=1.75\n",
      "Reading stat error from stored_stat parameter!\n",
      "gof=4.8768306750276755, fs=0.19, t1=2.0, t3=25.0, tts=1.75\n",
      "Reading stat error from stored_stat parameter!\n",
      "gof=5.015013072650125, fs=0.19, t1=2.0, t3=25.0, tts=1.75\n",
      "Reading stat error from stored_stat parameter!\n",
      "gof=4.658912085693565, fs=0.19, t1=2.0, t3=25.0, tts=1.75\n",
      "Reading stat error from stored_stat parameter!\n",
      "gof=5.318477915436365, fs=0.19, t1=2.0, t3=25.0, tts=1.75\n",
      "Reading stat error from stored_stat parameter!\n",
      "gof=5.089258002489371, fs=0.19, t1=2.0, t3=25.0, tts=1.75\n",
      "Reading stat error from stored_stat parameter!\n",
      "gof=5.133488742984158, fs=0.19, t1=2.0, t3=25.0, tts=1.75\n",
      "Reading stat error from stored_stat parameter!\n",
      "gof=4.9343525075177395, fs=0.19, t1=2.0, t3=25.0, tts=1.75\n",
      "Reading stat error from stored_stat parameter!\n",
      "gof=5.555633636821618, fs=0.19, t1=2.0, t3=25.0, tts=1.75\n",
      "Reading stat error from stored_stat parameter!\n",
      "gof=4.927576247437567, fs=0.19, t1=2.0, t3=25.0, tts=1.75\n",
      "Reading stat error from stored_stat parameter!\n",
      "gof=5.134047817014932, fs=0.19, t1=2.0, t3=25.0, tts=1.75\n",
      "Reading stat error from stored_stat parameter!\n",
      "gof=4.882511869600217, fs=0.19, t1=2.0, t3=25.0, tts=1.75\n",
      "Reading stat error from stored_stat parameter!\n",
      "gof=5.332550451199021, fs=0.19, t1=2.0, t3=25.0, tts=1.75\n",
      "Reading stat error from stored_stat parameter!\n",
      "gof=4.929759296022574, fs=0.19, t1=2.0, t3=25.0, tts=1.75\n",
      "Reading stat error from stored_stat parameter!\n",
      "gof=5.618679402952058, fs=0.19, t1=2.0, t3=25.0, tts=1.75\n",
      "Reading stat error from stored_stat parameter!\n",
      "gof=4.721193542394646, fs=0.19, t1=2.0, t3=25.0, tts=1.75\n",
      "Reading stat error from stored_stat parameter!\n",
      "gof=5.107967430293833, fs=0.19, t1=2.0, t3=25.0, tts=1.75\n",
      "Reading stat error from stored_stat parameter!\n",
      "gof=5.220993778282478, fs=0.19, t1=2.0, t3=25.0, tts=1.75\n",
      "Reading stat error from stored_stat parameter!\n",
      "gof=5.271243201682299, fs=0.19, t1=2.0, t3=25.0, tts=1.75\n",
      "Reading stat error from stored_stat parameter!\n",
      "gof=4.883728533437607, fs=0.19, t1=2.0, t3=25.0, tts=1.75\n",
      "Reading stat error from stored_stat parameter!\n",
      "gof=4.9101821672319135, fs=0.19, t1=2.0, t3=25.0, tts=1.75\n",
      "Reading stat error from stored_stat parameter!\n",
      "gof=4.944803122842245, fs=0.19, t1=2.0, t3=25.0, tts=1.75\n",
      "Reading stat error from stored_stat parameter!\n",
      "gof=4.660094971645483, fs=0.19, t1=2.0, t3=25.0, tts=1.75\n",
      "Reading stat error from stored_stat parameter!\n",
      "gof=5.008058833962731, fs=0.19, t1=2.0, t3=25.0, tts=1.75\n",
      "Reading stat error from stored_stat parameter!\n",
      "gof=4.884869567673551, fs=0.19, t1=2.0, t3=25.0, tts=1.75\n",
      "Reading stat error from stored_stat parameter!\n",
      "gof=5.101257933294905, fs=0.19, t1=2.0, t3=25.0, tts=1.75\n",
      "Reading stat error from stored_stat parameter!\n",
      "gof=4.907428548779398, fs=0.19, t1=2.0, t3=25.0, tts=1.75\n",
      "Reading stat error from stored_stat parameter!\n",
      "gof=4.971365123244197, fs=0.19, t1=2.0, t3=25.0, tts=1.75\n",
      "Reading stat error from stored_stat parameter!\n",
      "gof=5.317658126204052, fs=0.19, t1=2.0, t3=25.0, tts=1.75\n"
     ]
    }
   ],
   "source": [
    "gofs_list = []\n",
    "nph_scan = [int(2e5), int(4e5), int(2e6)]\n",
    "for nph in nph_scan:\n",
    "    print(nph)\n",
    "    popt['n_photons'] = nph\n",
    "    gofs_list.append([gof(**popt) for _ in range(30)])"
   ]
  },
  {
   "cell_type": "code",
   "execution_count": 88,
   "metadata": {
    "collapsed": true
   },
   "outputs": [],
   "source": [
    "nph_scan = [int(2e5), int(4e5), int(2e6), int(4e6)]"
   ]
  },
  {
   "cell_type": "code",
   "execution_count": 89,
   "metadata": {
    "collapsed": false
   },
   "outputs": [
    {
     "data": {
      "image/png": "[encoded data removed]",
      "text/plain": [
       "<matplotlib.figure.Figure at 0x7f7c6e0fa198>"
      ]
     },
     "metadata": {},
     "output_type": "display_data"
    }
   ],
   "source": [
    "for gofs, l in zip(gofs_list, nph_scan):\n",
    "    plt.hist(gofs, histtype = 'step', bins=10, range=(3,7), label='%d' % l)\n",
    "plt.xlabel('Chi2')\n",
    "plt.ylabel('Counts')\n",
    "plt.legend()\n",
    "plt.show()"
   ]
  },
  {
   "cell_type": "code",
   "execution_count": 90,
   "metadata": {
    "collapsed": false
   },
   "outputs": [
    {
     "data": {
      "image/png": "[encoded data removed]",
      "text/plain": [
       "<matplotlib.figure.Figure at 0x7f7c6e0cc908>"
      ]
     },
     "metadata": {},
     "output_type": "display_data"
    }
   ],
   "source": [
    "for gofs, l in zip(gofs_list, nph_scan):\n",
    "    plt.hist(np.array(gofs) / np.mean(gofs) - 1, histtype = 'step', bins=10, range=(-.2,.2), label='%d' % l)\n",
    "plt.xlabel('Fractional chi2 offset (value/mean) - 1')\n",
    "plt.ylabel('Counts')\n",
    "plt.legend()\n",
    "plt.show()"
   ]
  },
  {
   "cell_type": "code",
   "execution_count": 91,
   "metadata": {
    "collapsed": false
   },
   "outputs": [
    {
     "data": {
      "text/plain": [
       "array([ 0.18106677,  0.10032424,  0.04895351,  0.0351447 ])"
      ]
     },
     "execution_count": 91,
     "metadata": {},
     "output_type": "execute_result"
    }
   ],
   "source": [
    "np.std(gofs_list, axis=1) / np.mean(gofs_list, axis=1)"
   ]
  },
  {
   "cell_type": "code",
   "execution_count": 92,
   "metadata": {
    "collapsed": false
   },
   "outputs": [
    {
     "name": "stdout",
     "output_type": "stream",
     "text": [
      "200000\n",
      "Reading stat error from stored_stat parameter!\n",
      "gof=2.994595859402191, fs=0.19, t1=2.0, t3=25.0, tts=1.75\n",
      "Reading stat error from stored_stat parameter!\n",
      "gof=1.7180867413599614, fs=0.19, t1=2.0, t3=25.0, tts=1.75\n",
      "Reading stat error from stored_stat parameter!\n",
      "gof=2.581299280602138, fs=0.19, t1=2.0, t3=25.0, tts=1.75\n",
      "Reading stat error from stored_stat parameter!\n",
      "gof=2.3044093119377864, fs=0.19, t1=2.0, t3=25.0, tts=1.75\n",
      "Reading stat error from stored_stat parameter!\n",
      "gof=3.87797057226319, fs=0.19, t1=2.0, t3=25.0, tts=1.75\n",
      "Reading stat error from stored_stat parameter!\n",
      "gof=2.3584730945375254, fs=0.19, t1=2.0, t3=25.0, tts=1.75\n",
      "Reading stat error from stored_stat parameter!\n",
      "gof=2.9466589522782445, fs=0.19, t1=2.0, t3=25.0, tts=1.75\n",
      "Reading stat error from stored_stat parameter!\n",
      "gof=2.2913916890875003, fs=0.19, t1=2.0, t3=25.0, tts=1.75\n",
      "Reading stat error from stored_stat parameter!\n",
      "gof=1.8378287717356594, fs=0.19, t1=2.0, t3=25.0, tts=1.75\n",
      "Reading stat error from stored_stat parameter!\n",
      "gof=2.6369345195402274, fs=0.19, t1=2.0, t3=25.0, tts=1.75\n",
      "Reading stat error from stored_stat parameter!\n",
      "gof=1.9034885137484059, fs=0.19, t1=2.0, t3=25.0, tts=1.75\n",
      "Reading stat error from stored_stat parameter!\n",
      "gof=2.6431461333053816, fs=0.19, t1=2.0, t3=25.0, tts=1.75\n",
      "Reading stat error from stored_stat parameter!\n",
      "gof=1.1471044199963372, fs=0.19, t1=2.0, t3=25.0, tts=1.75\n",
      "Reading stat error from stored_stat parameter!\n",
      "gof=2.9262816883736322, fs=0.19, t1=2.0, t3=25.0, tts=1.75\n",
      "Reading stat error from stored_stat parameter!\n",
      "gof=1.3364045325356182, fs=0.19, t1=2.0, t3=25.0, tts=1.75\n",
      "Reading stat error from stored_stat parameter!\n",
      "gof=2.7712342841350384, fs=0.19, t1=2.0, t3=25.0, tts=1.75\n",
      "Reading stat error from stored_stat parameter!\n",
      "gof=2.484762090108988, fs=0.19, t1=2.0, t3=25.0, tts=1.75\n",
      "Reading stat error from stored_stat parameter!\n",
      "gof=2.628405292065955, fs=0.19, t1=2.0, t3=25.0, tts=1.75\n",
      "Reading stat error from stored_stat parameter!\n",
      "gof=3.4452905966224936, fs=0.19, t1=2.0, t3=25.0, tts=1.75\n",
      "Reading stat error from stored_stat parameter!\n",
      "gof=2.1171528560052866, fs=0.19, t1=2.0, t3=25.0, tts=1.75\n",
      "Reading stat error from stored_stat parameter!\n",
      "gof=2.3688638923632257, fs=0.19, t1=2.0, t3=25.0, tts=1.75\n",
      "Reading stat error from stored_stat parameter!\n",
      "gof=1.9754608382909804, fs=0.19, t1=2.0, t3=25.0, tts=1.75\n",
      "Reading stat error from stored_stat parameter!\n",
      "gof=2.6267096875403992, fs=0.19, t1=2.0, t3=25.0, tts=1.75\n",
      "Reading stat error from stored_stat parameter!\n",
      "gof=2.7820199237044054, fs=0.19, t1=2.0, t3=25.0, tts=1.75\n",
      "Reading stat error from stored_stat parameter!\n",
      "gof=1.7871725397540936, fs=0.19, t1=2.0, t3=25.0, tts=1.75\n",
      "Reading stat error from stored_stat parameter!\n",
      "gof=2.6123661659797297, fs=0.19, t1=2.0, t3=25.0, tts=1.75\n",
      "Reading stat error from stored_stat parameter!\n",
      "gof=1.5424885249589368, fs=0.19, t1=2.0, t3=25.0, tts=1.75\n",
      "Reading stat error from stored_stat parameter!\n",
      "gof=2.0175374179713432, fs=0.19, t1=2.0, t3=25.0, tts=1.75\n",
      "Reading stat error from stored_stat parameter!\n",
      "gof=1.7507154142588868, fs=0.19, t1=2.0, t3=25.0, tts=1.75\n",
      "Reading stat error from stored_stat parameter!\n",
      "gof=1.318389917686527, fs=0.19, t1=2.0, t3=25.0, tts=1.75\n",
      "400000\n",
      "Reading stat error from stored_stat parameter!\n",
      "gof=2.4026617951213707, fs=0.19, t1=2.0, t3=25.0, tts=1.75\n",
      "Reading stat error from stored_stat parameter!\n",
      "gof=2.9810639448779663, fs=0.19, t1=2.0, t3=25.0, tts=1.75\n",
      "Reading stat error from stored_stat parameter!\n",
      "gof=3.06689921067789, fs=0.19, t1=2.0, t3=25.0, tts=1.75\n",
      "Reading stat error from stored_stat parameter!\n",
      "gof=2.6187661799390898, fs=0.19, t1=2.0, t3=25.0, tts=1.75\n",
      "Reading stat error from stored_stat parameter!\n",
      "gof=1.441128561876949, fs=0.19, t1=2.0, t3=25.0, tts=1.75\n",
      "Reading stat error from stored_stat parameter!\n",
      "gof=2.2006820658884974, fs=0.19, t1=2.0, t3=25.0, tts=1.75\n",
      "Reading stat error from stored_stat parameter!\n",
      "gof=3.2246525300764586, fs=0.19, t1=2.0, t3=25.0, tts=1.75\n",
      "Reading stat error from stored_stat parameter!\n",
      "gof=2.8195863551161713, fs=0.19, t1=2.0, t3=25.0, tts=1.75\n",
      "Reading stat error from stored_stat parameter!\n",
      "gof=3.059521956130584, fs=0.19, t1=2.0, t3=25.0, tts=1.75\n",
      "Reading stat error from stored_stat parameter!\n",
      "gof=2.5367484343957183, fs=0.19, t1=2.0, t3=25.0, tts=1.75\n",
      "Reading stat error from stored_stat parameter!\n",
      "gof=2.6514689874483035, fs=0.19, t1=2.0, t3=25.0, tts=1.75\n",
      "Reading stat error from stored_stat parameter!\n",
      "gof=3.0252973218473618, fs=0.19, t1=2.0, t3=25.0, tts=1.75\n",
      "Reading stat error from stored_stat parameter!\n",
      "gof=2.6954239911531275, fs=0.19, t1=2.0, t3=25.0, tts=1.75\n",
      "Reading stat error from stored_stat parameter!\n",
      "gof=3.502226545538744, fs=0.19, t1=2.0, t3=25.0, tts=1.75\n",
      "Reading stat error from stored_stat parameter!\n",
      "gof=3.1502798268524064, fs=0.19, t1=2.0, t3=25.0, tts=1.75\n",
      "Reading stat error from stored_stat parameter!\n",
      "gof=2.559555011254807, fs=0.19, t1=2.0, t3=25.0, tts=1.75\n",
      "Reading stat error from stored_stat parameter!\n",
      "gof=3.2388555131696837, fs=0.19, t1=2.0, t3=25.0, tts=1.75\n",
      "Reading stat error from stored_stat parameter!\n",
      "gof=2.6142618972725455, fs=0.19, t1=2.0, t3=25.0, tts=1.75\n",
      "Reading stat error from stored_stat parameter!\n",
      "gof=3.3085733446573173, fs=0.19, t1=2.0, t3=25.0, tts=1.75\n",
      "Reading stat error from stored_stat parameter!\n",
      "gof=3.281425678548257, fs=0.19, t1=2.0, t3=25.0, tts=1.75\n",
      "Reading stat error from stored_stat parameter!\n",
      "gof=3.167855543942695, fs=0.19, t1=2.0, t3=25.0, tts=1.75\n",
      "Reading stat error from stored_stat parameter!\n",
      "gof=2.366736982412657, fs=0.19, t1=2.0, t3=25.0, tts=1.75\n",
      "Reading stat error from stored_stat parameter!\n",
      "gof=2.2684045116069305, fs=0.19, t1=2.0, t3=25.0, tts=1.75\n",
      "Reading stat error from stored_stat parameter!\n",
      "gof=2.793046486878472, fs=0.19, t1=2.0, t3=25.0, tts=1.75\n",
      "Reading stat error from stored_stat parameter!\n",
      "gof=2.363741902901669, fs=0.19, t1=2.0, t3=25.0, tts=1.75\n",
      "Reading stat error from stored_stat parameter!\n",
      "gof=1.4809625042461305, fs=0.19, t1=2.0, t3=25.0, tts=1.75\n",
      "Reading stat error from stored_stat parameter!\n",
      "gof=2.5015798698292793, fs=0.19, t1=2.0, t3=25.0, tts=1.75\n",
      "Reading stat error from stored_stat parameter!\n",
      "gof=2.061086837701397, fs=0.19, t1=2.0, t3=25.0, tts=1.75\n",
      "Reading stat error from stored_stat parameter!\n",
      "gof=3.0177957362322854, fs=0.19, t1=2.0, t3=25.0, tts=1.75\n",
      "Reading stat error from stored_stat parameter!\n",
      "gof=1.9591000078938403, fs=0.19, t1=2.0, t3=25.0, tts=1.75\n",
      "2000000\n",
      "Reading stat error from stored_stat parameter!\n",
      "gof=3.1018784007812665, fs=0.19, t1=2.0, t3=25.0, tts=1.75\n",
      "Reading stat error from stored_stat parameter!\n",
      "gof=2.8925758219999187, fs=0.19, t1=2.0, t3=25.0, tts=1.75\n",
      "Reading stat error from stored_stat parameter!\n",
      "gof=2.940925205122412, fs=0.19, t1=2.0, t3=25.0, tts=1.75\n",
      "Reading stat error from stored_stat parameter!\n",
      "gof=3.0843375896950294, fs=0.19, t1=2.0, t3=25.0, tts=1.75\n",
      "Reading stat error from stored_stat parameter!\n",
      "gof=2.986648379573042, fs=0.19, t1=2.0, t3=25.0, tts=1.75\n",
      "Reading stat error from stored_stat parameter!\n",
      "gof=3.6510037885867463, fs=0.19, t1=2.0, t3=25.0, tts=1.75\n",
      "Reading stat error from stored_stat parameter!\n",
      "gof=3.0547095203243053, fs=0.19, t1=2.0, t3=25.0, tts=1.75\n",
      "Reading stat error from stored_stat parameter!\n",
      "gof=2.9460769304620524, fs=0.19, t1=2.0, t3=25.0, tts=1.75\n",
      "Reading stat error from stored_stat parameter!\n",
      "gof=3.187812523950055, fs=0.19, t1=2.0, t3=25.0, tts=1.75\n",
      "Reading stat error from stored_stat parameter!\n",
      "gof=3.353352833319233, fs=0.19, t1=2.0, t3=25.0, tts=1.75\n",
      "Reading stat error from stored_stat parameter!\n",
      "gof=2.7224683356744914, fs=0.19, t1=2.0, t3=25.0, tts=1.75\n",
      "Reading stat error from stored_stat parameter!\n",
      "gof=3.3672482537493904, fs=0.19, t1=2.0, t3=25.0, tts=1.75\n",
      "Reading stat error from stored_stat parameter!\n",
      "gof=3.023131327701799, fs=0.19, t1=2.0, t3=25.0, tts=1.75\n",
      "Reading stat error from stored_stat parameter!\n",
      "gof=3.29845994004863, fs=0.19, t1=2.0, t3=25.0, tts=1.75\n",
      "Reading stat error from stored_stat parameter!\n",
      "gof=3.3411621160091185, fs=0.19, t1=2.0, t3=25.0, tts=1.75\n",
      "Reading stat error from stored_stat parameter!\n",
      "gof=3.257886901265972, fs=0.19, t1=2.0, t3=25.0, tts=1.75\n",
      "Reading stat error from stored_stat parameter!\n",
      "gof=3.189797620329523, fs=0.19, t1=2.0, t3=25.0, tts=1.75\n",
      "Reading stat error from stored_stat parameter!\n",
      "gof=3.417677571057349, fs=0.19, t1=2.0, t3=25.0, tts=1.75\n",
      "Reading stat error from stored_stat parameter!\n",
      "gof=3.4961705867362802, fs=0.19, t1=2.0, t3=25.0, tts=1.75\n",
      "Reading stat error from stored_stat parameter!\n",
      "gof=3.2248746911703514, fs=0.19, t1=2.0, t3=25.0, tts=1.75\n",
      "Reading stat error from stored_stat parameter!\n",
      "gof=2.884950495262137, fs=0.19, t1=2.0, t3=25.0, tts=1.75\n",
      "Reading stat error from stored_stat parameter!\n",
      "gof=3.2800195504112186, fs=0.19, t1=2.0, t3=25.0, tts=1.75\n",
      "Reading stat error from stored_stat parameter!\n",
      "gof=2.911892781104419, fs=0.19, t1=2.0, t3=25.0, tts=1.75\n",
      "Reading stat error from stored_stat parameter!\n",
      "gof=3.1809477911577426, fs=0.19, t1=2.0, t3=25.0, tts=1.75\n",
      "Reading stat error from stored_stat parameter!\n",
      "gof=3.1706925470144998, fs=0.19, t1=2.0, t3=25.0, tts=1.75\n",
      "Reading stat error from stored_stat parameter!\n",
      "gof=3.325668017067407, fs=0.19, t1=2.0, t3=25.0, tts=1.75\n",
      "Reading stat error from stored_stat parameter!\n",
      "gof=3.178062408588973, fs=0.19, t1=2.0, t3=25.0, tts=1.75\n",
      "Reading stat error from stored_stat parameter!\n",
      "gof=3.142373889444041, fs=0.19, t1=2.0, t3=25.0, tts=1.75\n",
      "Reading stat error from stored_stat parameter!\n",
      "gof=3.0474494987969702, fs=0.19, t1=2.0, t3=25.0, tts=1.75\n",
      "Reading stat error from stored_stat parameter!\n",
      "gof=3.250457433125435, fs=0.19, t1=2.0, t3=25.0, tts=1.75\n"
     ]
    }
   ],
   "source": [
    "gofs_list_stat = []\n",
    "nph_scan = [int(2e5), int(4e5), int(2e6)]\n",
    "popt['neglect_systematic'] = False\n",
    "for nph in nph_scan:\n",
    "    print(nph)\n",
    "    popt['n_photons'] = nph\n",
    "    gofs_list_stat.append([gof(**popt) for _ in range(30)])"
   ]
  },
  {
   "cell_type": "code",
   "execution_count": 94,
   "metadata": {
    "collapsed": false
   },
   "outputs": [
    {
     "data": {
      "text/plain": [
       "array([ 0.26617473,  0.19006954,  0.06307608])"
      ]
     },
     "execution_count": 94,
     "metadata": {},
     "output_type": "execute_result"
    }
   ],
   "source": [
    "np.std(gofs_list_stat, axis=1) / np.mean(gofs_list_stat, axis=1)"
   ]
  },
  {
   "cell_type": "markdown",
   "metadata": {},
   "source": [
    "#### The money plot"
   ]
  },
  {
   "cell_type": "code",
   "execution_count": 125,
   "metadata": {
    "collapsed": false
   },
   "outputs": [
    {
     "data": {
      "text/plain": [
       "<matplotlib.text.Text at 0x7f7c6e2b5320>"
      ]
     },
     "execution_count": 125,
     "metadata": {},
     "output_type": "execute_result"
    },
    {
     "data": {
      "image/png": "[encoded data removed]",
      "text/plain": [
       "<matplotlib.figure.Figure at 0x7f7c6e23ceb8>"
      ]
     },
     "metadata": {},
     "output_type": "display_data"
    }
   ],
   "source": [
    "plt.plot(nph_scan, np.std(gofs_list_stat, axis=1) / np.mean(gofs_list_stat, axis=1), marker='.')\n",
    "plt.plot(np.concatenate([nph_scan, [int(4e6)]]), np.std(gofs_list, axis=1) / np.mean(gofs_list, axis=1), marker='.')\n",
    "plt.xscale('log')\n",
    "plt.xlabel('Number of photons')\n",
    "plt.ylabel('STD on chi^2 (fraction of mean)')"
   ]
  },
  {
   "cell_type": "markdown",
   "metadata": {
    "heading_collapsed": true
   },
   "source": [
    "### Number of bootstrap trials"
   ]
  },
  {
   "cell_type": "code",
   "execution_count": 129,
   "metadata": {
    "collapsed": false
   },
   "outputs": [
    {
     "name": "stdout",
     "output_type": "stream",
     "text": [
      "20\n",
      "gof=1.934865562922848, fs=0.19, t1=2.0, t3=25.0, tts=1.75\n",
      "gof=2.294249914987514, fs=0.19, t1=2.0, t3=25.0, tts=1.75\n",
      "gof=1.897927975499547, fs=0.19, t1=2.0, t3=25.0, tts=1.75\n",
      "gof=2.20651953781785, fs=0.19, t1=2.0, t3=25.0, tts=1.75\n",
      "gof=2.3404212287590673, fs=0.19, t1=2.0, t3=25.0, tts=1.75\n",
      "gof=2.824898948772344, fs=0.19, t1=2.0, t3=25.0, tts=1.75\n",
      "gof=1.8283130743557883, fs=0.19, t1=2.0, t3=25.0, tts=1.75\n",
      "gof=2.452338891592939, fs=0.19, t1=2.0, t3=25.0, tts=1.75\n",
      "gof=2.0894702055698833, fs=0.19, t1=2.0, t3=25.0, tts=1.75\n",
      "gof=2.5820449784985073, fs=0.19, t1=2.0, t3=25.0, tts=1.75\n",
      "gof=1.9172095355070393, fs=0.19, t1=2.0, t3=25.0, tts=1.75\n",
      "gof=1.789504337155653, fs=0.19, t1=2.0, t3=25.0, tts=1.75\n",
      "gof=2.4301882420563343, fs=0.19, t1=2.0, t3=25.0, tts=1.75\n",
      "gof=2.544293321063236, fs=0.19, t1=2.0, t3=25.0, tts=1.75\n",
      "gof=2.240761883540313, fs=0.19, t1=2.0, t3=25.0, tts=1.75\n",
      "gof=2.4581112505576193, fs=0.19, t1=2.0, t3=25.0, tts=1.75\n",
      "gof=2.3309261638355525, fs=0.19, t1=2.0, t3=25.0, tts=1.75\n",
      "gof=1.9000684277737647, fs=0.19, t1=2.0, t3=25.0, tts=1.75\n",
      "gof=2.342057140865246, fs=0.19, t1=2.0, t3=25.0, tts=1.75\n",
      "gof=1.9548298635508758, fs=0.19, t1=2.0, t3=25.0, tts=1.75\n",
      "100\n",
      "gof=2.0595081052421977, fs=0.19, t1=2.0, t3=25.0, tts=1.75\n",
      "gof=2.0537938755956504, fs=0.19, t1=2.0, t3=25.0, tts=1.75\n",
      "gof=2.2192910555425533, fs=0.19, t1=2.0, t3=25.0, tts=1.75\n",
      "gof=2.1294198884200575, fs=0.19, t1=2.0, t3=25.0, tts=1.75\n",
      "gof=2.270567472565661, fs=0.19, t1=2.0, t3=25.0, tts=1.75\n",
      "gof=2.194362784792754, fs=0.19, t1=2.0, t3=25.0, tts=1.75\n",
      "gof=2.316773774732791, fs=0.19, t1=2.0, t3=25.0, tts=1.75\n",
      "gof=2.105161175068692, fs=0.19, t1=2.0, t3=25.0, tts=1.75\n",
      "gof=2.119121341397672, fs=0.19, t1=2.0, t3=25.0, tts=1.75\n",
      "gof=2.255936242222491, fs=0.19, t1=2.0, t3=25.0, tts=1.75\n",
      "gof=2.362231721228639, fs=0.19, t1=2.0, t3=25.0, tts=1.75\n",
      "gof=1.8275945679398353, fs=0.19, t1=2.0, t3=25.0, tts=1.75\n",
      "gof=2.037243536156985, fs=0.19, t1=2.0, t3=25.0, tts=1.75\n",
      "gof=2.460951311068865, fs=0.19, t1=2.0, t3=25.0, tts=1.75\n",
      "gof=2.317307273983848, fs=0.19, t1=2.0, t3=25.0, tts=1.75\n",
      "gof=2.107496286030226, fs=0.19, t1=2.0, t3=25.0, tts=1.75\n",
      "gof=1.982021642641303, fs=0.19, t1=2.0, t3=25.0, tts=1.75\n",
      "gof=2.3106668285675855, fs=0.19, t1=2.0, t3=25.0, tts=1.75\n",
      "gof=2.2866103686214267, fs=0.19, t1=2.0, t3=25.0, tts=1.75\n",
      "gof=2.1075533103886337, fs=0.19, t1=2.0, t3=25.0, tts=1.75\n",
      "200\n",
      "gof=1.761426337978824, fs=0.19, t1=2.0, t3=25.0, tts=1.75\n",
      "gof=2.1682908371824285, fs=0.19, t1=2.0, t3=25.0, tts=1.75\n",
      "gof=2.3601323613860843, fs=0.19, t1=2.0, t3=25.0, tts=1.75\n",
      "gof=1.9721311537673312, fs=0.19, t1=2.0, t3=25.0, tts=1.75\n",
      "gof=2.028743905153331, fs=0.19, t1=2.0, t3=25.0, tts=1.75\n",
      "gof=1.36518499775087, fs=0.19, t1=2.0, t3=25.0, tts=1.75\n",
      "gof=2.3483561562445296, fs=0.19, t1=2.0, t3=25.0, tts=1.75\n",
      "gof=1.992394987972593, fs=0.19, t1=2.0, t3=25.0, tts=1.75\n",
      "gof=1.9492832714192887, fs=0.19, t1=2.0, t3=25.0, tts=1.75\n",
      "gof=2.211890478606601, fs=0.19, t1=2.0, t3=25.0, tts=1.75\n",
      "gof=2.092202882417842, fs=0.19, t1=2.0, t3=25.0, tts=1.75\n",
      "gof=2.01924225431054, fs=0.19, t1=2.0, t3=25.0, tts=1.75\n",
      "gof=2.319614943147275, fs=0.19, t1=2.0, t3=25.0, tts=1.75\n",
      "gof=1.8618063408624101, fs=0.19, t1=2.0, t3=25.0, tts=1.75\n",
      "gof=2.3338259775072743, fs=0.19, t1=2.0, t3=25.0, tts=1.75\n",
      "gof=2.3411968595635084, fs=0.19, t1=2.0, t3=25.0, tts=1.75\n",
      "gof=2.0723583862928896, fs=0.19, t1=2.0, t3=25.0, tts=1.75\n",
      "gof=2.207529189743193, fs=0.19, t1=2.0, t3=25.0, tts=1.75\n",
      "gof=1.9881099998024714, fs=0.19, t1=2.0, t3=25.0, tts=1.75\n",
      "gof=2.001585696003877, fs=0.19, t1=2.0, t3=25.0, tts=1.75\n",
      "1000\n"
     ]
    },
    {
     "ename": "KeyboardInterrupt",
     "evalue": "",
     "output_type": "error",
     "traceback": [
      "\u001b[0;31m---------------------------------------------------------------------------\u001b[0m",
      "\u001b[0;31mKeyboardInterrupt\u001b[0m                         Traceback (most recent call last)",
      "\u001b[0;32m<ipython-input-129-fd5d9cc4f080>\u001b[0m in \u001b[0;36m<module>\u001b[0;34m()\u001b[0m\n\u001b[1;32m      7\u001b[0m     \u001b[0mprint\u001b[0m\u001b[0;34m(\u001b[0m\u001b[0mbt\u001b[0m\u001b[0;34m)\u001b[0m\u001b[0;34m\u001b[0m\u001b[0m\n\u001b[1;32m      8\u001b[0m     \u001b[0mpopt\u001b[0m\u001b[0;34m[\u001b[0m\u001b[0;34m'bootstrap_trials'\u001b[0m\u001b[0;34m]\u001b[0m \u001b[0;34m=\u001b[0m \u001b[0mbt\u001b[0m\u001b[0;34m\u001b[0m\u001b[0m\n\u001b[0;32m----> 9\u001b[0;31m     \u001b[0mboots\u001b[0m\u001b[0;34m.\u001b[0m\u001b[0mappend\u001b[0m\u001b[0;34m(\u001b[0m\u001b[0;34m[\u001b[0m\u001b[0mgof\u001b[0m\u001b[0;34m(\u001b[0m\u001b[0;34m**\u001b[0m\u001b[0mpopt\u001b[0m\u001b[0;34m)\u001b[0m \u001b[0;32mfor\u001b[0m \u001b[0m_\u001b[0m \u001b[0;32min\u001b[0m \u001b[0mrange\u001b[0m\u001b[0;34m(\u001b[0m\u001b[0;36m20\u001b[0m\u001b[0;34m)\u001b[0m\u001b[0;34m]\u001b[0m\u001b[0;34m)\u001b[0m\u001b[0;34m\u001b[0m\u001b[0m\n\u001b[0m",
      "\u001b[0;32m<ipython-input-129-fd5d9cc4f080>\u001b[0m in \u001b[0;36m<listcomp>\u001b[0;34m(.0)\u001b[0m\n\u001b[1;32m      7\u001b[0m     \u001b[0mprint\u001b[0m\u001b[0;34m(\u001b[0m\u001b[0mbt\u001b[0m\u001b[0;34m)\u001b[0m\u001b[0;34m\u001b[0m\u001b[0m\n\u001b[1;32m      8\u001b[0m     \u001b[0mpopt\u001b[0m\u001b[0;34m[\u001b[0m\u001b[0;34m'bootstrap_trials'\u001b[0m\u001b[0;34m]\u001b[0m \u001b[0;34m=\u001b[0m \u001b[0mbt\u001b[0m\u001b[0;34m\u001b[0m\u001b[0m\n\u001b[0;32m----> 9\u001b[0;31m     \u001b[0mboots\u001b[0m\u001b[0;34m.\u001b[0m\u001b[0mappend\u001b[0m\u001b[0;34m(\u001b[0m\u001b[0;34m[\u001b[0m\u001b[0mgof\u001b[0m\u001b[0;34m(\u001b[0m\u001b[0;34m**\u001b[0m\u001b[0mpopt\u001b[0m\u001b[0;34m)\u001b[0m \u001b[0;32mfor\u001b[0m \u001b[0m_\u001b[0m \u001b[0;32min\u001b[0m \u001b[0mrange\u001b[0m\u001b[0;34m(\u001b[0m\u001b[0;36m20\u001b[0m\u001b[0;34m)\u001b[0m\u001b[0;34m]\u001b[0m\u001b[0;34m)\u001b[0m\u001b[0;34m\u001b[0m\u001b[0m\n\u001b[0m",
      "\u001b[0;32m<ipython-input-114-566e984aa44b>\u001b[0m in \u001b[0;36mgof\u001b[0;34m(verbose, mode, **params)\u001b[0m\n\u001b[1;32m      9\u001b[0m     \u001b[0;32melse\u001b[0m\u001b[0;34m:\u001b[0m\u001b[0;34m\u001b[0m\u001b[0m\n\u001b[1;32m     10\u001b[0m         \u001b[0mydata\u001b[0m\u001b[0;34m,\u001b[0m \u001b[0m_\u001b[0m \u001b[0;34m=\u001b[0m \u001b[0mreal_s1_wv\u001b[0m\u001b[0;34m(\u001b[0m\u001b[0;34m**\u001b[0m\u001b[0mparams\u001b[0m\u001b[0;34m)\u001b[0m\u001b[0;34m\u001b[0m\u001b[0m\n\u001b[0;32m---> 11\u001b[0;31m         \u001b[0mminus\u001b[0m\u001b[0;34m,\u001b[0m \u001b[0mbase\u001b[0m\u001b[0;34m,\u001b[0m \u001b[0mplus\u001b[0m \u001b[0;34m=\u001b[0m \u001b[0ms1_models_error\u001b[0m\u001b[0;34m(\u001b[0m\u001b[0;34m**\u001b[0m\u001b[0mparams\u001b[0m\u001b[0;34m)\u001b[0m\u001b[0;34m\u001b[0m\u001b[0m\n\u001b[0m\u001b[1;32m     12\u001b[0m         \u001b[0mres\u001b[0m \u001b[0;34m=\u001b[0m \u001b[0mresiduals\u001b[0m\u001b[0;34m(\u001b[0m\u001b[0mydata\u001b[0m\u001b[0;34m,\u001b[0m \u001b[0mminus\u001b[0m\u001b[0;34m,\u001b[0m \u001b[0mbase\u001b[0m\u001b[0;34m,\u001b[0m \u001b[0mplus\u001b[0m\u001b[0;34m,\u001b[0m \u001b[0;34m**\u001b[0m\u001b[0mparams\u001b[0m\u001b[0;34m)\u001b[0m\u001b[0;34m\u001b[0m\u001b[0m\n\u001b[1;32m     13\u001b[0m         \u001b[0;32massert\u001b[0m \u001b[0mlen\u001b[0m\u001b[0;34m(\u001b[0m\u001b[0mres\u001b[0m\u001b[0;34m)\u001b[0m \u001b[0;34m==\u001b[0m \u001b[0mlen\u001b[0m\u001b[0;34m(\u001b[0m\u001b[0mspe_ts\u001b[0m\u001b[0;34m)\u001b[0m\u001b[0;34m\u001b[0m\u001b[0m\n",
      "\u001b[0;32m<ipython-input-114-c5a6cfbc844b>\u001b[0m in \u001b[0;36ms1_models_error\u001b[0;34m(shifts, mode, *args, **kwargs)\u001b[0m\n\u001b[1;32m     45\u001b[0m         \u001b[0;32mfor\u001b[0m \u001b[0mi\u001b[0m\u001b[0;34m,\u001b[0m \u001b[0mp\u001b[0m \u001b[0;32min\u001b[0m \u001b[0menumerate\u001b[0m\u001b[0;34m(\u001b[0m\u001b[0mshift_pars\u001b[0m\u001b[0;34m)\u001b[0m\u001b[0;34m:\u001b[0m\u001b[0;34m\u001b[0m\u001b[0m\n\u001b[1;32m     46\u001b[0m             \u001b[0mkw\u001b[0m\u001b[0;34m[\u001b[0m\u001b[0mp\u001b[0m\u001b[0;34m]\u001b[0m \u001b[0;34m=\u001b[0m \u001b[0mvs\u001b[0m\u001b[0;34m[\u001b[0m\u001b[0mi\u001b[0m\u001b[0;34m]\u001b[0m\u001b[0;34m\u001b[0m\u001b[0m\n\u001b[0;32m---> 47\u001b[0;31m         \u001b[0malt_models\u001b[0m\u001b[0;34m.\u001b[0m\u001b[0mappend\u001b[0m\u001b[0;34m(\u001b[0m\u001b[0ms1_average_pulse_model\u001b[0m\u001b[0;34m(\u001b[0m\u001b[0;34m*\u001b[0m\u001b[0margs\u001b[0m\u001b[0;34m,\u001b[0m \u001b[0;34m**\u001b[0m\u001b[0mkw\u001b[0m\u001b[0;34m)\u001b[0m\u001b[0;34m[\u001b[0m\u001b[0;36m0\u001b[0m\u001b[0;34m]\u001b[0m\u001b[0;34m)\u001b[0m\u001b[0;34m\u001b[0m\u001b[0m\n\u001b[0m\u001b[1;32m     48\u001b[0m \u001b[0;34m\u001b[0m\u001b[0m\n\u001b[1;32m     49\u001b[0m \u001b[0;34m\u001b[0m\u001b[0m\n",
      "\u001b[0;32m<ipython-input-114-5db7be7852d7>\u001b[0m in \u001b[0;36ms1_average_pulse_model\u001b[0;34m(*args, **kwargs)\u001b[0m\n\u001b[1;32m    201\u001b[0m \u001b[0;32mdef\u001b[0m \u001b[0ms1_average_pulse_model\u001b[0m\u001b[0;34m(\u001b[0m\u001b[0;34m*\u001b[0m\u001b[0margs\u001b[0m\u001b[0;34m,\u001b[0m \u001b[0;34m**\u001b[0m\u001b[0mkwargs\u001b[0m\u001b[0;34m)\u001b[0m\u001b[0;34m:\u001b[0m\u001b[0;34m\u001b[0m\u001b[0m\n\u001b[1;32m    202\u001b[0m     \u001b[0mwv_matrix\u001b[0m\u001b[0;34m,\u001b[0m \u001b[0mwv_err_matrix\u001b[0m\u001b[0;34m,\u001b[0m \u001b[0mtime_matrix\u001b[0m\u001b[0;34m,\u001b[0m \u001b[0m_\u001b[0m \u001b[0;34m=\u001b[0m \u001b[0msimulate_s1_pulse\u001b[0m\u001b[0;34m(\u001b[0m\u001b[0;34m*\u001b[0m\u001b[0margs\u001b[0m\u001b[0;34m,\u001b[0m \u001b[0;34m**\u001b[0m\u001b[0mkwargs\u001b[0m\u001b[0;34m)\u001b[0m\u001b[0;34m\u001b[0m\u001b[0m\n\u001b[0;32m--> 203\u001b[0;31m     \u001b[0mmodel\u001b[0m\u001b[0;34m,\u001b[0m \u001b[0merror\u001b[0m \u001b[0;34m=\u001b[0m \u001b[0maverage_pulse_and_error\u001b[0m\u001b[0;34m(\u001b[0m\u001b[0mtime_matrix\u001b[0m\u001b[0;34m,\u001b[0m \u001b[0mwv_matrix\u001b[0m\u001b[0;34m,\u001b[0m \u001b[0mwv_err_matrix\u001b[0m\u001b[0;34m,\u001b[0m\u001b[0;34m**\u001b[0m\u001b[0mkwargs\u001b[0m\u001b[0;34m)\u001b[0m\u001b[0;34m\u001b[0m\u001b[0m\n\u001b[0m\u001b[1;32m    204\u001b[0m     \u001b[0;32mreturn\u001b[0m \u001b[0mmodel\u001b[0m\u001b[0;34m,\u001b[0m \u001b[0merror\u001b[0m\u001b[0;34m\u001b[0m\u001b[0m\n\u001b[1;32m    205\u001b[0m \u001b[0;34m\u001b[0m\u001b[0m\n",
      "\u001b[0;32m<ipython-input-114-5db7be7852d7>\u001b[0m in \u001b[0;36maverage_pulse_and_error\u001b[0;34m(time_matrix, wv_matrix, wv_err_matrix, **params)\u001b[0m\n\u001b[1;32m    193\u001b[0m     \u001b[0mparams\u001b[0m \u001b[0;34m=\u001b[0m \u001b[0mget_params\u001b[0m\u001b[0;34m(\u001b[0m\u001b[0mparams\u001b[0m\u001b[0;34m)\u001b[0m\u001b[0;34m\u001b[0m\u001b[0m\n\u001b[1;32m    194\u001b[0m     \u001b[0mh\u001b[0m\u001b[0;34m,\u001b[0m \u001b[0m_\u001b[0m     \u001b[0;34m=\u001b[0m \u001b[0mnp\u001b[0m\u001b[0;34m.\u001b[0m\u001b[0mhistogram\u001b[0m\u001b[0;34m(\u001b[0m\u001b[0mtime_matrix\u001b[0m\u001b[0;34m,\u001b[0m \u001b[0mbins\u001b[0m\u001b[0;34m=\u001b[0m\u001b[0mspe_t_edges\u001b[0m\u001b[0;34m,\u001b[0m \u001b[0mweights\u001b[0m\u001b[0;34m=\u001b[0m\u001b[0mwv_matrix\u001b[0m\u001b[0;34m)\u001b[0m\u001b[0;34m\u001b[0m\u001b[0m\n\u001b[0;32m--> 195\u001b[0;31m     \u001b[0mh_err\u001b[0m\u001b[0;34m,\u001b[0m \u001b[0m_\u001b[0m \u001b[0;34m=\u001b[0m \u001b[0mnp\u001b[0m\u001b[0;34m.\u001b[0m\u001b[0mhistogram\u001b[0m\u001b[0;34m(\u001b[0m\u001b[0mtime_matrix\u001b[0m\u001b[0;34m,\u001b[0m \u001b[0mbins\u001b[0m\u001b[0;34m=\u001b[0m\u001b[0mspe_t_edges\u001b[0m\u001b[0;34m,\u001b[0m \u001b[0mweights\u001b[0m\u001b[0;34m=\u001b[0m\u001b[0mwv_err_matrix\u001b[0m\u001b[0;34m)\u001b[0m\u001b[0;34m\u001b[0m\u001b[0m\n\u001b[0m\u001b[1;32m    196\u001b[0m     \u001b[0msel\u001b[0m  \u001b[0;34m=\u001b[0m \u001b[0;34m(\u001b[0m\u001b[0mspe_ts\u001b[0m \u001b[0;34m>=\u001b[0m \u001b[0mparams\u001b[0m\u001b[0;34m[\u001b[0m\u001b[0;34m't_min'\u001b[0m\u001b[0;34m]\u001b[0m\u001b[0;34m)\u001b[0m \u001b[0;34m&\u001b[0m \u001b[0;34m(\u001b[0m\u001b[0mspe_ts\u001b[0m \u001b[0;34m<\u001b[0m \u001b[0mparams\u001b[0m\u001b[0;34m[\u001b[0m\u001b[0;34m't_max'\u001b[0m\u001b[0;34m]\u001b[0m\u001b[0;34m)\u001b[0m\u001b[0;34m\u001b[0m\u001b[0m\n\u001b[1;32m    197\u001b[0m     \u001b[0mh_err\u001b[0m \u001b[0;34m=\u001b[0m \u001b[0mh_err\u001b[0m \u001b[0;34m/\u001b[0m \u001b[0mnp\u001b[0m\u001b[0;34m.\u001b[0m\u001b[0msum\u001b[0m\u001b[0;34m(\u001b[0m\u001b[0mh\u001b[0m\u001b[0;34m[\u001b[0m\u001b[0msel\u001b[0m\u001b[0;34m]\u001b[0m\u001b[0;34m)\u001b[0m\u001b[0;34m\u001b[0m\u001b[0m\n",
      "\u001b[0;32m/home/erik/anaconda3/envs/pax_new/lib/python3.4/site-packages/numpy/lib/function_base.py\u001b[0m in \u001b[0;36mhistogram\u001b[0;34m(a, bins, range, normed, weights, density)\u001b[0m\n\u001b[1;32m    632\u001b[0m                 \u001b[0mtmp_a\u001b[0m \u001b[0;34m=\u001b[0m \u001b[0ma\u001b[0m\u001b[0;34m[\u001b[0m\u001b[0mi\u001b[0m\u001b[0;34m:\u001b[0m\u001b[0mi\u001b[0m\u001b[0;34m+\u001b[0m\u001b[0mBLOCK\u001b[0m\u001b[0;34m]\u001b[0m\u001b[0;34m\u001b[0m\u001b[0m\n\u001b[1;32m    633\u001b[0m                 \u001b[0mtmp_w\u001b[0m \u001b[0;34m=\u001b[0m \u001b[0mweights\u001b[0m\u001b[0;34m[\u001b[0m\u001b[0mi\u001b[0m\u001b[0;34m:\u001b[0m\u001b[0mi\u001b[0m\u001b[0;34m+\u001b[0m\u001b[0mBLOCK\u001b[0m\u001b[0;34m]\u001b[0m\u001b[0;34m\u001b[0m\u001b[0m\n\u001b[0;32m--> 634\u001b[0;31m                 \u001b[0msorting_index\u001b[0m \u001b[0;34m=\u001b[0m \u001b[0mnp\u001b[0m\u001b[0;34m.\u001b[0m\u001b[0margsort\u001b[0m\u001b[0;34m(\u001b[0m\u001b[0mtmp_a\u001b[0m\u001b[0;34m)\u001b[0m\u001b[0;34m\u001b[0m\u001b[0m\n\u001b[0m\u001b[1;32m    635\u001b[0m                 \u001b[0msa\u001b[0m \u001b[0;34m=\u001b[0m \u001b[0mtmp_a\u001b[0m\u001b[0;34m[\u001b[0m\u001b[0msorting_index\u001b[0m\u001b[0;34m]\u001b[0m\u001b[0;34m\u001b[0m\u001b[0m\n\u001b[1;32m    636\u001b[0m                 \u001b[0msw\u001b[0m \u001b[0;34m=\u001b[0m \u001b[0mtmp_w\u001b[0m\u001b[0;34m[\u001b[0m\u001b[0msorting_index\u001b[0m\u001b[0;34m]\u001b[0m\u001b[0;34m\u001b[0m\u001b[0m\n",
      "\u001b[0;32m/home/erik/anaconda3/envs/pax_new/lib/python3.4/site-packages/numpy/core/fromnumeric.py\u001b[0m in \u001b[0;36margsort\u001b[0;34m(a, axis, kind, order)\u001b[0m\n\u001b[1;32m    911\u001b[0m     \u001b[0;32mexcept\u001b[0m \u001b[0mAttributeError\u001b[0m\u001b[0;34m:\u001b[0m\u001b[0;34m\u001b[0m\u001b[0m\n\u001b[1;32m    912\u001b[0m         \u001b[0;32mreturn\u001b[0m \u001b[0m_wrapit\u001b[0m\u001b[0;34m(\u001b[0m\u001b[0ma\u001b[0m\u001b[0;34m,\u001b[0m \u001b[0;34m'argsort'\u001b[0m\u001b[0;34m,\u001b[0m \u001b[0maxis\u001b[0m\u001b[0;34m,\u001b[0m \u001b[0mkind\u001b[0m\u001b[0;34m,\u001b[0m \u001b[0morder\u001b[0m\u001b[0;34m)\u001b[0m\u001b[0;34m\u001b[0m\u001b[0m\n\u001b[0;32m--> 913\u001b[0;31m     \u001b[0;32mreturn\u001b[0m \u001b[0margsort\u001b[0m\u001b[0;34m(\u001b[0m\u001b[0maxis\u001b[0m\u001b[0;34m,\u001b[0m \u001b[0mkind\u001b[0m\u001b[0;34m,\u001b[0m \u001b[0morder\u001b[0m\u001b[0;34m)\u001b[0m\u001b[0;34m\u001b[0m\u001b[0m\n\u001b[0m\u001b[1;32m    914\u001b[0m \u001b[0;34m\u001b[0m\u001b[0m\n\u001b[1;32m    915\u001b[0m \u001b[0;34m\u001b[0m\u001b[0m\n",
      "\u001b[0;31mKeyboardInterrupt\u001b[0m: "
     ]
    }
   ],
   "source": [
    "popt['n_photons'] = int(1e6)\n",
    "popt['stored_stat'] = False\n",
    "\n",
    "boot_scan = [20, 100, 200, 1000]\n",
    "boots = []\n",
    "for bt in boot_scan:\n",
    "    print(bt)\n",
    "    popt['bootstrap_trials'] = bt\n",
    "    boots.append([gof(**popt) for _ in range(20)])\n"
   ]
  },
  {
   "cell_type": "code",
   "execution_count": 135,
   "metadata": {
    "collapsed": false
   },
   "outputs": [
    {
     "name": "stdout",
     "output_type": "stream",
     "text": [
      "400\n",
      "gof=2.169790799650517, fs=0.19, t1=2.0, t3=25.0, tts=1.75\n",
      "gof=2.0958783567618977, fs=0.19, t1=2.0, t3=25.0, tts=1.75\n",
      "gof=2.0437041529418414, fs=0.19, t1=2.0, t3=25.0, tts=1.75\n",
      "gof=2.189776783448054, fs=0.19, t1=2.0, t3=25.0, tts=1.75\n",
      "gof=2.335455337573744, fs=0.19, t1=2.0, t3=25.0, tts=1.75\n",
      "gof=2.016523940034678, fs=0.19, t1=2.0, t3=25.0, tts=1.75\n",
      "gof=1.957150616151253, fs=0.19, t1=2.0, t3=25.0, tts=1.75\n",
      "gof=2.2426380687513316, fs=0.19, t1=2.0, t3=25.0, tts=1.75\n",
      "gof=2.0268897915146216, fs=0.19, t1=2.0, t3=25.0, tts=1.75\n",
      "gof=1.7702937134946244, fs=0.19, t1=2.0, t3=25.0, tts=1.75\n",
      "gof=2.2007160689622935, fs=0.19, t1=2.0, t3=25.0, tts=1.75\n",
      "gof=1.8613155479428471, fs=0.19, t1=2.0, t3=25.0, tts=1.75\n",
      "gof=2.138296685063111, fs=0.19, t1=2.0, t3=25.0, tts=1.75\n",
      "gof=2.0494810091269486, fs=0.19, t1=2.0, t3=25.0, tts=1.75\n",
      "gof=1.7838359820359413, fs=0.19, t1=2.0, t3=25.0, tts=1.75\n",
      "gof=1.880781820935462, fs=0.19, t1=2.0, t3=25.0, tts=1.75\n",
      "gof=2.299482036700427, fs=0.19, t1=2.0, t3=25.0, tts=1.75\n",
      "gof=1.8467025784694842, fs=0.19, t1=2.0, t3=25.0, tts=1.75\n",
      "gof=1.6959093953165387, fs=0.19, t1=2.0, t3=25.0, tts=1.75\n",
      "gof=2.2032423865160506, fs=0.19, t1=2.0, t3=25.0, tts=1.75\n"
     ]
    }
   ],
   "source": [
    "for bt in [400]:\n",
    "    print(bt)\n",
    "    popt['bootstrap_trials'] = bt\n",
    "    boots.append([gof(**popt) for _ in range(20)])"
   ]
  },
  {
   "cell_type": "code",
   "execution_count": 136,
   "metadata": {
    "collapsed": false
   },
   "outputs": [
    {
     "data": {
      "text/plain": [
       "<matplotlib.text.Text at 0x7f7c725d94a8>"
      ]
     },
     "execution_count": 136,
     "metadata": {},
     "output_type": "execute_result"
    },
    {
     "data": {
      "image/png": "[encoded data removed]",
      "text/plain": [
       "<matplotlib.figure.Figure at 0x7f7c7262e7b8>"
      ]
     },
     "metadata": {},
     "output_type": "display_data"
    }
   ],
   "source": [
    "plt.plot([20, 100, 200, 400], np.std(boots, axis=1) / np.mean(boots, axis=1), marker='.')\n",
    "plt.xlabel('Number of bootstrap trials')\n",
    "plt.ylabel('Error (@ 1e6 photons)')"
   ]
  },
  {
   "cell_type": "markdown",
   "metadata": {},
   "source": [
    "It looks like at 1M photons, the number of bootstrap trials is not so important as long as it is high enough (>= 100)"
   ]
  },
  {
   "cell_type": "markdown",
   "metadata": {},
   "source": [
    "### Normalization check"
   ]
  },
  {
   "cell_type": "code",
   "execution_count": 115,
   "metadata": {
    "collapsed": true
   },
   "outputs": [],
   "source": [
    "popt = dict(df.iloc[df['chi2'].argmin()])"
   ]
  },
  {
   "cell_type": "code",
   "execution_count": 116,
   "metadata": {
    "collapsed": false
   },
   "outputs": [
    {
     "data": {
      "text/plain": [
       "{'chi2': 0.69103473385688463, 'fs': 0.19, 't1': 2.0, 't3': 25.0, 'tts': 1.75}"
      ]
     },
     "execution_count": 116,
     "metadata": {},
     "output_type": "execute_result"
    }
   ],
   "source": [
    "popt"
   ]
  },
  {
   "cell_type": "code",
   "execution_count": 117,
   "metadata": {
    "collapsed": true
   },
   "outputs": [],
   "source": [
    "ydata, _ = real_s1_wv(**popt)\n",
    "minus, base, plus = s1_models_error(**popt)"
   ]
  },
  {
   "cell_type": "code",
   "execution_count": 118,
   "metadata": {
    "collapsed": false
   },
   "outputs": [
    {
     "data": {
      "text/plain": [
       "[<matplotlib.lines.Line2D at 0x7f7c6e559320>]"
      ]
     },
     "execution_count": 118,
     "metadata": {},
     "output_type": "execute_result"
    },
    {
     "data": {
      "image/png": "[encoded data removed]",
      "text/plain": [
       "<matplotlib.figure.Figure at 0x7f7c6e5595c0>"
      ]
     },
     "metadata": {},
     "output_type": "display_data"
    }
   ],
   "source": [
    "plt.plot(ydata)\n",
    "plt.plot(base)\n",
    "# plt.yscale('log')"
   ]
  },
  {
   "cell_type": "code",
   "execution_count": 119,
   "metadata": {
    "collapsed": false
   },
   "outputs": [
    {
     "data": {
      "text/plain": [
       "1.0100332563949541"
      ]
     },
     "execution_count": 119,
     "metadata": {},
     "output_type": "execute_result"
    }
   ],
   "source": [
    "np.sum(ydata)"
   ]
  },
  {
   "cell_type": "code",
   "execution_count": 120,
   "metadata": {
    "collapsed": false
   },
   "outputs": [
    {
     "data": {
      "text/plain": [
       "1.0033517421650893"
      ]
     },
     "execution_count": 120,
     "metadata": {},
     "output_type": "execute_result"
    }
   ],
   "source": [
    "np.sum(base)"
   ]
  },
  {
   "cell_type": "code",
   "execution_count": 121,
   "metadata": {
    "collapsed": true
   },
   "outputs": [],
   "source": [
    "sel = (spe_ts >= default_params['t_min']) & (spe_ts < default_params['t_max'])"
   ]
  },
  {
   "cell_type": "code",
   "execution_count": 122,
   "metadata": {
    "collapsed": false
   },
   "outputs": [
    {
     "data": {
      "text/plain": [
       "0.99999999999999989"
      ]
     },
     "execution_count": 122,
     "metadata": {},
     "output_type": "execute_result"
    }
   ],
   "source": [
    "np.sum(base[sel])"
   ]
  },
  {
   "cell_type": "code",
   "execution_count": 123,
   "metadata": {
    "collapsed": false
   },
   "outputs": [
    {
     "data": {
      "text/plain": [
       "0.99999999999999989"
      ]
     },
     "execution_count": 123,
     "metadata": {},
     "output_type": "execute_result"
    }
   ],
   "source": [
    "np.sum(ydata[sel])"
   ]
  },
  {
   "cell_type": "code",
   "execution_count": 44,
   "metadata": {
    "collapsed": false
   },
   "outputs": [
    {
     "data": {
      "text/plain": [
       "<matplotlib.lines.Line2D at 0x7f7c72bf0320>"
      ]
     },
     "execution_count": 44,
     "metadata": {},
     "output_type": "execute_result"
    },
    {
     "data": {
      "image/png": "[encoded data removed]",
      "text/plain": [
       "<matplotlib.figure.Figure at 0x7f7c72bf0518>"
      ]
     },
     "metadata": {},
     "output_type": "display_data"
    }
   ],
   "source": [
    "plt.hist(gofs, histtype='step', bins=20, range = (0, 7))\n",
    "plt.axvline(0.69)"
   ]
  },
  {
   "cell_type": "code",
   "execution_count": 45,
   "metadata": {
    "collapsed": false
   },
   "outputs": [
    {
     "name": "stdout",
     "output_type": "stream",
     "text": [
      "{'tr': 15, 'neglect_statistical': False, 's1_min': 30, 'tts': 1.75, 'stored_stat': True, 'eta': 0.0, 'f_r': 0.0, 'error_offset': 0.0001, 'fs': 0.19, 'error_pct': 0.0, 't1': 2.0, 'fs_r': 0.2, 'n_photons': 2000000, 't_min': -10.0, 'aft': 0.28, 't_max': 125.0, 't3': 25.0, 'dset': 'er', 'neglect_systematic': True, 'bootstrap_trials': 100, 'chi2': 0.69103473385688463, 's1_sample': 'data', 's1_model': 'two_exp', 's1_max': 100}\n",
      "Reading stat error from stored_stat parameter!\n"
     ]
    },
    {
     "data": {
      "image/png": "[encoded data removed]",
      "text/plain": [
       "<matplotlib.figure.Figure at 0x7f7c729a2320>"
      ]
     },
     "metadata": {},
     "output_type": "display_data"
    },
    {
     "name": "stdout",
     "output_type": "stream",
     "text": [
      "Reading stat error from stored_stat parameter!\n",
      "chi2 = 5.631036\n"
     ]
    },
    {
     "data": {
      "image/png": "[encoded data removed]",
      "text/plain": [
       "<matplotlib.figure.Figure at 0x7f7c4a46c6a0>"
      ]
     },
     "metadata": {},
     "output_type": "display_data"
    }
   ],
   "source": [
    "plot_model(**popt)"
   ]
  },
  {
   "cell_type": "markdown",
   "metadata": {},
   "source": [
    "## Consistency check"
   ]
  },
  {
   "cell_type": "markdown",
   "metadata": {},
   "source": [
    "Is the chi2 computed by me the same as the one found by Stoomboot? Here we take random parameters from the grid, compute the chi2 twice and compare how much *they* vary with the variation found within one of the computed lists and the original calculation."
   ]
  },
  {
   "cell_type": "code",
   "execution_count": 19,
   "metadata": {
    "collapsed": false
   },
   "outputs": [
    {
     "name": "stdout",
     "output_type": "stream",
     "text": [
      "Warning: stored_stat not found, will revert to computing again...\n"
     ]
    }
   ],
   "source": [
    "stored_stat = real_s1_wv_sigma(**(df.iloc[0]))"
   ]
  },
  {
   "cell_type": "code",
   "execution_count": 20,
   "metadata": {
    "collapsed": false
   },
   "outputs": [
    {
     "name": "stdout",
     "output_type": "stream",
     "text": [
      "Reading stat error from stored_stat parameter!\n",
      "gof=22.197856331672842, fs=0.17, t1=4.0, t3=24.5, tts=2.0\n",
      "Reading stat error from stored_stat parameter!\n",
      "gof=22.583376867497908, fs=0.17, t1=4.0, t3=24.5, tts=2.0\n",
      "Reading stat error from stored_stat parameter!\n",
      "gof=4.965032019046841, fs=0.19, t1=3.0, t3=24.5, tts=1.75\n",
      "Reading stat error from stored_stat parameter!\n",
      "gof=5.431545308357935, fs=0.19, t1=3.0, t3=24.5, tts=1.75\n",
      "Reading stat error from stored_stat parameter!\n",
      "gof=11.32994879215754, fs=0.19, t1=3.5, t3=27.0, tts=1.75\n",
      "Reading stat error from stored_stat parameter!\n",
      "gof=11.983827961949077, fs=0.19, t1=3.5, t3=27.0, tts=1.75\n",
      "Reading stat error from stored_stat parameter!\n",
      "gof=32.99290719548175, fs=0.19, t1=4.0, t3=27.5, tts=2.0\n",
      "Reading stat error from stored_stat parameter!\n",
      "gof=31.983095950302012, fs=0.19, t1=4.0, t3=27.5, tts=2.0\n",
      "Reading stat error from stored_stat parameter!\n",
      "gof=9.878493140419518, fs=0.18, t1=2.5, t3=25.5, tts=2.0\n",
      "Reading stat error from stored_stat parameter!\n",
      "gof=9.096146081263141, fs=0.18, t1=2.5, t3=25.5, tts=2.0\n",
      "Reading stat error from stored_stat parameter!\n",
      "gof=3.9026433348402305, fs=0.21000000000000002, t1=3.0, t3=26.5, tts=1.75\n",
      "Reading stat error from stored_stat parameter!\n",
      "gof=4.055951203697229, fs=0.21000000000000002, t1=3.0, t3=26.5, tts=1.75\n",
      "Reading stat error from stored_stat parameter!\n",
      "gof=40.86779575658362, fs=0.22, t1=2.0, t3=27.0, tts=1.25\n",
      "Reading stat error from stored_stat parameter!\n",
      "gof=42.976125960408254, fs=0.22, t1=2.0, t3=27.0, tts=1.25\n",
      "Reading stat error from stored_stat parameter!\n",
      "gof=4.930852507015341, fs=0.19, t1=3.5, t3=25.0, tts=1.75\n",
      "Reading stat error from stored_stat parameter!\n",
      "gof=5.333580871750937, fs=0.19, t1=3.5, t3=25.0, tts=1.75\n",
      "Reading stat error from stored_stat parameter!\n",
      "gof=20.44325301131303, fs=0.16, t1=2.0, t3=22.5, tts=1.25\n",
      "Reading stat error from stored_stat parameter!\n",
      "gof=21.1703447093804, fs=0.16, t1=2.0, t3=22.5, tts=1.25\n",
      "Reading stat error from stored_stat parameter!\n",
      "gof=46.99385423003226, fs=0.21000000000000002, t1=3.5, t3=23.5, tts=1.25\n",
      "Reading stat error from stored_stat parameter!\n",
      "gof=46.57286358124269, fs=0.21000000000000002, t1=3.5, t3=23.5, tts=1.25\n",
      "Reading stat error from stored_stat parameter!\n",
      "gof=17.38406065335457, fs=0.17, t1=3.5, t3=27.0, tts=1.25\n",
      "Reading stat error from stored_stat parameter!\n",
      "gof=16.388496788120676, fs=0.17, t1=3.5, t3=27.0, tts=1.25\n",
      "Reading stat error from stored_stat parameter!\n",
      "gof=50.35999564345824, fs=0.2, t1=4.0, t3=26.5, tts=2.5\n",
      "Reading stat error from stored_stat parameter!\n",
      "gof=51.48531221753257, fs=0.2, t1=4.0, t3=26.5, tts=2.5\n",
      "Reading stat error from stored_stat parameter!\n",
      "gof=43.33943600550599, fs=0.19, t1=2.5, t3=28.0, tts=2.25\n",
      "Reading stat error from stored_stat parameter!\n",
      "gof=42.99031548522558, fs=0.19, t1=2.5, t3=28.0, tts=2.25\n",
      "Reading stat error from stored_stat parameter!\n",
      "gof=8.604343764704717, fs=0.22, t1=1.0, t3=24.5, tts=2.5\n",
      "Reading stat error from stored_stat parameter!\n",
      "gof=8.51812219892343, fs=0.22, t1=1.0, t3=24.5, tts=2.5\n",
      "Reading stat error from stored_stat parameter!\n",
      "gof=61.30867146507858, fs=0.19, t1=3.5, t3=22.5, tts=1.0\n",
      "Reading stat error from stored_stat parameter!\n",
      "gof=58.427501279960175, fs=0.19, t1=3.5, t3=22.5, tts=1.0\n",
      "Reading stat error from stored_stat parameter!\n",
      "gof=28.29260548633782, fs=0.21000000000000002, t1=1.5, t3=25.0, tts=1.5\n",
      "Reading stat error from stored_stat parameter!\n",
      "gof=28.39842138273547, fs=0.21000000000000002, t1=1.5, t3=25.0, tts=1.5\n",
      "Reading stat error from stored_stat parameter!\n",
      "gof=13.696938312402185, fs=0.21000000000000002, t1=3.0, t3=26.0, tts=2.25\n",
      "Reading stat error from stored_stat parameter!\n",
      "gof=13.816340700514942, fs=0.21000000000000002, t1=3.0, t3=26.0, tts=2.25\n",
      "Reading stat error from stored_stat parameter!\n",
      "gof=45.82196398188481, fs=0.22, t1=1.5, t3=24.5, tts=1.5\n",
      "Reading stat error from stored_stat parameter!\n",
      "gof=44.427637538214604, fs=0.22, t1=1.5, t3=24.5, tts=1.5\n",
      "Reading stat error from stored_stat parameter!\n",
      "gof=9.206596039284674, fs=0.18, t1=2.0, t3=24.0, tts=1.5\n",
      "Reading stat error from stored_stat parameter!\n",
      "gof=8.555057406709624, fs=0.18, t1=2.0, t3=24.0, tts=1.5\n",
      "Reading stat error from stored_stat parameter!\n",
      "gof=32.70795620999064, fs=0.22, t1=3.0, t3=28.0, tts=2.5\n",
      "Reading stat error from stored_stat parameter!\n",
      "gof=33.47624133516029, fs=0.22, t1=3.0, t3=28.0, tts=2.5\n",
      "Reading stat error from stored_stat parameter!\n",
      "gof=17.50882282058858, fs=0.17, t1=4.0, t3=26.5, tts=1.5\n",
      "Reading stat error from stored_stat parameter!\n",
      "gof=17.324449479566365, fs=0.17, t1=4.0, t3=26.5, tts=1.5\n",
      "Reading stat error from stored_stat parameter!\n",
      "gof=88.16669335863979, fs=0.22, t1=2.5, t3=22.5, tts=1.5\n",
      "Reading stat error from stored_stat parameter!\n",
      "gof=87.09894916079114, fs=0.22, t1=2.5, t3=22.5, tts=1.5\n",
      "Reading stat error from stored_stat parameter!\n",
      "gof=3.7124519860499405, fs=0.2, t1=1.0, t3=24.0, tts=2.25\n",
      "Reading stat error from stored_stat parameter!\n",
      "gof=3.271384311591723, fs=0.2, t1=1.0, t3=24.0, tts=2.25\n",
      "Reading stat error from stored_stat parameter!\n",
      "gof=83.89827288166484, fs=0.16, t1=1.5, t3=26.5, tts=2.5\n",
      "Reading stat error from stored_stat parameter!\n",
      "gof=85.90516445048965, fs=0.16, t1=1.5, t3=26.5, tts=2.5\n",
      "Reading stat error from stored_stat parameter!\n",
      "gof=4.727372489875223, fs=0.21000000000000002, t1=4.0, t3=27.5, tts=1.25\n",
      "Reading stat error from stored_stat parameter!\n",
      "gof=4.900215160427632, fs=0.21000000000000002, t1=4.0, t3=27.5, tts=1.25\n",
      "Reading stat error from stored_stat parameter!\n",
      "gof=35.66238112230978, fs=0.2, t1=3.5, t3=24.0, tts=1.0\n",
      "Reading stat error from stored_stat parameter!\n",
      "gof=35.71748132035961, fs=0.2, t1=3.5, t3=24.0, tts=1.0\n",
      "Reading stat error from stored_stat parameter!\n",
      "gof=113.18637744342875, fs=0.21000000000000002, t1=1.0, t3=23.0, tts=1.0\n",
      "Reading stat error from stored_stat parameter!\n",
      "gof=110.48013426136498, fs=0.21000000000000002, t1=1.0, t3=23.0, tts=1.0\n",
      "Reading stat error from stored_stat parameter!\n",
      "gof=87.06968861008818, fs=0.2, t1=1.5, t3=22.0, tts=1.25\n",
      "Reading stat error from stored_stat parameter!\n",
      "gof=87.68846385758559, fs=0.2, t1=1.5, t3=22.0, tts=1.25\n",
      "Reading stat error from stored_stat parameter!\n",
      "gof=61.322516362519686, fs=0.16, t1=1.5, t3=25.5, tts=2.5\n",
      "Reading stat error from stored_stat parameter!\n",
      "gof=61.074328363110816, fs=0.16, t1=1.5, t3=25.5, tts=2.5\n",
      "Reading stat error from stored_stat parameter!\n",
      "gof=8.555070297756455, fs=0.19, t1=4.0, t3=26.0, tts=1.75\n",
      "Reading stat error from stored_stat parameter!\n",
      "gof=8.970436908512701, fs=0.19, t1=4.0, t3=26.0, tts=1.75\n",
      "Reading stat error from stored_stat parameter!\n",
      "gof=31.58279915255532, fs=0.16, t1=2.0, t3=26.5, tts=1.5\n",
      "Reading stat error from stored_stat parameter!\n",
      "gof=29.76760128449252, fs=0.16, t1=2.0, t3=26.5, tts=1.5\n",
      "Reading stat error from stored_stat parameter!\n",
      "gof=6.062092099157552, fs=0.2, t1=2.0, t3=25.0, tts=1.75\n",
      "Reading stat error from stored_stat parameter!\n",
      "gof=6.92072776989547, fs=0.2, t1=2.0, t3=25.0, tts=1.75\n",
      "Reading stat error from stored_stat parameter!\n",
      "gof=40.95687204706047, fs=0.16, t1=1.0, t3=26.0, tts=1.5\n",
      "Reading stat error from stored_stat parameter!\n",
      "gof=39.61961383738219, fs=0.16, t1=1.0, t3=26.0, tts=1.5\n",
      "Reading stat error from stored_stat parameter!\n",
      "gof=35.96710324881562, fs=0.2, t1=3.5, t3=25.5, tts=2.5\n",
      "Reading stat error from stored_stat parameter!\n",
      "gof=37.46489285857267, fs=0.2, t1=3.5, t3=25.5, tts=2.5\n",
      "Reading stat error from stored_stat parameter!\n",
      "gof=8.27305654883947, fs=0.18, t1=3.5, t3=26.5, tts=1.5\n",
      "Reading stat error from stored_stat parameter!\n",
      "gof=8.951597356980272, fs=0.18, t1=3.5, t3=26.5, tts=1.5\n",
      "Reading stat error from stored_stat parameter!\n",
      "gof=18.5400633883365, fs=0.19, t1=2.0, t3=27.0, tts=2.0\n",
      "Reading stat error from stored_stat parameter!\n",
      "gof=20.657535412207338, fs=0.19, t1=2.0, t3=27.0, tts=2.0\n",
      "Reading stat error from stored_stat parameter!\n",
      "gof=32.64784000042738, fs=0.2, t1=3.0, t3=24.0, tts=2.5\n",
      "Reading stat error from stored_stat parameter!\n",
      "gof=31.62704589647335, fs=0.2, t1=3.0, t3=24.0, tts=2.5\n",
      "Reading stat error from stored_stat parameter!\n",
      "gof=13.095695413700783, fs=0.16, t1=2.5, t3=24.5, tts=1.0\n",
      "Reading stat error from stored_stat parameter!\n",
      "gof=13.259661554983493, fs=0.16, t1=2.5, t3=24.5, tts=1.0\n",
      "Reading stat error from stored_stat parameter!\n",
      "gof=54.90428750999681, fs=0.22, t1=1.5, t3=22.0, tts=2.25\n",
      "Reading stat error from stored_stat parameter!\n",
      "gof=53.53872294019695, fs=0.22, t1=1.5, t3=22.0, tts=2.25\n",
      "Reading stat error from stored_stat parameter!\n",
      "gof=29.476254546648544, fs=0.17, t1=2.0, t3=24.0, tts=2.5\n",
      "Reading stat error from stored_stat parameter!\n",
      "gof=30.851432317076977, fs=0.17, t1=2.0, t3=24.0, tts=2.5\n"
     ]
    }
   ],
   "source": [
    "bla1 = []\n",
    "bla2 = []\n",
    "bla3 = []\n",
    "for i in range(40):\n",
    "    randrow = df.iloc[np.random.randint(0, len(df))]\n",
    "    bla1.append(randrow['chi2'])\n",
    "    bla2.append(gof(**randrow))\n",
    "    bla3.append(gof(**randrow))\n",
    "\n",
    "bla1 = np.array(bla1)\n",
    "bla2 = np.array(bla2)\n",
    "bla3 = np.array(bla3)"
   ]
  },
  {
   "cell_type": "code",
   "execution_count": 21,
   "metadata": {
    "collapsed": false
   },
   "outputs": [
    {
     "data": {
      "image/png": "[encoded data removed]",
      "text/plain": [
       "<matplotlib.figure.Figure at 0x7fa2ed5405c0>"
      ]
     },
     "metadata": {},
     "output_type": "display_data"
    },
    {
     "data": {
      "image/png": "[encoded data removed]",
      "text/plain": [
       "<matplotlib.figure.Figure at 0x7fa2ed623cc0>"
      ]
     },
     "metadata": {},
     "output_type": "display_data"
    }
   ],
   "source": [
    "plt.scatter(bla1, bla2)\n",
    "plt.xlabel('Chi2 stoomboot')\n",
    "plt.ylabel('Chi2 Erik')\n",
    "plt.plot((0, max(bla1)), (0, max(bla1)), label='x = y')\n",
    "plt.show()\n",
    "\n",
    "plt.scatter(bla2, bla3)\n",
    "plt.xlabel('Chi2 Erik 1')\n",
    "plt.ylabel('Chi2 Erik 2')\n",
    "plt.plot((0, max(bla1)), (0, max(bla1)), label='x = y')\n",
    "plt.show()"
   ]
  },
  {
   "cell_type": "code",
   "execution_count": 24,
   "metadata": {
    "collapsed": false
   },
   "outputs": [
    {
     "data": {
      "image/png": "[encoded data removed]",
      "text/plain": [
       "<matplotlib.figure.Figure at 0x7fa2f2d3b390>"
      ]
     },
     "metadata": {},
     "output_type": "display_data"
    }
   ],
   "source": [
    "plt.hist((bla1 - bla2)/bla2, histtype='step', range=(-0.2, 0.2))\n",
    "plt.hist((bla3 - bla2)/bla2, histtype='step', range=(-0.2, 0.2))\n",
    "plt.show()"
   ]
  },
  {
   "cell_type": "code",
   "execution_count": 154,
   "metadata": {
    "collapsed": false
   },
   "outputs": [],
   "source": [
    "def get_step(df, key):\n",
    "    return np.diff(np.sort(np.unique(df[key].values)))[0]"
   ]
  },
  {
   "cell_type": "code",
   "execution_count": 158,
   "metadata": {
    "collapsed": false
   },
   "outputs": [
    {
     "data": {
      "text/plain": [
       "0.25"
      ]
     },
     "execution_count": 158,
     "metadata": {},
     "output_type": "execute_result"
    }
   ],
   "source": [
    "get_step(df, 'tts')"
   ]
  },
  {
   "cell_type": "code",
   "execution_count": 159,
   "metadata": {
    "collapsed": false
   },
   "outputs": [
    {
     "name": "stdout",
     "output_type": "stream",
     "text": [
      "gof=6.835846844545791, fs=0.17, t1=3.0, t3=25.5, tts=1.5\n",
      "gof=4.484094011008079, fs=0.17, t1=3.0, t3=25.5, tts=1.5\n",
      "gof=6.2844180095350906, fs=0.17, t1=3.0, t3=25.75, tts=1.5\n",
      "gof=4.862439342731491, fs=0.17, t1=3.0, t3=25.0954915, tts=1.5\n",
      "gof=3.9725227966964707, fs=0.17, t1=3.0, t3=25.5, tts=1.5\n",
      "gof=5.434138959779439, fs=0.17, t1=3.0, t3=25.345491506289, tts=1.5\n",
      "gof=5.027767432967841, fs=0.17, t1=3.0, t3=25.5954915, tts=1.5\n",
      "gof=5.076779842304964, fs=0.17, t1=3.0, t3=25.480397956650467, tts=1.5\n",
      "gof=3.544497781931108, fs=0.17, t1=3.0, t3=25.5383084058366, tts=1.5\n",
      "gof=3.574977330723969, fs=0.17, t1=3.0, t3=25.53352875702835, tts=1.5\n",
      "gof=4.069563351814927, fs=0.17, t1=3.0, t3=25.560150403581815, tts=1.5\n",
      "gof=5.224178093486836, fs=0.17, t1=3.0, t3=25.558208239191778, tts=1.5\n",
      "gof=4.287354977175526, fs=0.17, t1=3.0, t3=25.545909465583943, tts=1.5\n",
      "gof=6.466368417898476, fs=0.17, t1=3.0, t3=25.54121175222405, tts=1.5\n",
      "gof=5.806879909958351, fs=0.17, t1=3.0, t3=25.536482742499906, tts=1.5\n",
      "gof=4.49084731014466, fs=0.17, t1=3.0, t3=25.539417385442828, tts=1.5\n",
      "gof=4.85494615303316, fs=0.17, t1=3.0, t3=25.537611064514536, tts=1.5\n",
      "gof=4.459702505939512, fs=0.17, t1=3.0, t3=25.53873199834087, tts=1.5\n",
      "gof=5.6471871989463205, fs=0.17, t1=3.0, t3=25.5383084058366, tts=1.5\n",
      "gof=3.9319027724606106, fs=0.17500000000000002, t1=3.0, t3=25.5383084058366, tts=1.5\n",
      "gof=5.2011248802031265, fs=0.18309017, t1=3.0, t3=25.5383084058366, tts=1.5\n",
      "gof=3.556159293104234, fs=0.17500000000000002, t1=3.0, t3=25.5383084058366, tts=1.5\n",
      "gof=3.0408936979576504, fs=0.17809016987422002, t1=3.0, t3=25.5383084058366, tts=1.5\n",
      "gof=3.749812055902449, fs=0.1799999999222637, t1=3.0, t3=25.5383084058366, tts=1.5\n",
      "gof=3.2315874007918945, fs=0.1773200045067388, t1=3.0, t3=25.5383084058366, tts=1.5\n",
      "gof=3.7121434246109497, fs=0.17881966001835106, t1=3.0, t3=25.5383084058366, tts=1.5\n",
      "gof=3.0969722638764345, fs=0.17779599288946468, t1=3.0, t3=25.5383084058366, tts=1.5\n",
      "gof=3.8150368276974262, fs=0.17836881030661317, t1=3.0, t3=25.5383084058366, tts=1.5\n",
      "gof=3.568428936260316, fs=0.17797780426806095, t1=3.0, t3=25.5383084058366, tts=1.5\n",
      "gof=4.097189335459614, fs=0.1781966010456195, t1=3.0, t3=25.5383084058366, tts=1.5\n",
      "gof=5.036670755948419, fs=0.17809016987422002, t1=3.0, t3=25.5383084058366, tts=1.5\n",
      "gof=2.701230711184396, fs=0.17809016987422002, t1=3.125, t3=25.5383084058366, tts=1.5\n",
      "gof=2.905150612230052, fs=0.17809016987422002, t1=3.32725425, t3=25.5383084058366, tts=1.5\n",
      "gof=4.713418487990911, fs=0.17809016987422002, t1=3.125, t3=25.5383084058366, tts=1.5\n",
      "gof=4.564437742424716, fs=0.17809016987422002, t1=3.2022542468555, t3=25.5383084058366, tts=1.5\n",
      "gof=3.417509112779636, fs=0.17809016987422002, t1=3.249999998056592, t3=25.5383084058366, tts=1.5\n",
      "gof=2.6858031134834337, fs=0.17809016987422002, t1=3.279508495654408, t3=25.5383084058366, tts=1.5\n",
      "gof=3.9222372435075328, fs=0.17809016987422002, t1=3.2977457504587764, t3=25.5383084058366, tts=1.5\n",
      "gof=3.254185520132242, fs=0.17809016987422002, t1=3.2711473723911912, t3=25.5383084058366, tts=1.5\n",
      "gof=3.1231538797325067, fs=0.17809016987422002, t1=3.286474506923013, t3=25.5383084058366, tts=1.5\n",
      "gof=3.0778874037493944, fs=0.17809016987422002, t1=3.2767134106966136, t3=25.5383084058366, tts=1.5\n",
      "gof=2.698618301609464, fs=0.17809016987422002, t1=3.282303580612202, t3=25.5383084058366, tts=1.5\n",
      "gof=3.2750186942644546, fs=0.17809016987422002, t1=3.279508495654408, t3=25.5383084058366, tts=1.5\n",
      "gof=4.406172124370209, fs=0.17809016987422002, t1=3.279508495654408, t3=25.5383084058366, tts=1.625\n",
      "gof=5.074708782458029, fs=0.17809016987422002, t1=3.279508495654408, t3=25.5383084058366, tts=1.29774575\n",
      "gof=3.6383582115597646, fs=0.17809016987422002, t1=3.279508495654408, t3=25.5383084058366, tts=1.5\n",
      "gof=3.748898213198067, fs=0.17809016987422002, t1=3.279508495654408, t3=25.5383084058366, tts=1.4227457531445\n",
      "gof=4.387438462388562, fs=0.17809016987422002, t1=3.279508495654408, t3=25.5383084058366, tts=1.54774575\n",
      "gof=3.4088978832304813, fs=0.17809016987422002, t1=3.279508495654408, t3=25.5383084058366, tts=1.4665965786907822\n",
      "gof=2.7648400199071337, fs=0.17809016987422002, t1=3.279508495654408, t3=25.5383084058366, tts=1.4651525560140926\n",
      "gof=3.8256579068198686, fs=0.17809016987422002, t1=3.279508495654408, t3=25.5383084058366, tts=1.4489545991492057\n",
      "gof=3.2217664115195035, fs=0.17809016987422002, t1=3.279508495654408, t3=25.5383084058366, tts=1.4589654872222393\n",
      "gof=3.2599934694546455, fs=0.17809016987422002, t1=3.279508495654408, t3=25.5383084058366, tts=1.462601053259921\n",
      "gof=2.804768964727775, fs=0.17809016987422002, t1=3.279508495654408, t3=25.5383084058366, tts=1.4641779687130927\n",
      "gof=3.8210343589679185, fs=0.17809016987422002, t1=3.279508495654408, t3=25.5383084058366, tts=1.465704123579817\n",
      "gof=4.897173318437406, fs=0.17809016987422002, t1=3.279508495654408, t3=25.5383084058366, tts=1.4647802968010788\n",
      "gof=2.8496033193780566, fs=0.18618033974844003, t1=3.559016991308816, t3=25.576616811673198, tts=1.430305112028185\n",
      "gof=3.723760587320717, fs=0.17809016987422002, t1=3.279508495654408, t3=25.5383084058366, tts=1.4651525560140926\n",
      "gof=3.75889796430477, fs=0.18618033974844003, t1=3.559016991308816, t3=25.576616811673198, tts=1.430305112028185\n",
      "gof=5.3668159383487035, fs=0.16499999995195633, t1=2.8272542463967234, t3=25.476324102707185, tts=1.5215369051963863\n",
      "gof=3.3614609242569204, fs=0.17809016987422002, t1=3.279508495654408, t3=25.5383084058366, tts=1.4651525560140926\n",
      "gof=3.86575060092678, fs=0.17309017002969265, t1=3.1067627490824474, t3=25.514632509507468, tts=1.4866894603338565\n",
      "gof=3.0107998701711414, fs=0.18118033970039635, t1=3.3862712377055395, t3=25.552940914380383, tts=1.4518420172245714\n",
      "gof=3.6481837432790583, fs=0.1830901697187474, t1=3.4522542422263687, t3=25.56198430216573, tts=1.4436156516943286\n",
      "gof=4.431179548443966, fs=0.18026960483187776, t1=3.354806121768875, t3=25.54862842138021, tts=1.4557648992913432\n",
      "gof=3.2684969674896314, fs=0.18190982983318582, t1=3.4114745020103427, t3=25.5563951810392, tts=1.4486998252884467\n",
      "gof=3.3117428170604883, fs=0.18083246994560778, t1=3.374252633231676, t3=25.551293688679078, tts=1.453340424796088\n",
      "gof=3.9542686485791974, fs=0.18138889747285805, t1=3.393476731551048, t3=25.553928472850977, tts=1.4509436794385078\n",
      "gof=2.9962488354434056, fs=0.18104746528163876, t1=3.381680539429076, t3=25.552311730168157, tts=1.4524143579710334\n",
      "gof=3.0011307564518983, fs=0.18092018246479522, t1=3.3772830262480524, t3=25.551709023194203, tts=1.452962613557663\n",
      "gof=4.29163346736941, fs=0.18101756524284301, t1=3.3806475184920934, t3=25.552170148120002, tts=1.4525431488299783\n",
      "gof=2.982155803957615, fs=0.18107703823579385, t1=3.3827022598696175, t3=25.552451763411856, tts=1.4522869759902541\n",
      "gof=3.383308115407604, fs=0.1811164958830222, t1=3.3840654880576935, t3=25.5526386024507, tts=1.4521170168703614\n",
      "gof=2.7082514471633132, fs=0.18107703823579385, t1=3.3827022598696175, t3=25.552451763411856, tts=1.4522869759902541\n",
      "gof=3.481679107155878, fs=0.18107703823579385, t1=3.3827022598696175, t3=25.552451763411856, tts=1.5772869759902541\n",
      "gof=4.6397334002726645, fs=0.18107703823579385, t1=3.3827022598696175, t3=25.552451763411856, tts=1.2500327259902542\n",
      "gof=3.1931627561726645, fs=0.18107703823579385, t1=3.3827022598696175, t3=25.552451763411856, tts=1.4522869759902541\n",
      "gof=3.5426498326037965, fs=0.18107703823579385, t1=3.3827022598696175, t3=25.552451763411856, tts=1.3750327291347542\n",
      "gof=3.5098728661506553, fs=0.18107703823579385, t1=3.3827022598696175, t3=25.552451763411856, tts=1.5000327259902542\n",
      "gof=3.235147983646246, fs=0.18107703823579385, t1=3.3827022598696175, t3=25.552451763411856, tts=1.439001608880525\n",
      "gof=3.739350350608136, fs=0.18107703823579385, t1=3.3827022598696175, t3=25.552451763411856, tts=1.4554913230755342\n",
      "gof=4.097551045886013, fs=0.18107703823579385, t1=3.3827022598696175, t3=25.552451763411856, tts=1.4472124174568195\n",
      "gof=3.436827480795469, fs=0.18107703823579385, t1=3.3827022598696175, t3=25.552451763411856, tts=1.4503486671654722\n",
      "gof=4.361784975517656, fs=0.18107703823579385, t1=3.3827022598696175, t3=25.552451763411856, tts=1.4535109276290303\n",
      "gof=3.2283969855044523, fs=0.18107703823579385, t1=3.3827022598696175, t3=25.552451763411856, tts=1.4515466079216874\n",
      "gof=2.527355384159231, fs=0.18107703823579385, t1=3.3827022598696175, t3=25.552451763411856, tts=1.4527544839019109\n",
      "gof=3.630483174431715, fs=0.18107703823579385, t1=3.3827022598696175, t3=25.552451763411856, tts=1.4530434196865838\n",
      "gof=2.832432882548877, fs=0.18107703823579385, t1=3.3827022598696175, t3=25.552451763411856, tts=1.452575911774927\n",
      "gof=3.7958705816828218, fs=0.18107703823579385, t1=3.3827022598696175, t3=25.552451763411856, tts=1.4528648475478392\n",
      "gof=3.5018304466210863, fs=0.18107703823579385, t1=3.3827022598696175, t3=25.552451763411856, tts=1.4526862754208554\n",
      "gof=2.549527295125941, fs=0.18107703823579385, t1=3.3827022598696175, t3=25.552451763411856, tts=1.4527966390622915\n",
      "gof=2.3664479232061537, fs=0.18107703823579385, t1=3.3827022598696175, t3=25.552451763411856, tts=1.4527495826254413\n",
      "gof=3.4983877861296158, fs=0.18107703823579385, t1=3.3827022598696175, t3=25.552451763411856, tts=1.4527254014257345\n",
      "gof=2.399888330290331, fs=0.18107703823579385, t1=3.3827022598696175, t3=25.552451763411856, tts=1.4527403462293142\n",
      "gof=3.1276668873044424, fs=0.18107703823579385, t1=3.3827022598696175, t3=25.552451763411856, tts=1.4527495826254413\n",
      "gof=3.240646464080104, fs=0.18607703823579386, t1=3.3827022598696175, t3=25.552451763411856, tts=1.4527495826254413\n",
      "gof=5.184913476592973, fs=0.17298686823579384, t1=3.3827022598696175, t3=25.552451763411856, tts=1.4527495826254413\n",
      "gof=4.147055431256084, fs=0.18107703823579385, t1=3.3827022598696175, t3=25.552451763411856, tts=1.4527495826254413\n",
      "gof=3.159358391107631, fs=0.17798686836157385, t1=3.3827022598696175, t3=25.552451763411856, tts=1.4527495826254413\n",
      "gof=3.892348924327855, fs=0.17607703831353017, t1=3.3827022598696175, t3=25.552451763411856, tts=1.4527495826254413\n",
      "gof=3.9931143956057573, fs=0.1783959907170684, t1=3.3827022598696175, t3=25.552451763411856, tts=1.4527495826254413\n",
      "gof=3.410920186064982, fs=0.17721570992452118, t1=3.3827022598696175, t3=25.552451763411856, tts=1.4527495826254413\n",
      "gof=3.0397587983459062, fs=0.1776923120580066, t1=3.3827022598696175, t3=25.552451763411856, tts=1.4527495826254413\n",
      "gof=3.3447292713736823, fs=0.17772615931983446, t1=3.3827022598696175, t3=25.552451763411856, tts=1.4527495826254413\n",
      "gof=2.9425538090217813, fs=0.1775102662474877, t1=3.3827022598696175, t3=25.552451763411856, tts=1.4527495826254413\n",
      "gof=3.633764879973353, fs=0.17739775574702946, t1=3.3827022598696175, t3=25.552451763411856, tts=1.4527495826254413\n",
      "gof=3.94798569376516, fs=0.17757980155754835, t1=3.3827022598696175, t3=25.552451763411856, tts=1.4527495826254413\n",
      "gof=3.6003001144767284, fs=0.17746729106166967, t1=3.3827022598696175, t3=25.552451763411856, tts=1.4527495826254413\n",
      "gof=4.851216934190013, fs=0.1775102662474877, t1=3.3827022598696175, t3=25.552451763411856, tts=1.4527495826254413\n",
      "gof=3.9206682628683684, fs=0.1775102662474877, t1=3.5077022598696175, t3=25.552451763411856, tts=1.4527495826254413\n",
      "gof=3.671823057211877, fs=0.1775102662474877, t1=3.7099565098696177, t3=25.552451763411856, tts=1.4527495826254413\n",
      "gof=4.2547215079520715, fs=0.1775102662474877, t1=3.641227034511061, t3=25.552451763411856, tts=1.4527495826254413\n",
      "gof=4.560461868680988, fs=0.1775102662474877, t1=3.5077022598696175, t3=25.552451763411856, tts=1.4527495826254413\n",
      "gof=3.2695387008447625, fs=0.1775102662474877, t1=3.558704183940311, t3=25.552451763411856, tts=1.4527495826254413\n",
      "gof=2.806710590923314, fs=0.1775102662474877, t1=3.590225107081418, t3=25.552451763411856, tts=1.4527495826254413\n",
      "gof=3.7022009157112166, fs=0.1775102662474877, t1=3.631469384664771, t3=25.552451763411856, tts=1.4527495826254413\n",
      "gof=4.912814521881506, fs=0.1775102662474877, t1=3.5881498786080503, t3=25.552451763411856, tts=1.4527495826254413\n",
      "gof=3.2919254687401747, fs=0.1775102662474877, t1=3.592300335554786, t3=25.552451763411856, tts=1.4527495826254413\n",
      "gof=3.8576574013821765, fs=0.1775102662474877, t1=3.590225107081418, t3=25.552451763411856, tts=1.4527495826254413\n",
      "gof=2.8119334376633693, fs=0.18049713460906153, t1=3.6934188712966276, t3=25.566595120987113, tts=1.4398840026016029\n",
      "gof=4.5963126153054334, fs=0.1853299891716123, t1=3.8603898903848197, t3=25.589479554418038, tts=1.4190670566933117\n",
      "gof=3.8152978415212297, fs=0.18049713460906153, t1=3.6934188712966276, t3=25.566595120987113, tts=1.4398840026016029\n",
      "gof=3.477944086751598, fs=0.1823431207349008, t1=3.757196123573668, t3=25.57533619648699, tts=1.4319326370407965\n",
      "gof=4.034908748206752, fs=0.18348400292419775, t1=3.7966126339074564, t3=25.58073847834248, tts=1.4270184227777891\n",
      "gof=3.8854504718698015, fs=0.1818269090548933, t1=3.7393614486086943, t3=25.572891841567035, tts=1.4341561574221493\n",
      "gof=3.646885873108676, fs=0.1827788989412178, t1=3.772251890359824, t3=25.577399684478205, tts=1.4300555742756127\n",
      "gof=4.096546720503939, fs=0.18214594542433504, t1=3.7503838841159967, t3=25.574402536015633, tts=1.4327819462267803\n",
      "gof=3.0943071927708536, fs=0.18250957319325486, t1=3.7629469145899086, t3=25.576124378741042, tts=1.4312156628846304\n",
      "gof=2.9660757037883463, fs=0.18255956626274242, t1=3.7646741326660256, t3=25.576361104894474, tts=1.4310003236870936\n",
      "gof=3.2340183570984125, fs=0.18264334388860895, t1=3.767568578461295, t3=25.576757806983753, tts=1.430639461533388\n",
      "gof=5.162746644921605, fs=0.1870289626512648, t1=4.249839769677643, t3=25.61441380395235, tts=1.3968480913600947\n",
      "gof=4.83002493544642, fs=0.18255956626274242, t1=3.7646741326660256, t3=25.576361104894474, tts=1.4310003236870936\n",
      "gof=4.344399470904794, fs=0.18255956626274242, t1=3.7646741326660256, t3=25.576361104894474, tts=1.5560003236870936\n",
      "gof=11.542220281051154, fs=0.18255956626274242, t1=3.7646741326660256, t3=25.576361104894474, tts=1.7582545736870936\n",
      "gof=3.384725201930003, fs=0.18255956626274242, t1=3.7646741326660256, t3=25.576361104894474, tts=1.5560003236870936\n",
      "gof=4.906748504850366, fs=0.18255956626274242, t1=3.7646741326660256, t3=25.576361104894474, tts=1.6332545705425936\n",
      "gof=3.8009113263241288, fs=0.18255956626274242, t1=3.7646741326660256, t3=25.576361104894474, tts=1.5082545736870936\n",
      "gof=3.853666885677967, fs=0.18255956626274242, t1=3.7646741326660256, t3=25.576361104894474, tts=1.5512980759892474\n",
      "gof=5.620468025048533, fs=0.18255956626274242, t1=3.7646741326660256, t3=25.576361104894474, tts=1.5855088193415015\n",
      "gof=3.935635913502995, fs=0.18255956626274242, t1=3.7646741326660256, t3=25.576361104894474, tts=1.5672715657382252\n",
      "gof=3.9645559744463337, fs=0.18255956626274242, t1=3.7646741326660256, t3=25.576361104894474, tts=1.5603055549283962\n",
      "gof=4.082443186681106, fs=0.18255956626274242, t1=3.7646741326660256, t3=25.576361104894474, tts=1.5542042249429382\n",
      "gof=3.1137275948449927, fs=0.18255956626274242, t1=3.7646741326660256, t3=25.576361104894474, tts=1.5576447756434089\n",
      "gof=4.268798084234594, fs=0.18255956626274242, t1=3.7646741326660256, t3=25.576361104894474, tts=1.5589112201642221\n",
      "gof=3.8014848532024237, fs=0.18255956626274242, t1=3.7646741326660256, t3=25.576361104894474, tts=1.5576447756434089\n",
      "gof=4.047641419654252, fs=0.18755956626274242, t1=3.7646741326660256, t3=25.576361104894474, tts=1.5576447756434089\n",
      "gof=5.0729120837982675, fs=0.1744693962627424, t1=3.7646741326660256, t3=25.576361104894474, tts=1.5576447756434089\n",
      "gof=4.934541428265261, fs=0.18255956626274242, t1=3.7646741326660256, t3=25.576361104894474, tts=1.5576447756434089\n",
      "gof=4.830715392919644, fs=0.1794693963885224, t1=3.7646741326660256, t3=25.576361104894474, tts=1.5576447756434089\n",
      "gof=5.60192508591313, fs=0.17755956634047873, t1=3.7646741326660256, t3=25.576361104894474, tts=1.5576447756434089\n",
      "gof=5.061813808616139, fs=0.1808224483747332, t1=3.7646741326660256, t3=25.576361104894474, tts=1.5576447756434089\n",
      "gof=6.207744317407313, fs=0.17873990624439137, t1=3.7646741326660256, t3=25.576361104894474, tts=1.5576447756434089\n",
      "gof=4.6493108178479305, fs=0.1799862162434874, t1=3.7646741326660256, t3=25.576361104894474, tts=1.5576447756434089\n",
      "gof=4.073983736694162, fs=0.18030562848573084, t1=3.7646741326660256, t3=25.576361104894474, tts=1.5576447756434089\n",
      "gof=4.048289759824225, fs=0.18050303611145352, t1=3.7646741326660256, t3=25.576361104894474, tts=1.5576447756434089\n",
      "gof=6.088254140082778, fs=0.1804244596926417, t1=3.7646741326660256, t3=25.576361104894474, tts=1.5576447756434089\n",
      "gof=4.142544712440878, fs=0.1805236014130164, t1=3.7646741326660256, t3=25.576361104894474, tts=1.5576447756434089\n",
      "gof=5.097944231892589, fs=0.18047302259106565, t1=3.7646741326660256, t3=25.576361104894474, tts=1.5576447756434089\n",
      "gof=4.631588347677248, fs=0.18050303611145352, t1=3.7646741326660256, t3=25.576361104894474, tts=1.5576447756434089\n",
      "gof=6.2037709904505896, fs=0.18050303611145352, t1=3.8896741326660256, t3=25.576361104894474, tts=1.5576447756434089\n",
      "gof=4.275851109256541, fs=0.18050303611145352, t1=3.5624198826660254, t3=25.576361104894474, tts=1.5576447756434089\n",
      "gof=4.8288340881517176, fs=0.18050303611145352, t1=3.636944907261019, t3=25.576361104894474, tts=1.5576447756434089\n",
      "gof=4.4283625494502115, fs=0.18050303611145352, t1=3.7646741326660256, t3=25.576361104894474, tts=1.5576447756434089\n",
      "gof=3.392893356319664, fs=0.18050303611145352, t1=3.715885911354977, t3=25.576361104894474, tts=1.5576447756434089\n",
      "gof=3.295600453814736, fs=0.18050303611145352, t1=3.685733131785224, t3=25.576361104894474, tts=1.5576447756434089\n",
      "gof=3.746089636518093, fs=0.18050303611145352, t1=3.6937329293685632, t3=25.576361104894474, tts=1.5576447756434089\n",
      "gof=4.065618624929035, fs=0.18050303611145352, t1=3.6670976888166114, t3=25.576361104894474, tts=1.5576447756434089\n",
      "gof=4.565769000146145, fs=0.18050303611145352, t1=3.678615026176275, t3=25.576361104894474, tts=1.5576447756434089\n",
      "gof=4.946878240835346, fs=0.18050303611145352, t1=3.688788782468942, t3=25.576361104894474, tts=1.5576447756434089\n",
      "gof=5.922678201627412, fs=0.18050303611145352, t1=3.683014257458196, t3=25.576361104894474, tts=1.5576447756434089\n",
      "gof=3.4606949841383563, fs=0.18050303611145352, t1=3.686900286454281, t3=25.576361104894474, tts=1.5576447756434089\n",
      "gof=4.713722361487075, fs=0.18050303611145352, t1=3.6846946142340267, t3=25.576361104894474, tts=1.5576447756434089\n",
      "gof=4.196916679547531, fs=0.18050303611145352, t1=3.685733131785224, t3=25.576361104894474, tts=1.5576447756434089\n",
      "gof=4.270187791994726, fs=0.18348990447302735, t1=3.7889268960004334, t3=25.59050446246973, tts=1.5447791956195704\n",
      "gof=4.337082207173899, fs=0.17567018154890277, t1=3.518762112697032, t3=25.55347667146355, tts=1.5784617215517\n",
      "gof=4.618584757719113, fs=0.18050303611145352, t1=3.685733131785224, t3=25.576361104894474, tts=1.5576447756434089\n",
      "gof=2.846324771888871, fs=0.17865704998561424, t1=3.6219558795081834, t3=25.567620029394597, tts=1.5655961412042152\n",
      "gof=5.419742983444893, fs=0.17751616779631732, t1=3.582539369174395, t3=25.56221774753911, tts=1.5705103554672226\n",
      "gof=4.110132954650048, fs=0.1791341717464365, t1=3.6384400309765437, t3=25.56987928653397, tts=1.5635409959979703\n",
      "gof=4.930071797489198, fs=0.17822127177929725, t1=3.6069001127220277, t3=25.56555654140338, tts=1.567473203969399\n",
      "gof=4.1282174995389225, fs=0.17883929427610848, t1=3.6282522649079474, t3=25.568482988807094, tts=1.5648111456103666\n",
      "gof=4.755063437643711, fs=0.17849059752726018, t1=3.616205088491943, t3=25.566831847140545, tts=1.5663131153603815\n",
      "gof=6.901908401328352, fs=0.17872666110827717, t1=3.6243608846537896, t3=25.56794965054955, tts=1.5652962995772153\n",
      "gof=3.883322182126732, fs=0.17859347080590657, t1=3.619759272866874, t3=25.567318970571748, tts=1.5658700009547495\n",
      "gof=4.624580920508688, fs=0.17868363906769333, t1=3.6228745097036303, t3=25.56774593346867, tts=1.5654816118973165\n",
      "gof=5.808338307800799, fs=0.17863276490065802, t1=3.621116850455829, t3=25.56750503516027, tts=1.5657007463176877\n",
      "gof=6.921457419383852, fs=0.17475453370848607, t1=3.4792376263503413, t3=25.55887895389472, tts=1.7001919587213368\n",
      "gof=5.3613894893461715, fs=0.17865704998561424, t1=3.6219558795081834, t3=25.567620029394597, tts=1.5655961412042152\n",
      "gof=6.629878826940993, fs=0.17865704998561424, t1=3.6219558795081834, t3=25.567620029394597, tts=1.6905961412042152\n",
      "gof=4.103170754231804, fs=0.17865704998561424, t1=3.6219558795081834, t3=25.567620029394597, tts=1.3633418912042152\n",
      "gof=3.8140332377394097, fs=0.17865704998561424, t1=3.6219558795081834, t3=25.567620029394597, tts=1.2052543235372366\n",
      "gof=8.636415709730214, fs=0.17865704998561424, t1=3.6219558795081834, t3=25.567620029394597, tts=0.9494632640747647\n",
      "gof=4.034088253026389, fs=0.17865704998561424, t1=3.6219558795081834, t3=25.567620029394597, tts=1.2052543235372366\n",
      "gof=5.132275527818746, fs=0.17865704998561424, t1=3.6219558795081834, t3=25.567620029394597, tts=1.1075508357185941\n",
      "gof=3.6391109576902676, fs=0.17865704998561424, t1=3.6219558795081834, t3=25.567620029394597, tts=1.2656383994087217\n",
      "gof=3.7518363414135916, fs=0.17865704998561424, t1=3.6219558795081834, t3=25.567620029394597, tts=1.3029578113558793\n",
      "gof=4.6679203457421785, fs=0.17865704998561424, t1=3.6219558795081834, t3=25.567620029394597, tts=1.2688656647579304\n",
      "gof=4.156267486865822, fs=0.17865704998561424, t1=3.6219558795081834, t3=25.567620029394597, tts=1.2626388219895168\n",
      "gof=4.017760027216263, fs=0.17865704998561424, t1=3.6219558795081834, t3=25.567620029394597, tts=1.2656383994087217\n",
      "gof=3.6772015197591634, fs=0.18365704998561425, t1=3.6219558795081834, t3=25.567620029394597, tts=1.2656383994087217\n",
      "gof=5.84933532864303, fs=0.19174721998561423, t1=3.6219558795081834, t3=25.567620029394597, tts=1.2656383994087217\n",
      "gof=3.326034219722443, fs=0.18365704998561425, t1=3.6219558795081834, t3=25.567620029394597, tts=1.2656383994087217\n",
      "gof=4.409369098444028, fs=0.18674721985983425, t1=3.6219558795081834, t3=25.567620029394597, tts=1.2656383994087217\n",
      "gof=3.6695103993975975, fs=0.18174721998561424, t1=3.6219558795081834, t3=25.567620029394597, tts=1.2656383994087217\n",
      "gof=5.01206193899247, fs=0.1835497940198376, t1=3.6219558795081834, t3=25.567620029394597, tts=1.2656383994087217\n",
      "gof=3.335268710606644, fs=0.18483738981179057, t1=3.6219558795081834, t3=25.567620029394597, tts=1.2656383994087217\n",
      "gof=4.173780846851495, fs=0.18418280842024903, t1=3.6219558795081834, t3=25.567620029394597, tts=1.2656383994087217\n",
      "gof=3.484979353410142, fs=0.18370704998566423, t1=3.6219558795081834, t3=25.567620029394597, tts=1.2656383994087217\n",
      "gof=5.20098845429664, fs=0.18360704998556424, t1=3.6219558795081834, t3=25.567620029394597, tts=1.2656383994087217\n",
      "gof=3.76337200721117, fs=0.18365704998561425, t1=3.6219558795081834, t3=25.567620029394597, tts=1.2656383994087217\n",
      "gof=3.6231455042132295, fs=0.18365704998561425, t1=3.7469558795081834, t3=25.567620029394597, tts=1.2656383994087217\n",
      "gof=3.506958112576355, fs=0.18365704998561425, t1=3.9492101295081836, t3=25.567620029394597, tts=1.2656383994087217\n",
      "gof=3.901871710360545, fs=0.18365704998561425, t1=4.019815130315453, t3=25.567620029394597, tts=1.2656383994087217\n",
      "gof=4.14727774045199, fs=0.18365704998561425, t1=3.9492101295081836, t3=25.567620029394597, tts=1.2656383994087217\n",
      "gof=4.2928038529566015, fs=0.18365704998561425, t1=3.871955882652683, t3=25.567620029394597, tts=1.2656383994087217\n",
      "gof=3.3480014185202718, fs=0.18365704998561425, t1=3.9197016338537756, t3=25.567620029394597, tts=1.2656383994087217\n",
      "gof=3.9330356664414285, fs=0.18365704998561425, t1=3.9121353007993935, t3=25.567620029394597, tts=1.2656383994087217\n",
      "gof=4.554159726633478, fs=0.18365704998561425, t1=3.92964672059582, t3=25.567620029394597, tts=1.2656383994087217\n",
      "gof=4.383425469341276, fs=0.18365704998561425, t1=3.9235003188562874, t3=25.567620029394597, tts=1.2656383994087217\n",
      "gof=4.536844884359615, fs=0.18365704998561425, t1=3.9167241763090694, t3=25.567620029394597, tts=1.2656383994087217\n",
      "gof=4.170588497192423, fs=0.18365704998561425, t1=3.9197016338537756, t3=25.567620029394597, tts=1.2656383994087217\n",
      "gof=3.64103649713392, fs=0.18664391834718808, t1=4.022895398068985, t3=25.581763386969854, tts=1.2527728193848833\n",
      "gof=5.0731465534311315, fs=0.19147677290973886, t1=4.189866417157177, t3=25.60464782040078, tts=1.231955873476592\n",
      "gof=4.5121103349583285, fs=0.18664391834718808, t1=4.022895398068985, t3=25.581763386969854, tts=1.2527728193848833\n",
      "gof=4.505128484118777, fs=0.18848990447302735, t1=4.086672650346025, t3=25.59050446246973, tts=1.244821453824077\n",
      "gof=4.223595834129452, fs=0.1896307866623243, t1=4.126089160679814, t3=25.59590674432522, tts=1.2399072395610697\n",
      "gof=4.15015287845977, fs=0.19033589064530423, t1=4.150449904227447, t3=25.599245538189496, tts=1.2368700880632462\n",
      "gof=4.999173213921189, fs=0.1906574787088228, t1=4.1615604985971535, t3=25.600768315367358, tts=1.2354848857492986\n",
      "gof=4.762039294689152, fs=0.19006656489734133, t1=4.141144928457531, t3=25.597970232452333, tts=1.2380301766722637\n",
      "gof=6.053727658227061, fs=0.19045872635157415, t1=4.154693773516466, t3=25.599827187297016, tts=1.2363409878761968\n",
      "gof=3.820399980455673, fs=0.19023301736665785, t1=4.146895719852515, t3=25.598758414758297, tts=1.2373132024688782\n",
      "gof=3.6640978152315884, fs=0.19016725769281753, t1=4.1446237789914955, t3=25.598447030904516, tts=1.2375964544384053\n"
     ]
    },
    {
     "data": {
      "text/plain": [
       "   direc: array([[ 0.        ,  0.        ,  0.        ,  0.125     ],\n",
       "       [ 0.        ,  0.005     ,  0.        ,  0.        ],\n",
       "       [ 0.        ,  0.        ,  0.125     ,  0.        ],\n",
       "       [ 0.01414336,  0.00298687,  0.10319376, -0.01286558]])\n",
       "     fun: 3.6640978152315884\n",
       " message: 'Optimization terminated successfully.'\n",
       "    nfev: 232\n",
       "     nit: 4\n",
       "  status: 0\n",
       " success: True\n",
       "       x: array([ 25.59844703,   0.19016726,   4.14462378,   1.23759645])"
      ]
     },
     "execution_count": 159,
     "metadata": {},
     "output_type": "execute_result"
    }
   ],
   "source": [
    "# Using half the step size that was used for the array\n",
    "minimize_it(['t3', 'fs', 't1', 'tts'], [p['t3'], p['fs'], p['t1'], p['tts']], np.diag([0.25, 0.005, 0.125, 0.125]),\n",
    "            **p)"
   ]
  },
  {
   "cell_type": "code",
   "execution_count": null,
   "metadata": {
    "collapsed": true
   },
   "outputs": [],
   "source": []
  }
 ],
 "metadata": {
  "kernelspec": {
   "display_name": "Python 3",
   "language": "python",
   "name": "python3"
  },
  "language_info": {
   "codemirror_mode": {
    "name": "ipython",
    "version": 3
   },
   "file_extension": ".py",
   "mimetype": "text/x-python",
   "name": "python",
   "nbconvert_exporter": "python",
   "pygments_lexer": "ipython3",
   "version": "3.4.5"
  },
  "latex_envs": {
   "bibliofile": "biblio.bib",
   "cite_by": "apalike",
   "current_citInitial": 1,
   "eqLabelWithNumbers": true,
   "eqNumInitial": 0
  }
 },
 "nbformat": 4,
 "nbformat_minor": 2
}
