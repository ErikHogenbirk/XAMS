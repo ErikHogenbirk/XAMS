{
 "cells": [
  {
   "cell_type": "code",
   "execution_count": 1,
   "metadata": {
    "collapsed": true
   },
   "outputs": [],
   "source": [
    "import numpy as np"
   ]
  },
  {
   "cell_type": "markdown",
   "metadata": {},
   "source": [
    "Here are some curve-traced figs. It is the *electronic* stopping power. "
   ]
  },
  {
   "cell_type": "code",
   "execution_count": 32,
   "metadata": {
    "collapsed": true
   },
   "outputs": [],
   "source": [
    "def LET_er(e, mode = 'LET', rho = 2.9):\n",
    "    '''\n",
    "    Return the LET for this recoil energy for electrons\n",
    "    PRL 97, 081302\n",
    "    Mode dEdx: return dE/dx in keV/um\n",
    "    Mode LET: return LET in MeV cm^2 / g\n",
    "    '''\n",
    "    E    = [1,2,3,4,5,6,8,10,20,30,40,50,60,80,100]\n",
    "    dEdx = [8.5, 7.85, 6.3, 5.5,5,4.5,3.7,3.1,2.0,1.4,1.25,1.05,0.95,0.8,0.7]\n",
    "    LET = np.array(dEdx) * 10 / rho\n",
    "    assert len(E) == len(dEdx)\n",
    "    if mode == 'dEdx':\n",
    "        return np.interp(e, E, dEdx)\n",
    "    elif mode == 'LET':\n",
    "        return np.interp(e, E, LET)\n",
    "    elif mode == 'dEdx_inv':\n",
    "        return np.interp(e, dEdx[::-1], E[::-1])\n",
    "    elif mode == 'LET_inv':\n",
    "        return np.interp(e, LET[::-1], E[::-1])\n",
    "    else:\n",
    "        raise SyntaxError('Mode not understood, got this: ', mode)\n",
    "\n"
   ]
  },
  {
   "cell_type": "code",
   "execution_count": 24,
   "metadata": {
    "collapsed": false
   },
   "outputs": [],
   "source": [
    "def LET_nr(e, mode = 'LET', rho = 2.9, model = 'SRIM'):\n",
    "    '''\n",
    "    Return the LET for this recoil energy for electrons\n",
    "    PRL 97, 081302\n",
    "    Mode dEdx: return dE/dx in keV/um\n",
    "    Mode LET: return LET in MeV cm^2 / g\n",
    "    '''\n",
    "#     E    = [5,6,8,10,20,30,40,50,60,80,100]\n",
    "#     dEdx = [83,97,120,140,220,260,300,320,340,390, 420]\n",
    "    if model == 'SRIM':\n",
    "        E    = [1,2,3,4,5,6,8,10,20,30,40,50,60,80,100]\n",
    "        dEdx = [3.8,5.3,6.1,7.3,8.2,9.2,10.5,11.5,17,20.5,23,26,29,33,37]\n",
    "    elif model == 'hitachi':\n",
    "        E    = [5,6,8,10,20,30,40,50,60,80,100]\n",
    "        dEdx = [83,97,120,140,220,260,300,320,340,390, 420]\n",
    "\n",
    "    LET = np.array(dEdx) * 10 / rho\n",
    "    assert len(E) == len(dEdx)\n",
    "    if mode == 'dEdx':\n",
    "        return np.interp(e, E, dEdx)\n",
    "    elif mode == 'LET':\n",
    "        return np.interp(e, E, LET)\n",
    "    elif mode == 'dEdx_inv':\n",
    "        return np.interp(e, dEdx, E)\n",
    "    elif mode == 'LET_inv':\n",
    "        return np.interp(e, LET, E)\n",
    "    else:\n",
    "        raise SyntaxError('Mode not understood, got this: ', mode)"
   ]
  },
  {
   "cell_type": "markdown",
   "metadata": {},
   "source": [
    "### Lindhard"
   ]
  },
  {
   "cell_type": "code",
   "execution_count": 33,
   "metadata": {
    "collapsed": true
   },
   "outputs": [],
   "source": [
    "def L_lind(E, k=0.1394, Z=54):\n",
    "    '''\n",
    "    Lindhard quenching factor \n",
    "    Enter E in keV\n",
    "    '''\n",
    "    return (k * g_lind(E, Z)) / (1 + (k * g_lind(E, Z)))"
   ]
  },
  {
   "cell_type": "code",
   "execution_count": 34,
   "metadata": {
    "collapsed": true
   },
   "outputs": [],
   "source": [
    "def g_lind(E, Z):\n",
    "    return 3 * eps_lind(E, Z)**0.15 + 0.7 * eps_lind(E, Z)**0.6 + eps_lind(E, Z)"
   ]
  },
  {
   "cell_type": "code",
   "execution_count": 35,
   "metadata": {
    "collapsed": true
   },
   "outputs": [],
   "source": [
    "def eps_lind(E, Z):\n",
    "    return 11.5 * E * Z**(-7/3)"
   ]
  },
  {
   "cell_type": "code",
   "execution_count": null,
   "metadata": {
    "collapsed": true
   },
   "outputs": [],
   "source": [
    "def keV_to_keVee(e):\n",
    "    # Verzin een list\n",
    "    if type(e) == list:\n",
    "        e = np.array(e)\n",
    "    return e * L_lind(e)"
   ]
  },
  {
   "cell_type": "code",
   "execution_count": 54,
   "metadata": {
    "collapsed": true
   },
   "outputs": [],
   "source": [
    "def keVee_to_keV(e):\n",
    "    # Verzin een list\n",
    "    if type(e) == list:\n",
    "        e = np.array(e)\n",
    "    return e / L_lind(e)"
   ]
  },
  {
   "cell_type": "code",
   "execution_count": null,
   "metadata": {
    "collapsed": true
   },
   "outputs": [],
   "source": []
  },
  {
   "cell_type": "code",
   "execution_count": null,
   "metadata": {
    "collapsed": true
   },
   "outputs": [],
   "source": []
  },
  {
   "cell_type": "code",
   "execution_count": 41,
   "metadata": {
    "collapsed": true
   },
   "outputs": [],
   "source": [
    "# import matplotlib.pyplot as plt\n",
    "# %matplotlib inline"
   ]
  },
  {
   "cell_type": "code",
   "execution_count": 38,
   "metadata": {
    "collapsed": false
   },
   "outputs": [],
   "source": [
    "# x_plot = np.logspace(0, 2, 50)\n",
    "# x_plot2 = np.logspace(np.log10(5), 2, 50)\n",
    "# plt.plot(x_plot, LET_nr(x_plot, mode='dEdx'), label='NR SRIM')\n",
    "# plt.plot(x_plot, LET_nr(x_plot, mode='dEdx', model='hitachi'), label='NR hit')\n",
    "# plt.plot(x_plot, LET_er(x_plot, mode='dEdx'), label='ER')\n",
    "# plt.xscale('log')\n",
    "# plt.yscale('log')\n",
    "# plt.legend()"
   ]
  },
  {
   "cell_type": "code",
   "execution_count": 39,
   "metadata": {
    "collapsed": false
   },
   "outputs": [],
   "source": [
    "# LET_nr(60, mode='LET', model='hitachi') * 5"
   ]
  },
  {
   "cell_type": "code",
   "execution_count": 40,
   "metadata": {
    "collapsed": false
   },
   "outputs": [],
   "source": [
    "#  LET_er(100, mode='LET')"
   ]
  },
  {
   "cell_type": "code",
   "execution_count": 49,
   "metadata": {
    "collapsed": false
   },
   "outputs": [
    {
     "data": {
      "text/plain": [
       "[<matplotlib.lines.Line2D at 0x7f3b88cb4b00>]"
      ]
     },
     "execution_count": 49,
     "metadata": {},
     "output_type": "execute_result"
    },
    {
     "data": {
      "image/png": "[encoded data removed]",
      "text/plain": [
       "<matplotlib.figure.Figure at 0x7f3b88dd79b0>"
      ]
     },
     "metadata": {},
     "output_type": "display_data"
    }
   ],
   "source": [
    "# x_plot = np.linspace(0.001, 100, 100)\n",
    "# plt.plot(x_plot, L_lind(x_plot))"
   ]
  },
  {
   "cell_type": "code",
   "execution_count": 50,
   "metadata": {
    "collapsed": true
   },
   "outputs": [],
   "source": []
  },
  {
   "cell_type": "code",
   "execution_count": 51,
   "metadata": {
    "collapsed": true
   },
   "outputs": [],
   "source": []
  },
  {
   "cell_type": "code",
   "execution_count": 52,
   "metadata": {
    "collapsed": false
   },
   "outputs": [
    {
     "data": {
      "text/plain": [
       "<matplotlib.text.Text at 0x7f3b89038400>"
      ]
     },
     "execution_count": 52,
     "metadata": {},
     "output_type": "execute_result"
    },
    {
     "data": {
      "image/png": "[encoded data removed]",
      "text/plain": [
       "<matplotlib.figure.Figure at 0x7f3b89020be0>"
      ]
     },
     "metadata": {},
     "output_type": "display_data"
    }
   ],
   "source": [
    "# plt.plot(x_plot, keV_to_keVee(x_plot))\n",
    "# plt.xlabel('keV')\n",
    "# plt.ylabel('keVee')"
   ]
  },
  {
   "cell_type": "code",
   "execution_count": 53,
   "metadata": {
    "collapsed": false
   },
   "outputs": [
    {
     "data": {
      "text/plain": [
       "<matplotlib.text.Text at 0x7f3b88f82fd0>"
      ]
     },
     "execution_count": 53,
     "metadata": {},
     "output_type": "execute_result"
    },
    {
     "data": {
      "image/png": "[encoded data removed]",
      "text/plain": [
       "<matplotlib.figure.Figure at 0x7f3b88b82550>"
      ]
     },
     "metadata": {},
     "output_type": "display_data"
    }
   ],
   "source": [
    "# plt.plot(x_plot, keVee_to_keV(x_plot))\n",
    "# plt.xlabel('keVee')\n",
    "# plt.ylabel('keV')"
   ]
  },
  {
   "cell_type": "code",
   "execution_count": null,
   "metadata": {
    "collapsed": true
   },
   "outputs": [],
   "source": []
  }
 ],
 "metadata": {
  "kernelspec": {
   "display_name": "Python 3",
   "language": "python",
   "name": "python3"
  },
  "language_info": {
   "codemirror_mode": {
    "name": "ipython",
    "version": 3
   },
   "file_extension": ".py",
   "mimetype": "text/x-python",
   "name": "python",
   "nbconvert_exporter": "python",
   "pygments_lexer": "ipython3",
   "version": "3.4.5"
  },
  "latex_envs": {
   "bibliofile": "biblio.bib",
   "cite_by": "apalike",
   "current_citInitial": 1,
   "eqLabelWithNumbers": true,
   "eqNumInitial": 0
  }
 },
 "nbformat": 4,
 "nbformat_minor": 2
}
