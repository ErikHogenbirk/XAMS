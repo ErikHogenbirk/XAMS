{
 "cells": [
  {
   "cell_type": "markdown",
   "metadata": {},
   "source": [
    "# NR band notebook"
   ]
  },
  {
   "cell_type": "markdown",
   "metadata": {},
   "source": [
    "Erik Hogenbirk, May 2017"
   ]
  },
  {
   "cell_type": "markdown",
   "metadata": {},
   "source": [
    "### Imports"
   ]
  },
  {
   "cell_type": "code",
   "execution_count": 1,
   "metadata": {
    "collapsed": false
   },
   "outputs": [
    {
     "name": "stderr",
     "output_type": "stream",
     "text": [
      "/home/erik/anaconda3/envs/pax/lib/python3.4/site-packages/IPython/kernel/__init__.py:13: ShimWarning: The `IPython.kernel` package has been deprecated. You should import from ipykernel or jupyter_client instead.\n",
      "  \"You should import from ipykernel or jupyter_client instead.\", ShimWarning)\n"
     ]
    }
   ],
   "source": [
    "# General definitions\n",
    "%run '../definitions.ipynb'\n",
    "%run '../treemakers.ipynb'\n",
    "\n",
    "# Specific to this analysis\n",
    "# %run 'definitions.ipynb'"
   ]
  },
  {
   "cell_type": "markdown",
   "metadata": {},
   "source": [
    "### Analysis class"
   ]
  },
  {
   "cell_type": "code",
   "execution_count": 2,
   "metadata": {
    "collapsed": false
   },
   "outputs": [],
   "source": [
    "%run '../Analysis_class.ipynb'"
   ]
  },
  {
   "cell_type": "markdown",
   "metadata": {},
   "source": [
    "## New analysis"
   ]
  },
  {
   "cell_type": "code",
   "execution_count": 3,
   "metadata": {
    "collapsed": true
   },
   "outputs": [],
   "source": [
    "local_data = True\n",
    "\n",
    "if local_data:\n",
    "    processed_data_path_er = '/home/erik/win/data/xams_run8/processed/er/'\n",
    "    processed_data_path_nr = '/home/erik/win/data/xams_run8/processed/ambe/'\n",
    "    minitree_path = '/home/erik/win/data/xams_run8/minitrees/'\n",
    "else:\n",
    "    processed_data_path = '/data/xenon/xams/run8/processed/data/'\n",
    "    minitree_path = '/data/xenon/xams/run8/minitrees/'"
   ]
  },
  {
   "cell_type": "code",
   "execution_count": 4,
   "metadata": {
    "collapsed": false
   },
   "outputs": [
    {
     "name": "stdout",
     "output_type": "stream",
     "text": [
      "Run list contains 24 files\n",
      "Run list contains 5 files\n"
     ]
    }
   ],
   "source": [
    "run_names_nr = get_run_list(processed_data_path_nr)\n",
    "run_names_er = get_run_list(processed_data_path_er)"
   ]
  },
  {
   "cell_type": "code",
   "execution_count": null,
   "metadata": {
    "collapsed": false
   },
   "outputs": [],
   "source": [
    "x = XAMSAnalysis(run_names_nr[:-1], processed_data_path_nr, minitree_path)"
   ]
  },
  {
   "cell_type": "code",
   "execution_count": null,
   "metadata": {
    "collapsed": false
   },
   "outputs": [],
   "source": [
    "x.load()"
   ]
  },
  {
   "cell_type": "code",
   "execution_count": null,
   "metadata": {
    "collapsed": false
   },
   "outputs": [],
   "source": [
    "x.cut_interaction_exists()\n",
    "x.cut_thresholds(5, 100, plot=True, bins=100, norm=LogNorm(), range=((0, 100), (0, 5000)))\n",
    "x.cut_low_energy(300, 20e3, plot=True, bins=100, norm=LogNorm())\n",
    "x.cut_largest_other_s1(plot=True)"
   ]
  },
  {
   "cell_type": "code",
   "execution_count": null,
   "metadata": {
    "collapsed": false
   },
   "outputs": [],
   "source": [
    "x.cuts_apply_all()"
   ]
  },
  {
   "cell_type": "code",
   "execution_count": null,
   "metadata": {
    "collapsed": false
   },
   "outputs": [],
   "source": [
    "x.corr_s1_ly()"
   ]
  },
  {
   "cell_type": "code",
   "execution_count": null,
   "metadata": {
    "collapsed": false
   },
   "outputs": [],
   "source": [
    "x.corr_s2_sag((200, 250), bins=10, plot=True)"
   ]
  },
  {
   "cell_type": "code",
   "execution_count": null,
   "metadata": {
    "collapsed": false
   },
   "outputs": [],
   "source": [
    "x.plot_cs1cs2(bins=100, norm=LogNorm(), range=((0, 300), (0, 15000)))"
   ]
  },
  {
   "cell_type": "markdown",
   "metadata": {},
   "source": [
    "## OLD ANALYSIS"
   ]
  },
  {
   "cell_type": "markdown",
   "metadata": {},
   "source": [
    "### Read data"
   ]
  },
  {
   "cell_type": "code",
   "execution_count": null,
   "metadata": {
    "collapsed": true
   },
   "outputs": [],
   "source": [
    "# Compute the difference from the trend\n",
    "d_nr['s1_aft_difference'] = d_nr['s1_area_fraction_top'] - f_s1_aft(d_nr['drift_time'])\n",
    "\n",
    "# Get the upper and lower percentiles...\n",
    "x, y_upper = get_trend(d_nr['s1'], d_nr['s1_aft_difference'], bins=20, x_range=(0, 400), mode='percentile', pct=95)\n",
    "x, y_lower = get_trend(d_nr['s1'], d_nr['s1_aft_difference'], bins=20, x_range=(0, 400), mode='percentile',pct=5)\n",
    "\n",
    "# ... And their interpolation...\n",
    "f_lower = my_interp(x, y_lower, kind='cubic')\n",
    "f_upper = my_interp(x, y_upper, kind='cubic')"
   ]
  },
  {
   "cell_type": "code",
   "execution_count": null,
   "metadata": {
    "collapsed": false
   },
   "outputs": [],
   "source": [
    "plt.hist2d(d_nr['s1'], d_nr['s1_aft_difference'], bins=100, range=((0, 400), (-0.5, 0.5)), norm=LogNorm())\n",
    "plt.axhline(0, color='black')\n",
    "x_plot = np.linspace(0, 400, 400)\n",
    "\n",
    "plt.plot(x_plot, f_upper(x_plot), color='red', label='Interpolation')\n",
    "plt.plot(x_plot, f_lower(x_plot), color='red')\n",
    "plt.scatter(x, y_upper, s=10, color='red', label='Binned percentile')\n",
    "plt.scatter(x, y_lower, s=10, color='red')\n",
    "plt.xlabel('S1 (a.u.)')\n",
    "plt.ylabel('Difference from mean AFT')\n",
    "plt.show()"
   ]
  },
  {
   "cell_type": "code",
   "execution_count": null,
   "metadata": {
    "collapsed": false
   },
   "outputs": [],
   "source": [
    "d_nr['AFT_Upper'] = (d_nr['s1_aft_difference'] < f_upper(d_nr['s1'])) # Add boolean variable\n",
    "d_nr['AFT_Lower'] = (d_nr['s1_aft_difference'] > f_lower(d_nr['s1']))\n",
    "d_nr = cuts.selection(d_nr, d_nr['AFT_Upper'], 'AFT_Upper')\n",
    "d_nr = cuts.selection(d_nr, d_nr['AFT_Lower'], 'AFT_Lower')"
   ]
  },
  {
   "cell_type": "markdown",
   "metadata": {},
   "source": [
    "### Drift time"
   ]
  },
  {
   "cell_type": "code",
   "execution_count": null,
   "metadata": {
    "collapsed": false
   },
   "outputs": [],
   "source": [
    "d_er = cuts.range_selection(d_er, 'drift_time', (0, 60))\n",
    "d_nr = cuts.range_selection(d_nr, 'drift_time', (0, 60))"
   ]
  },
  {
   "cell_type": "markdown",
   "metadata": {},
   "source": [
    "## What have we got"
   ]
  },
  {
   "cell_type": "code",
   "execution_count": null,
   "metadata": {
    "collapsed": false
   },
   "outputs": [],
   "source": [
    "plt_s1s2(d_er['s1'], d_er['s2'], bins=100, norm=LogNorm())"
   ]
  },
  {
   "cell_type": "code",
   "execution_count": null,
   "metadata": {
    "collapsed": false
   },
   "outputs": [],
   "source": [
    "plt_s1s2(d_nr['s1'], d_nr['s2'], bins=100, norm=LogNorm())"
   ]
  },
  {
   "cell_type": "markdown",
   "metadata": {},
   "source": [
    "## Corrections"
   ]
  },
  {
   "cell_type": "code",
   "execution_count": null,
   "metadata": {
    "collapsed": false
   },
   "outputs": [],
   "source": [
    "# Import the correction from Cs calibration\n",
    "import pickle\n",
    "# Interpolate light curve\n",
    "x_cs, y_cs = pickle.load(open('../light_yield/xy_cs', 'rb'))\n",
    "f_s1_corr_cs = my_interp(x_cs, y_cs)\n",
    "\n",
    "def get_cs1(s1, z, f_s1_corr):\n",
    "    average_s1 = np.average([f_s1_corr(_z) for _z in np.linspace(-10, 0, 100)])\n",
    "    return s1/f_s1_corr(z) * average_s1\n",
    "\n",
    "d_er['cs1']= get_cs1(d_er['s1'], d_er['z'], f_s1_corr_cs)\n",
    "d_nr['cs1']= get_cs1(d_nr['s1'], d_nr['z'], f_s1_corr_cs)"
   ]
  },
  {
   "cell_type": "markdown",
   "metadata": {},
   "source": [
    "### Compare"
   ]
  },
  {
   "cell_type": "code",
   "execution_count": null,
   "metadata": {
    "collapsed": false
   },
   "outputs": [],
   "source": [
    "plt.figure(figsize=(14, 7))\n",
    "plt.subplot(121)\n",
    "plt.hist2d(d_nr['s1'], d_nr['s2'], bins=100, norm=LogNorm(), range=((0, 300), (0, 30e3)))\n",
    "plt.xlabel('cS1 (a.u.)')\n",
    "plt.ylabel('raw S2 (a.u.)')\n",
    "\n",
    "plt.subplot(122)\n",
    "plt.hist2d(d_nr['cs1'], d_nr['s2'], bins=100, norm=LogNorm(), range=((0, 300), (0, 30e3)))\n",
    "plt.xlabel('cS1 (a.u.)')\n",
    "plt.ylabel('cS2 (a.u.)')\n",
    "\n",
    "\n",
    "plt.show()"
   ]
  },
  {
   "cell_type": "code",
   "execution_count": null,
   "metadata": {
    "collapsed": true
   },
   "outputs": [],
   "source": [
    "d_nr['t'] = (d_nr['event_time'] - d_nr['event_time'].values[0]) * 1e-9\n",
    "d_er['t'] = (d_er['event_time'] - d_er['event_time'].values[0]) * 1e-9"
   ]
  },
  {
   "cell_type": "code",
   "execution_count": null,
   "metadata": {
    "collapsed": false
   },
   "outputs": [],
   "source": [
    "edges = (200, 250)\n",
    "_d = d_nr[(d_nr['cs1'] > edges[0]) & (d_nr['cs1'] < edges[1])]\n",
    "_d2 = d_er[(d_er['cs1'] > edges[0]) & (d_er['cs1'] < edges[1])]\n",
    "\n",
    "\n",
    "plt.hist(_d['s2'], bins=100, histtype='step')\n",
    "plt.hist(_d2['s2'], bins=100, histtype='step')\n",
    "plt.show()\n",
    "\n",
    "plt.scatter(_d['t'], _d['s2'])\n",
    "plt.show()"
   ]
  },
  {
   "cell_type": "code",
   "execution_count": null,
   "metadata": {
    "collapsed": true
   },
   "outputs": [],
   "source": []
  },
  {
   "cell_type": "markdown",
   "metadata": {},
   "source": [
    "### Too low S2 population?"
   ]
  },
  {
   "cell_type": "code",
   "execution_count": null,
   "metadata": {
    "collapsed": false
   },
   "outputs": [],
   "source": [
    "plt.figure(figsize=(14, 7))\n",
    "plt.subplot(121)\n",
    "plt.hist2d(d_er['cs1'], d_er['s2'], bins=100, norm=LogNorm(), range=((0, 1000), (0, 60e3)))\n",
    "plt.xlabel('cS1 (a.u.)')\n",
    "plt.ylabel('raw S2 (a.u.)')\n",
    "\n",
    "plt.subplot(122)\n",
    "plt.hist2d(d_er['s1'], d_er['s2'], bins=100, norm=LogNorm(), range=((0, 1000), (0, 60e3)))\n",
    "plt.xlabel('cS1 (a.u.)')\n",
    "plt.ylabel('cS2 (a.u.)')\n",
    "draw_box((150, 200), (2000, 5000))\n",
    "\n",
    "\n",
    "plt.show()"
   ]
  },
  {
   "cell_type": "code",
   "execution_count": null,
   "metadata": {
    "collapsed": false
   },
   "outputs": [],
   "source": [
    "manna = (d_er['cs1'] > 150) & (d_er['cs1'] < 200) & (d_er['cs2'] > 2000) & (d_er['cs2'] < 5000)\n",
    "d_er[manna][['event_number', 's1', 's2', 'drift_time']].head()"
   ]
  },
  {
   "cell_type": "code",
   "execution_count": null,
   "metadata": {
    "collapsed": false
   },
   "outputs": [],
   "source": [
    "d_er.keys()"
   ]
  },
  {
   "cell_type": "code",
   "execution_count": null,
   "metadata": {
    "collapsed": false
   },
   "outputs": [],
   "source": [
    "plt.scatter(d_er['cs1'], d_er['s2'], edgecolor='None', c=d_er['event_time'])\n",
    "plt.colorbar()\n",
    "plt.xlim(0, 200)\n",
    "plt.ylim(0, 10000)"
   ]
  },
  {
   "cell_type": "code",
   "execution_count": null,
   "metadata": {
    "collapsed": true
   },
   "outputs": [],
   "source": []
  },
  {
   "cell_type": "code",
   "execution_count": null,
   "metadata": {
    "collapsed": true
   },
   "outputs": [],
   "source": []
  },
  {
   "cell_type": "code",
   "execution_count": null,
   "metadata": {
    "collapsed": true
   },
   "outputs": [],
   "source": []
  },
  {
   "cell_type": "code",
   "execution_count": null,
   "metadata": {
    "collapsed": true
   },
   "outputs": [],
   "source": []
  },
  {
   "cell_type": "code",
   "execution_count": null,
   "metadata": {
    "collapsed": true
   },
   "outputs": [],
   "source": []
  },
  {
   "cell_type": "markdown",
   "metadata": {},
   "source": [
    "### Position"
   ]
  },
  {
   "cell_type": "code",
   "execution_count": null,
   "metadata": {
    "collapsed": true
   },
   "outputs": [],
   "source": [
    "z_bounds = (-9, -1)"
   ]
  },
  {
   "cell_type": "code",
   "execution_count": null,
   "metadata": {
    "collapsed": false
   },
   "outputs": [],
   "source": [
    "plt.hist(d_er['z'], histtype='step', bins=100)\n",
    "for _l in z_bounds:\n",
    "    plt.axvline(_l, color='red')\n",
    "plt.show()"
   ]
  },
  {
   "cell_type": "code",
   "execution_count": null,
   "metadata": {
    "collapsed": true
   },
   "outputs": [],
   "source": []
  },
  {
   "cell_type": "code",
   "execution_count": null,
   "metadata": {
    "collapsed": true
   },
   "outputs": [],
   "source": []
  },
  {
   "cell_type": "code",
   "execution_count": null,
   "metadata": {
    "collapsed": true
   },
   "outputs": [],
   "source": []
  },
  {
   "cell_type": "code",
   "execution_count": null,
   "metadata": {
    "collapsed": true
   },
   "outputs": [],
   "source": []
  },
  {
   "cell_type": "code",
   "execution_count": null,
   "metadata": {
    "collapsed": true
   },
   "outputs": [],
   "source": []
  },
  {
   "cell_type": "code",
   "execution_count": null,
   "metadata": {
    "collapsed": true
   },
   "outputs": [],
   "source": []
  },
  {
   "cell_type": "code",
   "execution_count": null,
   "metadata": {
    "collapsed": true
   },
   "outputs": [],
   "source": []
  },
  {
   "cell_type": "markdown",
   "metadata": {},
   "source": [
    "### S2 width"
   ]
  },
  {
   "cell_type": "code",
   "execution_count": null,
   "metadata": {
    "collapsed": false
   },
   "outputs": [],
   "source": [
    "plt.hist2d(d_er['z'], d_er['s2_range_50p_area'], bins=100, norm=LogNorm())\n",
    "plt.show()"
   ]
  },
  {
   "cell_type": "code",
   "execution_count": null,
   "metadata": {
    "collapsed": false
   },
   "outputs": [],
   "source": [
    "plt.hist2d(d_er['z'], d_er['s2_range_50p_area'], bins=100, norm=LogNorm(), range=((-12, 0), (0, 1000)))\n",
    "plt.show()"
   ]
  },
  {
   "cell_type": "code",
   "execution_count": null,
   "metadata": {
    "collapsed": true
   },
   "outputs": [],
   "source": []
  },
  {
   "cell_type": "code",
   "execution_count": null,
   "metadata": {
    "collapsed": true
   },
   "outputs": [],
   "source": []
  },
  {
   "cell_type": "code",
   "execution_count": null,
   "metadata": {
    "collapsed": true
   },
   "outputs": [],
   "source": []
  },
  {
   "cell_type": "code",
   "execution_count": null,
   "metadata": {
    "collapsed": false
   },
   "outputs": [],
   "source": [
    "from pax import units, configuration\n",
    "PAX_CONFIG = configuration.load_configuration('XENON1T')"
   ]
  },
  {
   "cell_type": "code",
   "execution_count": null,
   "metadata": {
    "collapsed": true
   },
   "outputs": [],
   "source": [
    "def s2_width_model(z):\n",
    "    diffusion_constant = PAX_CONFIG['WaveformSimulator']['diffusion_constant_liquid']\n",
    "    v_drift = 1.68 * units.km/units.s\n",
    "\n",
    "    w0 = 348.6 * units.ns\n",
    "    return np.sqrt(w0 ** 2 - 4.0325 * diffusion_constant * z / v_drift ** 3)"
   ]
  },
  {
   "cell_type": "code",
   "execution_count": null,
   "metadata": {
    "collapsed": true
   },
   "outputs": [],
   "source": [
    "s2_range_fraction = (0.8, 1.2)"
   ]
  },
  {
   "cell_type": "code",
   "execution_count": null,
   "metadata": {
    "collapsed": false
   },
   "outputs": [],
   "source": [
    "plt.hist2d(d_er['z'], d_er['s2_range_50p_area'], bins=100, norm=LogNorm(), range=((-12, 0), (0, 1000)))\n",
    "x_plt = np.linspace(z_bounds[0], z_bounds[1], 100)\n",
    "plt.plot(x_plt, s2_width_model(x_plt))\n",
    "\n",
    "plt.fill_between(x_plt, s2_range_fraction[0] * s2_width_model(x_plt), s2_range_fraction[1] * s2_width_model(x_plt),\n",
    "                color='red', alpha=0.2)\n",
    "\n",
    "plt.show()"
   ]
  },
  {
   "cell_type": "code",
   "execution_count": null,
   "metadata": {
    "collapsed": false
   },
   "outputs": [],
   "source": [
    "d_er = cuts.range_selection(d_er, 'z', z_bounds)"
   ]
  },
  {
   "cell_type": "code",
   "execution_count": null,
   "metadata": {
    "collapsed": false
   },
   "outputs": [],
   "source": [
    "d_er = cuts.selection(d_er, (\n",
    "        (d_er['s2_range_50p_area'] > s2_range_fraction[0] * s2_width_model(d_er['z'])) &\n",
    "        (d_er['s2_range_50p_area'] < s2_range_fraction[1] * s2_width_model(d_er['z']))),\n",
    "                      'S2 width cut')"
   ]
  },
  {
   "cell_type": "code",
   "execution_count": null,
   "metadata": {
    "collapsed": false
   },
   "outputs": [],
   "source": [
    "plt_s1s2(d_er['s1'], d_er['s2'], bins=(100,100), range=((0, 200), (0, 20e3)), norm=LogNorm())\n",
    "\n",
    "plt.show()"
   ]
  },
  {
   "cell_type": "code",
   "execution_count": null,
   "metadata": {
    "collapsed": false
   },
   "outputs": [],
   "source": [
    "plt.hist2d(d_er['z'], d_er['s1_area_fraction_top'], bins=100, norm=LogNorm())\n",
    "plt.show()"
   ]
  },
  {
   "cell_type": "code",
   "execution_count": null,
   "metadata": {
    "collapsed": true
   },
   "outputs": [],
   "source": []
  }
 ],
 "metadata": {
  "kernelspec": {
   "display_name": "Python 3",
   "language": "python",
   "name": "python3"
  },
  "language_info": {
   "codemirror_mode": {
    "name": "ipython",
    "version": 3
   },
   "file_extension": ".py",
   "mimetype": "text/x-python",
   "name": "python",
   "nbconvert_exporter": "python",
   "pygments_lexer": "ipython3",
   "version": "3.4.5"
  },
  "latex_envs": {
   "bibliofile": "biblio.bib",
   "cite_by": "apalike",
   "current_citInitial": 1,
   "eqLabelWithNumbers": true,
   "eqNumInitial": 0
  }
 },
 "nbformat": 4,
 "nbformat_minor": 0
}
