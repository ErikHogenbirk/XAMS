{
 "cells": [
  {
   "cell_type": "code",
   "execution_count": 1,
   "metadata": {
    "collapsed": true
   },
   "outputs": [],
   "source": [
    "import numpy as np\n",
    "import matplotlib.pyplot as plt"
   ]
  },
  {
   "cell_type": "code",
   "execution_count": 2,
   "metadata": {
    "collapsed": true
   },
   "outputs": [],
   "source": [
    "setfits = {'170201PMT1': {'a': 20.961661881805281,\n",
    "  'aerr': 0.21389589800870334,\n",
    "  'd': 12.024360086681172,\n",
    "  'derr': 0.13462440437453471},\n",
    " '170201PMT2': {'a': 15.684367221368372,\n",
    "  'aerr': 0.21687611481856772,\n",
    "  'd': 13.415625198236272,\n",
    "  'derr': 0.37974697846071814},\n",
    " '170313PMT1': {'a': 18.792757036544266,\n",
    "  'aerr': 0.18263639795543449,\n",
    "  'd': 12.263624572255571,\n",
    "  'derr': 0.14316944870191606},\n",
    " '170313PMT2': {'a': 9.4117121962490273,\n",
    "  'aerr': 0.098749782641482639,\n",
    "  'd': 13.052525314208578,\n",
    "  'derr': 0.099472291504685117}}"
   ]
  },
  {
   "cell_type": "code",
   "execution_count": 8,
   "metadata": {
    "collapsed": true
   },
   "outputs": [],
   "source": [
    "def gainpow(x, a, d):\n",
    "    return a*(x/1000.0)**d\n",
    "    \n",
    "def gainpowerr(x, a, aerr, d, derr):\n",
    "    return (x/1000.0)**d * np.sqrt( (aerr)**2 + (a*np.log(x/1000.0)*derr)**2 )\n",
    "\n",
    "def gainextrapolator(set_name = '', voltage = '', verbose=False):\n",
    "        a    = setfits[set_name]['a']\n",
    "        aerr = setfits[set_name]['aerr']\n",
    "        d    = setfits[set_name]['d']\n",
    "        derr = setfits[set_name]['derr']\n",
    "        x = voltage\n",
    "        gain = gainpow(x, a, d)\n",
    "        gainerr = gainpowerr(x, a, aerr, d, derr)\n",
    "        if verbose: print(\"Extrapolated gain is \" + str(round(gain, 3)) + \" +-\" + str(round(gainerr, 3)))\n",
    "        return gain"
   ]
  },
  {
   "cell_type": "code",
   "execution_count": 9,
   "metadata": {
    "collapsed": false
   },
   "outputs": [
    {
     "data": {
      "text/plain": [
       "0.20980413514601398"
      ]
     },
     "execution_count": 9,
     "metadata": {},
     "output_type": "execute_result"
    }
   ],
   "source": [
    "# Pre cooling gain extrapolation\n",
    "gainextrapolator(set_name = '170201PMT1', voltage = 575)\n",
    "gainextrapolator(set_name = '170201PMT2', voltage = 725)"
   ]
  },
  {
   "cell_type": "code",
   "execution_count": 15,
   "metadata": {
    "collapsed": false
   },
   "outputs": [
    {
     "data": {
      "text/plain": [
       "2561006.625638467"
      ]
     },
     "execution_count": 15,
     "metadata": {},
     "output_type": "execute_result"
    }
   ],
   "source": [
    "# Post cooling gain extrapolation\n",
    "# gainextrapolator(set_name = '170313PMT1', voltage = 575)\n",
    "gainextrapolator(set_name = '170313PMT1', voltage = 850) * 1e6"
   ]
  },
  {
   "cell_type": "code",
   "execution_count": 16,
   "metadata": {
    "collapsed": false
   },
   "outputs": [
    {
     "data": {
      "text/plain": [
       "2379128.143411107"
      ]
     },
     "execution_count": 16,
     "metadata": {},
     "output_type": "execute_result"
    }
   ],
   "source": [
    "gainextrapolator(set_name = '170313PMT2', voltage = 900) * 1e6"
   ]
  },
  {
   "cell_type": "markdown",
   "metadata": {},
   "source": [
    "# Other stuff"
   ]
  },
  {
   "cell_type": "code",
   "execution_count": 6,
   "metadata": {
    "collapsed": true
   },
   "outputs": [],
   "source": [
    "def gainexp(x, a, d):\n",
    "    return a*2**((x-1000)/d)"
   ]
  },
  {
   "cell_type": "code",
   "execution_count": 7,
   "metadata": {
    "collapsed": false
   },
   "outputs": [
    {
     "data": {
      "image/png": "[encoded data removed]",
      "text/plain": [
       "<matplotlib.figure.Figure at 0x7f4228415898>"
      ]
     },
     "metadata": {},
     "output_type": "display_data"
    }
   ],
   "source": [
    "xlist = np.linspace(0,1000,1000)\n",
    "ae = 19.023\n",
    "de = 51.972\n",
    "yexp = [gainexp(x, ae, de) for x in xlist]\n",
    "ap = 20.962\n",
    "dp = 12.024\n",
    "ypow = [gainpow(x, ap, dp) for x in xlist]\n",
    "plt.plot(xlist, yexp)\n",
    "plt.plot(xlist, ypow)\n",
    "plt.yscale('log')\n",
    "plt.xlim(500, 1000)\n",
    "plt.ylim(1e-3, 1e2)\n",
    "plt.xlabel('Voltage')\n",
    "plt.ylabel('170313PMT1 Gain (x$10^6$)')\n",
    "plt.show()"
   ]
  },
  {
   "cell_type": "code",
   "execution_count": null,
   "metadata": {
    "collapsed": true
   },
   "outputs": [],
   "source": []
  },
  {
   "cell_type": "code",
   "execution_count": null,
   "metadata": {
    "collapsed": true
   },
   "outputs": [],
   "source": [
    "# setfits = {'170201PMT1': {'a': 21.224314613249888,\n",
    "#   'aerr': 0.4030051437440344,\n",
    "#   'd': 53.108714558044085,\n",
    "#   'derr': 1.0821335352911126},\n",
    "#  '170201PMT2': {'a': 15.74889181593406,\n",
    "#   'aerr': 0.25679834384355804,\n",
    "#   'd': 47.554300980649138,\n",
    "#   'derr': 1.5505761322476683},\n",
    "#  '170313PMT1': {'a': 19.022565970971623,\n",
    "#   'aerr': 0.34618678311692352,\n",
    "#   'd': 51.971637725790139,\n",
    "#   'derr': 1.1097431799787225},\n",
    "#  '170313PMT2': {'a': 9.7919666086832748,\n",
    "#   'aerr': 0.13758541647647685,\n",
    "#   'd': 47.917798733190516,\n",
    "#   'derr': 0.47316378534303566}}"
   ]
  },
  {
   "cell_type": "code",
   "execution_count": null,
   "metadata": {
    "collapsed": true
   },
   "outputs": [],
   "source": []
  }
 ],
 "metadata": {
  "kernelspec": {
   "display_name": "Python 3",
   "language": "python",
   "name": "python3"
  },
  "language_info": {
   "codemirror_mode": {
    "name": "ipython",
    "version": 3
   },
   "file_extension": ".py",
   "mimetype": "text/x-python",
   "name": "python",
   "nbconvert_exporter": "python",
   "pygments_lexer": "ipython3",
   "version": "3.4.5"
  },
  "latex_envs": {
   "bibliofile": "biblio.bib",
   "cite_by": "apalike",
   "current_citInitial": 1,
   "eqLabelWithNumbers": true,
   "eqNumInitial": 0
  }
 },
 "nbformat": 4,
 "nbformat_minor": 0
}
