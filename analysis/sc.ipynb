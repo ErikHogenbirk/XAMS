{
 "cells": [
  {
   "cell_type": "code",
   "execution_count": 178,
   "metadata": {
    "collapsed": false
   },
   "outputs": [],
   "source": [
    "import numpy as np\n",
    "import pandas as pd"
   ]
  },
  {
   "cell_type": "code",
   "execution_count": 204,
   "metadata": {
    "collapsed": false
   },
   "outputs": [],
   "source": [
    "def read_xams_sc(fn, fn_header='/data/xenon/xams/run8/SC_headers/20-3-2017', \n",
    "                 properties=None, max_entries = 1e5, verbose = True):\n",
    "    '''\n",
    "    Read a slow control log data file. A header file is used to derive the properties; for run8, the default one \n",
    "    is fine (change in properties saved as of Oct. 2017). \n",
    "    For properties, give a list of multiple properties. \n",
    "    Set `verbose = False` to turn off warning messages.\n",
    "    '''\n",
    "    i = 0\n",
    "    with open(fn_header, 'r') as f:\n",
    "        for line in f:\n",
    "            line = line.split(sep='\\n')[0]\n",
    "            properties_list = line.split(sep='\\t')\n",
    "    \n",
    "    if properties:\n",
    "        try:\n",
    "            selected_entries = [np.where(np.array(properties_list) == prop)[0][0] for prop in properties]\n",
    "        except IndexError:\n",
    "            print('Could not find property, you can choose from this list:')\n",
    "            print(properties_list)\n",
    "    else:\n",
    "        selected_entries = np.array([i for i in range(len(properties_list))])\n",
    "        properties = properties_list\n",
    "\n",
    "    dt = [(name, float) if name != 'date - time' else (name, str, 20) for name in properties]\n",
    "    \n",
    "    \n",
    "    d = np.zeros(max_entries, dtype= dt)\n",
    "    error_lines = []\n",
    "    with open(fn, 'r') as f:\n",
    "        for line in f:\n",
    "            \n",
    "            line = line.split(sep='\\t')\n",
    "            \n",
    "            for name, ent in zip(properties, selected_entries):\n",
    "                try:\n",
    "                    d[name][i] = line[ent]\n",
    "                except:\n",
    "                    if i not in error_lines:\n",
    "                        error_lines.append(i)\n",
    "                        if verbose:\n",
    "                            print('Error line %d, skipping it...' % i)\n",
    "                    d[name][i] = 0\n",
    "\n",
    "            i += 1\n",
    "\n",
    "            if i > max_entries:\n",
    "                print('User-defined max_entries reached, turn it up to read full dataset!')\n",
    "            \n",
    "    d = d[:i]\n",
    "    \n",
    "    non_error = np.array([True if i not in error_lines else False for i in range(len(d))])\n",
    "    n_err = len(d[np.invert(non_error)])\n",
    "    if n_err > 0:\n",
    "        if verbose:\n",
    "            print('Removing a total of %d lines due to errors.' % n_err)\n",
    "    \n",
    "    d = pd.DataFrame(d[non_error])\n",
    "    \n",
    "    # Scale to match to unix time.\n",
    "    if 'Timestamp' in properties:\n",
    "        d['unix_time'] = d['Timestamp'] - 2082844800\n",
    "                        \n",
    "    return d"
   ]
  },
  {
   "cell_type": "markdown",
   "metadata": {},
   "source": [
    "### Example"
   ]
  },
  {
   "cell_type": "code",
   "execution_count": 1,
   "metadata": {
    "collapsed": true
   },
   "outputs": [],
   "source": [
    "try_example = False"
   ]
  },
  {
   "cell_type": "code",
   "execution_count": 205,
   "metadata": {
    "collapsed": true
   },
   "outputs": [],
   "source": [
    "if try_example:\n",
    "    fn = '/data/xenon/xams/run8/SC_data/28-3-2017'\n",
    "    d = read_xams_sc(fn, fn_header='/data/xenon/xams/run8/SC_headers/20-3-2017')\n",
    "                 #properties=['date - time', 'Pdetector', 'Level', 'Timestamp', 'Flow', 'A'])\n",
    "    d['Timestamp'].values[0]\n",
    "    d['time_since_start'] = d['unix_time'] - 1490712750\n",
    "\n",
    "    plt.plot(d['time_since_start'], d['Flow'])\n",
    "    #plt.xlim(58.5e3, 59.2e3)\n",
    "    plt.xlim(0, 300)\n",
    "    plt.ylim(2, 4.5)\n",
    "    plt.show()\n",
    "\n"
   ]
  },
  {
   "cell_type": "code",
   "execution_count": 203,
   "metadata": {
    "collapsed": true
   },
   "outputs": [],
   "source": [
    "# https://www.epochconverter.com/mac\n",
    "# The difference between the Unix timestamp epoch (1970) \n",
    "# and the Mac timestamp epoch (1904) is 2082844800 seconds. "
   ]
  },
  {
   "cell_type": "code",
   "execution_count": null,
   "metadata": {
    "collapsed": true
   },
   "outputs": [],
   "source": []
  }
 ],
 "metadata": {
  "kernelspec": {
   "display_name": "Python 3",
   "language": "python",
   "name": "python3"
  },
  "language_info": {
   "codemirror_mode": {
    "name": "ipython",
    "version": 3
   },
   "file_extension": ".py",
   "mimetype": "text/x-python",
   "name": "python",
   "nbconvert_exporter": "python",
   "pygments_lexer": "ipython3",
   "version": "3.4.5"
  },
  "latex_envs": {
   "bibliofile": "biblio.bib",
   "cite_by": "apalike",
   "current_citInitial": 1,
   "eqLabelWithNumbers": true,
   "eqNumInitial": 0
  }
 },
 "nbformat": 4,
 "nbformat_minor": 0
}
