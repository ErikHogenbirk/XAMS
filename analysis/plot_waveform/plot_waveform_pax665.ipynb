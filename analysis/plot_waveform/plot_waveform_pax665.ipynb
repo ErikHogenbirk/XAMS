{
 "cells": [
  {
   "cell_type": "code",
   "execution_count": 1,
   "metadata": {
    "collapsed": false
   },
   "outputs": [
    {
     "name": "stderr",
     "output_type": "stream",
     "text": [
      "/home/erik/anaconda3/envs/pax/lib/python3.4/site-packages/IPython/kernel/__init__.py:13: ShimWarning: The `IPython.kernel` package has been deprecated. You should import from ipykernel or jupyter_client instead.\n",
      "  \"You should import from ipykernel or jupyter_client instead.\", ShimWarning)\n"
     ]
    }
   ],
   "source": [
    "%run '../definitions.ipynb'"
   ]
  },
  {
   "cell_type": "code",
   "execution_count": 2,
   "metadata": {
    "collapsed": true
   },
   "outputs": [],
   "source": [
    "import zipfile\n",
    "import zlib"
   ]
  },
  {
   "cell_type": "code",
   "execution_count": 3,
   "metadata": {
    "collapsed": true
   },
   "outputs": [],
   "source": [
    "def read_event(filename = \"./cs_waveforms/XAMS-0-000000000-000000099-000000100.zip\", event_number = 0):\n",
    "    file = zipfile.ZipFile(filename, \"r\" ) \n",
    "    with file.open('%d' % event_number) as event_in_zip:\n",
    "        data = event_in_zip.read()\n",
    "        data = zlib.decompress(data)\n",
    "        ev = pickle.loads(data)\n",
    "    return ev"
   ]
  },
  {
   "cell_type": "code",
   "execution_count": 4,
   "metadata": {
    "collapsed": false
   },
   "outputs": [],
   "source": [
    "ev = read_event(event_number=2)"
   ]
  },
  {
   "cell_type": "code",
   "execution_count": 10,
   "metadata": {
    "collapsed": false
   },
   "outputs": [],
   "source": [
    "wf_tpc     = ev.get_sum_waveform('tpc').samples\n",
    "wf_tpc_raw = ev.get_sum_waveform('tpc_raw').samples\n",
    "sample_number = np.array([_x for _x in range(len(wf_tpc))])\n",
    "t = sample_number * 0.002\n",
    "nonzle = wf_tpc != 0"
   ]
  },
  {
   "cell_type": "code",
   "execution_count": 12,
   "metadata": {
    "collapsed": false
   },
   "outputs": [
    {
     "name": "stderr",
     "output_type": "stream",
     "text": [
      "/home/erik/anaconda3/envs/pax/lib/python3.4/site-packages/matplotlib/style/core.py:53: UserWarning: Style includes a parameter, 'backend', that is not related to style.  Ignoring\n",
      "  \"to style.  Ignoring\".format(key))\n"
     ]
    }
   ],
   "source": [
    "plt.style.use('latex_prl')"
   ]
  },
  {
   "cell_type": "code",
   "execution_count": 14,
   "metadata": {
    "collapsed": true
   },
   "outputs": [],
   "source": [
    "p = ev.peaks[0]\n",
    "s1s = [p for p in ev.peaks if p.type == 's1']\n",
    "s2s = [p for p in ev.peaks if p.type == 's2']"
   ]
  },
  {
   "cell_type": "code",
   "execution_count": 93,
   "metadata": {
    "collapsed": false
   },
   "outputs": [
    {
     "data": {
      "image/png": "[encoded data removed]",
      "text/plain": [
       "<matplotlib.figure.Figure at 0x7f7a0360f0b8>"
      ]
     },
     "metadata": {},
     "output_type": "display_data"
    }
   ],
   "source": [
    "f_from_corner_x = 0.25\n",
    "f_from_corner_y = 0.1\n",
    "\n",
    "fig = plt.figure()\n",
    "plt.plot(t, wf_tpc_raw, color='gray')\n",
    "ax0 = plt.gca()\n",
    "# This line does NOT work because it connects the bits that are non-zle with straight lines...\n",
    "# plt.plot(t[nonzle], wf_tpc[nonzle], color='black')\n",
    "plt.xlim(80, 105)\n",
    "plt.ylim(-10, 310)\n",
    "\n",
    "for p in s1s:\n",
    "    # left and right are INclusive!\n",
    "    p_range = (p.left, p.right)\n",
    "    in_range = (sample_number >= p.left) & (sample_number <= p.right)\n",
    "    plt.plot(t[in_range], wf_tpc[in_range], color='blue')\n",
    "\n",
    "for p in s2s:\n",
    "    # left and right are INclusive!\n",
    "    p_range = (p.left, p.right)\n",
    "    in_range = (sample_number >= p.left) & (sample_number <= p.right)\n",
    "    plt.plot(t[in_range], wf_tpc[in_range], color='green')\n",
    "    \n",
    "plt.xlabel(r'Time (\\si{\\micro s})')\n",
    "plt.ylabel(r'Amplitude (p.e./(\\SI{2}{\\nano s}))')\n",
    "\n",
    "\n",
    "############# S1 panel\n",
    "s1_pad = 100 # samples\n",
    "ylim_box = (-2, 30)\n",
    "\n",
    "# Get S1 properties\n",
    "p = s1s[0]\n",
    "p_range = (p.left, p.right)\n",
    "in_range = (sample_number >= p.left) & (sample_number <= p.right)\n",
    "xlim_box = ((p_range[0] - s1_pad) * 0.002, (p_range[1] + s1_pad) * 0.002)\n",
    "\n",
    "# Draw the box around s1 in main fig\n",
    "draw_box(xlim_box, ylim_box, edgecolor='blue')\n",
    "\n",
    "# Now make the new axes\n",
    "ax1 = fig.add_axes([0.23, 0.25, 0.15, 0.55])\n",
    "# Colour the spines\n",
    "spines_to_color = ['top','bottom','left','right']\n",
    "for spine in spines_to_color:\n",
    "    ax1.spines[spine].set_color('blue')\n",
    "    ax1.spines[spine].set_linewidth(1)\n",
    "\n",
    "plt.plot(t, wf_tpc_raw, color='gray')\n",
    "plt.plot(t[in_range], wf_tpc_raw[in_range], color='blue')\n",
    "\n",
    "plt.xlim(xlim_box)\n",
    "plt.ylim(ylim_box)\n",
    "# Upper right corner minus full range times fraction from corner\n",
    "plt.text(xlim_box[1] - (xlim_box[1] - xlim_box[0]) * f_from_corner_x,\n",
    "         ylim_box[1] - (ylim_box[1] - ylim_box[0]) * f_from_corner_y,\n",
    "         'S1', color='blue')\n",
    "\n",
    "\n",
    "############# S2 panel\n",
    "s2_pad = 100 # samples\n",
    "ylim_box = (-2, 280)\n",
    "\n",
    "# Get S2 properties\n",
    "p = s2s[0]\n",
    "p_range = (p.left, p.right)\n",
    "in_range = (sample_number >= p.left) & (sample_number <= p.right)\n",
    "xlim_box = ((p_range[0] - s2_pad) * 0.002, (p_range[1] + s2_pad) * 0.002)\n",
    "\n",
    "# Draw the box around s2 in main fig\n",
    "fig.sca(ax0)\n",
    "draw_box(xlim_box, ylim_box, edgecolor='green')\n",
    "\n",
    "# Now make the new axes\n",
    "ax1 = fig.add_axes([0.63, 0.25, 0.25, 0.55])\n",
    "# Colour the spines\n",
    "spines_to_color = ['top','bottom','left','right']\n",
    "for spine in spines_to_color:\n",
    "    ax1.spines[spine].set_color('green')\n",
    "    ax1.spines[spine].set_linewidth(1)\n",
    "\n",
    "    \n",
    "plt.plot(t, wf_tpc_raw, color='gray')\n",
    "plt.plot(t[in_range], wf_tpc_raw[in_range], color='green')\n",
    "\n",
    "plt.xlim(xlim_box)\n",
    "plt.ylim(ylim_box)\n",
    "\n",
    "plt.text(xlim_box[1] - (xlim_box[1] - xlim_box[0]) * f_from_corner_x * 0.15 / 0.25,\n",
    "         ylim_box[1] - (ylim_box[1] - ylim_box[0]) * f_from_corner_y,\n",
    "         'S2', color='green')\n",
    "\n",
    "plt.savefig('cs_waveform.pdf')"
   ]
  },
  {
   "cell_type": "code",
   "execution_count": 91,
   "metadata": {
    "collapsed": false
   },
   "outputs": [
    {
     "data": {
      "text/plain": [
       "163.81800000000001"
      ]
     },
     "execution_count": 91,
     "metadata": {},
     "output_type": "execute_result"
    }
   ],
   "source": [
    "max(t)"
   ]
  },
  {
   "cell_type": "code",
   "execution_count": null,
   "metadata": {
    "collapsed": true
   },
   "outputs": [],
   "source": []
  }
 ],
 "metadata": {
  "kernelspec": {
   "display_name": "Python 3",
   "language": "python",
   "name": "python3"
  },
  "language_info": {
   "codemirror_mode": {
    "name": "ipython",
    "version": 3
   },
   "file_extension": ".py",
   "mimetype": "text/x-python",
   "name": "python",
   "nbconvert_exporter": "python",
   "pygments_lexer": "ipython3",
   "version": "3.4.5"
  },
  "latex_envs": {
   "bibliofile": "biblio.bib",
   "cite_by": "apalike",
   "current_citInitial": 1,
   "eqLabelWithNumbers": true,
   "eqNumInitial": 0
  }
 },
 "nbformat": 4,
 "nbformat_minor": 0
}
