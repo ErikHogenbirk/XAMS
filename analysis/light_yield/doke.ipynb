{
 "cells": [
  {
   "cell_type": "code",
   "execution_count": 1,
   "metadata": {
    "collapsed": false
   },
   "outputs": [
    {
     "name": "stderr",
     "output_type": "stream",
     "text": [
      "/home/erik/anaconda3/envs/pax_new/lib/python3.4/site-packages/matplotlib/style/core.py:53: UserWarning: Style includes a parameter, 'backend', that is not related to style.  Ignoring\n",
      "  \"to style.  Ignoring\".format(key))\n"
     ]
    }
   ],
   "source": [
    "%run ../definitions.ipynb\n",
    "plt.style.use('latex_prl')\n",
    "def plt_savefig(filename, folder='plots'):\n",
    "    plt.savefig(os.path.join(folder, filename + '.png'))\n",
    "    plt.savefig(os.path.join(folder, filename + '.pdf'))"
   ]
  },
  {
   "cell_type": "code",
   "execution_count": 2,
   "metadata": {
    "collapsed": false
   },
   "outputs": [],
   "source": [
    "# Rough means by-eye selection\n",
    "popt_cs_rough, pcov_cs_rough = pickle.load(open('data/cs137_s1s2fit_2d_rough.pickle', 'rb'))\n",
    "popt_na_rough, pcov_na_rough = pickle.load(open('data/na22_s1s2fit_2d_rough.pickle', 'rb'))\n",
    "\n",
    "# sel0 means photopeak selection based on first-order g1, g2 computation\n",
    "popt_cs_s1_sel0, perr_cs_s1_sel0, perr_syst_cs_s1_sel0 = pickle.load(open('data/cs137_s1_sel0.pickle', 'rb'))\n",
    "popt_cs_s2_sel0, perr_cs_s2_sel0, perr_syst_cs_s2_sel0 = pickle.load(open('data/cs137_s2_sel0.pickle', 'rb'))\n",
    "popt_na_s1_sel0, perr_na_s1_sel0, perr_syst_na_s1_sel0 = pickle.load(open('data/na22_s1_sel0.pickle', 'rb'))\n",
    "popt_na_s2_sel0, perr_na_s2_sel0, perr_syst_na_s2_sel0 = pickle.load(open('data/na22_s2_sel0.pickle', 'rb'))\n",
    "\n",
    "\n",
    "popt_cs_s1_sel1, perr_cs_s1_sel1, perr_syst_cs_s1_sel1 = pickle.load(open('data/cs137_s1_sel1.pickle', 'rb'))\n",
    "popt_cs_s2_sel1, perr_cs_s2_sel1, perr_syst_cs_s2_sel1 = pickle.load(open('data/cs137_s2_sel1.pickle', 'rb'))\n",
    "popt_na_s1_sel1, perr_na_s1_sel1, perr_syst_na_s1_sel1 = pickle.load(open('data/na22_s1_sel1.pickle', 'rb'))\n",
    "popt_na_s2_sel1, perr_na_s2_sel1, perr_syst_na_s2_sel1 = pickle.load(open('data/na22_s2_sel1.pickle', 'rb'))\n",
    "\n",
    "\n",
    "popt_cs_s1_sel2, perr_cs_s1_sel2, perr_syst_cs_s1_sel2 = pickle.load(open('data/cs137_s1_sel2.pickle', 'rb'))\n",
    "popt_cs_s2_sel2, perr_cs_s2_sel2, perr_syst_cs_s2_sel2 = pickle.load(open('data/cs137_s2_sel2.pickle', 'rb'))\n",
    "popt_na_s1_sel2, perr_na_s1_sel2, perr_syst_na_s1_sel2 = pickle.load(open('data/na22_s1_sel2.pickle', 'rb'))\n",
    "popt_na_s2_sel2, perr_na_s2_sel2, perr_syst_na_s2_sel2 = pickle.load(open('data/na22_s2_sel2.pickle', 'rb'))"
   ]
  },
  {
   "cell_type": "code",
   "execution_count": 3,
   "metadata": {
    "collapsed": true
   },
   "outputs": [],
   "source": [
    "def add_errs(err0, err1):\n",
    "    return np.sqrt(err0**2 + err1**2)"
   ]
  },
  {
   "cell_type": "code",
   "execution_count": 4,
   "metadata": {
    "collapsed": false
   },
   "outputs": [],
   "source": [
    "# all s1 is corrected s1, all s2 is corrected bottom s2\n",
    "s1_rough  = np.array( [popt_na_rough[1], popt_cs_rough[1]] )\n",
    "s2_rough  = np.array( [popt_na_rough[2], popt_cs_rough[2]] )\n",
    "ds1_rough = np.array( [np.sqrt(np.diag(pcov_na_rough))[1], np.sqrt(np.diag(pcov_cs_rough))[1] ] )\n",
    "ds2_rough = np.array( [np.sqrt(np.diag(pcov_na_rough))[2], np.sqrt(np.diag(pcov_cs_rough))[2] ] )\n",
    "\n",
    "s1_sel0 = np.array( [popt_na_s1_sel0['mu'], popt_cs_s1_sel0['mu'] ])\n",
    "s2_sel0 = np.array( [popt_na_s2_sel0['mu'], popt_cs_s2_sel0['mu'] ])\n",
    "ds1_sel0 = np.array( [add_errs(perr_na_s1_sel0['mu'], perr_syst_na_s1_sel0), \n",
    "                      add_errs(perr_cs_s1_sel0['mu'], perr_syst_cs_s1_sel0) ])\n",
    "ds2_sel0 = np.array( [add_errs(perr_na_s2_sel0['mu'], perr_syst_na_s2_sel0),\n",
    "                      add_errs(perr_cs_s2_sel0['mu'], perr_syst_cs_s2_sel0)])\n",
    "\n",
    "s1_sel1 = np.array( [popt_na_s1_sel1['mu'], popt_cs_s1_sel1['mu'] ])\n",
    "s2_sel1 = np.array( [popt_na_s2_sel1['mu'], popt_cs_s2_sel1['mu'] ])\n",
    "ds1_sel1 = np.array( [add_errs(perr_na_s1_sel1['mu'], perr_syst_na_s1_sel1),\n",
    "                      add_errs(perr_cs_s1_sel1['mu'], perr_syst_cs_s1_sel1)])\n",
    "ds2_sel1 = np.array( [add_errs(perr_na_s2_sel1['mu'], perr_syst_na_s2_sel1),\n",
    "                      add_errs(perr_cs_s2_sel1['mu'], perr_syst_cs_s2_sel1)])\n",
    "\n",
    "s1_sel2 = np.array( [popt_na_s1_sel2['mu'], popt_cs_s1_sel2['mu'] ])\n",
    "s2_sel2 = np.array( [popt_na_s2_sel2['mu'], popt_cs_s2_sel2['mu'] ])\n",
    "ds1_sel2 = np.array( [add_errs(perr_na_s1_sel2['mu'], perr_syst_na_s1_sel2),\n",
    "                      add_errs(perr_cs_s1_sel2['mu'], perr_syst_cs_s1_sel2)])\n",
    "ds2_sel2 = np.array( [add_errs(perr_na_s2_sel2['mu'], perr_syst_na_s2_sel2),\n",
    "                      add_errs(perr_cs_s2_sel2['mu'], perr_syst_cs_s2_sel2)])\n",
    "\n",
    "E   = np.array( [511, 661.6] )"
   ]
  },
  {
   "cell_type": "code",
   "execution_count": 5,
   "metadata": {
    "collapsed": false
   },
   "outputs": [
    {
     "name": "stdout",
     "output_type": "stream",
     "text": [
      "rough:  [ 0.09529046  4.99485915]\n",
      "[ 0.09189561  4.99432058]\n",
      "[ 0.09250898  4.9457852 ]\n",
      "[ 0.09811548  4.71819016]\n"
     ]
    },
    {
     "name": "stderr",
     "output_type": "stream",
     "text": [
      "/home/erik/anaconda3/envs/pax_new/lib/python3.4/site-packages/scipy/optimize/minpack.py:715: OptimizeWarning: Covariance of the parameters could not be estimated\n",
      "  category=OptimizeWarning)\n"
     ]
    }
   ],
   "source": [
    "def doke(s2_over_e, g1, g2):\n",
    "    return g1/(13.7e-3) - (g1/g2) * s2_over_e\n",
    "\n",
    "\n",
    "popt_doke_rough, pcov_doke_rough = scipy.optimize.curve_fit(doke, s2_rough/E, s1_rough/E, p0 = [1,1])\n",
    "print('rough: ', popt_doke_rough)\n",
    "pickle.dump(popt_doke_rough, open('data/doke_rough.pickle', 'wb'))\n",
    "\n",
    "popt_doke_sel0, pcov_doke_sel0 = scipy.optimize.curve_fit(doke, s2_sel0/E, s1_sel0/E, p0 = [1,1])\n",
    "print(popt_doke_sel0)\n",
    "pickle.dump(popt_doke_sel0, open('data/doke_sel0.pickle', 'wb'))\n",
    "\n",
    "popt_doke_sel1, pcov_doke_sel1 = scipy.optimize.curve_fit(doke, s2_sel1/E, s1_sel1/E, p0 = [1,1])\n",
    "print(popt_doke_sel1)\n",
    "pickle.dump(popt_doke_sel1, open('data/doke_sel1.pickle', 'wb'))\n",
    "\n",
    "# sel 2\n",
    "popt_doke_sel2, pcov_doke_sel2 = scipy.optimize.curve_fit(doke, s2_sel2/E, s1_sel2/E, p0 = [1,1])\n",
    "print(popt_doke_sel2)\n",
    "pickle.dump(popt_doke_sel2, open('data/doke_sel2.pickle', 'wb'))"
   ]
  },
  {
   "cell_type": "code",
   "execution_count": 18,
   "metadata": {
    "collapsed": false
   },
   "outputs": [
    {
     "data": {
      "text/plain": [
       "(0, 8)"
      ]
     },
     "execution_count": 18,
     "metadata": {},
     "output_type": "execute_result"
    },
    {
     "data": {
      "image/png": "[encoded data removed]",
      "text/plain": [
       "<matplotlib.figure.Figure at 0x7fb4c8e6d588>"
      ]
     },
     "metadata": {},
     "output_type": "display_data"
    }
   ],
   "source": [
    "# plt.scatter(s2_rough[0]/E[0], s1_rough[0]/E[0], \n",
    "#              yerr = ds1_rough[0]/E[0], xerr=ds2_rough[0]/E[0], markersize=5,\n",
    "#              label='Na-22, rough selection', marker='x')\n",
    "plt.scatter(s2_rough[0]/E[0], s1_rough[0]/E[0], \n",
    "             s=40, color='blue',\n",
    "             label='Na-22, rough selection', marker='x')\n",
    "plt.errorbar(s2_sel0[0]/E[0], s1_sel0[0]/E[0], \n",
    "             yerr = ds1_sel0[0]/E[0], xerr=ds2_sel0[0]/E[0], marker='.', markersize=5, color='blue')\n",
    "plt.errorbar(s2_sel1[0]/E[0], s1_sel1[0]/E[0], \n",
    "             yerr = ds1_sel1[0]/E[0], xerr=ds2_sel1[0]/E[0], marker='.', markersize=5, color='blue')\n",
    "plt.errorbar(s2_sel2[0]/E[0], s1_sel2[0]/E[0], label= 'Na-22', \n",
    "             yerr = ds1_sel2[0]/E[0], xerr=ds2_sel2[0]/E[0], marker='.', markersize=10, color='blue')\n",
    "\n",
    "\n",
    "# plt.errorbar(s2_rough[1]/E[1], s1_rough[1]/E[1], label= 'Cs-137, rough selection', \n",
    "#              yerr = ds1_rough[1]/E[1], xerr=ds2_rough[1]/E[1])\n",
    "plt.scatter(s2_rough[1]/E[1], s1_rough[1]/E[1], \n",
    "             s=40, color='red',\n",
    "             label='Cs-137, rough selection', marker='x')\n",
    "plt.errorbar(s2_sel0[1]/E[1], s1_sel0[1]/E[1],\n",
    "             yerr = ds1_sel0[1]/E[1], xerr=ds2_sel0[1]/E[1], color='red', marker='.', markersize=5,)\n",
    "plt.errorbar(s2_sel1[1]/E[1], s1_sel1[1]/E[1], \n",
    "             yerr = ds1_sel1[1]/E[1], xerr=ds2_sel1[1]/E[1], color='red', marker='.', markersize=5,)\n",
    "plt.errorbar(s2_sel2[1]/E[1], s1_sel2[1]/E[1], label= 'Cs-137', \n",
    "             yerr = ds1_sel2[1]/E[1], xerr=ds2_sel2[1]/E[1], marker='.', markersize=10, color='red')\n",
    "\n",
    "\n",
    "x_plot = np.linspace(0, 400, 20)\n",
    "plt.plot(x_plot, doke(x_plot, *popt_doke_sel2))\n",
    "\n",
    "# for _popt in popts:\n",
    "#     plt.plot(x_plot, doke(x_plot, *_popt), color='gray', alpha=0.2)\n",
    "    \n",
    "\n",
    "# # Full view setting\n",
    "# plt.xlim(0, 350)\n",
    "# plt.ylim(0,7)\n",
    "# # Zoom setting\n",
    "plt.xlim(190, 215)\n",
    "plt.ylim(2.9,3.2)\n",
    "plt.xlabel('cS2$_b$/E (p.e./keV)')\n",
    "plt.ylabel('cS1/E (p.e./keV)')\n",
    "plt.legend(loc='upper right')\n",
    "plt.errorbar((17e3/40) * (1- 0.698), (195 / 40), xerr = 0.1 * (17e3/40) * (1- 0.698), yerr = (195 / 40) * 0.1)\n",
    "plt.xlim(0, 400)\n",
    "plt.ylim(0,8)\n",
    "# plt_savefig('doke_new')\n"
   ]
  },
  {
   "cell_type": "code",
   "execution_count": 9,
   "metadata": {
    "collapsed": false
   },
   "outputs": [
    {
     "data": {
      "text/plain": [
       "[128.35000000000002, 4.875]"
      ]
     },
     "execution_count": 9,
     "metadata": {},
     "output_type": "execute_result"
    }
   ],
   "source": [
    "[(17e3/40) * (1- 0.698), (195 / 40)]"
   ]
  },
  {
   "cell_type": "code",
   "execution_count": 25,
   "metadata": {
    "collapsed": false
   },
   "outputs": [],
   "source": [
    "s2_sel2_ext = np.concatenate([s2_sel2, [(17e3) * (1- 0.698)]])\n",
    "E_ext = np.concatenate([E, [40]])\n",
    "s1_sel2_ext = np.concatenate([s1_sel2, [195]])"
   ]
  },
  {
   "cell_type": "code",
   "execution_count": 37,
   "metadata": {
    "collapsed": false
   },
   "outputs": [
    {
     "data": {
      "text/plain": [
       "0.0060429637182989032"
      ]
     },
     "execution_count": 37,
     "metadata": {},
     "output_type": "execute_result"
    }
   ],
   "source": [
    "ds1_sel2[0]/s1_sel2[0]"
   ]
  },
  {
   "cell_type": "code",
   "execution_count": 49,
   "metadata": {
    "collapsed": false
   },
   "outputs": [
    {
     "name": "stdout",
     "output_type": "stream",
     "text": [
      "[ 0.10926594  4.39171512]\n",
      "[ 0.0063183  0.1556858]\n"
     ]
    }
   ],
   "source": [
    "popt_doke_sel2_ext, pcov_doke_sel2_ext = scipy.optimize.curve_fit(doke, s2_sel2_ext/E_ext,\n",
    "                                                                  s1_sel2_ext/E_ext, p0 = [1,1], sigma = (1, 1, 10))\n",
    "print(popt_doke_sel2_ext)\n",
    "print(np.sqrt(np.diag(pcov_doke_sel2_ext)))\n",
    "pickle.dump(popt_doke_sel2_ext, open('data/doke_sel2_ext.pickle', 'wb'))"
   ]
  },
  {
   "cell_type": "code",
   "execution_count": 47,
   "metadata": {
    "collapsed": false
   },
   "outputs": [
    {
     "data": {
      "text/plain": [
       "<matplotlib.legend.Legend at 0x7fb4cd05dba8>"
      ]
     },
     "execution_count": 47,
     "metadata": {},
     "output_type": "execute_result"
    },
    {
     "data": {
      "image/png": "[encoded data removed]",
      "text/plain": [
       "<matplotlib.figure.Figure at 0x7fb4cd54d780>"
      ]
     },
     "metadata": {},
     "output_type": "display_data"
    }
   ],
   "source": [
    "plt.errorbar(s2_sel2[1]/E[1], s1_sel2[1]/E[1], label= 'Cs-137', \n",
    "             yerr = ds1_sel2[1]/E[1], xerr=ds2_sel2[1]/E[1], marker='.', markersize=10, color='red')\n",
    "plt.errorbar(s2_sel2[0]/E[0], s1_sel2[0]/E[0], label= 'Na-22', \n",
    "             yerr = ds1_sel2[0]/E[0], xerr=ds2_sel2[0]/E[0], marker='.', markersize=10, color='blue')\n",
    "plt.errorbar((17e3/40) * (1- 0.698), (195 / 40), xerr = 0.02 * (17e3/40) * (1- 0.698), yerr = (195 / 40) * 0.02,\n",
    "            label='Xe-129 inelastic')\n",
    "x_plot = np.linspace(0, 400, 20)\n",
    "plt.plot(x_plot, doke(x_plot, *popt_doke_sel2_ext))\n",
    "plt.xlim(100, 220)\n",
    "plt.ylim(2, 6)\n",
    "plt.legend()"
   ]
  },
  {
   "cell_type": "code",
   "execution_count": 16,
   "metadata": {
    "collapsed": true
   },
   "outputs": [],
   "source": [
    "# error estimate"
   ]
  },
  {
   "cell_type": "code",
   "execution_count": 17,
   "metadata": {
    "collapsed": true
   },
   "outputs": [],
   "source": [
    "def lin(x, a0, a1):\n",
    "    return a0 + a1 * x"
   ]
  },
  {
   "cell_type": "code",
   "execution_count": 18,
   "metadata": {
    "collapsed": false
   },
   "outputs": [
    {
     "name": "stderr",
     "output_type": "stream",
     "text": [
      "/home/erik/anaconda3/envs/pax/lib/python3.4/site-packages/scipy/optimize/minpack.py:715: OptimizeWarning: Covariance of the parameters could not be estimated\n",
      "  category=OptimizeWarning)\n"
     ]
    }
   ],
   "source": [
    "n_it = 1000\n",
    "popts = []\n",
    "popts_lin = []\n",
    "for it in range(n_it):\n",
    "    _s1 = np.array([np.random.normal(loc = _s1_entry, scale=_ds1_entry) \n",
    "                    for _s1_entry, _ds1_entry in zip(s1_sel2, ds1_sel2)])\n",
    "    _s2 = np.array([np.random.normal(loc = _s2_entry, scale=_ds2_entry) \n",
    "                    for _s2_entry, _ds2_entry in zip(s2_sel2, ds2_sel2)])\n",
    "    _popt, _ = scipy.optimize.curve_fit(doke, _s2/E, _s1/E, p0 = [0.1,5])\n",
    "    popts.append(_popt)\n",
    "    _popt, _ = scipy.optimize.curve_fit(lin, _s2/E, _s1/E, p0 = [0.1,5])\n",
    "    popts_lin.append(_popt)"
   ]
  },
  {
   "cell_type": "code",
   "execution_count": 19,
   "metadata": {
    "collapsed": false
   },
   "outputs": [],
   "source": [
    "popts_lin = np.array(popts_lin)\n",
    "popts = np.array(popts)"
   ]
  },
  {
   "cell_type": "code",
   "execution_count": 20,
   "metadata": {
    "collapsed": false
   },
   "outputs": [
    {
     "data": {
      "text/plain": [
       "<matplotlib.text.Text at 0x7f9188276748>"
      ]
     },
     "execution_count": 20,
     "metadata": {},
     "output_type": "execute_result"
    },
    {
     "data": {
      "image/png": "[encoded data removed]",
      "text/plain": [
       "<matplotlib.figure.Figure at 0x7f918826a518>"
      ]
     },
     "metadata": {},
     "output_type": "display_data"
    }
   ],
   "source": [
    "plt.scatter(popts_lin[:, 0], popts_lin[:, 1], marker='.', s = 2)\n",
    "plt.xlabel('')"
   ]
  },
  {
   "cell_type": "code",
   "execution_count": 21,
   "metadata": {
    "collapsed": false
   },
   "outputs": [
    {
     "data": {
      "text/plain": [
       "(4, 7)"
      ]
     },
     "execution_count": 21,
     "metadata": {},
     "output_type": "execute_result"
    },
    {
     "data": {
      "image/png": "[encoded data removed]",
      "text/plain": [
       "<matplotlib.figure.Figure at 0x7f917e0756d8>"
      ]
     },
     "metadata": {},
     "output_type": "display_data"
    }
   ],
   "source": [
    "plt.scatter(popts[:,0], popts[:,1], marker='.', s = 2)\n",
    "plt.xlim(0.07, 0.10)\n",
    "plt.ylim(4, 7)"
   ]
  },
  {
   "cell_type": "code",
   "execution_count": 22,
   "metadata": {
    "collapsed": false
   },
   "outputs": [
    {
     "data": {
      "text/plain": [
       "<matplotlib.lines.Line2D at 0x7f917df67dd8>"
      ]
     },
     "execution_count": 22,
     "metadata": {},
     "output_type": "execute_result"
    },
    {
     "data": {
      "image/png": "[encoded data removed]",
      "text/plain": [
       "<matplotlib.figure.Figure at 0x7f917df91fd0>"
      ]
     },
     "metadata": {},
     "output_type": "display_data"
    }
   ],
   "source": [
    "plt.hist(popts[:, 0], bins=50, histtype='step')\n",
    "g1_err = (np.std(popts[:, 0]))\n",
    "plt.axvline(popt_doke_sel2[0])"
   ]
  },
  {
   "cell_type": "code",
   "execution_count": 23,
   "metadata": {
    "collapsed": false
   },
   "outputs": [
    {
     "data": {
      "text/plain": [
       "<matplotlib.lines.Line2D at 0x7f917dedd978>"
      ]
     },
     "execution_count": 23,
     "metadata": {},
     "output_type": "execute_result"
    },
    {
     "data": {
      "image/png": "[encoded data removed]",
      "text/plain": [
       "<matplotlib.figure.Figure at 0x7f917df19400>"
      ]
     },
     "metadata": {},
     "output_type": "display_data"
    }
   ],
   "source": [
    "plt.hist(popts[:, 1], bins=50, histtype='step')\n",
    "g2_err = (np.std(popts[:, 1]))\n",
    "plt.axvline(popt_doke_sel2[1])"
   ]
  },
  {
   "cell_type": "code",
   "execution_count": 24,
   "metadata": {
    "collapsed": false
   },
   "outputs": [
    {
     "data": {
      "image/png": "[encoded data removed]",
      "text/plain": [
       "<matplotlib.figure.Figure at 0x7f917dea55f8>"
      ]
     },
     "metadata": {},
     "output_type": "display_data"
    }
   ],
   "source": [
    "# plt.scatter(s2_rough[0]/E[0], s1_rough[0]/E[0], \n",
    "#              yerr = ds1_rough[0]/E[0], xerr=ds2_rough[0]/E[0], markersize=5,\n",
    "#              label='Na-22, rough selection', marker='x')\n",
    "plt.scatter(s2_rough[0]/E[0], s1_rough[0]/E[0], \n",
    "             s=40, color='blue',\n",
    "             label='Na-22, rough selection', marker='x')\n",
    "plt.errorbar(s2_sel0[0]/E[0], s1_sel0[0]/E[0], \n",
    "             yerr = ds1_sel0[0]/E[0], xerr=ds2_sel0[0]/E[0], marker='.', markersize=5, color='blue')\n",
    "plt.errorbar(s2_sel1[0]/E[0], s1_sel1[0]/E[0], \n",
    "             yerr = ds1_sel1[0]/E[0], xerr=ds2_sel1[0]/E[0], marker='.', markersize=5, color='blue')\n",
    "plt.errorbar(s2_sel2[0]/E[0], s1_sel2[0]/E[0], label= 'Na-22', \n",
    "             yerr = ds1_sel2[0]/E[0], xerr=ds2_sel2[0]/E[0], marker='.', markersize=10, color='blue')\n",
    "\n",
    "\n",
    "# plt.errorbar(s2_rough[1]/E[1], s1_rough[1]/E[1], label= 'Cs-137, rough selection', \n",
    "#              yerr = ds1_rough[1]/E[1], xerr=ds2_rough[1]/E[1])\n",
    "plt.scatter(s2_rough[1]/E[1], s1_rough[1]/E[1], \n",
    "             s=40, color='red',\n",
    "             label='Cs-137, rough selection', marker='x')\n",
    "plt.errorbar(s2_sel0[1]/E[1], s1_sel0[1]/E[1],\n",
    "             yerr = ds1_sel0[1]/E[1], xerr=ds2_sel0[1]/E[1], color='red', marker='.', markersize=5, )\n",
    "plt.errorbar(s2_sel1[1]/E[1], s1_sel1[1]/E[1], \n",
    "             yerr = ds1_sel1[1]/E[1], xerr=ds2_sel1[1]/E[1], color='red', marker='.', markersize=5,)\n",
    "plt.errorbar(s2_sel2[1]/E[1], s1_sel2[1]/E[1], label= 'Cs-137', \n",
    "             yerr = ds1_sel2[1]/E[1], xerr=ds2_sel2[1]/E[1], marker='.', markersize=10, color='red')\n",
    "\n",
    "\n",
    "x_plot = np.linspace(0, 400, 20)\n",
    "plt.plot(x_plot, doke(x_plot, *popt_doke_sel2), \n",
    "         label='$g_1 = $ (%.2f $\\pm$ %.2f), $g_2 = $ (%.1f $\\pm$ %.1f)' % (popt_doke_sel2[0], g1_err,\n",
    "                                                                            popt_doke_sel2[1], g2_err))\n",
    "\n",
    "# for _popt in popts:\n",
    "#     plt.plot(x_plot, doke(x_plot, *_popt), color='gray', alpha=0.2)\n",
    "    \n",
    "\n",
    "# # Full view setting\n",
    "# plt.xlim(0, 350)\n",
    "# plt.ylim(0,7)\n",
    "# # Zoom setting\n",
    "plt.xlim(190, 215)\n",
    "plt.ylim(2.9,3.2)\n",
    "plt.xlabel('cS2$_b$/E (p.e./keV)')\n",
    "plt.ylabel('cS1/E (p.e./keV)')\n",
    "plt.legend(loc='upper right')\n",
    "plt_savefig('doke_new')\n"
   ]
  },
  {
   "cell_type": "code",
   "execution_count": null,
   "metadata": {
    "collapsed": true
   },
   "outputs": [],
   "source": []
  },
  {
   "cell_type": "code",
   "execution_count": null,
   "metadata": {
    "collapsed": true
   },
   "outputs": [],
   "source": []
  },
  {
   "cell_type": "code",
   "execution_count": 25,
   "metadata": {
    "collapsed": false
   },
   "outputs": [
    {
     "ename": "NameError",
     "evalue": "name 'popt_doke' is not defined",
     "output_type": "error",
     "traceback": [
      "\u001b[1;31m---------------------------------------------------------------------------\u001b[0m",
      "\u001b[1;31mNameError\u001b[0m                                 Traceback (most recent call last)",
      "\u001b[1;32m<ipython-input-25-be95132c5616>\u001b[0m in \u001b[0;36m<module>\u001b[1;34m()\u001b[0m\n\u001b[0;32m      5\u001b[0m \u001b[1;33m\u001b[0m\u001b[0m\n\u001b[0;32m      6\u001b[0m \u001b[0mx_plot\u001b[0m \u001b[1;33m=\u001b[0m \u001b[0mnp\u001b[0m\u001b[1;33m.\u001b[0m\u001b[0mlinspace\u001b[0m\u001b[1;33m(\u001b[0m\u001b[1;36m0\u001b[0m\u001b[1;33m,\u001b[0m \u001b[1;36m400\u001b[0m\u001b[1;33m,\u001b[0m \u001b[1;36m200\u001b[0m\u001b[1;33m)\u001b[0m\u001b[1;33m\u001b[0m\u001b[0m\n\u001b[1;32m----> 7\u001b[1;33m \u001b[0mplt\u001b[0m\u001b[1;33m.\u001b[0m\u001b[0mplot\u001b[0m\u001b[1;33m(\u001b[0m\u001b[0mx_plot\u001b[0m\u001b[1;33m,\u001b[0m \u001b[0mdoke\u001b[0m\u001b[1;33m(\u001b[0m\u001b[0mx_plot\u001b[0m\u001b[1;33m,\u001b[0m \u001b[1;33m*\u001b[0m\u001b[0mpopt_doke\u001b[0m\u001b[1;33m)\u001b[0m\u001b[1;33m)\u001b[0m\u001b[1;33m\u001b[0m\u001b[0m\n\u001b[0m\u001b[0;32m      8\u001b[0m \u001b[1;31m# Full view setting\u001b[0m\u001b[1;33m\u001b[0m\u001b[1;33m\u001b[0m\u001b[0m\n\u001b[0;32m      9\u001b[0m \u001b[0mplt\u001b[0m\u001b[1;33m.\u001b[0m\u001b[0mxlim\u001b[0m\u001b[1;33m(\u001b[0m\u001b[1;36m0\u001b[0m\u001b[1;33m,\u001b[0m \u001b[1;36m350\u001b[0m\u001b[1;33m)\u001b[0m\u001b[1;33m\u001b[0m\u001b[0m\n",
      "\u001b[1;31mNameError\u001b[0m: name 'popt_doke' is not defined"
     ]
    },
    {
     "data": {
      "image/png": "[encoded data removed]",
      "text/plain": [
       "<matplotlib.figure.Figure at 0x7f91881f3be0>"
      ]
     },
     "metadata": {},
     "output_type": "display_data"
    }
   ],
   "source": [
    "plt.errorbar(s2_rough[0]/E[0], s1_rough[0]/E[0], label= 'Na-22 (511 keV)', \n",
    "             yerr = ds1_rough[0]/E[0], xerr=ds2_rough[0]/E[0])\n",
    "plt.errorbar(s2_rough[1]/E[1], s1_rough[1]/E[1], label= 'Cs-137 (662 keV)', \n",
    "             yerr = ds1_rough[1]/E[1], xerr=ds2_rough[1]/E[1])\n",
    "\n",
    "x_plot = np.linspace(0, 400, 200)\n",
    "plt.plot(x_plot, doke(x_plot, *popt_doke))\n",
    "# Full view setting\n",
    "plt.xlim(0, 350)\n",
    "plt.ylim(0,7)\n",
    "# Zoom setting\n",
    "plt.xlim(185, 196)\n",
    "plt.ylim(2.9,3.1)\n",
    "plt.xlabel('cS2$_b$/E (p.e./keV)')\n",
    "plt.ylabel('cS1/E (p.e./keV)')\n",
    "plt.text(188.5, 3.06, '$g_1$ = 0.093, $g_2$ = 4.68', rotation = -36, size=16)\n",
    "plt.legend()\n",
    "plt_savefig('doke')"
   ]
  },
  {
   "cell_type": "markdown",
   "metadata": {},
   "source": [
    "### Old crap as of June 2017"
   ]
  },
  {
   "cell_type": "code",
   "execution_count": null,
   "metadata": {
    "collapsed": true
   },
   "outputs": [],
   "source": [
    "# cs1_per_E =      [ 1156.6 / 511., 1431.9/661.6]\n",
    "# bs2_per_E =      [64741.3 / 511.,  86757.7/661.6]\n",
    "# E  =             [511, 661.6]\n",
    "# res_ces =        np.array([0.062807, 0.055436781])\n",
    "# res_s1 =         np.array([0.16675798276, 0.15348183740])\n",
    "# res_s2 =         np.array([0.1305540, 0.09745874])"
   ]
  },
  {
   "cell_type": "code",
   "execution_count": null,
   "metadata": {
    "collapsed": true
   },
   "outputs": [],
   "source": [
    "### SECOND ITERATION\n",
    "# From fits\n",
    "s1  = [1154.2044765929927, 1423.2931807093228, 2594.909767882044]\n",
    "ds1 = [2.785102481203028, 4.430965817882083,1.3396457855016182]\n",
    "s2 = [64617.9, 86374.33003719049, 136825.52310391146]\n",
    "ds2 = [127.885, 203.01244441931775, 716.6131730234451]\n",
    "\n",
    "# Literature\n",
    "energies = [511, 661.6, 1118.1]\n",
    "\n",
    "# Derived values\n",
    "s1_per_e = [_s1/_e for _s1, _e in zip(s1, energies)]\n",
    "ds1_per_e = [_ds1/_e for _ds1, _e in zip(ds1, energies)]\n",
    "s2_per_e = [_s2/_e for _s2, _e in zip(s2, energies)]\n",
    "ds2_per_e = [_ds2/_e for _ds2, _e in zip(ds2, energies)]"
   ]
  },
  {
   "cell_type": "markdown",
   "metadata": {},
   "source": [
    "### g1, g2, and the doke plot"
   ]
  },
  {
   "cell_type": "code",
   "execution_count": null,
   "metadata": {
    "collapsed": false
   },
   "outputs": [],
   "source": [
    "# Is it overkill to fit a line to two points? Well, yes, it most certainly is! \n",
    "# So why am I doing it? I have hope to add a third point somewhere in the future....\n",
    "def p1(x, a0, a1):\n",
    "    return a0 + a1 * x\n",
    "\n",
    "def doke(s2_over_e, g1, g2):\n",
    "    return g1/(13.7e-3) - (g1/g2) * s2_over_e\n",
    "\n",
    "# def \n",
    "\n",
    "popt, pcov = scipy.optimize.curve_fit(p1, s2_per_e, s1_per_e, p0=[4, -0.01])\n",
    "popt2, pcov2 = scipy.optimize.curve_fit(doke, s2_per_e, s1_per_e, p0=[1, 1])\n",
    "popt3, pcov3 = scipy.optimize.curve_fit(doke, s2_per_e, s1_per_e, p0=popt2, sigma = ds1_per_e)"
   ]
  },
  {
   "cell_type": "code",
   "execution_count": null,
   "metadata": {
    "collapsed": false
   },
   "outputs": [],
   "source": [
    "popt3"
   ]
  },
  {
   "cell_type": "code",
   "execution_count": null,
   "metadata": {
    "collapsed": false
   },
   "outputs": [],
   "source": [
    "x_plot = np.linspace(0, 200, 10)\n",
    "plt.plot(x_plot, doke(x_plot, *popt2), ls='--', color='gray', lw=1, \n",
    "         label='g1 = %.3f, g2 = %.2f' % (popt2[0], popt2[1]))\n",
    "plt.plot(x_plot, doke(x_plot, *popt3), ls='--', color='gray', lw=2, \n",
    "         label='g1 = %.3f, g2 = %.2f' % (popt3[0], popt3[1]))\n",
    "plt.scatter(bs2_per_E[0], cs1_per_E[0], color='blue', label='Na-22  (511 keV)')\n",
    "plt.scatter(bs2_per_E[1], cs1_per_E[1], color='red', label='Cs-137 (662 keV)')\n",
    "plt.xlabel('cS2bottom/E (p.e./keV)')\n",
    "plt.ylabel('cS1/E (p.e./keV)')\n",
    "plt.legend(loc='lower left')\n",
    "plt.xlim(0, 200)\n",
    "plt.ylim(0, 5)\n",
    "plt.title('@ 0.5 kV/cm')\n",
    "\n",
    "\n",
    "plt.errorbar(s2_per_e, s1_per_e, xerr = ds2_per_e, yerr= ds1_per_e, ls='None', marker='.', markersize=5)\n",
    "# plt.xlim(120, 135)\n",
    "# plt.ylim(2, 2.4)\n",
    "# plt.savefig('plots/na_vs_cs_doke_new.png')\n",
    "\n",
    "plt.show()"
   ]
  },
  {
   "cell_type": "code",
   "execution_count": null,
   "metadata": {
    "collapsed": false
   },
   "outputs": [],
   "source": [
    "pcov3"
   ]
  },
  {
   "cell_type": "code",
   "execution_count": null,
   "metadata": {
    "collapsed": false
   },
   "outputs": [],
   "source": [
    "np.sqrt(np.diag(pcov3))"
   ]
  },
  {
   "cell_type": "markdown",
   "metadata": {
    "collapsed": true
   },
   "source": [
    "### Energy resolutions"
   ]
  },
  {
   "cell_type": "code",
   "execution_count": null,
   "metadata": {
    "collapsed": true
   },
   "outputs": [],
   "source": [
    "def err_v_e(e, e0, e1):\n",
    "    return e0  + e1 * np.sqrt(1/e)"
   ]
  },
  {
   "cell_type": "code",
   "execution_count": null,
   "metadata": {
    "collapsed": false
   },
   "outputs": [],
   "source": [
    "plt.scatter(E, 100*res_ces, color='red', label='CES')\n",
    "plt.scatter(E, 100*res_s1, color='blue', label='S1')\n",
    "plt.scatter(E, 100*res_s2, color='green', label='S2')\n",
    "\n",
    "popt_err_s1, _ = scipy.optimize.curve_fit(err_v_e, energies,  100*res_s1, p0=[10, 200])\n",
    "popt_err_s2, _ = scipy.optimize.curve_fit(err_v_e, energies,  100*res_s2, p0=[10, 200])\n",
    "\n",
    "x_plot = np.linspace(0, 1200, 100)\n",
    "# plt.plot(x_plot, err_v_e(x_plot, 10, 200))\n",
    "plt.plot(x_plot, err_v_e(x_plot, *popt_err_s1))\n",
    "plt.plot(x_plot, err_v_e(x_plot, *popt_err_s2))\n",
    "\n",
    "\n",
    "\n",
    "\n",
    "plt.xlabel('Energy (keV)')\n",
    "plt.ylabel('Energy resolution (%)')\n",
    "plt.ylim(0,20)\n",
    "plt.xlim(0, 1200)\n",
    "plt.legend(loc='lower left')"
   ]
  },
  {
   "cell_type": "code",
   "execution_count": null,
   "metadata": {
    "collapsed": true
   },
   "outputs": [],
   "source": [
    "def get_compton_energy(e):\n",
    "    '''\n",
    "    \n",
    "    https://en.wikipedia.org/wiki/Compton_edge (but I also checked other places, don't worry)\n",
    "    '''\n",
    "    return e*(1-1/(1+(2*e/511.)))"
   ]
  },
  {
   "cell_type": "code",
   "execution_count": null,
   "metadata": {
    "collapsed": false
   },
   "outputs": [],
   "source": [
    "get_compton_energy(1332.5)"
   ]
  },
  {
   "cell_type": "code",
   "execution_count": null,
   "metadata": {
    "collapsed": false
   },
   "outputs": [],
   "source": [
    "err_v_e(1118, *popt_err_s2)"
   ]
  },
  {
   "cell_type": "code",
   "execution_count": null,
   "metadata": {
    "collapsed": false
   },
   "outputs": [],
   "source": [
    "popt_err_s1"
   ]
  },
  {
   "cell_type": "code",
   "execution_count": null,
   "metadata": {
    "collapsed": true
   },
   "outputs": [],
   "source": []
  }
 ],
 "metadata": {
  "kernelspec": {
   "display_name": "Python 3",
   "language": "python",
   "name": "python3"
  },
  "language_info": {
   "codemirror_mode": {
    "name": "ipython",
    "version": 3
   },
   "file_extension": ".py",
   "mimetype": "text/x-python",
   "name": "python",
   "nbconvert_exporter": "python",
   "pygments_lexer": "ipython3",
   "version": "3.4.5"
  },
  "latex_envs": {
   "bibliofile": "biblio.bib",
   "cite_by": "apalike",
   "current_citInitial": 1,
   "eqLabelWithNumbers": true,
   "eqNumInitial": 0
  }
 },
 "nbformat": 4,
 "nbformat_minor": 0
}
