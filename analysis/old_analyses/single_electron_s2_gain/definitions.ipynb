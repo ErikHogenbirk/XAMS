{
 "cells": [
  {
   "cell_type": "markdown",
   "metadata": {},
   "source": [
    "# Definitions for single-electron S2 gain analysis"
   ]
  },
  {
   "cell_type": "markdown",
   "metadata": {},
   "source": [
    "### Imports"
   ]
  },
  {
   "cell_type": "code",
   "execution_count": null,
   "metadata": {
    "collapsed": true
   },
   "outputs": [],
   "source": [
    "import numpy as np\n",
    "import hax\n",
    "\n",
    "from hax.minitrees import MultipleRowExtractor\n",
    "from hax.treemakers.peak_treemakers import PeakExtractor"
   ]
  },
  {
   "cell_type": "markdown",
   "metadata": {},
   "source": [
    "### Settings"
   ]
  },
  {
   "cell_type": "code",
   "execution_count": 3,
   "metadata": {
    "collapsed": false
   },
   "outputs": [
    {
     "name": "stdout",
     "output_type": "stream",
     "text": [
      "Warning: set stop_after to %d (increase treemaker version to actually implement.)\n"
     ]
    }
   ],
   "source": [
    "stop_after = 10e3\n",
    "print('Warning: set stop_after to %d (increase treemaker version to actually implement.)' % stop_after)"
   ]
  },
  {
   "cell_type": "markdown",
   "metadata": {},
   "source": [
    "## Treemakers"
   ]
  },
  {
   "cell_type": "markdown",
   "metadata": {},
   "source": [
    "### Hits"
   ]
  },
  {
   "cell_type": "code",
   "execution_count": 2,
   "metadata": {
    "collapsed": false
   },
   "outputs": [],
   "source": [
    "class HitExtractor(MultipleRowExtractor):\n",
    "    \"\"\"\n",
    "    Extract hit properties.\n",
    "    \"\"\"\n",
    "    \n",
    "    # Default branch selection is EVERYTHING in peaks, overwrite for speed increase\n",
    "    # Don't forget to include branches used in cuts\n",
    "    extra_branches = ['peaks.*', 'hits.*']\n",
    "    hit_fields = ['area']\n",
    "    event_cut_list = []\n",
    "    peak_cut_list = []\n",
    "    event_cut_string = 'True'\n",
    "    peak_cut_string = 'True'\n",
    "    stop_after = np.inf\n",
    "\n",
    "    # Hacks for want of string support :'(\n",
    "    peaktypes = dict(lone_hit=0, s1=1, s2=2, unknown=3)\n",
    "    detectors = dict(tpc=0, veto=1, sum_wv=2, busy_on=3, busy_off=4)\n",
    "    \n",
    "    def __init__(self, *args, **kwargs):\n",
    "        MultipleRowExtractor.__init__(self, *args, **kwargs)\n",
    "        self.event_cut_string = self.build_cut_string(self.event_cut_list, 'event')\n",
    "        self.peak_cut_string = self.build_cut_string(self.peak_cut_list, 'peak')          \n",
    "    \n",
    "    def build_cut_string(self, cut_list, obj):\n",
    "        '''\n",
    "        Build a string of cuts that can be applied using eval() function.\n",
    "        '''\n",
    "        # If no cut is specified, always pass cut\n",
    "        if len(cut_list) == 0:\n",
    "            return 'True'\n",
    "        # Check if user entered range_50p_area, since this won't work\n",
    "        cut_list = [cut.replace('range_50p_area','range_area_decile[5]') for cut in cut_list]\n",
    "\n",
    "        cut_string = '('\n",
    "        for cut in cut_list[:-1]:\n",
    "            cut_string += obj + '.' + cut + ') & ('\n",
    "        cut_string += obj + '.' + cut_list[-1] + ')'\n",
    "        return cut_string\n",
    "\n",
    "    def extract_data(self, event):\n",
    "        if event.event_number == self.stop_after:\n",
    "            raise hax.paxroot.StopEventLoop()\n",
    "            \n",
    "        # Holds data for all hits in event\n",
    "        hit_data = []\n",
    "        # Check if event passes cut\n",
    "        if eval(self.build_cut_string(self.event_cut_list, 'event')):\n",
    "            # Loop over peaks and check if peak passes cut\n",
    "            for peak in event.peaks:\n",
    "                if eval(self.peak_cut_string):\n",
    "                    for hit in peak.hits:\n",
    "                        _current_hit = {}\n",
    "                        for field in self.hit_fields:\n",
    "                            _x = getattr(hit, field)\n",
    "                            _current_hit[field] = _x\n",
    "                            # The event number is necessary to join to event properties\n",
    "                            _current_hit['event_number'] = event.event_number                  \n",
    "                        hit_data.append(_current_hit)\n",
    "\n",
    "            return hit_data\n",
    "        else:\n",
    "            # If event does not pass cut return empty list\n",
    "            return []\n"
   ]
  },
  {
   "cell_type": "markdown",
   "metadata": {
    "collapsed": true
   },
   "source": [
    "### Peaks"
   ]
  },
  {
   "cell_type": "code",
   "execution_count": null,
   "metadata": {
    "collapsed": true
   },
   "outputs": [],
   "source": [
    "class XAMSPeaks(PeakExtractor):\n",
    "    __version__ = '0.0.7'\n",
    "    stop_after = stop_after\n",
    "    peak_cut_list = ['detector == \"tpc\"', 'type !=\"lone_hit\"']\n",
    "    peak_fields = ['area', 'range_50p_area', 'center_time', 'n_hits']"
   ]
  },
  {
   "cell_type": "markdown",
   "metadata": {},
   "source": [
    "### Pulses"
   ]
  },
  {
   "cell_type": "code",
   "execution_count": null,
   "metadata": {
    "collapsed": true
   },
   "outputs": [],
   "source": [
    "class PulseExtractor(MultipleRowExtractor):\n",
    "    '''\n",
    "    Extract pulse properties of all pulses that are in dataframe.\n",
    "    Requires 'found in pulse' property.\n",
    "    \n",
    "    '''\n",
    "    extra_branches = ['pulses.*']\n",
    "    df = None\n",
    "    stop_after = np.inf\n",
    "    pulse_properties = []\n",
    "    \n",
    "    def __init__(self, *args, **kwargs):\n",
    "        MultipleRowExtractor.__init__(self, *args, **kwargs)\n",
    "        return None\n",
    "    \n",
    "    \n",
    "    def extract_data(self, event):\n",
    "        if event.event_number == self.stop_after:\n",
    "            raise hax.paxroot.StopEventLoop()\n",
    "        pulses = event.pulses\n",
    "        to_select_this_event = self.df[self.df['event_number'] == event.event_number]['found_in_pulse']\n",
    "        if len(to_select_this_event) == 0:\n",
    "            return []\n",
    "        \n",
    "        pulse_data = []\n",
    "       \n",
    "        for i, pulse in enumerate(pulses):\n",
    "            if i in to_select_this_event.values:            \n",
    "                _current_pulse = {}\n",
    "                _current_pulse['found_in_pulse'] = i\n",
    "                for prop in self.pulse_properties:\n",
    "                    _current_pulse[prop] = getattr(pulse, prop)\n",
    "                    _current_pulse['event_number'] = event.event_number                  \n",
    "                pulse_data.append(_current_pulse)\n",
    "                \n",
    "        return pulse_data"
   ]
  },
  {
   "cell_type": "markdown",
   "metadata": {},
   "source": [
    "## Functions"
   ]
  },
  {
   "cell_type": "markdown",
   "metadata": {},
   "source": [
    "### Derived properties"
   ]
  },
  {
   "cell_type": "code",
   "execution_count": 1,
   "metadata": {
    "collapsed": true
   },
   "outputs": [],
   "source": [
    "def add_s1s2_properties(d_p):\n",
    "    '''\n",
    "    Adds properties to peaks dataframe, in particular:\n",
    "    s1 time\n",
    "    s2 time\n",
    "    time since s1\n",
    "    time since s2\n",
    "    \n",
    "    Requires area of peaks and center_time to be defined.\n",
    "    '''\n",
    "    s1_times = []\n",
    "    s2_times = []\n",
    "    for event in np.unique(d_p['event_number']):\n",
    "        peaks_this_event = d_p[d_p['event_number'] == event]\n",
    "        s1 = peaks_this_event[peaks_this_event['area'] == peaks_this_event['s1']]\n",
    "        s2 = peaks_this_event[peaks_this_event['area'] == peaks_this_event['s2']]\n",
    "        assert len(s1) == 1\n",
    "        assert len(s2) == 1\n",
    "       \n",
    "        s1_times.append(np.ones(len(peaks_this_event), float) * s1['center_time'].values[0])\n",
    "        s2_times.append(np.ones(len(peaks_this_event), float) * s2['center_time'].values[0])\n",
    "\n",
    "    d_p['s1_center_time'] = np.concatenate(s1_times)\n",
    "    d_p['s2_center_time'] = np.concatenate(s2_times)\n",
    "    \n",
    "    d_p['time_since_s1'] = d_p['center_time'] - d_p['s1_center_time']\n",
    "    d_p['time_since_s2'] = d_p['center_time'] - d_p['s2_center_time']\n",
    "\n",
    "    return d_p"
   ]
  },
  {
   "cell_type": "code",
   "execution_count": null,
   "metadata": {
    "collapsed": true
   },
   "outputs": [],
   "source": []
  }
 ],
 "metadata": {
  "kernelspec": {
   "display_name": "Python 3",
   "language": "python",
   "name": "python3"
  },
  "language_info": {
   "codemirror_mode": {
    "name": "ipython",
    "version": 3
   },
   "file_extension": ".py",
   "mimetype": "text/x-python",
   "name": "python",
   "nbconvert_exporter": "python",
   "pygments_lexer": "ipython3",
   "version": "3.4.5"
  },
  "latex_envs": {
   "bibliofile": "biblio.bib",
   "cite_by": "apalike",
   "current_citInitial": 1,
   "eqLabelWithNumbers": true,
   "eqNumInitial": 0
  }
 },
 "nbformat": 4,
 "nbformat_minor": 0
}
