{
 "cells": [
  {
   "cell_type": "code",
   "execution_count": 1,
   "metadata": {
    "collapsed": true
   },
   "outputs": [],
   "source": [
    "import numpy as np"
   ]
  },
  {
   "cell_type": "code",
   "execution_count": 1,
   "metadata": {
    "collapsed": true
   },
   "outputs": [],
   "source": [
    "setfits = {'170201PMT1': {'a': 21.224314613249888,\n",
    "  'aerr': 0.4030051437440344,\n",
    "  'd': 53.108714558044085,\n",
    "  'derr': 1.0821335352911126},\n",
    " '170201PMT2': {'a': 15.74889181593406,\n",
    "  'aerr': 0.25679834384355804,\n",
    "  'd': 47.554300980649138,\n",
    "  'derr': 1.5505761322476683},\n",
    " '170313PMT1': {'a': 19.022565970971623,\n",
    "  'aerr': 0.34618678311692352,\n",
    "  'd': 51.971637725790139,\n",
    "  'derr': 1.1097431799787225},\n",
    " '170313PMT2': {'a': 9.7919666086832748,\n",
    "  'aerr': 0.13758541647647685,\n",
    "  'd': 47.917798733190516,\n",
    "  'derr': 0.47316378534303566}}"
   ]
  },
  {
   "cell_type": "code",
   "execution_count": 2,
   "metadata": {
    "collapsed": true
   },
   "outputs": [],
   "source": [
    "def gainexp(x, a, d):\n",
    "        return a*2**((x-1000)/d)\n",
    "    \n",
    "def gainexperr(x, a, aerr, d, derr):\n",
    "        return 2**((x-1000)/d)*np.sqrt((a*np.log(2)*(x-1000)*d**(-2)*derr)**2 + aerr**2)\n",
    "\n",
    "def gainextrapolator(set_name = '', voltage = ''):\n",
    "        a    = setfits[set_name]['a']\n",
    "        aerr = setfits[set_name]['aerr']\n",
    "        d    = setfits[set_name]['d']\n",
    "        derr = setfits[set_name]['derr']\n",
    "        x = voltage\n",
    "        gain = gainexp(x, a, d)\n",
    "        gainerr = gainexperr(x, a, aerr, d, derr)\n",
    "        print(\"Extrapolated gain is \" + str(round(gain, 3)) + \" +-\" + str(round(gainerr, 3)))\n",
    "        return "
   ]
  },
  {
   "cell_type": "code",
   "execution_count": 5,
   "metadata": {
    "collapsed": false
   },
   "outputs": [
    {
     "name": "stdout",
     "output_type": "stream",
     "text": [
      "Extrapolated gain is 0.423 +-0.035\n",
      "Extrapolated gain is 0.412 +-0.049\n"
     ]
    }
   ],
   "source": [
    "# Pre cooling gain extrapolation\n",
    "gainextrapolator(set_name = '170201PMT1', voltage = 700)\n",
    "gainextrapolator(set_name = '170201PMT2', voltage = 750)"
   ]
  },
  {
   "cell_type": "code",
   "execution_count": null,
   "metadata": {
    "collapsed": true
   },
   "outputs": [],
   "source": []
  },
  {
   "cell_type": "code",
   "execution_count": 6,
   "metadata": {
    "collapsed": false
   },
   "outputs": [
    {
     "name": "stdout",
     "output_type": "stream",
     "text": [
      "Extrapolated gain is 0.348 +-0.03\n",
      "Extrapolated gain is 0.263 +-0.01\n"
     ]
    }
   ],
   "source": [
    "# Post cooling gain extrapolation\n",
    "gainextrapolator(set_name = '170313PMT1', voltage = 700)\n",
    "gainextrapolator(set_name = '170313PMT2', voltage = 750)"
   ]
  },
  {
   "cell_type": "code",
   "execution_count": 7,
   "metadata": {
    "collapsed": false
   },
   "outputs": [
    {
     "name": "stdout",
     "output_type": "stream",
     "text": [
      "Extrapolated gain is 0.418 +-0.066\n",
      "Extrapolated gain is 0.257 +-0.013\n"
     ]
    }
   ],
   "source": [
    "gainextrapolator(set_name = '170313PMT1old', voltage = 700)\n",
    "gainextrapolator(set_name = '170313PMT2old', voltage = 750)"
   ]
  },
  {
   "cell_type": "code",
   "execution_count": 9,
   "metadata": {
    "collapsed": false
   },
   "outputs": [
    {
     "data": {
      "text/plain": [
       "1.0233463035019454"
      ]
     },
     "execution_count": 9,
     "metadata": {},
     "output_type": "execute_result"
    }
   ],
   "source": [
    "0.263/ 0.257"
   ]
  },
  {
   "cell_type": "code",
   "execution_count": 10,
   "metadata": {
    "collapsed": false
   },
   "outputs": [
    {
     "data": {
      "text/plain": [
       "0.8325358851674641"
      ]
     },
     "execution_count": 10,
     "metadata": {},
     "output_type": "execute_result"
    }
   ],
   "source": [
    "348/418"
   ]
  },
  {
   "cell_type": "code",
   "execution_count": null,
   "metadata": {
    "collapsed": true
   },
   "outputs": [],
   "source": []
  }
 ],
 "metadata": {
  "kernelspec": {
   "display_name": "Python 3",
   "language": "python",
   "name": "python3"
  },
  "language_info": {
   "codemirror_mode": {
    "name": "ipython",
    "version": 3
   },
   "file_extension": ".py",
   "mimetype": "text/x-python",
   "name": "python",
   "nbconvert_exporter": "python",
   "pygments_lexer": "ipython3",
   "version": "3.4.5"
  },
  "latex_envs": {
   "bibliofile": "biblio.bib",
   "cite_by": "apalike",
   "current_citInitial": 1,
   "eqLabelWithNumbers": true,
   "eqNumInitial": 0
  }
 },
 "nbformat": 4,
 "nbformat_minor": 0
}
