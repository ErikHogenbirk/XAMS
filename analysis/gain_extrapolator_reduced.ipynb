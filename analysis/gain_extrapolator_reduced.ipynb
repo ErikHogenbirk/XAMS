{
 "cells": [
  {
   "cell_type": "code",
   "execution_count": 1,
   "metadata": {
    "collapsed": true
   },
   "outputs": [],
   "source": [
    "import numpy as np"
   ]
  },
  {
   "cell_type": "code",
   "execution_count": 1,
   "metadata": {
    "collapsed": true
   },
   "outputs": [],
   "source": [
    "# Values DEPRICATED >  17/5/2017\n",
    "setfits = {'170201PMT1': {'a': 21.580428182131726,\n",
    "  'aerr': 0.52889540892422737,\n",
    "  'd': 52.477129679468284,\n",
    "  'derr': 1.2481502872793866},\n",
    " '170201PMT2': {'a': 15.938091117290694,\n",
    "  'aerr': 0.27938061439879242,\n",
    "  'd': 48.253258795950572,\n",
    "  'derr': 1.5683314481684414},\n",
    " '170313PMT1': {'a': 19.005679895558796,\n",
    "  'aerr': 0.389806357235009,\n",
    "  'd': 54.461222131994887,\n",
    "  'derr': 2.2487908687898255},\n",
    " '170313PMT2': {'a': 9.6754895623321318,\n",
    "  'aerr': 0.088314332839852155,\n",
    "  'd': 47.742894914431162,\n",
    "  'derr': 0.67560628377018328}}"
   ]
  },
  {
   "cell_type": "code",
   "execution_count": 2,
   "metadata": {
    "collapsed": true
   },
   "outputs": [],
   "source": [
    "def gainexp(x, a, d):\n",
    "        return a*2**((x-1000)/d)\n",
    "    \n",
    "def gainexperr(x, a, aerr, d, derr):\n",
    "        return 2**((x-1000)/d)*np.sqrt((a*np.log(2)*(x-1000)*d**(-2)*derr)**2 + aerr**2)\n",
    "\n",
    "def gainextrapolator(set_name = '', voltage = ''):\n",
    "        a    = setfits[set_name]['a']\n",
    "        aerr = setfits[set_name]['aerr']\n",
    "        d    = setfits[set_name]['d']\n",
    "        derr = setfits[set_name]['derr']\n",
    "        x = voltage\n",
    "        gain = gainexp(x, a, d)\n",
    "        gainerr = gainexperr(x, a, aerr, d, derr)\n",
    "        print(\"Extrapolated gain is \" + str(round(gain, 3)) + \" +-\" + str(round(gainerr, 3)))\n",
    "        return "
   ]
  },
  {
   "cell_type": "code",
   "execution_count": 3,
   "metadata": {
    "collapsed": false
   },
   "outputs": [
    {
     "name": "stdout",
     "output_type": "stream",
     "text": [
      "Extrapolated gain is 0.295 +-0.031\n",
      "Extrapolated gain is 0.307 +-0.04\n"
     ]
    }
   ],
   "source": [
    "# Pre cooling gain extrapolation\n",
    "gainextrapolator(set_name = '170201PMT1', voltage = 675)\n",
    "gainextrapolator(set_name = '170201PMT2', voltage = 725)"
   ]
  },
  {
   "cell_type": "code",
   "execution_count": 4,
   "metadata": {
    "collapsed": false
   },
   "outputs": [
    {
     "name": "stdout",
     "output_type": "stream",
     "text": [
      "Extrapolated gain is 0.304 +-0.052\n",
      "Extrapolated gain is 0.179 +-0.01\n"
     ]
    }
   ],
   "source": [
    "# Post cooling gain extrapolation\n",
    "gainextrapolator(set_name = '170313PMT1', voltage = 675)\n",
    "gainextrapolator(set_name = '170313PMT2', voltage = 725)"
   ]
  },
  {
   "cell_type": "code",
   "execution_count": null,
   "metadata": {
    "collapsed": true
   },
   "outputs": [],
   "source": []
  }
 ],
 "metadata": {
  "kernelspec": {
   "display_name": "Python 3",
   "language": "python",
   "name": "python3"
  },
  "language_info": {
   "codemirror_mode": {
    "name": "ipython",
    "version": 3
   },
   "file_extension": ".py",
   "mimetype": "text/x-python",
   "name": "python",
   "nbconvert_exporter": "python",
   "pygments_lexer": "ipython3",
   "version": "3.4.5"
  },
  "latex_envs": {
   "bibliofile": "biblio.bib",
   "cite_by": "apalike",
   "current_citInitial": 1,
   "eqLabelWithNumbers": true,
   "eqNumInitial": 0
  }
 },
 "nbformat": 4,
 "nbformat_minor": 0
}
