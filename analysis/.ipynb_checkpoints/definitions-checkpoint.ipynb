{
 "cells": [
  {
   "cell_type": "code",
   "execution_count": null,
   "metadata": {
    "collapsed": true
   },
   "outputs": [],
   "source": [
    "import hax\n",
    "from hax import cuts\n",
    "import os\n",
    "import pandas as pd\n",
    "import matplotlib.pyplot as plt\n",
    "import numpy as np\n",
    "import scipy\n",
    "\n",
    "import matplotlib as mpl\n",
    "from copy import deepcopy\n",
    "\n",
    "%matplotlib inline\n",
    "from matplotlib.colors import LogNorm\n",
    "plt.rc('font', size=18)                         # Use big fonts...\n",
    "plt.rcParams['figure.figsize'] = (10.0, 7.0)    # ... and big plots\n",
    "# Colormaps\n",
    "try:\n",
    "    plt.set_cmap('viridis')\n",
    "except:\n",
    "    print(\"Colormap viridis not found. Using default map instead (sorry Chris...)\")\n",
    "plt.close()\n",
    "import time\n",
    "import datetime"
   ]
  },
  {
   "cell_type": "code",
   "execution_count": null,
   "metadata": {
    "collapsed": true
   },
   "outputs": [],
   "source": [
    "def get_run_list(path, start_at=None, stop_at=None):\n",
    "    '''\n",
    "    Get a list of all runs between two datasets (inclusive) in a folder.\n",
    "    '''\n",
    "    file_list = np.sort(os.listdir(path))\n",
    "    \n",
    "    file_list = [file[:-5] for file in file_list if file[-5:]=='.root']\n",
    "    \n",
    "    if start_at:\n",
    "        start_index = np.where(np.array(file_list) == start_at)[0][0]\n",
    "        file_list = file_list[start_index:]\n",
    "    if stop_at:\n",
    "        stop_index = np.where(np.array(file_list) == stop_at)[0][0]\n",
    "        file_list = file_list[:stop_index+1]\n",
    "    print('Run list contains %d files' % len(file_list))\n",
    "    return file_list"
   ]
  },
  {
   "cell_type": "code",
   "execution_count": 1,
   "metadata": {
    "collapsed": true
   },
   "outputs": [],
   "source": [
    "def get_time(d, run_names):    \n",
    "    '''\n",
    "    Get the time of event in old data (pre-fix)\n",
    "    '''\n",
    "    next_run_indices = np.where(np.diff(d['event_number'].values) < 0)[0]\n",
    "    def num(x):\n",
    "        return len([a for a in next_run_indices if a<x])\n",
    "    run_numbers = [num(r) for r in d.index]\n",
    "    d['run_number'] = run_numbers\n",
    "\n",
    "    all_timestamps = []\n",
    "    for run_number, run_name in zip(np.unique(run_numbers), run_names):\n",
    "        d_sub = d[d['run_number']==run_number]\n",
    "        all_timestamps.append(\n",
    "            ((d_sub['event_time'].values - d_sub['event_time'].iloc[0]) * 4) * 1e-9 +\n",
    "            time.mktime(datetime.datetime.strptime(run_name, \"%y%m%d_%H%M%S\").timetuple()))\n",
    "\n",
    "    d['unix_time'] = np.concatenate(all_timestamps)\n",
    "    d['time_since_start'] = d['unix_time'] - d['unix_time'].iloc[0]\n",
    "    return d"
   ]
  },
  {
   "cell_type": "code",
   "execution_count": null,
   "metadata": {
    "collapsed": true
   },
   "outputs": [],
   "source": [
    "def draw_box(x, y, **kwargs):\n",
    "    \"\"\"Draw rectangle, given x-y boundary tuples\"\"\"\n",
    "    # Arcane syntax of the week: matplotlib's Rectangle...\n",
    "    plt.gca().add_patch(mpl.patches.Rectangle(\n",
    "        (x[0], y[0]), x[1] - x[0], y[1] - y[0], facecolor='none', **kwargs))\n",
    "    "
   ]
  },
  {
   "cell_type": "code",
   "execution_count": null,
   "metadata": {
    "collapsed": true
   },
   "outputs": [],
   "source": [
    "def get_trend(x, y, x_range, bins, mode='median', pct=None):\n",
    "    '''\n",
    "    Get a 1D line going through a 2D histogram.\n",
    "    First bins in x, then gets mean, median or percentile in that bin for the y-values.\n",
    "    '''\n",
    "    bin_edges = np.linspace(x_range[0], x_range[1], bins+1)\n",
    "    bin_width = (x_range[1] - x_range[0])/bins\n",
    "    left_edges = bin_edges[:-1]\n",
    "    right_edges = bin_edges[1:]\n",
    "    bin_centers = 0.5*(left_edges + right_edges)\n",
    "    \n",
    "    y_list = []\n",
    "    for l, r in zip(left_edges, right_edges):\n",
    "        # Take x bin\n",
    "        y_sel = y[(x >= l) & (x < r)]\n",
    "        \n",
    "        # Check if it contains data at all\n",
    "        if len(y_sel) == 0:\n",
    "            _y = float('nan')\n",
    "            print('Warning: getting empty slice, I will return NaN...')\n",
    "            y_list.append(_y)\n",
    "            continue\n",
    "        \n",
    "        if mode=='median':\n",
    "            _y = np.median(y_sel)\n",
    "        elif mode=='mean':\n",
    "            _y = np.mean(y_sel)\n",
    "        elif mode=='percentile':\n",
    "            if pct is not None:\n",
    "                _y = np.percentile(y_sel, pct)\n",
    "            else:\n",
    "                raise SyntaxError('Enter a percentile!')\n",
    "        else:\n",
    "            raise NotImplementedError('Enter median, mean or percentile, you entered this: %s' % mode)\n",
    "            \n",
    "        y_list.append(_y)\n",
    "    \n",
    "    y_list = np.array(y_list)\n",
    "    return bin_centers, y_list"
   ]
  },
  {
   "cell_type": "code",
   "execution_count": null,
   "metadata": {
    "collapsed": true
   },
   "outputs": [],
   "source": [
    "def my_interp(x, y, kind='quadratic'):\n",
    "    '''\n",
    "    Interpolate data and extend beyond bounds by assuming rightmost and leftmost datapoint.\n",
    "    '''\n",
    "    f = scipy.interpolate.interp1d(x, y, kind=kind, fill_value=(y[0], y[-1]), bounds_error=False)\n",
    "    return f"
   ]
  }
 ],
 "metadata": {
  "kernelspec": {
   "display_name": "Python 3",
   "language": "python",
   "name": "python3"
  },
  "language_info": {
   "codemirror_mode": {
    "name": "ipython",
    "version": 3
   },
   "file_extension": ".py",
   "mimetype": "text/x-python",
   "name": "python",
   "nbconvert_exporter": "python",
   "pygments_lexer": "ipython3",
   "version": "3.4.5"
  },
  "latex_envs": {
   "bibliofile": "biblio.bib",
   "cite_by": "apalike",
   "current_citInitial": 1,
   "eqLabelWithNumbers": true,
   "eqNumInitial": 0
  }
 },
 "nbformat": 4,
 "nbformat_minor": 2
}
