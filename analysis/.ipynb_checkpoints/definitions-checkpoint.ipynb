{
 "cells": [
  {
   "cell_type": "markdown",
   "metadata": {},
   "source": [
    "### General imports"
   ]
  },
  {
   "cell_type": "code",
   "execution_count": 31,
   "metadata": {
    "collapsed": false
   },
   "outputs": [
    {
     "name": "stdout",
     "output_type": "stream",
     "text": [
      "[1.0, 1.0, 1.0, 1.0]\n",
      "(0.26700400000000002, 0.0048739999999999999, 0.32941500000000001, 1.0)\n"
     ]
    }
   ],
   "source": [
    "import hax\n",
    "from hax import cuts\n",
    "import os\n",
    "import pandas as pd\n",
    "import matplotlib.pyplot as plt\n",
    "import numpy as np\n",
    "import scipy\n",
    "import pickle\n",
    "\n",
    "import matplotlib as mpl\n",
    "from copy import deepcopy\n",
    "\n",
    "%matplotlib inline\n",
    "from matplotlib.colors import LogNorm\n",
    "plt.rc('font', size=18)                         # Use big fonts...\n",
    "plt.rcParams['figure.figsize'] = (10.0, 7.0)    # ... and big plots\n",
    "# Colormaps\n",
    "try:\n",
    "    # These tree lines to set backdrop colour to white \n",
    "    # (https://stackoverflow.com/questions/34023932/mollview-use-matplotlib-colormaps-and-change-background-color)\n",
    "    from pylab import cm\n",
    "    cmap = cm.viridis\n",
    "    cmap.set_under('w')\n",
    "    plt.set_cmap(cmap)\n",
    "except:\n",
    "    print(\"Colormap viridis not found. Using default map instead (sorry Chris...)\")\n",
    "plt.close()\n",
    "import time\n",
    "import datetime"
   ]
  },
  {
   "cell_type": "code",
   "execution_count": null,
   "metadata": {
    "collapsed": true
   },
   "outputs": [],
   "source": [
    "def get_run_list(path, start_at=None, stop_at=None):\n",
    "    '''\n",
    "    Get a list of all runs between two datasets (inclusive) in a folder.\n",
    "    '''\n",
    "    file_list = np.sort(os.listdir(path))\n",
    "    \n",
    "    file_list = [file[:-5] for file in file_list if file[-5:]=='.root']\n",
    "    \n",
    "    if start_at:\n",
    "        start_index = np.where(np.array(file_list) == start_at)[0][0]\n",
    "        file_list = file_list[start_index:]\n",
    "    if stop_at:\n",
    "        stop_index = np.where(np.array(file_list) == stop_at)[0][0]\n",
    "        file_list = file_list[:stop_index+1]\n",
    "    print('Run list contains %d files' % len(file_list))\n",
    "    return file_list"
   ]
  },
  {
   "cell_type": "code",
   "execution_count": 1,
   "metadata": {
    "collapsed": true
   },
   "outputs": [],
   "source": [
    "def get_time(d, run_names):    \n",
    "    '''\n",
    "    Get the time of event in old data (pre-fix)\n",
    "    '''\n",
    "    next_run_indices = np.where(np.diff(d['event_number'].values) < 0)[0]\n",
    "    def num(x):\n",
    "        return len([a for a in next_run_indices if a<x])\n",
    "    run_numbers = [num(r) for r in d.index]\n",
    "    d['run_number'] = run_numbers\n",
    "\n",
    "    all_timestamps = []\n",
    "    for run_number, run_name in zip(np.unique(run_numbers), run_names):\n",
    "        d_sub = d[d['run_number']==run_number]\n",
    "        all_timestamps.append(\n",
    "            ((d_sub['event_time'].values - d_sub['event_time'].iloc[0]) * 4) * 1e-9 +\n",
    "            time.mktime(datetime.datetime.strptime(run_name, \"%y%m%d_%H%M%S\").timetuple()))\n",
    "\n",
    "    d['unix_time'] = np.concatenate(all_timestamps)\n",
    "    d['time_since_start'] = d['unix_time'] - d['unix_time'].iloc[0]\n",
    "    return d"
   ]
  },
  {
   "cell_type": "code",
   "execution_count": null,
   "metadata": {
    "collapsed": true
   },
   "outputs": [],
   "source": [
    "def draw_box(x, y, **kwargs):\n",
    "    \"\"\"Draw rectangle, given x-y boundary tuples\"\"\"\n",
    "    # Arcane syntax of the week: matplotlib's Rectangle...\n",
    "    plt.gca().add_patch(mpl.patches.Rectangle(\n",
    "        (x[0], y[0]), x[1] - x[0], y[1] - y[0], facecolor='none', **kwargs))\n",
    "    "
   ]
  },
  {
   "cell_type": "code",
   "execution_count": null,
   "metadata": {
    "collapsed": true
   },
   "outputs": [],
   "source": [
    "def get_trend(x, y, x_range, bins, mode='median', pct=None):\n",
    "    '''\n",
    "    Get a 1D line going through a 2D histogram.\n",
    "    First bins in x, then gets mean, median or percentile in that bin for the y-values.\n",
    "    '''\n",
    "    bin_edges = np.linspace(x_range[0], x_range[1], bins+1)\n",
    "    bin_width = (x_range[1] - x_range[0])/bins\n",
    "    left_edges = bin_edges[:-1]\n",
    "    right_edges = bin_edges[1:]\n",
    "    bin_centers = 0.5*(left_edges + right_edges)\n",
    "    \n",
    "    y_list = []\n",
    "    for l, r in zip(left_edges, right_edges):\n",
    "        # Take x bin\n",
    "        y_sel = y[(x >= l) & (x < r)]\n",
    "        \n",
    "        # Check if it contains data at all\n",
    "        if len(y_sel) == 0:\n",
    "            _y = float('nan')\n",
    "            print('Warning: getting empty slice, I will return NaN...')\n",
    "            y_list.append(_y)\n",
    "            continue\n",
    "        \n",
    "        if mode=='median':\n",
    "            _y = np.median(y_sel)\n",
    "        elif mode=='mean':\n",
    "            _y = np.mean(y_sel)\n",
    "        elif mode=='percentile':\n",
    "            if pct is not None:\n",
    "                _y = np.percentile(y_sel, pct)\n",
    "            else:\n",
    "                raise SyntaxError('Enter a percentile!')\n",
    "        else:\n",
    "            raise NotImplementedError('Enter median, mean or percentile, you entered this: %s' % mode)\n",
    "            \n",
    "        y_list.append(_y)\n",
    "    \n",
    "    y_list = np.array(y_list)\n",
    "    return bin_centers, y_list"
   ]
  },
  {
   "cell_type": "code",
   "execution_count": null,
   "metadata": {
    "collapsed": true
   },
   "outputs": [],
   "source": [
    "def my_interp(x, y, kind='quadratic'):\n",
    "    '''\n",
    "    Interpolate data and extend beyond bounds by assuming rightmost and leftmost datapoint.\n",
    "    '''\n",
    "    f = scipy.interpolate.interp1d(x, y, kind=kind, fill_value=(y[0], y[-1]), bounds_error=False)\n",
    "    return f"
   ]
  },
  {
   "cell_type": "markdown",
   "metadata": {},
   "source": [
    "### Fitting 2D"
   ]
  },
  {
   "cell_type": "code",
   "execution_count": null,
   "metadata": {
    "collapsed": true
   },
   "outputs": [],
   "source": [
    "def build_fit_lists(x, y, x_range, y_range, x_bins, y_bins):\n",
    "    x_bin_edges = np.linspace(x_range[0], x_range[1], x_bins+1)\n",
    "    y_bin_edges = np.linspace(y_range[0], y_range[1], y_bins+1)\n",
    "    \n",
    "    \n",
    "    # Loop over all bins first in x then in y and count the number of entries in that bin\n",
    "    # Slightly inefficient code\n",
    "    counts = []\n",
    "    for left_y, right_y in zip(y_bin_edges[:-1], y_bin_edges[1:]):\n",
    "        x_sub = x[(y >= left_y) & (y < right_y)]\n",
    "        for left_x, right_x in zip(x_bin_edges[:-1], x_bin_edges[1:]):\n",
    "            counts.append(sum((x_sub >= left_x) & (x_sub < right_x)))\n",
    "    \n",
    "    \n",
    "    \n",
    "    x_list = [0.5*(left_x + right_x)\n",
    "              for left_y, right_y in zip(y_bin_edges[:-1], y_bin_edges[1:])\n",
    "              for left_x, right_x in zip(x_bin_edges[:-1], x_bin_edges[1:])\n",
    "              ]\n",
    "    y_list = [0.5*(left_y + right_y)\n",
    "              for left_y, right_y in zip(y_bin_edges[:-1], y_bin_edges[1:])\n",
    "              for left_x, right_x in zip(x_bin_edges[:-1], x_bin_edges[1:])\n",
    "              ]\n",
    "    \n",
    "    return np.array(counts), np.array(x_list), np.array(y_list)"
   ]
  },
  {
   "cell_type": "code",
   "execution_count": null,
   "metadata": {
    "collapsed": true
   },
   "outputs": [],
   "source": [
    "def plot2d(f, params, x_range, y_range, x_step, y_step, **kwargs):\n",
    "    '''\n",
    "    Plot contours.\n",
    "    '''\n",
    "    x1 = np.arange(start = x_range[0], stop = x_range[1], step=x_step)\n",
    "    y1 = np.arange(*y_range, step=y_step)\n",
    "\n",
    "    X, Y = np.meshgrid(x1, y1)\n",
    "    Z = f((X,Y), *params)\n",
    "    plt.contour(X, Y, Z, **kwargs)\n",
    "    return"
   ]
  },
  {
   "cell_type": "code",
   "execution_count": null,
   "metadata": {
    "collapsed": true
   },
   "outputs": [],
   "source": [
    "def twoD_Gaussian(xdata_tuple, amplitude, xo, yo, sigma_x, sigma_y, theta, offset):\n",
    "    (x, y) = xdata_tuple \n",
    "    xo = float(xo)\n",
    "    yo = float(yo)    \n",
    "    a = (np.cos(theta)**2)/(2*sigma_x**2) + (np.sin(theta)**2)/(2*sigma_y**2)\n",
    "    b = -(np.sin(2*theta))/(4*sigma_x**2) + (np.sin(2*theta))/(4*sigma_y**2)\n",
    "    c = (np.sin(theta)**2)/(2*sigma_x**2) + (np.cos(theta)**2)/(2*sigma_y**2)\n",
    "    g = offset + amplitude*np.exp( - (a*((x-xo)**2) + 2*b*(x-xo)*(y-yo) \n",
    "                            + c*((y-yo)**2)))\n",
    "    return g #.ravel()"
   ]
  },
  {
   "cell_type": "markdown",
   "metadata": {},
   "source": [
    "### Fitting functions"
   ]
  },
  {
   "cell_type": "code",
   "execution_count": 1,
   "metadata": {
    "collapsed": true
   },
   "outputs": [],
   "source": [
    "from iminuit import Minuit, describe"
   ]
  },
  {
   "cell_type": "markdown",
   "metadata": {},
   "source": [
    "Gaussian function, plus normalized one"
   ]
  },
  {
   "cell_type": "code",
   "execution_count": 1,
   "metadata": {
    "collapsed": true
   },
   "outputs": [],
   "source": [
    "def gaus(x, a0, mu, sigma):\n",
    "    return (a0 * np.exp(-(x-mu)**2/(sigma**2)))"
   ]
  },
  {
   "cell_type": "code",
   "execution_count": null,
   "metadata": {
    "collapsed": true
   },
   "outputs": [],
   "source": [
    "def gaus_norm(x, a0, mu, sigma, fit_range, int_step=1.):\n",
    "    # Normalize\n",
    "    n = 1/(np.average([gaus(x, a0, mu, sigma) for x in np.arange(*fit_range, step=int_step)]))\n",
    "    return n * gaus(x, a0, mu, sigma)"
   ]
  },
  {
   "cell_type": "markdown",
   "metadata": {},
   "source": [
    "Gaussians with linear background"
   ]
  },
  {
   "cell_type": "code",
   "execution_count": 2,
   "metadata": {
    "collapsed": true
   },
   "outputs": [],
   "source": [
    "def gaus_with_bg(x, a0, mu, sigma, off, slope):\n",
    "    return (a0 * np.exp(-(x-mu)**2/(sigma**2)) + off + slope * x)"
   ]
  },
  {
   "cell_type": "code",
   "execution_count": 3,
   "metadata": {
    "collapsed": true
   },
   "outputs": [],
   "source": [
    "def gaus_with_bg_norm(x, a0, mu, sigma, off, slope, fit_range, int_step=1.):\n",
    "    # Normalize\n",
    "    n = 1/(np.average([gaus_with_bg(x, a0, mu, sigma, off, slope) for x in np.arange(*fit_range, step=int_step)]))\n",
    "    return n * gaus_with_bg(x, a0, mu, sigma, off, slope)"
   ]
  },
  {
   "cell_type": "markdown",
   "metadata": {},
   "source": [
    "Fit functions"
   ]
  },
  {
   "cell_type": "code",
   "execution_count": 1,
   "metadata": {
    "collapsed": true
   },
   "outputs": [],
   "source": [
    "def fit_gaus_with_bg(e_list, fit_range, a0, mu, sigma, off, slope):\n",
    "    '''\n",
    "    Note: outdated!\n",
    "    '''\n",
    "    plt.hist(e_list, bins=200, histtype='step', range=(0, 1e3), label='Spectrum')\n",
    "    x_plot = np.linspace(0, 1000, 1000)\n",
    "    plt.plot(x_plot, gaus_with_bg(x_plot,a0, mu, sigma, off, slope), label='Guess')\n",
    "    for l in fit_range:\n",
    "        plt.axvline(l, color='black')\n",
    "#     plt.show()\n",
    "    \n",
    "    sel = (e_list < fit_range[1]) & (e_list > fit_range[0])\n",
    "    x_fit = e_list[sel]\n",
    "    \n",
    "    def f_to_minimize(a0, mu, sigma, off, slope):\n",
    "        p_list = gaus_with_bg_norm(x_fit, a0, mu, sigma, off, slope, fit_range=fit_range)\n",
    "        return -sum(np.log(p_list))\n",
    "    \n",
    "    print(f_to_minimize(a0=a0, mu=mu, sigma=sigma, off=off, slope=slope))\n",
    "    m=Minuit(f_to_minimize, a0=a0, mu=mu, sigma=sigma, off=off, slope=slope)\n",
    "    m.migrad()\n",
    "\n",
    "    normalization = len(x_fit) / sum(\n",
    "        [gaus_with_bg(_x, m.values['a0'], m.values['mu'],m.values['sigma'],m.values['off'], m.values['slope']) for _x in \n",
    "        np.arange(*fit_range, step=5)])\n",
    "\n",
    "    plt.plot(x_plot, normalization * gaus_with_bg(x_plot, m.values['a0'], m.values['mu'],m.values['sigma'],m.values['off'],\n",
    "                                  m.values['slope']), label='Fit')\n",
    "    plt.legend()\n",
    "    print(m.values['sigma'] / m.values['mu'])\n",
    "\n",
    "    return  [m.values['a0'], m.values['mu'],m.values['sigma'],m.values['off'], m.values['slope']], m, normalization"
   ]
  },
  {
   "cell_type": "code",
   "execution_count": 1,
   "metadata": {
    "collapsed": true
   },
   "outputs": [],
   "source": [
    "def fit_gaus(e_list, fit_range, mu, sigma, plot_range=(0, 1e3), plot_bins=200, int_step=0.1, plot_guess = True,\n",
    "             plot=True, print_level = 1):\n",
    "    '''\n",
    "    23/5\n",
    "    '''\n",
    "    # Get the list of energies to fit\n",
    "    sel = (e_list < fit_range[1]) & (e_list > fit_range[0])\n",
    "    x_fit = e_list[sel]\n",
    "    \n",
    "    # PLOTTING\n",
    "    # Plot histogram of data to fit\n",
    "    if plot:        \n",
    "        plt.hist(e_list, bins=plot_bins, histtype='step', range=plot_range, label='Spectrum')\n",
    "        # Compute normalization based on number of counts\n",
    "        normalization_guess = len(x_fit) / sum(\n",
    "            [gaus(_x, 1, mu, sigma) for _x in \n",
    "            np.arange(*fit_range, step=(plot_range[1] - plot_range[0])/plot_bins)])\n",
    "        # plot guess\n",
    "        x_plot = np.linspace(*plot_range, num=1000)\n",
    "        if plot_guess:\n",
    "            plt.plot(x_plot, normalization_guess * gaus(x_plot, 1, mu, sigma), label='Guess')\n",
    "        # Plot fit range\n",
    "        for l in fit_range:\n",
    "            plt.axvline(l, color='black', ls='--')\n",
    "    \n",
    "    \n",
    "    # The function to minimize is the sum of the negative log likelihood\n",
    "    def f_to_minimize(mu, sigma):\n",
    "        p_list = gaus_norm(x_fit, 1, mu, sigma, fit_range=fit_range, int_step=int_step)\n",
    "        return -sum(np.log(p_list))\n",
    "    \n",
    "    m=Minuit(f_to_minimize, mu=mu, sigma=sigma, errordef=1, error_mu=1, error_sigma = 1, print_level = print_level)\n",
    "    m.migrad()\n",
    "\n",
    "    # Plot fitted function\n",
    "    normalization = len(x_fit) / sum(\n",
    "        [gaus(_x, 1, m.values['mu'],m.values['sigma']) for _x in \n",
    "        np.arange(*fit_range, step=(plot_range[1] - plot_range[0])/plot_bins)])\n",
    "    if plot:        \n",
    "        plt.plot(x_plot, normalization * gaus(x_plot, 1, m.values['mu'],m.values['sigma']), label='Fit')\n",
    "        plt.legend()\n",
    "\n",
    "    return  [m.values['mu'],m.values['sigma']], m, normalization"
   ]
  },
  {
   "cell_type": "code",
   "execution_count": null,
   "metadata": {
    "collapsed": true
   },
   "outputs": [],
   "source": [
    "def p2(x, a0, a1, a2):\n",
    "    return a0 + a1 * x + a2 * x**2"
   ]
  },
  {
   "cell_type": "code",
   "execution_count": null,
   "metadata": {
    "collapsed": true
   },
   "outputs": [],
   "source": [
    "def plt_divide_axis(axis='x', factor = 1e3):\n",
    "    import matplotlib.ticker as ticker\n",
    "    ax = plt.gca()\n",
    "    if axis == 'x':\n",
    "        ticks_x = ticker.FuncFormatter(lambda x, pos: '{0:g}'.format(x/factor))\n",
    "        ax.xaxis.set_major_formatter(ticks_x)\n",
    "    elif axis == 'y':\n",
    "        ticks_y = ticker.FuncFormatter(lambda x, pos: '{0:g}'.format(x/factor))\n",
    "        ax.yaxis.set_major_formatter(ticks_y)\n",
    "    else:\n",
    "        raise NotImplementedError()"
   ]
  }
 ],
 "metadata": {
  "kernelspec": {
   "display_name": "Python 3",
   "language": "python",
   "name": "python3"
  },
  "language_info": {
   "codemirror_mode": {
    "name": "ipython",
    "version": 3
   },
   "file_extension": ".py",
   "mimetype": "text/x-python",
   "name": "python",
   "nbconvert_exporter": "python",
   "pygments_lexer": "ipython3",
   "version": "3.4.5"
  },
  "latex_envs": {
   "bibliofile": "biblio.bib",
   "cite_by": "apalike",
   "current_citInitial": 1,
   "eqLabelWithNumbers": true,
   "eqNumInitial": 0
  }
 },
 "nbformat": 4,
 "nbformat_minor": 2
}
