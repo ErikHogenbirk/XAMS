{
 "cells": [
  {
   "cell_type": "code",
   "execution_count": null,
   "metadata": {
    "collapsed": true
   },
   "outputs": [],
   "source": [
    "import hax\n",
    "from hax import cuts\n",
    "import os\n",
    "import pandas as pd\n",
    "import matplotlib.pyplot as plt\n",
    "import numpy as np\n",
    "%matplotlib inline\n",
    "from matplotlib.colors import LogNorm\n",
    "import time\n",
    "import datetime"
   ]
  },
  {
   "cell_type": "code",
   "execution_count": null,
   "metadata": {
    "collapsed": true
   },
   "outputs": [],
   "source": [
    "def get_run_list(path, start_at=None, stop_at=None):\n",
    "    '''\n",
    "    Description pending\n",
    "    '''\n",
    "    file_list = np.sort(os.listdir(path))\n",
    "    \n",
    "    file_list = [file[:-5] for file in file_list if file[-5:]=='.root']\n",
    "    \n",
    "    if start_at:\n",
    "        start_index = np.where(np.array(file_list) == start_at)[0][0]\n",
    "        file_list = file_list[start_index:]\n",
    "    if stop_at:\n",
    "        stop_index = np.where(np.array(file_list) == stop_at)[0][0]\n",
    "        file_list = file_list[:stop_index+1]\n",
    "    print('Run list contains %d files' % len(file_list))\n",
    "    return file_list"
   ]
  },
  {
   "cell_type": "code",
   "execution_count": null,
   "metadata": {
    "collapsed": true
   },
   "outputs": [],
   "source": [
    "def get_time(d, run_names):    \n",
    "    next_run_indices = np.where(np.diff(d['event_number'].values) < 0)[0]\n",
    "    def num(x):\n",
    "        return len([a for a in next_run_indices if a<x])\n",
    "    run_numbers = [num(r) for r in d.index]\n",
    "    d['run_number'] = run_numbers\n",
    "\n",
    "    all_timestamps = []\n",
    "    for run_number, run_name in zip(np.unique(run_numbers), run_names):\n",
    "        d_sub = d[d['run_number']==run_number]\n",
    "        all_timestamps.append(\n",
    "            ((d_sub['event_time'].values - d_sub['event_time'].iloc[0]) * 4) * 1e-9 +\n",
    "            time.mktime(datetime.datetime.strptime(run_name, \"%y%m%d_%H%M%S\").timetuple()))\n",
    "\n",
    "    d['unix_time'] = np.concatenate(all_timestamps)\n",
    "    d['time_since_start'] = d['unix_time'] - d['unix_time'].iloc[0]\n",
    "    return d"
   ]
  },
  {
   "cell_type": "code",
   "execution_count": null,
   "metadata": {
    "collapsed": true
   },
   "outputs": [],
   "source": [
    "class XAMSProperties(hax.minitrees.TreeMaker):\n",
    "    __version__ = '0.1.0'\n",
    "    \n",
    "    extra_branches = ['peaks.*', 'peaks.range_area_decile*', \n",
    "                      'interactions*']\n",
    "    \n",
    "    def extract_data(self, event):\n",
    "        \n",
    "        peak_types = ['s1', 's2']\n",
    "        peak_properties = ['area_fraction_top', 'area', 'center_time', 'n_saturated_channels']\n",
    "        extra_properties = ['range_50p_area', 'range_70p_area']\n",
    "        all_properties = peak_properties + extra_properties\n",
    "        result_vars = [_pt + '_' + _pp for _pt in peak_types for _pp in all_properties ]\n",
    "        result = {k: float('nan') for k in result_vars}\n",
    "        \n",
    "        interaction_properties = ['drift_time']\n",
    "        for _prop in interaction_properties:\n",
    "            result[_prop] = float('nan')\n",
    "            \n",
    "        s1s = []\n",
    "        s2s = []\n",
    "        \n",
    "        for peak in event.peaks:\n",
    "            if peak.type == 's1':\n",
    "                s1s.append(peak)\n",
    "            if peak.type == 's2':\n",
    "                s2s.append(peak)\n",
    "        \n",
    "        s1s = sorted(s1s, key = lambda peak: - peak.area)\n",
    "        s2s = sorted(s2s, key = lambda peak: - peak.area)\n",
    "\n",
    "        \n",
    "        # Now load properies\n",
    "        result['n_s1s'] = len(event.s1s)\n",
    "        result['n_s2s'] = len(event.s2s)\n",
    "        \n",
    "        \n",
    "        for peak_name, peak_list in zip(['s1', 's2'], [s1s, s2s]):\n",
    "            if len(peak_list) == 0:\n",
    "                continue\n",
    "            # First peak in list sorted by area\n",
    "            peak = peak_list[0]\n",
    "            for _prop in peak_properties:\n",
    "                result[peak_name + '_' + _prop] = getattr(peak, _prop)\n",
    "            for i in range(10):\n",
    "                if ('range_%d0p_area' % i) in extra_properties:\n",
    "                    result[peak_name + '_' + 'range_%d0p_area' % i] = list(peak.range_area_decile)[i]\n",
    "        \n",
    "        if len(s2s) > 1:\n",
    "            result['largest_other_s2'] = getattr(s2s[1], 'area')\n",
    "        else:\n",
    "            result['largest_other_s2'] = 0.\n",
    "            \n",
    "        result['drift_time'] = result['s2_center_time'] - result['s1_center_time']\n",
    "        \n",
    "\n",
    "\n",
    "\n",
    "#             for peak_type, peak_index in zip(peak_types, [s1,s2]):\n",
    "#                 for _prop in peak_properties:\n",
    "#                     result[peak_name + '_' + _prop] = getattr(event.peaks[peak_index], _prop)\n",
    "\n",
    "#                 if 'range_50p_area' in extra_properties:\n",
    "#                     result[peak_name + '_' + 'range_50p_area'] = list(event.peaks[peak_pos].range_area_decile)[5]\n",
    "        \n",
    "        return result"
   ]
  }
 ],
 "metadata": {
  "kernelspec": {
   "display_name": "Python 3",
   "language": "python",
   "name": "python3"
  },
  "language_info": {
   "codemirror_mode": {
    "name": "ipython",
    "version": 3
   },
   "file_extension": ".py",
   "mimetype": "text/x-python",
   "name": "python",
   "nbconvert_exporter": "python",
   "pygments_lexer": "ipython3",
   "version": "3.4.5"
  }
 },
 "nbformat": 4,
 "nbformat_minor": 2
}
