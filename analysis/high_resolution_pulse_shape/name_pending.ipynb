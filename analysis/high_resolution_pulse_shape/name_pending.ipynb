{
 "cells": [
  {
   "cell_type": "markdown",
   "metadata": {},
   "source": [
    "# Definitions"
   ]
  },
  {
   "cell_type": "code",
   "execution_count": 1,
   "metadata": {
    "collapsed": true,
    "scrolled": true
   },
   "outputs": [],
   "source": [
    "%run '../definitions.ipynb'"
   ]
  },
  {
   "cell_type": "code",
   "execution_count": 2,
   "metadata": {
    "collapsed": true,
    "scrolled": true
   },
   "outputs": [],
   "source": [
    "import h5py\n",
    "from tqdm import tqdm"
   ]
  },
  {
   "cell_type": "markdown",
   "metadata": {},
   "source": [
    "## Analysis functions"
   ]
  },
  {
   "cell_type": "markdown",
   "metadata": {
    "heading_collapsed": true
   },
   "source": [
    "### Reading data"
   ]
  },
  {
   "cell_type": "code",
   "execution_count": 3,
   "metadata": {
    "collapsed": true,
    "scrolled": true
   },
   "outputs": [],
   "source": [
    "def get_wf(f, n):\n",
    "    ds = f['Waveforms']['Channel 1']['Channel 1 Seg%dData' % (n + 1)]\n",
    "    return ds.value\n",
    "\n",
    "def get_n_events(f):\n",
    "    ds_thing = f['Waveforms']['Channel 1']\n",
    "    return len(ds_thing.keys())\n",
    "\n",
    "def read_file(number):\n",
    "    data_path = '/home/erik/win/data/high_resolution/'\n",
    "    filename = os.path.join(data_path, '%03d.h5' % number)\n",
    "    f = h5py.File(filename, 'r')\n",
    "    n_to_read = get_n_events(f)\n",
    "    wfs = []\n",
    "    for n in tqdm(range(n_to_read)):\n",
    "        wfs.append(get_wf(f, n))\n",
    "    return np.array(wfs)"
   ]
  },
  {
   "cell_type": "markdown",
   "metadata": {
    "heading_collapsed": true
   },
   "source": [
    "### Auxilary functions"
   ]
  },
  {
   "cell_type": "code",
   "execution_count": 4,
   "metadata": {
    "collapsed": true,
    "scrolled": true
   },
   "outputs": [],
   "source": [
    "def estimate_pois(wfs, bounds = (950, 1250)):\n",
    "    low, high = bounds\n",
    "    peak_indices = np.argmin(wfs, axis=1)\n",
    "    n_in_range = np.sum((peak_indices >= low) & (peak_indices < high))\n",
    "    n_samples_in_range = high - low\n",
    "    bg_in_range = (len(wfs) - n_in_range)  / (np.max(peak_indices) - n_samples_in_range) * n_samples_in_range\n",
    "    print('BG of %.1f expected, got %d counts' % (bg_in_range, n_in_range))\n",
    "    frac = (n_in_range - bg_in_range) / len(peak_indices)\n",
    "    print('Fraction is %.2f percent!' % (100 * frac))"
   ]
  },
  {
   "cell_type": "markdown",
   "metadata": {
    "heading_collapsed": true
   },
   "source": [
    "### Baselining"
   ]
  },
  {
   "cell_type": "code",
   "execution_count": 5,
   "metadata": {
    "collapsed": true,
    "scrolled": true
   },
   "outputs": [],
   "source": [
    "def get_baselines(wfs, baseline_bounds):\n",
    "    '''\n",
    "    Obtain the average and the standard deviation of the baseline in the ranges specified in baseline_bounds.\n",
    "    Returns arrays of nbaselines x nwaveforms for baseline and sigma.\n",
    "    '''\n",
    "    baselines = []\n",
    "    sigmas = []\n",
    "    for bounds in baseline_bounds:\n",
    "        left, right = bounds\n",
    "        baseline = np.average(wfs[:, left:right], axis=1)\n",
    "        sigma = np.std(wfs[:, left:right], axis=1)\n",
    "        baselines.append(baseline)\n",
    "        sigmas.append(sigma)\n",
    "    return np.array(baselines), np.array(sigmas)"
   ]
  },
  {
   "cell_type": "code",
   "execution_count": 6,
   "metadata": {
    "collapsed": true,
    "scrolled": true
   },
   "outputs": [],
   "source": [
    "def correct_baseline(wfs, baselines, baseline_bounds, method='single', n=0):\n",
    "    if method == 'single':\n",
    "        return wfs - baselines[n][:, None]\n",
    "    elif method == 'interpolation':\n",
    "        n0, n1 = n\n",
    "        t0, t1 = np.average(baseline_bounds[[n0, n1]], axis=1) - 0.5 # t is the sample number\n",
    "        b0, b1 = (baselines[n0], baselines[n1])\n",
    "        slopes = (b1 - b0) / (t1 - t0)\n",
    "        offsets = b0 - slopes * t0\n",
    "        slope_array = np.repeat([np.arange(0, np.shape(wfs)[1])], np.shape(wfs)[0], axis=0) * slopes[:, None]\n",
    "        return wfs - offsets[:, None] - slope_array\n",
    "    else:\n",
    "        raise ValueError('Invalid method.')"
   ]
  },
  {
   "cell_type": "markdown",
   "metadata": {
    "heading_collapsed": true
   },
   "source": [
    "### Invert, integrate, find max"
   ]
  },
  {
   "cell_type": "code",
   "execution_count": 7,
   "metadata": {
    "collapsed": true,
    "scrolled": true
   },
   "outputs": [],
   "source": [
    "def invert_pulse(wfs):\n",
    "    return - wfs"
   ]
  },
  {
   "cell_type": "code",
   "execution_count": 8,
   "metadata": {
    "collapsed": true,
    "scrolled": true
   },
   "outputs": [],
   "source": [
    "def integrate_pulses(wfs, bounds):\n",
    "    return np.sum(wfs[:, bounds[0]:bounds[1]], axis=1) * 0.1 # in nVs"
   ]
  },
  {
   "cell_type": "code",
   "execution_count": 9,
   "metadata": {
    "collapsed": true,
    "scrolled": true
   },
   "outputs": [],
   "source": [
    "def find_max(wfs, bounds = None):\n",
    "    '''\n",
    "    Find the maximum value within `bounds`\n",
    "    '''\n",
    "    if bounds:\n",
    "        left, right = bounds\n",
    "    else:\n",
    "        left, right = [0, len(wfs[0])]\n",
    "    return np.max(wfs[:, left:right], axis=1)"
   ]
  },
  {
   "cell_type": "markdown",
   "metadata": {
    "heading_collapsed": true
   },
   "source": [
    "### Cuts"
   ]
  },
  {
   "cell_type": "code",
   "execution_count": 10,
   "metadata": {
    "collapsed": true,
    "scrolled": true
   },
   "outputs": [],
   "source": [
    "def cut_height(wfs, bounds, plot=True, verbose=True):\n",
    "    '''\n",
    "    Cut the waveform array based on the maximum amplitude.\n",
    "    '''\n",
    "    max_vals = find_max(wfs)\n",
    "    if plot:\n",
    "        plt.hist(max_vals, bins=200, histtype='step')\n",
    "        plt.yscale('log')\n",
    "        plt.xlabel('Maximum (V)')\n",
    "        plt.axvline(bounds[0])\n",
    "        plt.show()\n",
    "    sel = (max_vals >= bounds[0]) & (max_vals < bounds[1])\n",
    "    if verbose: print('Passing %d of %d events (%.2f %%)' % (np.sum(sel), len(wfs), 100 * np.sum(sel) / len(wfs)))\n",
    "    return wfs[sel]"
   ]
  },
  {
   "cell_type": "code",
   "execution_count": 11,
   "metadata": {
    "collapsed": true
   },
   "outputs": [],
   "source": [
    "def cut_area(wfs, integration_bounds, cutoff, plot=True, verbose=True):\n",
    "    '''\n",
    "    Cut the waveform array based on the maximum amplitude.\n",
    "    '''\n",
    "    areas = integrate_pulses(wfs, integration_bounds)\n",
    "    if plot:\n",
    "        plt.hist(areas, bins=200, histtype='step')\n",
    "        plt.yscale('log')\n",
    "        plt.xlabel('Area (nVs)')\n",
    "        plt.axvline(cutoff)\n",
    "        plt.show()\n",
    "    sel = (areas > cutoff)\n",
    "    if verbose: print('Passing %d of %d events (%.2f %%)' % (np.sum(sel), len(wfs), 100 * np.sum(sel) / len(wfs)))\n",
    "    return wfs[sel]"
   ]
  },
  {
   "cell_type": "code",
   "execution_count": 12,
   "metadata": {
    "collapsed": true
   },
   "outputs": [],
   "source": [
    "def cut_noise(wfs, baseline_bounds, n, cutoff=0.0004, plot=True):\n",
    "    bounds = baseline_bounds[n]\n",
    "    left, right = bounds\n",
    "    noise = np.std(wfs[:, left:right], axis=1)\n",
    "    if plot:\n",
    "        plt.hist(noise, bins=100, histtype='step')\n",
    "        plt.axvline(cutoff)\n",
    "    return wfs[noise < cutoff]"
   ]
  },
  {
   "cell_type": "code",
   "execution_count": 13,
   "metadata": {
    "collapsed": true
   },
   "outputs": [],
   "source": [
    "def cut_max_sample(wfs, bounds, plot=True, apply=True):\n",
    "    '''\n",
    "    Cut based on the position of the maximum index.\n",
    "    '''\n",
    "    max_sample = np.argmax(wfs, axis=1)\n",
    "    if plot:\n",
    "        plt.hist(max_sample, range=(900, 2000), bins=200, histtype='step')\n",
    "        for _l in bounds:\n",
    "            plt.axvline(_l, color='black')\n",
    "        plt.show()\n",
    "    if apply:\n",
    "        sel = (max_sample >= bounds[0]) & (max_sample < bounds[1])\n",
    "        print('Cut %d of %d events (%.2f percent)' % (np.sum(sel), len(wfs), 100 * (1 - np.sum(sel) / len(wfs))))\n",
    "        return wfs[(max_sample >= bounds[0]) & (max_sample < bounds[1])]"
   ]
  },
  {
   "cell_type": "markdown",
   "metadata": {
    "heading_collapsed": true
   },
   "source": [
    "### Alignment"
   ]
  },
  {
   "cell_type": "code",
   "execution_count": 14,
   "metadata": {
    "collapsed": true,
    "scrolled": true
   },
   "outputs": [],
   "source": [
    "def find_alignment_sample(wfs, area_bounds, fraction):\n",
    "    '''\n",
    "    Find the index of the sample that is closest to `fraction` fraction of total area in `bounds`.\n",
    "    '''\n",
    "    areas = integrate_pulses(wfs, area_bounds)\n",
    "    wfs_fracs = np.cumsum(wfs[:, area_bounds[0] : area_bounds[1]], axis = 1) / areas[:, None] * 0.1\n",
    "    alignment_samples = np.argmin(np.abs(wfs_fracs - fraction), axis=1) + area_bounds[0]\n",
    "    return alignment_samples"
   ]
  },
  {
   "cell_type": "code",
   "execution_count": 15,
   "metadata": {
    "collapsed": true
   },
   "outputs": [],
   "source": [
    "def shift_wf(wf, nsamples):\n",
    "    '''\n",
    "    Shift nsamples to the right\n",
    "    '''\n",
    "    if nsamples == 0:\n",
    "        return wf\n",
    "    elif nsamples > 0:\n",
    "        return np.concatenate([np.zeros(nsamples), wf[:-nsamples]])\n",
    "    elif nsamples < 0:\n",
    "        return np.concatenate([wf[-nsamples:], np.zeros(-nsamples)])"
   ]
  },
  {
   "cell_type": "code",
   "execution_count": 16,
   "metadata": {
    "collapsed": false,
    "scrolled": true
   },
   "outputs": [],
   "source": [
    "def align_wfs(wfs, alignment_samples, align_on_sample = 1100, extend_by = 100):\n",
    "    '''\n",
    "    Align the waveforms by `alignment_samples`. Extends all waveforms to account for extra zeros.\n",
    "    '''\n",
    "    shift_samples = alignment_samples - align_on_sample\n",
    "\n",
    "    wfs_new = np.zeros(shape = np.shape(wfs))\n",
    "    for i, (wf, shift) in enumerate(zip(wfs, shift_samples)):\n",
    "        wfs_new[i] = shift_wf(wf, -shift)\n",
    "    return wfs_new"
   ]
  },
  {
   "cell_type": "markdown",
   "metadata": {
    "heading_collapsed": true
   },
   "source": [
    "### Gain determination"
   ]
  },
  {
   "cell_type": "code",
   "execution_count": 17,
   "metadata": {
    "collapsed": true,
    "scrolled": true
   },
   "outputs": [],
   "source": [
    "from scipy.integrate import quad\n",
    "\n",
    "def gaus_noamp(x, mu, sigma):\n",
    "    return gaus(x, 1, mu, sigma)\n",
    "\n",
    "\n",
    "def get_gain(wfs, area_bounds, p0, fit_range, plot=True, **kwargs):\n",
    "    # This is the factor from nVs to millions of electrons\n",
    "    prefactor = 1/(50 * 1.6022e-19) * 1e-6 * 1e-9\n",
    "    areas = integrate_pulses(wfs, area_bounds) * prefactor\n",
    "    if plot:\n",
    "        plt.hist(areas, histtype='step', bins=200)\n",
    "        plt.yscale('log')\n",
    "        for _l in fit_range:\n",
    "            plt.axvline(_l)\n",
    "        plt.show()\n",
    "    popt, perr, m = fit_unbinned(areas, gaus_noamp, p0=p0, fit_range=fit_range, plot=plot, **kwargs)\n",
    "    \n",
    "    start = 0\n",
    "    stop  = 100\n",
    "    gain = quad(lambda x: x * gaus_noamp(x, *popt), start, stop)[0] / quad(lambda x: gaus_noamp(x, *popt), start, stop)[0]\n",
    "    print('Found a gain of %f million.' % gain)\n",
    "    return gain"
   ]
  },
  {
   "cell_type": "markdown",
   "metadata": {
    "heading_collapsed": true
   },
   "source": [
    "### Filtering"
   ]
  },
  {
   "cell_type": "code",
   "execution_count": 18,
   "metadata": {
    "collapsed": true,
    "scrolled": true
   },
   "outputs": [],
   "source": [
    "# stolen from https://stackoverflow.com/questions/25191620/creating-lowpass-filter-in-scipy-understanding-methods-and-units\n",
    "# Honestly no idea if butter filter is any good\n",
    "from scipy.signal import butter, lfilter, freqz\n",
    "\n",
    "def butter_lowpass(cutoff, fs, order=5):\n",
    "    nyq = 0.5 * fs\n",
    "    normal_cutoff = cutoff / nyq\n",
    "    b, a = butter(order, normal_cutoff, btype='low', analog=False)\n",
    "    return b, a\n",
    "\n",
    "def butter_lowpass_filter(data, cutoff, fs, order=5):\n",
    "    b, a = butter_lowpass(cutoff, fs, order=order)\n",
    "    y = lfilter(b, a, data)\n",
    "    return y\n",
    "\n",
    "\n",
    "def filter_wfs(wfs, cutoff = 0.25, order = 6, shift = -25):\n",
    "    '''\n",
    "    Lowpass filter the waveforms.\n",
    "    '''\n",
    "    fs = 10.0       # sample rate, GHz\n",
    "    wfs_new = np.zeros(shape = np.shape(wfs))\n",
    "    for i, wf in enumerate(wfs):\n",
    "        if shift == 0:\n",
    "            wfs_new[i] = butter_lowpass_filter(wf, cutoff, fs, order)\n",
    "        elif shift > 0:\n",
    "            wfs_new[i] = np.concatenate([np.zeros(shift), butter_lowpass_filter(wf, cutoff, fs, order)[:-shift]])\n",
    "        elif shift < 0:\n",
    "            wfs_new[i] = np.concatenate([butter_lowpass_filter(wf, cutoff, fs, order)[-shift:], np.zeros(-shift)])\n",
    "    return wfs_new"
   ]
  },
  {
   "cell_type": "markdown",
   "metadata": {
    "heading_collapsed": true
   },
   "source": [
    "### Pulse averaging"
   ]
  },
  {
   "cell_type": "code",
   "execution_count": 19,
   "metadata": {
    "collapsed": true
   },
   "outputs": [],
   "source": [
    "def normalize(wfs, bounds):\n",
    "    return wfs / np.sum(wfs[:, bounds[0]: bounds[1]], axis=1)[:,None]\n",
    "\n",
    "def average_wf(wfs):\n",
    "    return np.average(wfs, axis=0)"
   ]
  },
  {
   "cell_type": "code",
   "execution_count": null,
   "metadata": {
    "collapsed": true,
    "scrolled": true
   },
   "outputs": [],
   "source": []
  },
  {
   "cell_type": "markdown",
   "metadata": {
    "heading_collapsed": true
   },
   "source": [
    "# Single file analysis"
   ]
  },
  {
   "cell_type": "markdown",
   "metadata": {
    "heading_collapsed": true
   },
   "source": [
    "## Settings"
   ]
  },
  {
   "cell_type": "code",
   "execution_count": 20,
   "metadata": {
    "collapsed": true
   },
   "outputs": [],
   "source": [
    "baseline_bounds = np.array([\n",
    "    [0, 900],\n",
    "    [3000, 4000]\n",
    "]\n",
    ")"
   ]
  },
  {
   "cell_type": "markdown",
   "metadata": {},
   "source": [
    "## Read"
   ]
  },
  {
   "cell_type": "code",
   "execution_count": 21,
   "metadata": {
    "collapsed": false,
    "scrolled": true
   },
   "outputs": [
    {
     "name": "stderr",
     "output_type": "stream",
     "text": [
      " 57%|█████▋    | 18703/32768 [00:40<00:26, 528.34it/s]"
     ]
    },
    {
     "ename": "KeyboardInterrupt",
     "evalue": "",
     "output_type": "error",
     "traceback": [
      "\u001b[0;31m---------------------------------------------------------------------------\u001b[0m",
      "\u001b[0;31mKeyboardInterrupt\u001b[0m                         Traceback (most recent call last)",
      "\u001b[0;32m<ipython-input-21-de83d0f18ea2>\u001b[0m in \u001b[0;36m<module>\u001b[0;34m()\u001b[0m\n\u001b[0;32m----> 1\u001b[0;31m \u001b[0mwfs\u001b[0m \u001b[0;34m=\u001b[0m \u001b[0mread_file\u001b[0m\u001b[0;34m(\u001b[0m\u001b[0;36m76\u001b[0m\u001b[0;34m)\u001b[0m\u001b[0;34m\u001b[0m\u001b[0m\n\u001b[0m",
      "\u001b[0;32m<ipython-input-3-f852afeb150a>\u001b[0m in \u001b[0;36mread_file\u001b[0;34m(number)\u001b[0m\n\u001b[1;32m     14\u001b[0m     \u001b[0mwfs\u001b[0m \u001b[0;34m=\u001b[0m \u001b[0;34m[\u001b[0m\u001b[0;34m]\u001b[0m\u001b[0;34m\u001b[0m\u001b[0m\n\u001b[1;32m     15\u001b[0m     \u001b[0;32mfor\u001b[0m \u001b[0mn\u001b[0m \u001b[0;32min\u001b[0m \u001b[0mtqdm\u001b[0m\u001b[0;34m(\u001b[0m\u001b[0mrange\u001b[0m\u001b[0;34m(\u001b[0m\u001b[0mn_to_read\u001b[0m\u001b[0;34m)\u001b[0m\u001b[0;34m)\u001b[0m\u001b[0;34m:\u001b[0m\u001b[0;34m\u001b[0m\u001b[0m\n\u001b[0;32m---> 16\u001b[0;31m         \u001b[0mwfs\u001b[0m\u001b[0;34m.\u001b[0m\u001b[0mappend\u001b[0m\u001b[0;34m(\u001b[0m\u001b[0mget_wf\u001b[0m\u001b[0;34m(\u001b[0m\u001b[0mf\u001b[0m\u001b[0;34m,\u001b[0m \u001b[0mn\u001b[0m\u001b[0;34m)\u001b[0m\u001b[0;34m)\u001b[0m\u001b[0;34m\u001b[0m\u001b[0m\n\u001b[0m\u001b[1;32m     17\u001b[0m     \u001b[0;32mreturn\u001b[0m \u001b[0mnp\u001b[0m\u001b[0;34m.\u001b[0m\u001b[0marray\u001b[0m\u001b[0;34m(\u001b[0m\u001b[0mwfs\u001b[0m\u001b[0;34m)\u001b[0m\u001b[0;34m\u001b[0m\u001b[0m\n",
      "\u001b[0;32m<ipython-input-3-f852afeb150a>\u001b[0m in \u001b[0;36mget_wf\u001b[0;34m(f, n)\u001b[0m\n\u001b[1;32m      1\u001b[0m \u001b[0;32mdef\u001b[0m \u001b[0mget_wf\u001b[0m\u001b[0;34m(\u001b[0m\u001b[0mf\u001b[0m\u001b[0;34m,\u001b[0m \u001b[0mn\u001b[0m\u001b[0;34m)\u001b[0m\u001b[0;34m:\u001b[0m\u001b[0;34m\u001b[0m\u001b[0m\n\u001b[0;32m----> 2\u001b[0;31m     \u001b[0mds\u001b[0m \u001b[0;34m=\u001b[0m \u001b[0mf\u001b[0m\u001b[0;34m[\u001b[0m\u001b[0;34m'Waveforms'\u001b[0m\u001b[0;34m]\u001b[0m\u001b[0;34m[\u001b[0m\u001b[0;34m'Channel 1'\u001b[0m\u001b[0;34m]\u001b[0m\u001b[0;34m[\u001b[0m\u001b[0;34m'Channel 1 Seg%dData'\u001b[0m \u001b[0;34m%\u001b[0m \u001b[0;34m(\u001b[0m\u001b[0mn\u001b[0m \u001b[0;34m+\u001b[0m \u001b[0;36m1\u001b[0m\u001b[0;34m)\u001b[0m\u001b[0;34m]\u001b[0m\u001b[0;34m\u001b[0m\u001b[0m\n\u001b[0m\u001b[1;32m      3\u001b[0m     \u001b[0;32mreturn\u001b[0m \u001b[0mds\u001b[0m\u001b[0;34m.\u001b[0m\u001b[0mvalue\u001b[0m\u001b[0;34m\u001b[0m\u001b[0m\n\u001b[1;32m      4\u001b[0m \u001b[0;34m\u001b[0m\u001b[0m\n\u001b[1;32m      5\u001b[0m \u001b[0;32mdef\u001b[0m \u001b[0mget_n_events\u001b[0m\u001b[0;34m(\u001b[0m\u001b[0mf\u001b[0m\u001b[0;34m)\u001b[0m\u001b[0;34m:\u001b[0m\u001b[0;34m\u001b[0m\u001b[0m\n",
      "\u001b[0;32mh5py/_objects.pyx\u001b[0m in \u001b[0;36mh5py._objects.with_phil.wrapper (/home/ilan/minonda/conda-bld/work/h5py/_objects.c:2696)\u001b[0;34m()\u001b[0m\n",
      "\u001b[0;32mh5py/_objects.pyx\u001b[0m in \u001b[0;36mh5py._objects.with_phil.wrapper (/home/ilan/minonda/conda-bld/work/h5py/_objects.c:2654)\u001b[0;34m()\u001b[0m\n",
      "\u001b[0;32m/home/erik/anaconda3/envs/pax_new/lib/python3.4/site-packages/h5py/_hl/group.py\u001b[0m in \u001b[0;36m__getitem__\u001b[0;34m(self, name)\u001b[0m\n\u001b[1;32m    164\u001b[0m                 \u001b[0;32mraise\u001b[0m \u001b[0mValueError\u001b[0m\u001b[0;34m(\u001b[0m\u001b[0;34m\"Invalid HDF5 object reference\"\u001b[0m\u001b[0;34m)\u001b[0m\u001b[0;34m\u001b[0m\u001b[0m\n\u001b[1;32m    165\u001b[0m         \u001b[0;32melse\u001b[0m\u001b[0;34m:\u001b[0m\u001b[0;34m\u001b[0m\u001b[0m\n\u001b[0;32m--> 166\u001b[0;31m             \u001b[0moid\u001b[0m \u001b[0;34m=\u001b[0m \u001b[0mh5o\u001b[0m\u001b[0;34m.\u001b[0m\u001b[0mopen\u001b[0m\u001b[0;34m(\u001b[0m\u001b[0mself\u001b[0m\u001b[0;34m.\u001b[0m\u001b[0mid\u001b[0m\u001b[0;34m,\u001b[0m \u001b[0mself\u001b[0m\u001b[0;34m.\u001b[0m\u001b[0m_e\u001b[0m\u001b[0;34m(\u001b[0m\u001b[0mname\u001b[0m\u001b[0;34m)\u001b[0m\u001b[0;34m,\u001b[0m \u001b[0mlapl\u001b[0m\u001b[0;34m=\u001b[0m\u001b[0mself\u001b[0m\u001b[0;34m.\u001b[0m\u001b[0m_lapl\u001b[0m\u001b[0;34m)\u001b[0m\u001b[0;34m\u001b[0m\u001b[0m\n\u001b[0m\u001b[1;32m    167\u001b[0m \u001b[0;34m\u001b[0m\u001b[0m\n\u001b[1;32m    168\u001b[0m         \u001b[0motype\u001b[0m \u001b[0;34m=\u001b[0m \u001b[0mh5i\u001b[0m\u001b[0;34m.\u001b[0m\u001b[0mget_type\u001b[0m\u001b[0;34m(\u001b[0m\u001b[0moid\u001b[0m\u001b[0;34m)\u001b[0m\u001b[0;34m\u001b[0m\u001b[0m\n",
      "\u001b[0;31mKeyboardInterrupt\u001b[0m: "
     ]
    }
   ],
   "source": [
    "wfs = read_file(76)"
   ]
  },
  {
   "cell_type": "markdown",
   "metadata": {},
   "source": [
    "## Check the Poissoian percentage"
   ]
  },
  {
   "cell_type": "markdown",
   "metadata": {},
   "source": [
    "First check: how many photons do we have, roughly? Should be about 5 percent."
   ]
  },
  {
   "cell_type": "code",
   "execution_count": null,
   "metadata": {
    "collapsed": false,
    "scrolled": true
   },
   "outputs": [],
   "source": [
    "plt.hist(np.argmin(wfs, axis=1), histtype='step', bins=200)\n",
    "plt.axvline(950)\n",
    "plt.axvline(1250)\n",
    "\n",
    "plt.show()"
   ]
  },
  {
   "cell_type": "code",
   "execution_count": null,
   "metadata": {
    "collapsed": false,
    "scrolled": true
   },
   "outputs": [],
   "source": [
    "estimate_pois(wfs)"
   ]
  },
  {
   "cell_type": "markdown",
   "metadata": {},
   "source": [
    "## Baseline correction"
   ]
  },
  {
   "cell_type": "markdown",
   "metadata": {},
   "source": [
    "Here we define a temporary selection just to see where we should put the baseline bounds"
   ]
  },
  {
   "cell_type": "code",
   "execution_count": null,
   "metadata": {
    "collapsed": true,
    "scrolled": true
   },
   "outputs": [],
   "source": [
    "good = (np.argmin(wfs, axis=1) > 1050) & (np.argmin(wfs, axis=1) < 1100) "
   ]
  },
  {
   "cell_type": "code",
   "execution_count": null,
   "metadata": {
    "collapsed": false,
    "scrolled": true
   },
   "outputs": [],
   "source": [
    "plt.plot(wfs[good][0])\n",
    "for bounds, c in zip(baseline_bounds, ['black', 'green', 'red', 'orange']):\n",
    "    for _l in bounds:\n",
    "        plt.axvline(_l, color=c)\n",
    "plt.show()"
   ]
  },
  {
   "cell_type": "code",
   "execution_count": null,
   "metadata": {
    "collapsed": true,
    "scrolled": true
   },
   "outputs": [],
   "source": [
    "baselines, sigmas = get_baselines(wfs, baseline_bounds)"
   ]
  },
  {
   "cell_type": "code",
   "execution_count": null,
   "metadata": {
    "collapsed": false,
    "scrolled": true
   },
   "outputs": [],
   "source": [
    "wfs = correct_baseline(wfs, baselines, baseline_bounds, method='interpolation', n = (0, 1))"
   ]
  },
  {
   "cell_type": "code",
   "execution_count": null,
   "metadata": {
    "collapsed": true,
    "scrolled": true
   },
   "outputs": [],
   "source": [
    "wfs = invert_pulse(wfs)"
   ]
  },
  {
   "cell_type": "markdown",
   "metadata": {
    "collapsed": true
   },
   "source": [
    "## Gain..."
   ]
  },
  {
   "cell_type": "markdown",
   "metadata": {},
   "source": [
    "Let us cut on the photons..."
   ]
  },
  {
   "cell_type": "code",
   "execution_count": null,
   "metadata": {
    "collapsed": false,
    "scrolled": true
   },
   "outputs": [],
   "source": [
    "gain = get_gain(wfs, (1000, 1200), p0=[4,3], fit_range= [1, 15], delay_fit = False, plot=True, plot_guess = False,\n",
    "         print_level = 0, stfu = True)"
   ]
  },
  {
   "cell_type": "code",
   "execution_count": null,
   "metadata": {
    "collapsed": false,
    "scrolled": true
   },
   "outputs": [],
   "source": [
    "wfs_sel = cut_height(wfs, [0.002, np.inf])"
   ]
  },
  {
   "cell_type": "markdown",
   "metadata": {},
   "source": [
    "## Alignment"
   ]
  },
  {
   "cell_type": "code",
   "execution_count": null,
   "metadata": {
    "collapsed": false,
    "scrolled": true
   },
   "outputs": [],
   "source": [
    "alignment_samples = find_alignment_sample(wfs_sel, (1000, 2000), 0.1)"
   ]
  },
  {
   "cell_type": "code",
   "execution_count": null,
   "metadata": {
    "collapsed": false,
    "scrolled": true
   },
   "outputs": [],
   "source": [
    "plt.hist(alignment_samples, bins=100, histtype='step')\n",
    "plt.show()"
   ]
  },
  {
   "cell_type": "code",
   "execution_count": null,
   "metadata": {
    "collapsed": true,
    "scrolled": true
   },
   "outputs": [],
   "source": [
    "what = wfs_sel[alignment_samples > 1250]"
   ]
  },
  {
   "cell_type": "code",
   "execution_count": null,
   "metadata": {
    "collapsed": false,
    "scrolled": true
   },
   "outputs": [],
   "source": [
    "for i in range(10):\n",
    "    plt.plot(wfs_sel[i], color='blue', alpha = 0.25)\n",
    "for i in range(10):\n",
    "    plt.plot(what[i], color='red', alpha = 0.25)"
   ]
  },
  {
   "cell_type": "markdown",
   "metadata": {},
   "source": [
    "It looks like the late pulses are legit photons. Light travel time cannot explain the 20 ns delay. It is plobably the LED pulse itself. We can choose to either cut them or keep them."
   ]
  },
  {
   "cell_type": "code",
   "execution_count": null,
   "metadata": {
    "collapsed": false,
    "scrolled": true
   },
   "outputs": [],
   "source": [
    "wfs_sel = cut_max_sample(wfs_sel, [1050, 1200])"
   ]
  },
  {
   "cell_type": "code",
   "execution_count": null,
   "metadata": {
    "collapsed": false,
    "scrolled": true
   },
   "outputs": [],
   "source": [
    "alignment_samples = find_alignment_sample(wfs_sel, (1000, 1200), 0.1)"
   ]
  },
  {
   "cell_type": "code",
   "execution_count": null,
   "metadata": {
    "collapsed": false,
    "scrolled": true
   },
   "outputs": [],
   "source": [
    "alignment_samples"
   ]
  },
  {
   "cell_type": "code",
   "execution_count": null,
   "metadata": {
    "collapsed": false,
    "scrolled": true
   },
   "outputs": [],
   "source": [
    "wfs_sel_al = align_wfs(wfs_sel, alignment_samples, extend_by=150)"
   ]
  },
  {
   "cell_type": "code",
   "execution_count": null,
   "metadata": {
    "collapsed": false,
    "scrolled": true
   },
   "outputs": [],
   "source": [
    "for i in range(10):\n",
    "    plt.plot(wfs_sel[i])\n",
    "plt.xlim(1000, 1450)\n",
    "plt.title('Before alignment')"
   ]
  },
  {
   "cell_type": "code",
   "execution_count": null,
   "metadata": {
    "collapsed": false,
    "scrolled": true
   },
   "outputs": [],
   "source": [
    "for i in range(10):\n",
    "    plt.plot(wfs_sel_al[i])\n",
    "plt.xlim(1050, 1500)\n",
    "plt.title('After alignment')"
   ]
  },
  {
   "cell_type": "code",
   "execution_count": null,
   "metadata": {
    "collapsed": false,
    "scrolled": true
   },
   "outputs": [],
   "source": [
    "ding =  normalize(wfs_sel_al, (1150, 1500))"
   ]
  },
  {
   "cell_type": "code",
   "execution_count": null,
   "metadata": {
    "collapsed": false,
    "scrolled": true
   },
   "outputs": [],
   "source": [
    "for i in range(10):\n",
    "    plt.plot(ding[i])\n",
    "plt.xlim(1050, 2000)\n",
    "plt.title('After alignment and normalization')"
   ]
  },
  {
   "cell_type": "code",
   "execution_count": null,
   "metadata": {
    "collapsed": true,
    "scrolled": true
   },
   "outputs": [],
   "source": [
    "dt = 0.1 # ns\n",
    "nsamples = 4096 + 2 * 150\n",
    "t = np.arange(0, nsamples * dt, dt) - 1200 * dt"
   ]
  },
  {
   "cell_type": "code",
   "execution_count": null,
   "metadata": {
    "collapsed": false,
    "scrolled": true
   },
   "outputs": [],
   "source": [
    "plt.plot(t, average_wf(ding))\n",
    "plt.xlim(-10, 200)"
   ]
  },
  {
   "cell_type": "code",
   "execution_count": null,
   "metadata": {
    "collapsed": false,
    "scrolled": true
   },
   "outputs": [],
   "source": [
    "plt.plot(t, average_wf(ding))\n",
    "\n",
    "for wf in ding[:20]:\n",
    "    plt.plot(t, wf, color='black', alpha=0.25)\n",
    "plt.plot(t, average_wf(ding))\n",
    "\n",
    "plt.xlim(-10, 100)"
   ]
  },
  {
   "cell_type": "code",
   "execution_count": null,
   "metadata": {
    "collapsed": true,
    "scrolled": true
   },
   "outputs": [],
   "source": [
    "wfs_f = filter_wfs(ding)"
   ]
  },
  {
   "cell_type": "code",
   "execution_count": null,
   "metadata": {
    "collapsed": false,
    "scrolled": true
   },
   "outputs": [],
   "source": [
    "plt.plot(t, average_wf(wfs_f), label='Filtered')\n",
    "plt.plot(t, average_wf(ding), label='')\n",
    "plt.xlim(-10, 200)\n",
    "plt.legend()"
   ]
  },
  {
   "cell_type": "markdown",
   "metadata": {},
   "source": [
    "## Check for area dependence"
   ]
  },
  {
   "cell_type": "code",
   "execution_count": null,
   "metadata": {
    "collapsed": false,
    "scrolled": true
   },
   "outputs": [],
   "source": [
    "areas = integrate_pulses(wfs_sel, (1000, 1200))"
   ]
  },
  {
   "cell_type": "code",
   "execution_count": null,
   "metadata": {
    "collapsed": true,
    "scrolled": true
   },
   "outputs": [],
   "source": [
    "slices = np.linspace(0, 0.16, 9)"
   ]
  },
  {
   "cell_type": "code",
   "execution_count": null,
   "metadata": {
    "collapsed": false,
    "scrolled": true
   },
   "outputs": [],
   "source": [
    "for left, right in zip(slices[:-1], slices[1:]):\n",
    "    _wfs = ding[(areas > left) & (areas < right)] \n",
    "    plt.plot(t, average_wf(_wfs), label='Area %.2f +- 0.01' % (0.5 * (left + right)))\n",
    "plt.legend(loc=(1,0))\n",
    "plt.xlim(-10, 100)\n",
    "plt.show()"
   ]
  },
  {
   "cell_type": "code",
   "execution_count": null,
   "metadata": {
    "collapsed": false,
    "scrolled": true
   },
   "outputs": [],
   "source": [
    "plt.hist(areas, histtype='step', bins=25)\n",
    "plt.show()"
   ]
  },
  {
   "cell_type": "code",
   "execution_count": null,
   "metadata": {
    "collapsed": false,
    "scrolled": true
   },
   "outputs": [],
   "source": [
    "len(_wfs)"
   ]
  },
  {
   "cell_type": "code",
   "execution_count": null,
   "metadata": {
    "collapsed": false,
    "scrolled": true
   },
   "outputs": [],
   "source": [
    "plt.plot(_wfs[2])"
   ]
  },
  {
   "cell_type": "markdown",
   "metadata": {},
   "source": [
    "# Reading more files..."
   ]
  },
  {
   "cell_type": "markdown",
   "metadata": {},
   "source": [
    "## Data files"
   ]
  },
  {
   "cell_type": "code",
   "execution_count": 33,
   "metadata": {
    "collapsed": true,
    "scrolled": true
   },
   "outputs": [],
   "source": [
    "pmt1low_dsets  = [i for i in range(70, 76, 1)]\n",
    "pmt1high_dsets = [i for i in range(76, 82, 1)]\n",
    "pmt2low_dsets  = [i for i in range(48, 54, 1)]\n",
    "pmt2high_dsets = [i for i in range(45, 48, 1)]\n",
    "\n",
    "dsets = [\n",
    "    pmt1low_dsets,\n",
    "    pmt1high_dsets,\n",
    "    pmt2low_dsets,\n",
    "    pmt2high_dsets,    \n",
    "]"
   ]
  },
  {
   "cell_type": "markdown",
   "metadata": {},
   "source": [
    "## Settings"
   ]
  },
  {
   "cell_type": "code",
   "execution_count": 23,
   "metadata": {
    "collapsed": true,
    "scrolled": true
   },
   "outputs": [],
   "source": [
    "baseline_bounds = np.array([\n",
    "    [0, 900],\n",
    "    [3000, 4000]\n",
    "]\n",
    ")"
   ]
  },
  {
   "cell_type": "code",
   "execution_count": 24,
   "metadata": {
    "collapsed": true,
    "scrolled": true
   },
   "outputs": [],
   "source": [
    "integration_bounds = [1000, 1400]\n",
    "alignment_sample = 1100\n",
    "aligned_integration_bounds = (1000, 1300)"
   ]
  },
  {
   "cell_type": "code",
   "execution_count": 25,
   "metadata": {
    "collapsed": false
   },
   "outputs": [
    {
     "name": "stderr",
     "output_type": "stream",
     "text": [
      "\r",
      "          \r",
      " 57%|█████▋    | 18703/32768 [01:00<00:45, 311.29it/s]"
     ]
    }
   ],
   "source": [
    "position_cuts = [1000, 1400]"
   ]
  },
  {
   "cell_type": "markdown",
   "metadata": {},
   "source": [
    "## Correct and cut function"
   ]
  },
  {
   "cell_type": "markdown",
   "metadata": {},
   "source": [
    "This function takes the raw waveforms, corrects baseline, inverts, cuts on height and max sample position, aligns and returns waveforms.\n",
    "\n",
    "Steps stil missing after this: cut on noise, cut on area, gain fitting (if required), normalizing, averaging."
   ]
  },
  {
   "cell_type": "code",
   "execution_count": 26,
   "metadata": {
    "collapsed": false,
    "scrolled": true
   },
   "outputs": [],
   "source": [
    "def analyze_it(wfs, baseline_bounds, integration_bounds, position_cuts, height_cutoff = 0.002, align_on_sample=1100, plot=True):\n",
    "    # First estimate fraction of pulses...\n",
    "    estimate_pois(wfs, bounds = integration_bounds)\n",
    "    \n",
    "    print('Computing baselines...')\n",
    "    # Step 1: compute baselines and subtract\n",
    "    baselines, sigmas = get_baselines(wfs, baseline_bounds)\n",
    "    wfs = correct_baseline(wfs, baselines, baseline_bounds, method = 'interpolation', n = (0, 1))\n",
    "    # Step 2: invert pulse\n",
    "    wfs = invert_pulse(wfs)\n",
    "    # Step 3: cut on height\n",
    "    wfs = cut_height(wfs, (height_cutoff, np.inf), plot=plot)\n",
    "    if plot: plt.show()\n",
    "    # Step 4: cut on photon position\n",
    "    wfs = cut_max_sample(wfs, [1000, 1400], plot=plot)\n",
    "    if plot: plt.show()    \n",
    "    # Step 5: align pulses\n",
    "    alignment_samples = find_alignment_sample(wfs, integration_bounds, 0.1)\n",
    "    wfs = align_wfs(wfs, alignment_samples, align_on_sample=align_on_sample)\n",
    "    \n",
    "    return wfs\n"
   ]
  },
  {
   "cell_type": "markdown",
   "metadata": {},
   "source": [
    "## One dataset"
   ]
  },
  {
   "cell_type": "code",
   "execution_count": null,
   "metadata": {
    "collapsed": false
   },
   "outputs": [],
   "source": [
    "wfs = read_file(45)"
   ]
  },
  {
   "cell_type": "code",
   "execution_count": null,
   "metadata": {
    "collapsed": false
   },
   "outputs": [],
   "source": [
    "wfs = analyze_it(wfs, baseline_bounds, integration_bounds, position_cuts)"
   ]
  },
  {
   "cell_type": "code",
   "execution_count": null,
   "metadata": {
    "collapsed": false
   },
   "outputs": [],
   "source": [
    "for wf in wfs[:10]:\n",
    "    plt.plot(wf)\n",
    "plt.xlim(1000, 1200)"
   ]
  },
  {
   "cell_type": "code",
   "execution_count": null,
   "metadata": {
    "collapsed": false
   },
   "outputs": [],
   "source": [
    "wfs = cut_noise(wfs, baseline_bounds, 0)"
   ]
  },
  {
   "cell_type": "code",
   "execution_count": null,
   "metadata": {
    "collapsed": false
   },
   "outputs": [],
   "source": [
    "get_gain(wfs, integration_bounds, (4,4), (2, 20))"
   ]
  },
  {
   "cell_type": "code",
   "execution_count": null,
   "metadata": {
    "collapsed": false
   },
   "outputs": [],
   "source": [
    "wfs = cut_area(wfs, integration_bounds, 0.015)"
   ]
  },
  {
   "cell_type": "markdown",
   "metadata": {},
   "source": [
    "## All datasets"
   ]
  },
  {
   "cell_type": "markdown",
   "metadata": {},
   "source": [
    "### Settings"
   ]
  },
  {
   "cell_type": "code",
   "execution_count": 28,
   "metadata": {
    "collapsed": true
   },
   "outputs": [],
   "source": [
    "highstat = True"
   ]
  },
  {
   "cell_type": "markdown",
   "metadata": {},
   "source": [
    "### Reading the data"
   ]
  },
  {
   "cell_type": "code",
   "execution_count": 29,
   "metadata": {
    "collapsed": false,
    "scrolled": false
   },
   "outputs": [
    {
     "name": "stderr",
     "output_type": "stream",
     "text": [
      "\n",
      "  0%|          | 0/32768 [00:00<?, ?it/s]\u001b[A\n",
      "100%|██████████| 32768/32768 [01:05<00:00, 498.80it/s]\n"
     ]
    },
    {
     "name": "stdout",
     "output_type": "stream",
     "text": [
      "BG of 3056.9 expected, got 4530 counts\n",
      "Fraction is 4.50 percent!\n",
      "Computing baselines...\n",
      "Passing 1317 of 32768 events (4.02 %)\n",
      "Cut 1301 of 1317 events (1.21 percent)\n"
     ]
    },
    {
     "name": "stderr",
     "output_type": "stream",
     "text": [
      "100%|██████████| 32768/32768 [01:05<00:00, 498.92it/s]\n"
     ]
    },
    {
     "name": "stdout",
     "output_type": "stream",
     "text": [
      "BG of 3057.0 expected, got 4529 counts\n",
      "Fraction is 4.49 percent!\n",
      "Computing baselines...\n",
      "Passing 1329 of 32768 events (4.06 %)\n",
      "Cut 1319 of 1329 events (0.75 percent)\n"
     ]
    },
    {
     "name": "stderr",
     "output_type": "stream",
     "text": [
      "100%|██████████| 32768/32768 [01:02<00:00, 522.97it/s]\n"
     ]
    },
    {
     "name": "stdout",
     "output_type": "stream",
     "text": [
      "BG of 3067.3 expected, got 4434 counts\n",
      "Fraction is 4.17 percent!\n",
      "Computing baselines...\n",
      "Passing 1263 of 32768 events (3.85 %)\n",
      "Cut 1258 of 1263 events (0.40 percent)\n"
     ]
    },
    {
     "name": "stderr",
     "output_type": "stream",
     "text": [
      "100%|██████████| 32768/32768 [01:01<00:00, 532.53it/s]\n"
     ]
    },
    {
     "name": "stdout",
     "output_type": "stream",
     "text": [
      "BG of 3067.2 expected, got 4435 counts\n",
      "Fraction is 4.17 percent!\n",
      "Computing baselines...\n",
      "Passing 1302 of 32768 events (3.97 %)\n",
      "Cut 1292 of 1302 events (0.77 percent)\n"
     ]
    },
    {
     "name": "stderr",
     "output_type": "stream",
     "text": [
      "100%|██████████| 32768/32768 [01:02<00:00, 523.82it/s]\n"
     ]
    },
    {
     "name": "stdout",
     "output_type": "stream",
     "text": [
      "BG of 3058.4 expected, got 4516 counts\n",
      "Fraction is 4.45 percent!\n",
      "Computing baselines...\n",
      "Passing 1361 of 32768 events (4.15 %)\n",
      "Cut 1352 of 1361 events (0.66 percent)\n"
     ]
    },
    {
     "name": "stderr",
     "output_type": "stream",
     "text": [
      " 73%|███████▎  | 24031/32768 [00:44<00:14, 585.52it/s]"
     ]
    },
    {
     "ename": "KeyboardInterrupt",
     "evalue": "",
     "output_type": "error",
     "traceback": [
      "\u001b[0;31m---------------------------------------------------------------------------\u001b[0m",
      "\u001b[0;31mKeyboardInterrupt\u001b[0m                         Traceback (most recent call last)",
      "\u001b[0;32m<ipython-input-29-635e29afc52f>\u001b[0m in \u001b[0;36m<module>\u001b[0;34m()\u001b[0m\n\u001b[1;32m      7\u001b[0m     \u001b[0mwfs_this_setting\u001b[0m \u001b[0;34m=\u001b[0m \u001b[0;34m[\u001b[0m\u001b[0;34m]\u001b[0m\u001b[0;34m\u001b[0m\u001b[0m\n\u001b[1;32m      8\u001b[0m     \u001b[0;32mfor\u001b[0m \u001b[0mdset\u001b[0m \u001b[0;32min\u001b[0m \u001b[0mdsets_to_scan\u001b[0m\u001b[0;34m:\u001b[0m\u001b[0;34m\u001b[0m\u001b[0m\n\u001b[0;32m----> 9\u001b[0;31m         \u001b[0mwfs\u001b[0m \u001b[0;34m=\u001b[0m \u001b[0mread_file\u001b[0m\u001b[0;34m(\u001b[0m\u001b[0mdset\u001b[0m\u001b[0;34m)\u001b[0m\u001b[0;34m\u001b[0m\u001b[0m\n\u001b[0m\u001b[1;32m     10\u001b[0m         \u001b[0mwfs\u001b[0m \u001b[0;34m=\u001b[0m \u001b[0manalyze_it\u001b[0m\u001b[0;34m(\u001b[0m\u001b[0mwfs\u001b[0m\u001b[0;34m,\u001b[0m \u001b[0mbaseline_bounds\u001b[0m\u001b[0;34m,\u001b[0m \u001b[0mintegration_bounds\u001b[0m\u001b[0;34m,\u001b[0m \u001b[0mposition_cuts\u001b[0m\u001b[0;34m,\u001b[0m \u001b[0mplot\u001b[0m\u001b[0;34m=\u001b[0m\u001b[0;32mFalse\u001b[0m\u001b[0;34m)\u001b[0m\u001b[0;34m\u001b[0m\u001b[0m\n\u001b[1;32m     11\u001b[0m         \u001b[0mwfs_this_setting\u001b[0m\u001b[0;34m.\u001b[0m\u001b[0mappend\u001b[0m\u001b[0;34m(\u001b[0m\u001b[0mwfs\u001b[0m\u001b[0;34m)\u001b[0m\u001b[0;34m\u001b[0m\u001b[0m\n",
      "\u001b[0;32m<ipython-input-3-f852afeb150a>\u001b[0m in \u001b[0;36mread_file\u001b[0;34m(number)\u001b[0m\n\u001b[1;32m     14\u001b[0m     \u001b[0mwfs\u001b[0m \u001b[0;34m=\u001b[0m \u001b[0;34m[\u001b[0m\u001b[0;34m]\u001b[0m\u001b[0;34m\u001b[0m\u001b[0m\n\u001b[1;32m     15\u001b[0m     \u001b[0;32mfor\u001b[0m \u001b[0mn\u001b[0m \u001b[0;32min\u001b[0m \u001b[0mtqdm\u001b[0m\u001b[0;34m(\u001b[0m\u001b[0mrange\u001b[0m\u001b[0;34m(\u001b[0m\u001b[0mn_to_read\u001b[0m\u001b[0;34m)\u001b[0m\u001b[0;34m)\u001b[0m\u001b[0;34m:\u001b[0m\u001b[0;34m\u001b[0m\u001b[0m\n\u001b[0;32m---> 16\u001b[0;31m         \u001b[0mwfs\u001b[0m\u001b[0;34m.\u001b[0m\u001b[0mappend\u001b[0m\u001b[0;34m(\u001b[0m\u001b[0mget_wf\u001b[0m\u001b[0;34m(\u001b[0m\u001b[0mf\u001b[0m\u001b[0;34m,\u001b[0m \u001b[0mn\u001b[0m\u001b[0;34m)\u001b[0m\u001b[0;34m)\u001b[0m\u001b[0;34m\u001b[0m\u001b[0m\n\u001b[0m\u001b[1;32m     17\u001b[0m     \u001b[0;32mreturn\u001b[0m \u001b[0mnp\u001b[0m\u001b[0;34m.\u001b[0m\u001b[0marray\u001b[0m\u001b[0;34m(\u001b[0m\u001b[0mwfs\u001b[0m\u001b[0;34m)\u001b[0m\u001b[0;34m\u001b[0m\u001b[0m\n",
      "\u001b[0;32m<ipython-input-3-f852afeb150a>\u001b[0m in \u001b[0;36mget_wf\u001b[0;34m(f, n)\u001b[0m\n\u001b[1;32m      1\u001b[0m \u001b[0;32mdef\u001b[0m \u001b[0mget_wf\u001b[0m\u001b[0;34m(\u001b[0m\u001b[0mf\u001b[0m\u001b[0;34m,\u001b[0m \u001b[0mn\u001b[0m\u001b[0;34m)\u001b[0m\u001b[0;34m:\u001b[0m\u001b[0;34m\u001b[0m\u001b[0m\n\u001b[1;32m      2\u001b[0m     \u001b[0mds\u001b[0m \u001b[0;34m=\u001b[0m \u001b[0mf\u001b[0m\u001b[0;34m[\u001b[0m\u001b[0;34m'Waveforms'\u001b[0m\u001b[0;34m]\u001b[0m\u001b[0;34m[\u001b[0m\u001b[0;34m'Channel 1'\u001b[0m\u001b[0;34m]\u001b[0m\u001b[0;34m[\u001b[0m\u001b[0;34m'Channel 1 Seg%dData'\u001b[0m \u001b[0;34m%\u001b[0m \u001b[0;34m(\u001b[0m\u001b[0mn\u001b[0m \u001b[0;34m+\u001b[0m \u001b[0;36m1\u001b[0m\u001b[0;34m)\u001b[0m\u001b[0;34m]\u001b[0m\u001b[0;34m\u001b[0m\u001b[0m\n\u001b[0;32m----> 3\u001b[0;31m     \u001b[0;32mreturn\u001b[0m \u001b[0mds\u001b[0m\u001b[0;34m.\u001b[0m\u001b[0mvalue\u001b[0m\u001b[0;34m\u001b[0m\u001b[0m\n\u001b[0m\u001b[1;32m      4\u001b[0m \u001b[0;34m\u001b[0m\u001b[0m\n\u001b[1;32m      5\u001b[0m \u001b[0;32mdef\u001b[0m \u001b[0mget_n_events\u001b[0m\u001b[0;34m(\u001b[0m\u001b[0mf\u001b[0m\u001b[0;34m)\u001b[0m\u001b[0;34m:\u001b[0m\u001b[0;34m\u001b[0m\u001b[0m\n",
      "\u001b[0;32mh5py/_objects.pyx\u001b[0m in \u001b[0;36mh5py._objects.with_phil.wrapper (/home/ilan/minonda/conda-bld/work/h5py/_objects.c:2696)\u001b[0;34m()\u001b[0m\n",
      "\u001b[0;32mh5py/_objects.pyx\u001b[0m in \u001b[0;36mh5py._objects.with_phil.wrapper (/home/ilan/minonda/conda-bld/work/h5py/_objects.c:2654)\u001b[0;34m()\u001b[0m\n",
      "\u001b[0;32m/home/erik/anaconda3/envs/pax_new/lib/python3.4/site-packages/h5py/_hl/dataset.py\u001b[0m in \u001b[0;36mvalue\u001b[0;34m(self)\u001b[0m\n\u001b[1;32m    236\u001b[0m         DeprecationWarning(\"dataset.value has been deprecated. \"\n\u001b[1;32m    237\u001b[0m             \"Use dataset[()] instead.\")\n\u001b[0;32m--> 238\u001b[0;31m         \u001b[0;32mreturn\u001b[0m \u001b[0mself\u001b[0m\u001b[0;34m[\u001b[0m\u001b[0;34m(\u001b[0m\u001b[0;34m)\u001b[0m\u001b[0;34m]\u001b[0m\u001b[0;34m\u001b[0m\u001b[0m\n\u001b[0m\u001b[1;32m    239\u001b[0m \u001b[0;34m\u001b[0m\u001b[0m\n\u001b[1;32m    240\u001b[0m     \u001b[0;34m@\u001b[0m\u001b[0mproperty\u001b[0m\u001b[0;34m\u001b[0m\u001b[0m\n",
      "\u001b[0;32mh5py/_objects.pyx\u001b[0m in \u001b[0;36mh5py._objects.with_phil.wrapper (/home/ilan/minonda/conda-bld/work/h5py/_objects.c:2696)\u001b[0;34m()\u001b[0m\n",
      "\u001b[0;32mh5py/_objects.pyx\u001b[0m in \u001b[0;36mh5py._objects.with_phil.wrapper (/home/ilan/minonda/conda-bld/work/h5py/_objects.c:2654)\u001b[0;34m()\u001b[0m\n",
      "\u001b[0;32m/home/erik/anaconda3/envs/pax_new/lib/python3.4/site-packages/h5py/_hl/dataset.py\u001b[0m in \u001b[0;36m__getitem__\u001b[0;34m(self, args)\u001b[0m\n\u001b[1;32m    480\u001b[0m         \u001b[0mmspace\u001b[0m \u001b[0;34m=\u001b[0m \u001b[0mh5s\u001b[0m\u001b[0;34m.\u001b[0m\u001b[0mcreate_simple\u001b[0m\u001b[0;34m(\u001b[0m\u001b[0mmshape\u001b[0m\u001b[0;34m)\u001b[0m\u001b[0;34m\u001b[0m\u001b[0m\n\u001b[1;32m    481\u001b[0m         \u001b[0mfspace\u001b[0m \u001b[0;34m=\u001b[0m \u001b[0mselection\u001b[0m\u001b[0;34m.\u001b[0m\u001b[0mid\u001b[0m\u001b[0;34m\u001b[0m\u001b[0m\n\u001b[0;32m--> 482\u001b[0;31m         \u001b[0mself\u001b[0m\u001b[0;34m.\u001b[0m\u001b[0mid\u001b[0m\u001b[0;34m.\u001b[0m\u001b[0mread\u001b[0m\u001b[0;34m(\u001b[0m\u001b[0mmspace\u001b[0m\u001b[0;34m,\u001b[0m \u001b[0mfspace\u001b[0m\u001b[0;34m,\u001b[0m \u001b[0marr\u001b[0m\u001b[0;34m,\u001b[0m \u001b[0mmtype\u001b[0m\u001b[0;34m,\u001b[0m \u001b[0mdxpl\u001b[0m\u001b[0;34m=\u001b[0m\u001b[0mself\u001b[0m\u001b[0;34m.\u001b[0m\u001b[0m_dxpl\u001b[0m\u001b[0;34m)\u001b[0m\u001b[0;34m\u001b[0m\u001b[0m\n\u001b[0m\u001b[1;32m    483\u001b[0m \u001b[0;34m\u001b[0m\u001b[0m\n\u001b[1;32m    484\u001b[0m         \u001b[0;31m# Patch up the output for NumPy\u001b[0m\u001b[0;34m\u001b[0m\u001b[0;34m\u001b[0m\u001b[0m\n",
      "\u001b[0;31mKeyboardInterrupt\u001b[0m: "
     ]
    }
   ],
   "source": [
    "d = []\n",
    "for dset_list in dsets:\n",
    "    if highstat: \n",
    "        dsets_to_scan = dset_list\n",
    "    else:\n",
    "        dsets_to_scan = [dset_list[0]]\n",
    "    wfs_this_setting = []\n",
    "    for dset in dsets_to_scan:\n",
    "        wfs = read_file(dset)\n",
    "        wfs = analyze_it(wfs, baseline_bounds, integration_bounds, position_cuts, plot=False)\n",
    "        wfs_this_setting.append(wfs)\n",
    "    wfs_this_setting  = np.concatenate(wfs_this_setting)\n",
    "    d.append(wfs_this_setting)"
   ]
  },
  {
   "cell_type": "markdown",
   "metadata": {
    "collapsed": true
   },
   "source": [
    "### Further cuts, and gain"
   ]
  },
  {
   "cell_type": "code",
   "execution_count": null,
   "metadata": {
    "collapsed": false,
    "scrolled": false
   },
   "outputs": [],
   "source": [
    "avg_wfs = []\n",
    "for i, wfs in enumerate(d):\n",
    "    wfs = cut_noise(wfs, baseline_bounds, 0, plot=True)\n",
    "    plt.show()\n",
    "    wfs = cut_area(wfs, aligned_integration_bounds, 0.015, plot=True)\n",
    "    plt.show()\n",
    "    wfs = normalize(wfs, bounds=aligned_integration_bounds)\n",
    "    wf = average_wf(wfs)\n",
    "    d[i] = wfs\n",
    "    avg_wfs.append(wf)"
   ]
  },
  {
   "cell_type": "markdown",
   "metadata": {},
   "source": [
    "### Show the average waveforms"
   ]
  },
  {
   "cell_type": "code",
   "execution_count": null,
   "metadata": {
    "collapsed": true
   },
   "outputs": [],
   "source": [
    "labels = ['PMT1 850V', 'PMT1 900V', 'PMT2 900V', 'PMT2 950V']\n",
    "dt = 0.1\n",
    "samples = 4096\n",
    "alignment_sample = 1100\n",
    "t = np.arange(0, samples * dt, dt) - alignment_sample * dt"
   ]
  },
  {
   "cell_type": "code",
   "execution_count": null,
   "metadata": {
    "collapsed": false
   },
   "outputs": [],
   "source": [
    "for wf, l in zip(avg_wfs[:2], labels[:2]):\n",
    "    plt.plot(t, wf, label=l)\n",
    "plt.xlim(-10, 100)\n",
    "plt.title('PMT 1')\n",
    "plt.legend()\n",
    "plt.show()"
   ]
  },
  {
   "cell_type": "code",
   "execution_count": null,
   "metadata": {
    "collapsed": false
   },
   "outputs": [],
   "source": [
    "for wf, l in zip(avg_wfs[2:], labels[2:]):\n",
    "    plt.plot(t, wf, label=l)\n",
    "plt.xlim(-10, 100)\n",
    "plt.title('PMT 2')\n",
    "plt.legend()\n",
    "plt.show()"
   ]
  },
  {
   "cell_type": "markdown",
   "metadata": {},
   "source": [
    "### Dump to pickle!"
   ]
  },
  {
   "cell_type": "code",
   "execution_count": null,
   "metadata": {
    "collapsed": false
   },
   "outputs": [],
   "source": [
    "with open('../pulse_shapes/pickles/highrespulse_ch0.pickle', 'wb') as f:\n",
    "    pickle.dump((t, avg_wfs[2]), f)"
   ]
  },
  {
   "cell_type": "code",
   "execution_count": null,
   "metadata": {
    "collapsed": true
   },
   "outputs": [],
   "source": [
    "with open('../pulse_shapes/pickles/highrespulse_ch1.pickle', 'wb') as f:\n",
    "    pickle.dump((t, avg_wfs[0]), f)"
   ]
  },
  {
   "cell_type": "markdown",
   "metadata": {},
   "source": [
    "### Pretty plot of average wf"
   ]
  },
  {
   "cell_type": "code",
   "execution_count": null,
   "metadata": {
    "collapsed": false
   },
   "outputs": [],
   "source": [
    "wfs = d[0]"
   ]
  },
  {
   "cell_type": "code",
   "execution_count": null,
   "metadata": {
    "collapsed": false
   },
   "outputs": [],
   "source": [
    "for wf in wfs[:100]: \n",
    "    plt.plot(t, wf, color='black', alpha=0.1)\n",
    "plt.plot(t, avg_wfs[0])\n",
    "plt.xlim(-10, 100)"
   ]
  },
  {
   "cell_type": "markdown",
   "metadata": {},
   "source": [
    "## Compare to low resolution pulses"
   ]
  },
  {
   "cell_type": "code",
   "execution_count": 61,
   "metadata": {
    "collapsed": true
   },
   "outputs": [],
   "source": [
    "def rebin(wf, n):\n",
    "    n_bins = len(wf) // n\n",
    "    wf = wf[:(n_bins * n)]\n",
    "    wf = wf.reshape((n_bins, n))\n",
    "    return np.sum(wf, axis=1)"
   ]
  },
  {
   "cell_type": "markdown",
   "metadata": {},
   "source": [
    "### One example..."
   ]
  },
  {
   "cell_type": "markdown",
   "metadata": {},
   "source": [
    "Here we take a random waveform and apply the rebinning to show its effect... "
   ]
  },
  {
   "cell_type": "code",
   "execution_count": null,
   "metadata": {
    "collapsed": true
   },
   "outputs": [],
   "source": [
    "wfs = d[0]\n",
    "wf = wfs[0]"
   ]
  },
  {
   "cell_type": "code",
   "execution_count": null,
   "metadata": {
    "collapsed": false
   },
   "outputs": [],
   "source": [
    "wc = rebin(wf, 20)"
   ]
  },
  {
   "cell_type": "code",
   "execution_count": 67,
   "metadata": {
    "collapsed": true
   },
   "outputs": [],
   "source": [
    "tc = np.arange(0, 408, 2)"
   ]
  },
  {
   "cell_type": "code",
   "execution_count": null,
   "metadata": {
    "collapsed": true
   },
   "outputs": [],
   "source": [
    "tfine = np.arange(0, len(wf) * 0.1, 0.1)"
   ]
  },
  {
   "cell_type": "code",
   "execution_count": null,
   "metadata": {
    "collapsed": false
   },
   "outputs": [],
   "source": [
    "plt.plot(tc + 2 , wc, ls='steps', label='Ugly blunt course waveform')\n",
    "plt.plot(tfine, wf * 20, ls='steps', label = \"Fine-lookin' waveform buddy!\")\n",
    "plt.legend()\n",
    "plt.xlim(100, 200)"
   ]
  },
  {
   "cell_type": "markdown",
   "metadata": {},
   "source": [
    "### Compute the course average waveform"
   ]
  },
  {
   "cell_type": "markdown",
   "metadata": {},
   "source": [
    "To get what we would have gotten, we take the following approach:\n",
    "  * Take the fine waveform and re-misalign it\n",
    "  * Rebin it in bins of 2 ns\n",
    "  * Align on max sample\n",
    "  * Take a big average"
   ]
  },
  {
   "cell_type": "code",
   "execution_count": 58,
   "metadata": {
    "collapsed": false
   },
   "outputs": [],
   "source": [
    "def get_coarse_avg_waveform(wfs):\n",
    "    \n",
    "    wc = []\n",
    "    for wf in wfs:\n",
    "        # first destroy the alignment by shifting to random position in bin\n",
    "        _w = shift_wf(wf, np.random.randint(0, 20))\n",
    "        _wc = rebin(_w, 20)\n",
    "        max_sample = np.argmax(_wc)\n",
    "        # align course waveform\n",
    "        align_on = 55\n",
    "        _wc = shift_wf(_wc, align_on - max_sample)\n",
    "        wc.append(_wc)\n",
    "    return np.average(wc, axis=0)"
   ]
  },
  {
   "cell_type": "markdown",
   "metadata": {},
   "source": [
    "### Compare to cold calibration"
   ]
  },
  {
   "cell_type": "code",
   "execution_count": null,
   "metadata": {
    "collapsed": true
   },
   "outputs": [],
   "source": [
    "wfs = d[0]\n",
    "wc = get_coarse_avg_waveform(wfs)"
   ]
  },
  {
   "cell_type": "code",
   "execution_count": null,
   "metadata": {
    "collapsed": false
   },
   "outputs": [],
   "source": [
    "plt.plot(tc, wc, linestyle = 'steps', label='Average')\n",
    "plt.xlim(100, 200)"
   ]
  },
  {
   "cell_type": "markdown",
   "metadata": {},
   "source": [
    "#### Read pickle"
   ]
  },
  {
   "cell_type": "code",
   "execution_count": 64,
   "metadata": {
    "collapsed": false
   },
   "outputs": [],
   "source": [
    "dset_ch0 = '170323_103732' # Top PMT\n",
    "dset_ch1 = '170323_104831' # Bottom PMT\n",
    "\n",
    "pulse_ch0 = pickle.load(open('../pulse_shape_single_pe/%s_ch%d.pickle' % (dset_ch0, 0) , 'rb'))\n",
    "pulse_ch1 = pickle.load(open('../pulse_shape_single_pe/%s_ch%d.pickle' % (dset_ch1, 1) , 'rb'))\n",
    "\n",
    "t_cold = np.linspace(0, 639*2, 640) - 340 * 2\n",
    "# Aligned on sample 340"
   ]
  },
  {
   "cell_type": "markdown",
   "metadata": {},
   "source": [
    "#### PLOT PMT1!"
   ]
  },
  {
   "cell_type": "code",
   "execution_count": null,
   "metadata": {
    "collapsed": false
   },
   "outputs": [],
   "source": [
    "wfs = d[0]\n",
    "wc = get_coarse_avg_waveform(wfs)\n",
    "\n",
    "norm_range = (-10, 25)\n",
    "a1 = 1 / sum(pulse_ch1[(t_cold >= norm_range[0]) & (t_cold < norm_range[1])])\n",
    "a2 = 1 / sum(wc[(tc - 110 >= norm_range[0]) & (tc - 110 < norm_range[1])])\n",
    "\n",
    "plt.plot(t_cold, a1 * pulse_ch1, label='Cold calibration', ls = 'steps')\n",
    "plt.plot(tc - 110, a2 * wc, label='Warm calibration', ls='steps')\n",
    "plt.legend()\n",
    "plt.xlim(-20, 200)\n",
    "# plt.ylim(-0.02, 0.07)\n",
    "plt.title('PMT1')\n",
    "plt.show()"
   ]
  },
  {
   "cell_type": "markdown",
   "metadata": {},
   "source": [
    "#### PLOT PMT2!"
   ]
  },
  {
   "cell_type": "code",
   "execution_count": null,
   "metadata": {
    "collapsed": true
   },
   "outputs": [],
   "source": [
    "wfs = d[2]\n",
    "wc = get_coarse_avg_waveform(wfs)"
   ]
  },
  {
   "cell_type": "code",
   "execution_count": null,
   "metadata": {
    "collapsed": false
   },
   "outputs": [],
   "source": [
    "a1 = 1 / sum(pulse_ch0[(t_cold >= norm_range[0]) & (t_cold < norm_range[1])])\n",
    "a2 = 1 / sum(wc[(tc - 110 >= norm_range[0]) & (tc - 110 < norm_range[1])])\n",
    "\n",
    "plt.plot(t_cold, a1 * pulse_ch0, label='Cold calibration', ls = 'steps')\n",
    "plt.plot(tc - 110, a2 * wc, label='Warm calibration', ls='steps')\n",
    "plt.legend()\n",
    "plt.xlim(-20, 200)\n",
    "# plt.ylim(-0.02, 0.07)\n",
    "plt.title('PMT2')\n",
    "plt.show()"
   ]
  },
  {
   "cell_type": "markdown",
   "metadata": {},
   "source": [
    "## FFT..."
   ]
  },
  {
   "cell_type": "markdown",
   "metadata": {},
   "source": [
    "What are the ringing frequencies?"
   ]
  },
  {
   "cell_type": "code",
   "execution_count": null,
   "metadata": {
    "collapsed": true
   },
   "outputs": [],
   "source": [
    "wf = wfs[0]"
   ]
  },
  {
   "cell_type": "code",
   "execution_count": null,
   "metadata": {
    "collapsed": true
   },
   "outputs": [],
   "source": [
    "time_range = (20, 300)"
   ]
  },
  {
   "cell_type": "code",
   "execution_count": null,
   "metadata": {
    "collapsed": false
   },
   "outputs": [],
   "source": [
    "dt = 0.1\n",
    "t = np.linspace(0, 4096 * dt, 4096)"
   ]
  },
  {
   "cell_type": "code",
   "execution_count": null,
   "metadata": {
    "collapsed": false
   },
   "outputs": [],
   "source": [
    "plt.plot(t, wf)\n",
    "for _l in time_range:\n",
    "    plt.axvline(_l)\n",
    "plt.xlabel('Time (ns)')"
   ]
  },
  {
   "cell_type": "code",
   "execution_count": null,
   "metadata": {
    "collapsed": false
   },
   "outputs": [],
   "source": [
    "sel = (t >= time_range[0]) & (t < time_range[1])\n",
    "wf_sel = wf"
   ]
  },
  {
   "cell_type": "code",
   "execution_count": null,
   "metadata": {
    "collapsed": true
   },
   "outputs": [],
   "source": [
    "wf_sel = wfs[1]"
   ]
  },
  {
   "cell_type": "code",
   "execution_count": null,
   "metadata": {
    "collapsed": false
   },
   "outputs": [],
   "source": [
    "yfs = []\n",
    "for wf_sel in wfs[:100]:\n",
    "    fft = np.fft.fft(wf_sel)\n",
    "    N = len(wf_sel)\n",
    "    xf = np.linspace(0.0, 1 / (2 * dt), N/2)\n",
    "    yf = np.abs(fft[:N//2])\n",
    "    # kill zero component\n",
    "    yf[0] = 0\n",
    "    yfs.append(yf)"
   ]
  },
  {
   "cell_type": "code",
   "execution_count": null,
   "metadata": {
    "collapsed": true
   },
   "outputs": [],
   "source": [
    "yf = np.average(yfs, axis=0)"
   ]
  },
  {
   "cell_type": "code",
   "execution_count": null,
   "metadata": {
    "collapsed": false
   },
   "outputs": [],
   "source": [
    "plt.plot(xf * 1000, yf**2)\n",
    "plt.xlabel('Frequency (MHz)')\n",
    "plt.ylabel('Spectral power')\n",
    "plt.xlim(0, 2000)\n",
    "#plt.text(1200, 0.002, \"Note: adjusted ylim\")\n",
    "# plt.savefig('noise_power_3.png')"
   ]
  },
  {
   "cell_type": "code",
   "execution_count": null,
   "metadata": {
    "collapsed": true
   },
   "outputs": [],
   "source": [
    "def find_peaks(xf, yf, level):\n",
    "    return xf[yf**2 > level] * 1000"
   ]
  },
  {
   "cell_type": "code",
   "execution_count": null,
   "metadata": {
    "collapsed": false
   },
   "outputs": [],
   "source": [
    "find_peaks(xf, yf, 0.008)"
   ]
  },
  {
   "cell_type": "code",
   "execution_count": null,
   "metadata": {
    "collapsed": false
   },
   "outputs": [],
   "source": [
    "delta_f = np.diff(xf)[0] * 1000"
   ]
  },
  {
   "cell_type": "code",
   "execution_count": null,
   "metadata": {
    "collapsed": false
   },
   "outputs": [],
   "source": [
    "plt.plot(xf * 1000, yf**2)\n",
    "plt.xlabel('Frequency (MHz)')\n",
    "plt.ylabel('Spectral power')\n",
    "plt.xlim(0, 200)\n",
    "for i in [12, 14, 24.5, 31, 47.5, 50]:\n",
    "    plt.axvline(delta_f * i)\n",
    "    print('One at %.1f MHz...' % (delta_f * i))"
   ]
  },
  {
   "cell_type": "code",
   "execution_count": null,
   "metadata": {
    "collapsed": false
   },
   "outputs": [],
   "source": [
    "plt.plot(t, wf)\n",
    "plt.xlabel('Time (ns)')\n",
    "plt.xlim(0, 100)\n",
    "# plt.ylim(-0.002, 0.002)\n",
    "plt.grid()\n",
    "plt.axvline(25 - 2 * 11.4)\n",
    "plt.axvline(25 - 11.4)\n",
    "plt.axvline(25)\n",
    "plt.axvline(82)"
   ]
  },
  {
   "cell_type": "markdown",
   "metadata": {},
   "source": [
    "5 oscillations in (82 - 25) ns"
   ]
  },
  {
   "cell_type": "code",
   "execution_count": null,
   "metadata": {
    "collapsed": false
   },
   "outputs": [],
   "source": [
    "T = (82 - 25) / 5\n",
    "print(1/T * 1000)"
   ]
  },
  {
   "cell_type": "markdown",
   "metadata": {},
   "source": [
    "That is also the dominant peak in the FFT: 88 MHz. What is the corresponding wavelength in a cable with typical velocity factor of 0.75?"
   ]
  },
  {
   "cell_type": "code",
   "execution_count": null,
   "metadata": {
    "collapsed": false
   },
   "outputs": [],
   "source": [
    "300 / 88 * 0.75 # velocity factor of 0.75"
   ]
  },
  {
   "cell_type": "markdown",
   "metadata": {},
   "source": [
    "Sounds legit. The peak-first max delay time found in the MSc thesis is 19.5 ns, here it is 11.5 ns, giving:"
   ]
  },
  {
   "cell_type": "code",
   "execution_count": null,
   "metadata": {
    "collapsed": false
   },
   "outputs": [],
   "source": [
    "1/19.5 * 1000"
   ]
  },
  {
   "cell_type": "code",
   "execution_count": null,
   "metadata": {
    "collapsed": false
   },
   "outputs": [],
   "source": [
    "1/11.5 * 1000"
   ]
  },
  {
   "cell_type": "code",
   "execution_count": null,
   "metadata": {
    "collapsed": true
   },
   "outputs": [],
   "source": [
    "# http://sound.whsites.net/articles/coax.htm"
   ]
  },
  {
   "cell_type": "code",
   "execution_count": null,
   "metadata": {
    "collapsed": false
   },
   "outputs": [],
   "source": [
    "plt.plot(t, wf)\n",
    "plt.xlabel('Time (ns)')\n",
    "plt.xlim(0, 30)\n",
    "# plt.ylim(-0.002, 0.002)\n",
    "plt.grid()\n",
    "plt.axvline(1.5)\n",
    "plt.axvline(13)"
   ]
  },
  {
   "cell_type": "markdown",
   "metadata": {},
   "source": [
    "### PMT2"
   ]
  },
  {
   "cell_type": "code",
   "execution_count": null,
   "metadata": {
    "collapsed": true
   },
   "outputs": [],
   "source": [
    "wf = avg_wfs[2]\n",
    "wf_sel = wf[sel]\n"
   ]
  },
  {
   "cell_type": "code",
   "execution_count": null,
   "metadata": {
    "collapsed": false
   },
   "outputs": [],
   "source": [
    "plt.plot(wf_sel)"
   ]
  },
  {
   "cell_type": "code",
   "execution_count": null,
   "metadata": {
    "collapsed": true
   },
   "outputs": [],
   "source": [
    "fft = np.fft.fft(wf_sel)\n",
    "N = len(wf_sel)\n",
    "xf = np.linspace(0.0, 1 / (2 * dt), N/2)\n",
    "yf = np.abs(fft[:N//2])"
   ]
  },
  {
   "cell_type": "code",
   "execution_count": null,
   "metadata": {
    "collapsed": false
   },
   "outputs": [],
   "source": [
    "plt.plot(xf * 1000, yf**2)\n",
    "plt.xlabel('Frequency (MHz)')\n",
    "plt.ylabel('Spectral power')\n",
    "plt.xlim(0, 200)\n",
    "for i in [12.5, 16, 29.5, 33]:\n",
    "    plt.axvline(delta_f * i)\n",
    "    print('One at %.1f MHz...' % (delta_f * i))\n",
    "plt.axvline()"
   ]
  },
  {
   "cell_type": "markdown",
   "metadata": {},
   "source": [
    "The dominant frequency in PMT2 is 57.3 MHz. This means... Let us compare the first split line structure...."
   ]
  },
  {
   "cell_type": "code",
   "execution_count": null,
   "metadata": {
    "collapsed": true
   },
   "outputs": [],
   "source": [
    "f1 = np.array([42.9 , 50.1])\n",
    "f2 = np.array([44.7, 57.3])"
   ]
  },
  {
   "cell_type": "code",
   "execution_count": null,
   "metadata": {
    "collapsed": true
   },
   "outputs": [],
   "source": [
    "l1 = 300 / f1 * 0.75"
   ]
  },
  {
   "cell_type": "code",
   "execution_count": null,
   "metadata": {
    "collapsed": true
   },
   "outputs": [],
   "source": [
    "l2 = 300 / f2 * 0.75"
   ]
  },
  {
   "cell_type": "markdown",
   "metadata": {},
   "source": [
    "assuming this is the base frequency, the cable length is half this. So,\n"
   ]
  },
  {
   "cell_type": "code",
   "execution_count": null,
   "metadata": {
    "collapsed": false
   },
   "outputs": [],
   "source": [
    "dl = 0.5 * (l1 - l2)"
   ]
  },
  {
   "cell_type": "code",
   "execution_count": null,
   "metadata": {
    "collapsed": false
   },
   "outputs": [],
   "source": [
    "dl"
   ]
  },
  {
   "cell_type": "markdown",
   "metadata": {},
   "source": [
    "10 - 30 cm. Hmm. Not that bad."
   ]
  },
  {
   "cell_type": "code",
   "execution_count": null,
   "metadata": {
    "collapsed": true
   },
   "outputs": [],
   "source": []
  },
  {
   "cell_type": "markdown",
   "metadata": {
    "collapsed": true
   },
   "source": [
    "### Conclusion..."
   ]
  },
  {
   "cell_type": "markdown",
   "metadata": {},
   "source": [
    "It looks like we have a frequency of ~ 87 MHz (11.5 ns), and also half this frequency and the harmonics. This could correspond to standing waves in the cable, as about 2.5 m of cable would give us these kind of frequencies (half wave of 50 MHz is approximately this length). This would mean that the cable length influences the pulse. For the MSc calibration, there was probably a different cable length (unknown...) giving 19.5 ns from max to first next peak, instead of 11.5. A pretty significant difference! Some information: @  http://sound.whsites.net/articles/coax.htm"
   ]
  },
  {
   "cell_type": "markdown",
   "metadata": {},
   "source": [
    "Incidentally, the cable length with the high-resolution pulse is almost exactly the same (lucky enough!) as the one for normal data. It looks like the high-res cable length is about < 10 cm longer."
   ]
  },
  {
   "cell_type": "markdown",
   "metadata": {
    "collapsed": true
   },
   "source": [
    "# Pretty plot"
   ]
  },
  {
   "cell_type": "markdown",
   "metadata": {},
   "source": [
    "First execute the function defs, then come back."
   ]
  },
  {
   "cell_type": "code",
   "execution_count": 69,
   "metadata": {
    "collapsed": false
   },
   "outputs": [
    {
     "name": "stderr",
     "output_type": "stream",
     "text": [
      "100%|██████████| 32768/32768 [01:06<00:00, 489.68it/s]\n"
     ]
    },
    {
     "name": "stdout",
     "output_type": "stream",
     "text": [
      "BG of 3056.9 expected, got 4530 counts\n",
      "Fraction is 4.50 percent!\n",
      "Computing baselines...\n",
      "Passing 1317 of 32768 events (4.02 %)\n",
      "Cut 1301 of 1317 events (1.21 percent)\n"
     ]
    },
    {
     "name": "stderr",
     "output_type": "stream",
     "text": [
      "100%|██████████| 32768/32768 [01:07<00:00, 481.94it/s]\n"
     ]
    },
    {
     "name": "stdout",
     "output_type": "stream",
     "text": [
      "BG of 3057.0 expected, got 4529 counts\n",
      "Fraction is 4.49 percent!\n",
      "Computing baselines...\n",
      "Passing 1329 of 32768 events (4.06 %)\n",
      "Cut 1319 of 1329 events (0.75 percent)\n"
     ]
    },
    {
     "name": "stderr",
     "output_type": "stream",
     "text": [
      "100%|██████████| 32768/32768 [01:01<00:00, 536.14it/s]\n"
     ]
    },
    {
     "name": "stdout",
     "output_type": "stream",
     "text": [
      "BG of 3067.3 expected, got 4434 counts\n",
      "Fraction is 4.17 percent!\n",
      "Computing baselines...\n",
      "Passing 1263 of 32768 events (3.85 %)\n",
      "Cut 1258 of 1263 events (0.40 percent)\n"
     ]
    },
    {
     "name": "stderr",
     "output_type": "stream",
     "text": [
      "100%|██████████| 32768/32768 [00:58<00:00, 555.61it/s]\n"
     ]
    },
    {
     "name": "stdout",
     "output_type": "stream",
     "text": [
      "BG of 3067.2 expected, got 4435 counts\n",
      "Fraction is 4.17 percent!\n",
      "Computing baselines...\n",
      "Passing 1302 of 32768 events (3.97 %)\n",
      "Cut 1292 of 1302 events (0.77 percent)\n"
     ]
    },
    {
     "name": "stderr",
     "output_type": "stream",
     "text": [
      "100%|██████████| 32768/32768 [00:59<00:00, 552.85it/s]\n"
     ]
    },
    {
     "name": "stdout",
     "output_type": "stream",
     "text": [
      "BG of 3058.4 expected, got 4516 counts\n",
      "Fraction is 4.45 percent!\n",
      "Computing baselines...\n",
      "Passing 1361 of 32768 events (4.15 %)\n",
      "Cut 1352 of 1361 events (0.66 percent)\n"
     ]
    },
    {
     "name": "stderr",
     "output_type": "stream",
     "text": [
      "100%|██████████| 32768/32768 [01:17<00:00, 423.07it/s]\n"
     ]
    },
    {
     "name": "stdout",
     "output_type": "stream",
     "text": [
      "BG of 3045.8 expected, got 4632 counts\n",
      "Fraction is 4.84 percent!\n",
      "Computing baselines...\n",
      "Passing 1433 of 32768 events (4.37 %)\n",
      "Cut 1420 of 1433 events (0.91 percent)\n"
     ]
    }
   ],
   "source": [
    "wvs = []\n",
    "dsets_to_scan = dsets[0] # PMT2 900 V\n",
    "\n",
    "\n",
    "wfs_this_setting = []\n",
    "for dset in dsets_to_scan:\n",
    "    wfs = read_file(dset)\n",
    "    wfs = analyze_it(wfs, baseline_bounds, integration_bounds, position_cuts, plot=False)\n",
    "    wfs_this_setting.append(wfs)\n"
   ]
  },
  {
   "cell_type": "code",
   "execution_count": 36,
   "metadata": {
    "collapsed": false
   },
   "outputs": [
    {
     "data": {
      "image/png": "[encoded data removed]",
      "text/plain": [
       "<matplotlib.figure.Figure at 0x7fdef27083c8>"
      ]
     },
     "metadata": {},
     "output_type": "display_data"
    },
    {
     "data": {
      "image/png": "[encoded data removed]",
      "text/plain": [
       "<matplotlib.figure.Figure at 0x7fdef0bd64a8>"
      ]
     },
     "metadata": {},
     "output_type": "display_data"
    },
    {
     "name": "stdout",
     "output_type": "stream",
     "text": [
      "Passing 1224 of 1318 events (92.87 %)\n"
     ]
    }
   ],
   "source": [
    "wfs = cut_noise(wfs, baseline_bounds, 0, plot=True)\n",
    "plt.show()\n",
    "wfs = cut_area(wfs, aligned_integration_bounds, 0.015, plot=True)\n",
    "plt.show()\n",
    "wfs = normalize(wfs, bounds=aligned_integration_bounds)\n",
    "wf = average_wf(wfs)"
   ]
  },
  {
   "cell_type": "code",
   "execution_count": 38,
   "metadata": {
    "collapsed": false
   },
   "outputs": [],
   "source": [
    "# pickle.dump(wvs, open('/home/erik/win/data/pmt2_highrespulse.pickle', 'wb'))"
   ]
  },
  {
   "cell_type": "code",
   "execution_count": 39,
   "metadata": {
    "collapsed": true
   },
   "outputs": [],
   "source": [
    "dt = 0.1\n",
    "samples = 4096\n",
    "alignment_sample = 1100\n",
    "t = np.arange(0, samples * dt, dt) - alignment_sample * dt"
   ]
  },
  {
   "cell_type": "code",
   "execution_count": 41,
   "metadata": {
    "collapsed": false
   },
   "outputs": [
    {
     "data": {
      "text/plain": [
       "(-10, 100)"
      ]
     },
     "execution_count": 41,
     "metadata": {},
     "output_type": "execute_result"
    },
    {
     "data": {
      "image/png": "[encoded data removed]",
      "text/plain": [
       "<matplotlib.figure.Figure at 0x7fdefb9d3630>"
      ]
     },
     "metadata": {},
     "output_type": "display_data"
    }
   ],
   "source": [
    "plt.plot(t, wf)\n",
    "plt.xlim(-10,100)"
   ]
  },
  {
   "cell_type": "code",
   "execution_count": 55,
   "metadata": {
    "collapsed": false
   },
   "outputs": [],
   "source": [
    "def get_width(t, wf):\n",
    "    halfmax = 0.5 * np.max(wf)\n",
    "    halfpoints = t[np.concatenate([[False], np.diff(wf > halfmax)])]\n",
    "    return halfpoints[1] - halfpoints[0]"
   ]
  },
  {
   "cell_type": "code",
   "execution_count": 56,
   "metadata": {
    "collapsed": false
   },
   "outputs": [
    {
     "data": {
      "text/plain": [
       "5.3000000000000114"
      ]
     },
     "execution_count": 56,
     "metadata": {},
     "output_type": "execute_result"
    }
   ],
   "source": [
    "get_width(t, wf)"
   ]
  },
  {
   "cell_type": "code",
   "execution_count": 62,
   "metadata": {
    "collapsed": false
   },
   "outputs": [],
   "source": [
    "wc = get_coarse_avg_waveform(wfs)"
   ]
  },
  {
   "cell_type": "code",
   "execution_count": 68,
   "metadata": {
    "collapsed": false
   },
   "outputs": [
    {
     "data": {
      "image/png": "[encoded data removed]",
      "text/plain": [
       "<matplotlib.figure.Figure at 0x7fdef0c51b00>"
      ]
     },
     "metadata": {},
     "output_type": "display_data"
    }
   ],
   "source": [
    "norm_range = (-10, 25)\n",
    "a1 = 1 / sum(pulse_ch0[(t_cold >= norm_range[0]) & (t_cold < norm_range[1])])\n",
    "a2 = 1 / sum(wc[(tc - 110 >= norm_range[0]) & (tc - 110 < norm_range[1])])\n",
    "\n",
    "plt.plot(t_cold, a1 * pulse_ch0, label='Cold calibration', ls = 'steps')\n",
    "plt.plot(tc - 110, a2 * wc, label='Warm calibration', ls='steps')\n",
    "plt.legend()\n",
    "plt.xlim(-20, 200)\n",
    "# plt.ylim(-0.02, 0.07)\n",
    "plt.title('PMT2')\n",
    "plt.show()"
   ]
  },
  {
   "cell_type": "code",
   "execution_count": null,
   "metadata": {
    "collapsed": true
   },
   "outputs": [],
   "source": []
  }
 ],
 "metadata": {
  "kernelspec": {
   "display_name": "Python 3",
   "language": "python",
   "name": "python3"
  },
  "language_info": {
   "codemirror_mode": {
    "name": "ipython",
    "version": 3
   },
   "file_extension": ".py",
   "mimetype": "text/x-python",
   "name": "python",
   "nbconvert_exporter": "python",
   "pygments_lexer": "ipython3",
   "version": "3.4.5"
  },
  "latex_envs": {
   "bibliofile": "biblio.bib",
   "cite_by": "apalike",
   "current_citInitial": 1,
   "eqLabelWithNumbers": true,
   "eqNumInitial": 0
  }
 },
 "nbformat": 4,
 "nbformat_minor": 2
}
