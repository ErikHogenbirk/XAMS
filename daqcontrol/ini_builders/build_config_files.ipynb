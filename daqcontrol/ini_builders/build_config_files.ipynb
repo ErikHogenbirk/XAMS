{
 "cells": [
  {
   "cell_type": "markdown",
   "metadata": {},
   "source": [
    "# Main config file builder"
   ]
  },
  {
   "cell_type": "markdown",
   "metadata": {},
   "source": [
    "*March 2018, Katherine McEwan (kmcewan@nikhef.nl), Erik Hogenbirk (ehogenbi@nikhef.nl, hogenbirk91@gmail.com)*"
   ]
  },
  {
   "cell_type": "markdown",
   "metadata": {},
   "source": [
    "This script is intended to output configuration files for kodiaq, which is controlled by the daqcontrol. Find repository [here](https://github.com/ErikHogenbirk/XAMS). Adapted from the run8 version."
   ]
  },
  {
   "cell_type": "markdown",
   "metadata": {
    "heading_collapsed": true
   },
   "source": [
    "### Imports, settings, functions"
   ]
  },
  {
   "cell_type": "code",
   "execution_count": 167,
   "metadata": {
    "collapsed": true,
    "hidden": true
   },
   "outputs": [],
   "source": [
    "# Imports\n",
    "import json\n",
    "import time\n",
    "import os\n",
    "from copy import deepcopy"
   ]
  },
  {
   "cell_type": "code",
   "execution_count": 168,
   "metadata": {
    "collapsed": true,
    "hidden": true
   },
   "outputs": [],
   "source": [
    "# Configuration of the configuration maker\n",
    "output_dir = '/home/xams/xams/daqcontrol/ini/'\n",
    "filename = 'default_config.ini'"
   ]
  },
  {
   "cell_type": "code",
   "execution_count": 169,
   "metadata": {
    "code_folding": [
     0
    ],
    "collapsed": true,
    "hidden": true
   },
   "outputs": [],
   "source": [
    "def set_register(cf, reg, val, comment=\"\", verbose=False):\n",
    "    '''This sets one register value of a config dict.'''\n",
    "    # This is a list of dicts\n",
    "    reg_list = cf['registers']\n",
    "    new_reg_list = []\n",
    "    reg_found = False\n",
    "    for reg_dict in reg_list:\n",
    "        # Find the dict with that register\n",
    "        if reg_dict['register'] == reg:\n",
    "            # If we found it, let's change it\n",
    "            reg_dict['value'] = val\n",
    "            if verbose: print(\"Just set register %s (%s) with value %s\" % (reg_dict['register'],\n",
    "                                                                          reg_dict['comment'], reg_dict['value']))\n",
    "            # Keep track of if we found it\n",
    "            reg_found = True\n",
    "            new_reg_list.append(reg_dict)\n",
    "        else:\n",
    "            # If it doesn't match, we must just copy it\n",
    "            new_reg_list.append(reg_dict)\n",
    "    if not reg_found:\n",
    "        # This is a NEW register, so we must build it\n",
    "        print(\"Register %s not found in config, will append it now...\" % reg)\n",
    "        reg_dict = {\n",
    "            \"comment\" : comment,\n",
    "            \"register\": reg,\n",
    "            \"board\" : \"-1\",\n",
    "            \"value\" : val\n",
    "        }\n",
    "        new_reg_list.append(reg_dict)\n",
    "    cf['registers'] = new_reg_list\n",
    "    return cf\n",
    "        "
   ]
  },
  {
   "cell_type": "code",
   "execution_count": 170,
   "metadata": {
    "collapsed": true,
    "hidden": true
   },
   "outputs": [],
   "source": [
    "def save_config(cf, filename, output_dir=output_dir):\n",
    "    config_path = os.path.join(output_dir, filename)\n",
    "    with open(config_path, 'w') as outfile:\n",
    "        json.dump(cf, outfile, indent = 4)\n",
    "    print('Output written to %s' % config_path)"
   ]
  },
  {
   "cell_type": "markdown",
   "metadata": {},
   "source": [
    "### Default"
   ]
  },
  {
   "cell_type": "code",
   "execution_count": 171,
   "metadata": {
    "collapsed": false
   },
   "outputs": [],
   "source": [
    "cf_default = {\n",
    "    \"data_folder\" : \"/home/xams/lena/run9/raw/data\",\n",
    "    \"lena_pax_config_path\" : \"/data/xenon/xams/run9/pax_ini/_XAMSbase_light.ini\",\n",
    "    \"zle\" : False,\n",
    "    \"super_zle\":False,\n",
    "    \"inverted_channels\" : [],\n",
    "    \"links\": [{\n",
    "        \"type\": \"V2718\",\n",
    "        \"reader\": 0,\n",
    "        \"crate\": 0,\n",
    "        \"link\": 0\n",
    "    }],\n",
    "\n",
    "    \"boards\": [{\n",
    "        \"crate\": 0,\n",
    "        \"serial\": \"077\",\n",
    "        \"reader\": 0,\n",
    "        \"type\": \"V1724\",\n",
    "        \"vme_address\": \"Whatever?\",\n",
    "        \"link\": 0\n",
    "    }],\n",
    "    # blt_size {int} : block transfer size in bytes (decimal).\n",
    "    # V1724 standard: 524288\n",
    "    # V1730 maximum: 2097152?\n",
    "    \"blt_size\": 524288,\n",
    "    # run_start {int} : 0 - board internal (run start via register), \n",
    "    # 1 - s-in (for synchronized boards)\n",
    "    \"run_start\": 0,\n",
    "    \"baseline_mode\": 0,\n",
    "    # write_mode {int}: 0-no writing, 1-to file, 2-mongodb\n",
    "    \"write_mode\": 2,\n",
    "\n",
    "    \"mongo\": {\n",
    "        \"write_concern\": 0,\n",
    "        \"min_insert_size\": 1,\n",
    "        \"database\": \"xamsdata0\",\n",
    "        \"address\": \"mongodb://localhost:27017\",\n",
    "        \"collection\": \"onzin\"\n",
    "    },\n",
    "    \"processing_readout_threshold\": 0,\n",
    "    \"processing_num_threads\": 8,\n",
    "    \"processing_mode\": 3,\n",
    "    \"occurrence_integral\": 0,\n",
    "\n",
    "    \"compression\": 1,\n",
    "    \n",
    "    \"registers\": [\n",
    "        {\n",
    "            \"comment\": \"Reset software (all registers)\",\n",
    "            \"register\": \"EF24\",\n",
    "            \"board\": \"-1\",\n",
    "            \"value\": \"1\"\n",
    "        },\n",
    "        {\n",
    "            \"comment\": \"BLT event number\",\n",
    "            \"register\": \"EF1C\",\n",
    "            \"board\": \"-1\",\n",
    "            \"value\": \"1\"\n",
    "            # Maximum number of events loaded into each block.\n",
    "            # 40hex = 64dec\n",
    "        },\n",
    "        {\n",
    "            \"comment\": \"Enable BERR (error messages)\",\n",
    "            \"register\": \"EF00\",\n",
    "            \"board\": \"-1\",\n",
    "            \"value\": \"10\"\n",
    "        },\n",
    "        {\n",
    "            \"comment\": \"Aquisition control register\",\n",
    "            \"register\": \"8100\",\n",
    "            \"board\": \"-1\",\n",
    "            \"value\": \"5\" \n",
    "            #5: s-in control, 0: board control\n",
    "        },\n",
    "        {\n",
    "            \"comment\": \"Channel calibration\",\n",
    "            \"register\": \"809C\",\n",
    "            \"board\": \"-1\",\n",
    "            \"value\": \"1\"\n",
    "            # enables channel calibration\n",
    "        },\n",
    "        {\n",
    "            \"comment\": \"Channel enable mask\",\n",
    "            \"register\": \"8120\",\n",
    "            \"board\": \"-1\",\n",
    "            \"value\": \"09\"\n",
    "            # set to 01 to enable channel 0 only\n",
    "            # set to 09 to enable channel 0 and 3\n",
    "        },\n",
    "        {\n",
    "            \"comment\": \"Measurement time after trigger\",\n",
    "            \"register\": \"8114\",\n",
    "            \"board\": \"-1\",\n",
    "            \"value\": \"1400\"\n",
    "            # 20hex = 32dec = 320 samples = 640 ns\n",
    "            # 1000 = 81 920 ns\n",
    "        },\n",
    "        {\n",
    "            \"comment\": \"Trigger source enable mask\",\n",
    "            \"register\": \"810C\",\n",
    "            \"board\": \"-1\",\n",
    "            \"value\": \"C1F00003\"\n",
    "            #\"value\": \"C1F00003\" 120 ns\n",
    "            # First digit: C for enable external + software trig\n",
    "            # Second: coincidence level\n",
    "            # Last one (?): channels enable\n",
    "            # Set to \"C0000001\" for only trigger 0 and 1\n",
    "        },\n",
    "        {\n",
    "            \"comment\": \"Buffer organisation\",\n",
    "            \"register\": \"800C\",\n",
    "            \"board\": \"-1\",\n",
    "            \"value\": \"6\"\n",
    "        },\n",
    "        {\n",
    "            \"comment\": \"Interrupt status ID\",\n",
    "            \"register\": \"EF14\",\n",
    "            \"board\": \"-1\",\n",
    "            \"value\": \"55AA\"\n",
    "            # Interrupt\n",
    "        },\n",
    "        {\n",
    "            \"comment\": \"Interrupt event number\",\n",
    "            \"register\": \"EF18\",\n",
    "            \"board\": \"-1\",\n",
    "            \"value\": \"1\"\n",
    "            # Interrupt when 1 event stored\n",
    "        },\n",
    "        {\n",
    "            \"comment\": \"Channel 0 gain\",\n",
    "            \"register\": \"1028\",\n",
    "            \"board\": \"-1\",\n",
    "            \"value\": \"0\"\n",
    "            # Channel n gain 0x1n28 (either 0 (2 Vpp) or 1 (0.5 Vpp))\n",
    "            # ONLY V1730\n",
    "        },\n",
    "        {\n",
    "            \"comment\": \"Channel 3 gain\",\n",
    "            \"register\": \"1328\",\n",
    "            \"board\": \"-1\",\n",
    "            \"value\": \"0\"\n",
    "            # Channel n gain 0x1n28 (either 0 (2 Vpp) or 1 (0.5 Vpp))\n",
    "            # ONLY V1730\n",
    "        },\n",
    "        {\n",
    "            \"comment\": \"Trigger level channel 0\",\n",
    "            \"register\": \"1080\",\n",
    "            \"board\": \"-1\",\n",
    "            \"value\": \"1FBE\"\n",
    "            # 1FF4 (hex) = 8180 (dec)\n",
    "            # 1FEA (hex) = 8170 (dec)\n",
    "            # 1FE0 (hex) = 8160 (dec)\n",
    "            # 1FD6 (hex) = 8150 (dec)\n",
    "            # 1F40 (hex) = 8000 (dec)\n",
    "            # 1E78 (hex) = 7800 (dec)\n",
    "        },\n",
    "        {\n",
    "            \"comment\": \"Trigger level channel 3\",\n",
    "            \"register\": \"1380\",\n",
    "            \"board\": \"-1\",\n",
    "            \"value\": \"2004\"\n",
    "        },\n",
    "        {\n",
    "            \"comment\": \"Trigger polarity\",\n",
    "            \"register\": \"8000\",\n",
    "            \"board\": \"-1\",\n",
    "            \"value\": \"40\"\n",
    "            # Set to 40 for negative, 00 for positive\n",
    "        }\n",
    "    ],\n",
    "}\n"
   ]
  },
  {
   "cell_type": "code",
   "execution_count": 172,
   "metadata": {
    "collapsed": false
   },
   "outputs": [
    {
     "name": "stdout",
     "output_type": "stream",
     "text": [
      "Output written to /home/xams/xams/daqcontrol/ini/default_config.ini\n"
     ]
    }
   ],
   "source": [
    "save_config(cf_default, 'default_config.ini')"
   ]
  },
  {
   "cell_type": "markdown",
   "metadata": {},
   "source": [
    "## Other configuration"
   ]
  },
  {
   "cell_type": "markdown",
   "metadata": {
    "heading_collapsed": true
   },
   "source": [
    "### Default ZLE"
   ]
  },
  {
   "cell_type": "code",
   "execution_count": 173,
   "metadata": {
    "collapsed": false,
    "hidden": true
   },
   "outputs": [
    {
     "name": "stdout",
     "output_type": "stream",
     "text": [
      "Output written to /home/xams/xams/daqcontrol/ini/default_zle.ini\n"
     ]
    }
   ],
   "source": [
    "cf_default_zle = deepcopy(cf_default)\n",
    "cf_default_zle['zle'] = True\n",
    "save_config(cf_default_zle, 'default_zle.ini')"
   ]
  },
  {
   "cell_type": "markdown",
   "metadata": {
    "heading_collapsed": true
   },
   "source": [
    "### Gain calibration"
   ]
  },
  {
   "cell_type": "markdown",
   "metadata": {
    "hidden": true
   },
   "source": [
    "Settings for PMT calibration. Triggers on a NIM pulse fed to channel 4. Short waveforms (1.28 us) with the PMT pulses that around 700 ns."
   ]
  },
  {
   "cell_type": "code",
   "execution_count": 174,
   "metadata": {
    "collapsed": false,
    "hidden": true
   },
   "outputs": [
    {
     "name": "stdout",
     "output_type": "stream",
     "text": [
      "Register 1428 not found in config, will append it now...\n",
      "Register 1480 not found in config, will append it now...\n",
      "Register 8020 not found in config, will append it now...\n",
      "Output written to /home/xams/xams/daqcontrol/ini/PMT12_gain.ini\n"
     ]
    }
   ],
   "source": [
    "cf_PMT12_gain = deepcopy(cf_default)\n",
    "cf_PMT12_gain['data_folder'] = \"/home/xams/lena/run9/raw/gaincalibration\"\n",
    "cf_PMT12_gain[\"lena_pax_config_path\"] = \"/data/xenon/xams/run9/pax_ini/XAMS_raw_to_processed_PMT12_gain.ini\"\n",
    "\n",
    "cf_PMT12_gain = set_register(cf_PMT12_gain, \"8120\", \"19\") # Chan enable\n",
    "cf_PMT12_gain = set_register(cf_PMT12_gain, \"810C\", \"C0000004\") # Trigger source\n",
    "cf_PMT12_gain = set_register(cf_PMT12_gain, \"8114\", \"20\")       # Time after trigger\n",
    "cf_PMT12_gain = set_register(cf_PMT12_gain, \"EF1C\", \"40\")\n",
    "cf_PMT12_gain = set_register(cf_PMT12_gain, \"800C\", \"A\")        # Buffer organization\n",
    "cf_PMT12_gain = set_register(cf_PMT12_gain, \"1028\", \"1\")        # Channel 0 gain\n",
    "cf_PMT12_gain = set_register(cf_PMT12_gain, \"1328\", \"1\")        # Channel 3 gain\n",
    "cf_PMT12_gain = set_register(cf_PMT12_gain, \"1428\", \"0\")        # Channel 4 gain\n",
    "cf_PMT12_gain = set_register(cf_PMT12_gain, \"1080\", \"0000\")     # Trigger level channel 0\n",
    "cf_PMT12_gain = set_register(cf_PMT12_gain, \"1380\", \"0000\")     # Trigger level channel 3\n",
    "cf_PMT12_gain = set_register(cf_PMT12_gain, \"1480\", \"1770\")     # Trigger level channel 4 (at 6000 counts, for NIM pulse)\n",
    "cf_PMT12_gain = set_register(cf_PMT12_gain, \"8020\", \"40\")       # Event window size (40hex = 64dec = \n",
    "                                                                #                 640 samples = 1280 ns)\n",
    "save_config(cf_PMT12_gain, 'PMT12_gain.ini')"
   ]
  },
  {
   "cell_type": "markdown",
   "metadata": {
    "heading_collapsed": true
   },
   "source": [
    "### Baseline"
   ]
  },
  {
   "cell_type": "markdown",
   "metadata": {
    "hidden": true
   },
   "source": [
    "Same general configuration, but with the exception that you can trigger on external trigger only. Useful for noise, baseline, on data rate test."
   ]
  },
  {
   "cell_type": "code",
   "execution_count": 175,
   "metadata": {
    "collapsed": false,
    "hidden": true
   },
   "outputs": [
    {
     "name": "stdout",
     "output_type": "stream",
     "text": [
      "Register 1480 not found in config, will append it now...\n",
      "Register 1428 not found in config, will append it now...\n",
      "Register 8098 not found in config, will append it now...\n",
      "Output written to /home/xams/xams/daqcontrol/ini/baseline.ini\n"
     ]
    }
   ],
   "source": [
    "cf_baseline = deepcopy(cf_default)\n",
    "cf_baseline['data_folder'] = \"/home/xams/lena/run9/raw/baseline\"\n",
    "cf_baseline[\"lena_pax_config_path\"] = \"/data/xenon/xams/run9/pax_ini/XAMS_raw_to_processed_baseline.ini\"\n",
    "cf_baseline = set_register(cf_baseline, \"810C\", \"C0000004\")  # Trigger source: use ONLY external (or channel 4 0.5V pulse)\n",
    "cf_baseline = set_register(cf_baseline, \"1480\", \"1770\")  # Trigger level channel 4 (-0.25 volt)\n",
    "cf_baseline = set_register(cf_baseline, \"1428\", \"0\")  # Gain channel 4\n",
    "\n",
    "# Test setting 22/03\n",
    "# Default settings: baseline 0, 809C 1, 8098 unset\n",
    "cf_baseline['baseline_mode'] = 0\n",
    "cf_baseline = set_register(cf_baseline, \"809C\", '1')\n",
    "cf_baseline = set_register(cf_baseline, \"8098\", \"1000\")\n",
    "\n",
    "\n",
    "save_config(cf_baseline, 'baseline.ini')"
   ]
  },
  {
   "cell_type": "markdown",
   "metadata": {
    "heading_collapsed": true
   },
   "source": [
    "### Default_zle_long"
   ]
  },
  {
   "cell_type": "code",
   "execution_count": 176,
   "metadata": {
    "collapsed": false,
    "hidden": true
   },
   "outputs": [
    {
     "name": "stdout",
     "output_type": "stream",
     "text": [
      "Register 8020 not found in config, will append it now...\n",
      "Output written to /home/xams/xams/daqcontrol/ini/default_zle_long.ini\n"
     ]
    }
   ],
   "source": [
    "cf_rn = deepcopy(cf_default)\n",
    "\n",
    "cf_rn = set_register(cf_rn, \"8114\", \"1900\")     # Time after trigger\n",
    "cf_rn = set_register(cf_rn, \"800C\", \"5\")        # Buffer organization\n",
    "cf_rn = set_register(cf_rn, \"8020\", \"2800\")     # Custom window\n",
    "cf_rn['zle'] = True\n",
    "cf_rn['blt_size'] = 2097152\n",
    "\n",
    "\n",
    "save_config(cf_rn, 'default_zle_long.ini')"
   ]
  },
  {
   "cell_type": "markdown",
   "metadata": {
    "collapsed": true,
    "heading_collapsed": true
   },
   "source": [
    "### S1 only"
   ]
  },
  {
   "cell_type": "code",
   "execution_count": 177,
   "metadata": {
    "collapsed": false,
    "hidden": true
   },
   "outputs": [
    {
     "name": "stdout",
     "output_type": "stream",
     "text": [
      "Register 8020 not found in config, will append it now...\n",
      "Output written to /home/xams/xams/daqcontrol/ini/s1_only.ini\n"
     ]
    }
   ],
   "source": [
    "cf_s1 = deepcopy(cf_default)\n",
    "cf_s1['zle'] = True\n",
    "cf_s1['data_folder'] = '/home/xams/lena/run9/raw/s1_only'\n",
    "cf_s1['lena_pax_config_path'] = '/data/xenon/xams/run9/pax_ini/_XAMSbase_light.ini'\n",
    "cf_s1 = set_register(cf_s1, \"8114\", \"40\")       # Time after trigger\n",
    "                                                # 100hex = 256dec = 2560 samples = 5120 ns\n",
    "cf_s1 = set_register(cf_s1, \"800C\", \"A\")        # Buffer organization\n",
    "                                                # A = 10 us\n",
    "cf_s1 = set_register(cf_s1, \"8020\", \"80\")       # Event window size (40hex = 64dec = \n",
    "                                                # 640 samples = 1280 ns)   \n",
    "save_config(cf_s1, 's1_only.ini')"
   ]
  },
  {
   "cell_type": "markdown",
   "metadata": {
    "heading_collapsed": true
   },
   "source": [
    "### Na22"
   ]
  },
  {
   "cell_type": "code",
   "execution_count": 178,
   "metadata": {
    "collapsed": false,
    "hidden": true
   },
   "outputs": [
    {
     "name": "stdout",
     "output_type": "stream",
     "text": [
      "Register 1480 not found in config, will append it now...\n",
      "Output written to /home/xams/xams/daqcontrol/ini/Na22_zle.ini\n"
     ]
    }
   ],
   "source": [
    "cf_bla = deepcopy(cf_default)\n",
    "cf_bla['zle'] = True\n",
    "\n",
    "cf_bla['data_folder'] = \"/home/xams/lena/run9/raw/data\"\n",
    "cf_bla[\"lena_pax_config_path\"] = \"/data/xenon/xams/run9/pax_ini/XAMS_raw_to_processed_Na22.ini\"\n",
    "\n",
    "cf_bla = set_register(cf_bla, \"8120\", \"19\")       # Channel enable mask\n",
    "cf_bla = set_register(cf_bla, \"810C\", \"C2F00007\") # Trigger source\n",
    "cf_bla = set_register(cf_bla, \"1480\", \"2000\")     # Trigger level channel 4\n",
    "\n",
    "save_config(cf_bla, 'Na22_zle.ini')"
   ]
  },
  {
   "cell_type": "markdown",
   "metadata": {
    "heading_collapsed": true
   },
   "source": [
    "### EJ passive"
   ]
  },
  {
   "cell_type": "code",
   "execution_count": 179,
   "metadata": {
    "collapsed": false,
    "hidden": true
   },
   "outputs": [
    {
     "name": "stdout",
     "output_type": "stream",
     "text": [
      "Output written to /home/xams/xams/daqcontrol/ini/EJ_passive.ini\n"
     ]
    }
   ],
   "source": [
    "cf_bla = deepcopy(cf_default)\n",
    "cf_bla['zle'] = True\n",
    "\n",
    "cf_bla['data_folder'] = \"/home/xams/lena/run9/raw/data\"\n",
    "cf_bla[\"lena_pax_config_path\"] = \"/data/xenon/xams/run9/pax_ini/XAMS_raw_to_processed_EJ.ini\"\n",
    "\n",
    "cf_bla = set_register(cf_bla, \"8120\", \"19\")       # Channel enable mask\n",
    "# cf_bla = set_register(cf_bla, \"810C\", \"C2F00007\") # Trigger source\n",
    "# cf_bla = set_register(cf_bla, \"1480\", \"2000\")     # Trigger level channel 4\n",
    "cf_bla = set_register(cf_bla, \"1080\", \"1f86\")\n",
    "cf_bla = set_register(cf_bla, \"1380\", \"1fc7\")\n",
    "\n",
    "\n",
    "save_config(cf_bla, 'EJ_passive.ini')"
   ]
  },
  {
   "cell_type": "markdown",
   "metadata": {
    "heading_collapsed": true
   },
   "source": [
    "### EJ coincidence"
   ]
  },
  {
   "cell_type": "code",
   "execution_count": 180,
   "metadata": {
    "collapsed": false,
    "hidden": true
   },
   "outputs": [
    {
     "name": "stdout",
     "output_type": "stream",
     "text": [
      "Register 1480 not found in config, will append it now...\n",
      "Output written to /home/xams/xams/daqcontrol/ini/EJ_coincidence_PMT1.ini\n"
     ]
    }
   ],
   "source": [
    "cf_bla = deepcopy(cf_default)\n",
    "cf_bla['zle'] = True\n",
    "\n",
    "cf_bla['data_folder'] = \"/home/xams/lena/run9/raw/data\"\n",
    "cf_bla[\"lena_pax_config_path\"] = \"/data/xenon/xams/run9/pax_ini/XAMS_raw_to_processed_EJ.ini\"\n",
    "\n",
    "cf_bla = set_register(cf_bla, \"8120\", \"19\")       # Channel enable mask\n",
    "cf_bla = set_register(cf_bla, \"810C\", \"C1F00006\") # Trigger source\n",
    "# cf_bla = set_register(cf_bla, \"1480\", \"2000\")     # Trigger level channel 4\n",
    "# cf_bla = set_register(cf_bla, \"1080\", \"1faf\")\n",
    "cf_bla = set_register(cf_bla, \"1380\", \"203a\") # trigger level channel 3\n",
    "cf_bla = set_register(cf_bla, \"1480\", \"1ffa\")\n",
    "\n",
    "\n",
    "save_config(cf_bla, 'EJ_coincidence_PMT1.ini')"
   ]
  },
  {
   "cell_type": "markdown",
   "metadata": {
    "heading_collapsed": true
   },
   "source": [
    "### EJ or TPC"
   ]
  },
  {
   "cell_type": "code",
   "execution_count": 181,
   "metadata": {
    "collapsed": false,
    "hidden": true
   },
   "outputs": [
    {
     "name": "stdout",
     "output_type": "stream",
     "text": [
      "Register 1480 not found in config, will append it now...\n",
      "Output written to /home/xams/xams/daqcontrol/ini/EJ_coincidence_PMT1_or_TPC.ini\n"
     ]
    }
   ],
   "source": [
    "cf_bla = deepcopy(cf_default)\n",
    "cf_bla['zle'] = True\n",
    "\n",
    "cf_bla['data_folder'] = \"/home/xams/lena/run9/raw/data\"\n",
    "cf_bla[\"lena_pax_config_path\"] = \"/data/xenon/xams/run9/pax_ini/XAMS_raw_to_processed_EJ.ini\"\n",
    "\n",
    "cf_bla = set_register(cf_bla, \"8120\", \"19\")       # Channel enable mask\n",
    "cf_bla = set_register(cf_bla, \"810C\", \"C1F00007\") # Trigger source\n",
    "cf_bla = set_register(cf_bla, \"1080\", \"1f86\") # Trigger level channel 0\n",
    "cf_bla = set_register(cf_bla, \"1380\", \"203a\")\n",
    "cf_bla = set_register(cf_bla, \"1480\", \"1ffa\")\n",
    "\n",
    "\n",
    "save_config(cf_bla, 'EJ_coincidence_PMT1_or_TPC.ini')"
   ]
  },
  {
   "cell_type": "markdown",
   "metadata": {
    "heading_collapsed": true
   },
   "source": [
    "### EJ coincidence short"
   ]
  },
  {
   "cell_type": "code",
   "execution_count": 182,
   "metadata": {
    "collapsed": false,
    "hidden": true
   },
   "outputs": [
    {
     "name": "stdout",
     "output_type": "stream",
     "text": [
      "Register 1480 not found in config, will append it now...\n",
      "Output written to /home/xams/xams/daqcontrol/ini/EJ_coincidence_PMT1_short.ini\n"
     ]
    }
   ],
   "source": [
    "cf_bla = deepcopy(cf_default)\n",
    "cf_bla['zle'] = True\n",
    "\n",
    "cf_bla['data_folder'] = \"/home/xams/lena/run9/raw/data\"\n",
    "cf_bla[\"lena_pax_config_path\"] = \"/data/xenon/xams/run9/pax_ini/XAMS_raw_to_processed_EJ.ini\"\n",
    "\n",
    "cf_bla = set_register(cf_bla, \"8120\", \"19\")       # Channel enable mask\n",
    "cf_bla = set_register(cf_bla, \"810C\", \"C1F00006\") # Trigger source\n",
    "# cf_bla = set_register(cf_bla, \"1480\", \"2000\")     # Trigger level channel 4\n",
    "# cf_bla = set_register(cf_bla, \"1080\", \"1faf\")\n",
    "cf_bla = set_register(cf_bla, \"1380\", \"203a\")\n",
    "cf_bla = set_register(cf_bla, \"1480\", \"1ffa\")\n",
    "cf_bla = set_register(cf_bla, \"8114\", \"96\")     # Time after trigger\n",
    "cf_bla = set_register(cf_bla, \"800C\", \"A\")        # Buffer organization\n",
    "\n",
    "save_config(cf_bla, 'EJ_coincidence_PMT1_short.ini')"
   ]
  },
  {
   "cell_type": "markdown",
   "metadata": {
    "heading_collapsed": true
   },
   "source": [
    "### EJ triggered short"
   ]
  },
  {
   "cell_type": "code",
   "execution_count": 183,
   "metadata": {
    "collapsed": false,
    "hidden": true
   },
   "outputs": [
    {
     "name": "stdout",
     "output_type": "stream",
     "text": [
      "Register 1480 not found in config, will append it now...\n",
      "Output written to /home/xams/xams/daqcontrol/ini/EJ_triggered_short.ini\n"
     ]
    }
   ],
   "source": [
    "cf_bla = deepcopy(cf_default)\n",
    "cf_bla['zle'] = True\n",
    "\n",
    "cf_bla['data_folder'] = \"/home/xams/lena/run9/raw/data\"\n",
    "cf_bla[\"lena_pax_config_path\"] = \"/data/xenon/xams/run9/pax_ini/XAMS_raw_to_processed_EJ.ini\"\n",
    "\n",
    "cf_bla = set_register(cf_bla, \"8120\", \"19\")       # Channel enable mask\n",
    "cf_bla = set_register(cf_bla, \"810C\", \"C0F00004\") # Trigger source\n",
    "# cf_bla = set_register(cf_bla, \"1480\", \"2000\")     # Trigger level channel 4\n",
    "# cf_bla = set_register(cf_bla, \"1080\", \"1faf\")\n",
    "# cf_bla = set_register(cf_bla, \"1380\", \"203a\")\n",
    "cf_bla = set_register(cf_bla, \"1480\", \"1ffa\")\n",
    "cf_bla = set_register(cf_bla, \"8114\", \"96\")     # Time after trigger\n",
    "cf_bla = set_register(cf_bla, \"800C\", \"A\")        # Buffer organization\n",
    "\n",
    "save_config(cf_bla, 'EJ_triggered_short.ini')"
   ]
  },
  {
   "cell_type": "markdown",
   "metadata": {
    "heading_collapsed": true
   },
   "source": [
    "### Na22_long"
   ]
  },
  {
   "cell_type": "code",
   "execution_count": 184,
   "metadata": {
    "collapsed": false,
    "hidden": true
   },
   "outputs": [
    {
     "name": "stdout",
     "output_type": "stream",
     "text": [
      "Register 1480 not found in config, will append it now...\n",
      "Register 8020 not found in config, will append it now...\n",
      "Output written to /home/xams/xams/daqcontrol/ini/Na22_zle_long.ini\n"
     ]
    }
   ],
   "source": [
    "cf_bla = deepcopy(cf_default)\n",
    "cf_bla['zle'] = True\n",
    "\n",
    "cf_bla['data_folder'] = \"/home/xams/lena/run9/raw/data\"\n",
    "cf_bla[\"lena_pax_config_path\"] = \"/data/xenon/xams/run9/pax_ini/XAMS_raw_to_processed_Na22.ini\"\n",
    "\n",
    "cf_bla = set_register(cf_bla, \"8120\", \"19\")       # Channel enable mask\n",
    "cf_bla = set_register(cf_bla, \"810C\", \"C2F00007\") # Trigger source\n",
    "cf_bla = set_register(cf_bla, \"1480\", \"2000\")     # Trigger level channel 4\n",
    "\n",
    "cf_bla = set_register(cf_bla, \"8114\", \"1900\")     # Time after trigger\n",
    "cf_bla = set_register(cf_bla, \"800C\", \"5\")        # Buffer organization\n",
    "cf_bla = set_register(cf_bla, \"8020\", \"2800\")     # Custom window\n",
    "cf_bla['blt_size'] = 2097152\n",
    "\n",
    "save_config(cf_bla, 'Na22_zle_long.ini')"
   ]
  },
  {
   "cell_type": "markdown",
   "metadata": {
    "heading_collapsed": true
   },
   "source": [
    "### Na22_superlong"
   ]
  },
  {
   "cell_type": "code",
   "execution_count": 185,
   "metadata": {
    "collapsed": false,
    "hidden": true
   },
   "outputs": [
    {
     "name": "stdout",
     "output_type": "stream",
     "text": [
      "Register 1480 not found in config, will append it now...\n",
      "Register 8020 not found in config, will append it now...\n",
      "Output written to /home/xams/xams/daqcontrol/ini/Na22_zle_superlong.ini\n"
     ]
    }
   ],
   "source": [
    "cf_bla = deepcopy(cf_default)\n",
    "cf_bla['zle'] = True\n",
    "\n",
    "cf_bla['data_folder'] = \"/home/xams/lena/run9/raw/data\"\n",
    "cf_bla[\"lena_pax_config_path\"] = \"/data/xenon/xams/run9/pax_ini/XAMS_raw_to_processed_Na22.ini\"\n",
    "\n",
    "cf_bla = set_register(cf_bla, \"8120\", \"19\")       # Channel enable mask\n",
    "cf_bla = set_register(cf_bla, \"810C\", \"C2F00007\") # Trigger source\n",
    "cf_bla = set_register(cf_bla, \"1480\", \"2000\")     # Trigger level channel 4\n",
    "\n",
    "cf_bla = set_register(cf_bla, \"8114\", \"2600\")     # Time after trigger\n",
    "cf_bla = set_register(cf_bla, \"800C\", \"4\")        # Buffer organization\n",
    "cf_bla = set_register(cf_bla, \"8020\", \"4000\")     # Custom window\n",
    "cf_bla['blt_size'] = 2097152\n",
    "\n",
    "save_config(cf_bla, 'Na22_zle_superlong.ini')"
   ]
  },
  {
   "cell_type": "code",
   "execution_count": 186,
   "metadata": {
    "collapsed": false,
    "hidden": true
   },
   "outputs": [
    {
     "data": {
      "text/plain": [
       "10240"
      ]
     },
     "execution_count": 186,
     "metadata": {},
     "output_type": "execute_result"
    }
   ],
   "source": [
    "int('2800', 16)"
   ]
  },
  {
   "cell_type": "code",
   "execution_count": 187,
   "metadata": {
    "collapsed": false,
    "hidden": true
   },
   "outputs": [
    {
     "data": {
      "text/plain": [
       "327.68"
      ]
     },
     "execution_count": 187,
     "metadata": {},
     "output_type": "execute_result"
    }
   ],
   "source": [
    "int('4000', 16) * 2 * 0.01"
   ]
  },
  {
   "cell_type": "markdown",
   "metadata": {
    "heading_collapsed": true
   },
   "source": [
    "### Na22_zerofield"
   ]
  },
  {
   "cell_type": "code",
   "execution_count": 188,
   "metadata": {
    "collapsed": false,
    "hidden": true
   },
   "outputs": [
    {
     "name": "stdout",
     "output_type": "stream",
     "text": [
      "Register 1480 not found in config, will append it now...\n",
      "Output written to /home/xams/xams/daqcontrol/ini/Na22_zerofield.ini\n"
     ]
    }
   ],
   "source": [
    "cf_bla = deepcopy(cf_default)\n",
    "cf_bla['zle'] = True\n",
    "\n",
    "cf_bla['data_folder'] = \"/home/xams/lena/run9/raw/data\"\n",
    "cf_bla[\"lena_pax_config_path\"] = \"/data/xenon/xams/run9/pax_ini/XAMS_raw_to_processed_Na22.ini\"\n",
    "\n",
    "cf_bla = set_register(cf_bla, \"8120\", \"19\")       # Channel enable mask\n",
    "cf_bla = set_register(cf_bla, \"810C\", \"C2F00007\") # Trigger source\n",
    "cf_bla = set_register(cf_bla, \"1480\", \"2000\")     # Trigger level channel 4\n",
    "\n",
    "cf_bla = set_register(cf_bla, \"8114\", \"96\")     # Time after trigger\n",
    "cf_bla = set_register(cf_bla, \"800C\", \"A\")        # Buffer organization\n",
    "\n",
    "save_config(cf_bla, 'Na22_zerofield.ini')"
   ]
  },
  {
   "cell_type": "markdown",
   "metadata": {
    "heading_collapsed": true
   },
   "source": [
    "### NaI_only"
   ]
  },
  {
   "cell_type": "code",
   "execution_count": 189,
   "metadata": {
    "collapsed": false,
    "hidden": true
   },
   "outputs": [
    {
     "name": "stdout",
     "output_type": "stream",
     "text": [
      "Register 8020 not found in config, will append it now...\n",
      "Register 1180 not found in config, will append it now...\n",
      "Output written to /home/xams/xams/daqcontrol/ini/NaI_only.ini\n"
     ]
    }
   ],
   "source": [
    "cf_bla = deepcopy(cf_default)\n",
    "cf_bla['zle'] = False\n",
    "\n",
    "cf_bla['data_folder'] = \"/home/xams/lena/run9/raw/NaI_only\"\n",
    "cf_bla[\"lena_pax_config_path\"] = \"/data/xenon/xams/run9/pax_ini/XAMS_raw_to_processed_scin.ini\"\n",
    "\n",
    "cf_bla = set_register(cf_bla, \"8114\", \"96\")       # Time after trigger\n",
    "cf_bla = set_register(cf_bla, \"800C\", \"A\")        # Buffer organization\n",
    "cf_bla = set_register(cf_bla, \"8020\", \"15E\")       # Event window size (40hex = 1280ns)\n",
    "cf_bla = set_register(cf_bla, \"8120\", \"01\")       # Channel enable mask\n",
    "cf_bla = set_register(cf_bla, \"810C\", \"C0000001\") # Trigger source\n",
    "cf_bla = set_register(cf_bla, \"1080\", \"1FA4\")     # Trigger level channel 0\n",
    "cf_bla = set_register(cf_bla, \"1180\", \"0000\")     # Trigger level channel 1\n",
    "\n",
    "\n",
    "save_config(cf_bla, 'NaI_only.ini')"
   ]
  },
  {
   "cell_type": "markdown",
   "metadata": {
    "heading_collapsed": true
   },
   "source": [
    "### EJ_only"
   ]
  },
  {
   "cell_type": "code",
   "execution_count": 190,
   "metadata": {
    "collapsed": false,
    "hidden": true
   },
   "outputs": [
    {
     "name": "stdout",
     "output_type": "stream",
     "text": [
      "Register 8020 not found in config, will append it now...\n",
      "Register 1480 not found in config, will append it now...\n",
      "Output written to /home/xams/xams/daqcontrol/ini/EJ_only.ini\n"
     ]
    }
   ],
   "source": [
    "cf_bla = deepcopy(cf_default)\n",
    "cf_bla['zle'] = False\n",
    "\n",
    "cf_bla['data_folder'] = \"/home/xams/lena/run9/raw/NaI_only\"\n",
    "cf_bla[\"lena_pax_config_path\"] = \"/data/xenon/xams/run9/pax_ini/XAMS_raw_to_processed_scin_ch4.ini\"\n",
    "\n",
    "cf_bla = set_register(cf_bla, \"8114\", \"96\")       # Time after trigger\n",
    "cf_bla = set_register(cf_bla, \"800C\", \"A\")        # Buffer organization\n",
    "cf_bla = set_register(cf_bla, \"8020\", \"15E\")       # Event window size (40hex = 1280ns)\n",
    "cf_bla = set_register(cf_bla, \"8120\", \"10\")       # Channel enable mask\n",
    "cf_bla = set_register(cf_bla, \"810C\", \"C0000004\") # Trigger source\n",
    "cf_bla = set_register(cf_bla, \"1480\", \"1ffa\")     # Trigger level channel 4\n",
    "\n",
    "save_config(cf_bla, 'EJ_only.ini')"
   ]
  },
  {
   "cell_type": "markdown",
   "metadata": {
    "heading_collapsed": true
   },
   "source": [
    "### NaI_only + Discriminator"
   ]
  },
  {
   "cell_type": "code",
   "execution_count": 191,
   "metadata": {
    "collapsed": false,
    "hidden": true
   },
   "outputs": [
    {
     "name": "stdout",
     "output_type": "stream",
     "text": [
      "Register 8020 not found in config, will append it now...\n",
      "Register 1180 not found in config, will append it now...\n",
      "Register 1280 not found in config, will append it now...\n",
      "Output written to /home/xams/xams/daqcontrol/ini/NaI_only.ini\n"
     ]
    }
   ],
   "source": [
    "cf_bla = deepcopy(cf_default)\n",
    "cf_bla['zle'] = False\n",
    "\n",
    "cf_bla['data_folder'] = \"/home/xams/lena/run9/raw/NaI_only\"\n",
    "cf_bla[\"lena_pax_config_path\"] = \"/data/xenon/xams/run9/pax_ini/XAMS_raw_to_processed_scin_coincidence.ini\"\n",
    "\n",
    "cf_bla = set_register(cf_bla, \"8114\", \"96\")       # Time after trigger\n",
    "cf_bla = set_register(cf_bla, \"800C\", \"A\")        # Buffer organization\n",
    "cf_bla = set_register(cf_bla, \"8020\", \"15E\")       # Event window size (40hex = 1280ns)\n",
    "cf_bla = set_register(cf_bla, \"8120\", \"09\")       # Channel enable mask\n",
    "cf_bla = set_register(cf_bla, \"810C\", \"C1F00003\") # Trigger source\n",
    "cf_bla = set_register(cf_bla, \"1080\", \"1FEA\")     # Trigger level channel 0\n",
    "cf_bla = set_register(cf_bla, \"1180\", \"0000\")     # Trigger level channel 1\n",
    "cf_bla = set_register(cf_bla, \"1280\", \"0000\")     # Trigger level channel 2\n",
    "cf_bla = set_register(cf_bla, \"1380\", \"1900\")     # Trigger level channel 3\n",
    "\n",
    "\n",
    "save_config(cf_bla, 'NaI_only.ini')\n",
    "\n",
    "#Some stuff was changed here but w/e"
   ]
  },
  {
   "cell_type": "markdown",
   "metadata": {},
   "source": [
    "### NaI_coincidence"
   ]
  },
  {
   "cell_type": "code",
   "execution_count": 192,
   "metadata": {
    "collapsed": false
   },
   "outputs": [
    {
     "name": "stdout",
     "output_type": "stream",
     "text": [
      "Register 8020 not found in config, will append it now...\n",
      "Register 1180 not found in config, will append it now...\n",
      "Register 1280 not found in config, will append it now...\n",
      "Output written to /home/xams/xams/daqcontrol/ini/NaI_coincidence.ini\n"
     ]
    }
   ],
   "source": [
    "cf_bla = deepcopy(cf_default)\n",
    "cf_bla['zle'] = False\n",
    "\n",
    "cf_bla['data_folder'] = \"/home/xams/lena/run9/raw/NaI_only\"\n",
    "cf_bla[\"lena_pax_config_path\"] = \"/data/xenon/xams/run9/pax_ini/XAMS_raw_to_processed_scin_coincidence.ini\"\n",
    "\n",
    "cf_bla = set_register(cf_bla, \"8114\", \"60\")       # Time after trigger\n",
    "cf_bla = set_register(cf_bla, \"800C\", \"A\")        # Buffer organization\n",
    "cf_bla = set_register(cf_bla, \"8020\", \"C0\")       # Event window size (40hex = 1280ns)\n",
    "cf_bla = set_register(cf_bla, \"8120\", \"B\")       # Channel enable mask\n",
    "cf_bla = set_register(cf_bla, \"810C\", \"C1F00003\") # Trigger source\n",
    "cf_bla = set_register(cf_bla, \"1080\", \"1FEA\")     # Trigger level channel 0\n",
    "cf_bla = set_register(cf_bla, \"1180\", \"0000\")     # Trigger level channel 1\n",
    "cf_bla = set_register(cf_bla, \"1280\", \"0000\")     # Trigger level channel 2\n",
    "cf_bla = set_register(cf_bla, \"1380\", \"1FA4\")     # Trigger level channel 3\n",
    "\n",
    "\n",
    "save_config(cf_bla, 'NaI_coincidence.ini')"
   ]
  },
  {
   "cell_type": "markdown",
   "metadata": {},
   "source": [
    "### SiPM"
   ]
  },
  {
   "cell_type": "code",
   "execution_count": 193,
   "metadata": {
    "collapsed": false
   },
   "outputs": [
    {
     "name": "stdout",
     "output_type": "stream",
     "text": [
      "Register 1428 not found in config, will append it now...\n",
      "Register 1480 not found in config, will append it now...\n",
      "Register 8020 not found in config, will append it now...\n",
      "Output written to /home/xams/xams/daqcontrol/ini/SiPM_gain.ini\n"
     ]
    }
   ],
   "source": [
    "cf_PMT12_gain = deepcopy(cf_default)\n",
    "cf_PMT12_gain['data_folder'] = \"/data/xenon/xams/run9/raw/sipm\"\n",
    "cf_PMT12_gain[\"lena_pax_config_path\"] = \"/data/xenon/xams/run9/pax_ini/XAMS_raw_to_processed_sipm.ini\"\n",
    "cf_PMT12_gain[\"inverted_channels\"] = [0]\n",
    "\n",
    "cf_PMT12_gain = set_register(cf_PMT12_gain, \"8120\", \"11\") # Chan enable\n",
    "cf_PMT12_gain = set_register(cf_PMT12_gain, \"810C\", \"C0000004\") # Trigger source channel 4\n",
    "cf_PMT12_gain = set_register(cf_PMT12_gain, \"8114\", \"20\")       # Time after trigger\n",
    "cf_PMT12_gain = set_register(cf_PMT12_gain, \"800C\", \"A\")        # Buffer organization\n",
    "cf_PMT12_gain = set_register(cf_PMT12_gain, \"1028\", \"1\")        # Channel 0 gain smaller dynamic range = 1\n",
    "cf_PMT12_gain = set_register(cf_PMT12_gain, \"1428\", \"0\")        # Channel 4 gain pulse generator\n",
    "cf_PMT12_gain = set_register(cf_PMT12_gain, \"1480\", \"1770\")     # Trigger level channel 4 (at 6000 counts, for NIM pulse)\n",
    "cf_PMT12_gain = set_register(cf_PMT12_gain, \"8020\", \"40\")       # Event window size (40hex = 64dec = \n",
    "                                                                #                 640 samples = 1280 ns)\n",
    "save_config(cf_PMT12_gain, 'SiPM_gain.ini')"
   ]
  },
  {
   "cell_type": "code",
   "execution_count": null,
   "metadata": {
    "collapsed": true
   },
   "outputs": [],
   "source": []
  },
  {
   "cell_type": "markdown",
   "metadata": {},
   "source": [
    "## Auxilary"
   ]
  },
  {
   "cell_type": "code",
   "execution_count": 194,
   "metadata": {
    "collapsed": true
   },
   "outputs": [],
   "source": [
    "def get_trigger_level(channel, counts):\n",
    "    print('%d counts = %.1f mV' % (counts, counts/16383*2000))\n",
    "    if channel==0:\n",
    "        level = 8193 - counts\n",
    "    \n",
    "    if channel ==3:\n",
    "        level = 8258 - counts\n",
    "        \n",
    "    if channel == 4:\n",
    "        level = 8268 - counts\n",
    "        \n",
    "    return hex(level)"
   ]
  },
  {
   "cell_type": "code",
   "execution_count": 195,
   "metadata": {
    "collapsed": true
   },
   "outputs": [],
   "source": [
    "def invert_trigger_level(channel, counts):\n",
    "    counts = int(counts, 16)\n",
    "    if channel==0:\n",
    "        level = 8193 - counts\n",
    "    \n",
    "    if channel ==3:\n",
    "        level = 8258 - counts\n",
    "        \n",
    "    if channel == 4:\n",
    "        level = 8268 - counts\n",
    "        \n",
    "    return level"
   ]
  },
  {
   "cell_type": "code",
   "execution_count": 196,
   "metadata": {
    "collapsed": false
   },
   "outputs": [
    {
     "data": {
      "text/plain": [
       "93"
      ]
     },
     "execution_count": 196,
     "metadata": {},
     "output_type": "execute_result"
    }
   ],
   "source": [
    "invert_trigger_level(0, '1FA4')"
   ]
  },
  {
   "cell_type": "code",
   "execution_count": 197,
   "metadata": {
    "collapsed": false
   },
   "outputs": [
    {
     "data": {
      "text/plain": [
       "82"
      ]
     },
     "execution_count": 197,
     "metadata": {},
     "output_type": "execute_result"
    }
   ],
   "source": [
    "invert_trigger_level(3, '1ff0')"
   ]
  },
  {
   "cell_type": "code",
   "execution_count": 198,
   "metadata": {
    "collapsed": false
   },
   "outputs": [],
   "source": [
    "def get_window_size(hex_string):\n",
    "    hex_string = str(hex_string)\n",
    "    return int(hex_string, 16) * 10 * 2 * 1e-3"
   ]
  },
  {
   "cell_type": "code",
   "execution_count": 199,
   "metadata": {
    "collapsed": true
   },
   "outputs": [],
   "source": [
    "def get_trigger_delay(hex_string):\n",
    "    hex_string = str(hex_string)\n",
    "    print('Warning: uses ad-hoc guess of computation')\n",
    "    return int(hex_string, 16) * 8 * 2 * 1e-3"
   ]
  },
  {
   "cell_type": "code",
   "execution_count": 200,
   "metadata": {
    "collapsed": false
   },
   "outputs": [
    {
     "name": "stdout",
     "output_type": "stream",
     "text": [
      "93 counts = 11.4 mV\n"
     ]
    },
    {
     "data": {
      "text/plain": [
       "'0x1fa4'"
      ]
     },
     "execution_count": 200,
     "metadata": {},
     "output_type": "execute_result"
    }
   ],
   "source": [
    "get_trigger_level(0, 93)"
   ]
  },
  {
   "cell_type": "code",
   "execution_count": 201,
   "metadata": {
    "collapsed": false
   },
   "outputs": [
    {
     "name": "stdout",
     "output_type": "stream",
     "text": [
      "150 counts = 18.3 mV\n"
     ]
    },
    {
     "data": {
      "text/plain": [
       "'0x1fb6'"
      ]
     },
     "execution_count": 201,
     "metadata": {},
     "output_type": "execute_result"
    }
   ],
   "source": [
    "get_trigger_level(4, 150)"
   ]
  },
  {
   "cell_type": "code",
   "execution_count": 202,
   "metadata": {
    "collapsed": false
   },
   "outputs": [
    {
     "name": "stdout",
     "output_type": "stream",
     "text": [
      "123 counts = 15.0 mV\n"
     ]
    },
    {
     "data": {
      "text/plain": [
       "'0x1fc7'"
      ]
     },
     "execution_count": 202,
     "metadata": {},
     "output_type": "execute_result"
    }
   ],
   "source": [
    "get_trigger_level(3, 123)"
   ]
  },
  {
   "cell_type": "code",
   "execution_count": 203,
   "metadata": {
    "collapsed": false
   },
   "outputs": [
    {
     "name": "stdout",
     "output_type": "stream",
     "text": [
      "16 counts = 2.0 mV\n"
     ]
    },
    {
     "data": {
      "text/plain": [
       "'0x2032'"
      ]
     },
     "execution_count": 203,
     "metadata": {},
     "output_type": "execute_result"
    }
   ],
   "source": [
    "get_trigger_level(3, 16)"
   ]
  },
  {
   "cell_type": "code",
   "execution_count": 204,
   "metadata": {
    "collapsed": false
   },
   "outputs": [
    {
     "name": "stdout",
     "output_type": "stream",
     "text": [
      "27 counts = 3.3 mV\n"
     ]
    },
    {
     "data": {
      "text/plain": [
       "'0x2027'"
      ]
     },
     "execution_count": 204,
     "metadata": {},
     "output_type": "execute_result"
    }
   ],
   "source": [
    "get_trigger_level(3, 27)"
   ]
  },
  {
   "cell_type": "code",
   "execution_count": 205,
   "metadata": {
    "collapsed": false
   },
   "outputs": [
    {
     "name": "stdout",
     "output_type": "stream",
     "text": [
      "8 counts = 1.0 mV\n"
     ]
    },
    {
     "data": {
      "text/plain": [
       "'0x203a'"
      ]
     },
     "execution_count": 205,
     "metadata": {},
     "output_type": "execute_result"
    }
   ],
   "source": [
    "get_trigger_level(3, 8)"
   ]
  },
  {
   "cell_type": "code",
   "execution_count": 206,
   "metadata": {
    "collapsed": false
   },
   "outputs": [
    {
     "data": {
      "text/plain": [
       "350"
      ]
     },
     "execution_count": 206,
     "metadata": {},
     "output_type": "execute_result"
    }
   ],
   "source": [
    "int('15E', 16)"
   ]
  },
  {
   "cell_type": "code",
   "execution_count": null,
   "metadata": {
    "collapsed": true
   },
   "outputs": [],
   "source": []
  },
  {
   "cell_type": "code",
   "execution_count": 207,
   "metadata": {
    "collapsed": false
   },
   "outputs": [
    {
     "data": {
      "text/plain": [
       "8136"
      ]
     },
     "execution_count": 207,
     "metadata": {},
     "output_type": "execute_result"
    }
   ],
   "source": [
    "int('1fc8', 16)"
   ]
  },
  {
   "cell_type": "code",
   "execution_count": 208,
   "metadata": {
    "collapsed": false
   },
   "outputs": [
    {
     "data": {
      "text/plain": [
       "7.0"
      ]
     },
     "execution_count": 208,
     "metadata": {},
     "output_type": "execute_result"
    }
   ],
   "source": [
    "get_window_size('15e')"
   ]
  },
  {
   "cell_type": "code",
   "execution_count": 209,
   "metadata": {
    "collapsed": false
   },
   "outputs": [
    {
     "data": {
      "text/plain": [
       "9.21265"
      ]
     },
     "execution_count": 209,
     "metadata": {},
     "output_type": "execute_result"
    }
   ],
   "source": [
    "50*1.6022e-19*5e8 * 2.3e6 *1e3"
   ]
  },
  {
   "cell_type": "code",
   "execution_count": 210,
   "metadata": {
    "collapsed": false
   },
   "outputs": [
    {
     "name": "stdout",
     "output_type": "stream",
     "text": [
      "7.875\n",
      "7.625\n"
     ]
    }
   ],
   "source": [
    "print((8189-int('1fbe', 16))/16000*2000)\n",
    "print((8257-int('2004', 16))/16000*2000)"
   ]
  },
  {
   "cell_type": "markdown",
   "metadata": {},
   "source": [
    "## Other"
   ]
  },
  {
   "cell_type": "code",
   "execution_count": 211,
   "metadata": {
    "collapsed": false
   },
   "outputs": [
    {
     "name": "stdout",
     "output_type": "stream",
     "text": [
      "Done dumping config files! Last update: 2018-12-06 15:09\n"
     ]
    }
   ],
   "source": [
    "import datetime\n",
    "now = datetime.datetime.now()\n",
    "print('Done dumping config files! Last update: %s'\n",
    "      % (now.strftime(\"%Y-%m-%d %H:%M\")))"
   ]
  }
 ],
 "metadata": {
  "anaconda-cloud": {},
  "kernelspec": {
   "display_name": "Python 3",
   "language": "python",
   "name": "python3"
  },
  "language_info": {
   "codemirror_mode": {
    "name": "ipython",
    "version": 3
   },
   "file_extension": ".py",
   "mimetype": "text/x-python",
   "name": "python",
   "nbconvert_exporter": "python",
   "pygments_lexer": "ipython3",
   "version": "3.4.5"
  }
 },
 "nbformat": 4,
 "nbformat_minor": 1
}
