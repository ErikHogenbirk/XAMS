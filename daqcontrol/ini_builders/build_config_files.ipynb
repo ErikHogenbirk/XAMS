{
 "cells": [
  {
   "cell_type": "markdown",
   "metadata": {},
   "source": [
    "# Main config file builder"
   ]
  },
  {
   "cell_type": "markdown",
   "metadata": {},
   "source": [
    "*Februari 2017, Kiefer van Teutem (kiefert@nikhef.nl), Erik Hogenbirk (ehogenbi@nikhef.nl, hogenbirk91@gmail.com)*"
   ]
  },
  {
   "cell_type": "markdown",
   "metadata": {},
   "source": [
    "This script is intended to output configuration files for kodiaq, which is controlled by the daqcontrol. Find repository [here](https://github.com/ErikHogenbirk/XAMS)."
   ]
  },
  {
   "cell_type": "markdown",
   "metadata": {
    "heading_collapsed": true
   },
   "source": [
    "### Imports, settings, functions"
   ]
  },
  {
   "cell_type": "code",
   "execution_count": 55,
   "metadata": {
    "collapsed": true,
    "hidden": true
   },
   "outputs": [],
   "source": [
    "# Imports\n",
    "import json\n",
    "import time\n",
    "import os\n",
    "from copy import deepcopy"
   ]
  },
  {
   "cell_type": "code",
   "execution_count": 56,
   "metadata": {
    "collapsed": true,
    "hidden": true
   },
   "outputs": [],
   "source": [
    "# Configuration of the configuration maker\n",
    "output_dir = '/home/xams/xams/daqcontrol/ini/'\n",
    "filename = 'default_config.ini'"
   ]
  },
  {
   "cell_type": "code",
   "execution_count": 57,
   "metadata": {
    "collapsed": true,
    "hidden": true
   },
   "outputs": [],
   "source": [
    "def set_register(cf, reg, val, comment=\"\", verbose=False):\n",
    "    '''This sets one register value of a config dict.'''\n",
    "    # This is a list of dicts\n",
    "    reg_list = cf['registers']\n",
    "    new_reg_list = []\n",
    "    reg_found = False\n",
    "    for reg_dict in reg_list:\n",
    "        # Find the dict with that register\n",
    "        if reg_dict['register'] == reg:\n",
    "            # If we found it, let's change it\n",
    "            reg_dict['value'] = val\n",
    "            if verbose: print(\"Just set register %s (%s) with value %s\" % (reg_dict['register'],\n",
    "                                                                          reg_dict['comment'], reg_dict['value']))\n",
    "            # Keep track of if we found it\n",
    "            reg_found = True\n",
    "            new_reg_list.append(reg_dict)\n",
    "        else:\n",
    "            # If it doesn't match, we must just copy it\n",
    "            new_reg_list.append(reg_dict)\n",
    "    if not reg_found:\n",
    "        # This is a NEW register, so we must build it\n",
    "        print(\"Register %s not found in config, will append it now...\" % reg)\n",
    "        reg_dict = {\n",
    "            \"comment\" : comment,\n",
    "            \"register\": reg,\n",
    "            \"board\" : \"-1\",\n",
    "            \"value\" : val\n",
    "        }\n",
    "        new_reg_list.append(reg_dict)\n",
    "    cf['registers'] = new_reg_list\n",
    "    return cf\n",
    "        "
   ]
  },
  {
   "cell_type": "code",
   "execution_count": 58,
   "metadata": {
    "collapsed": true,
    "hidden": true
   },
   "outputs": [],
   "source": [
    "def save_config(cf, filename, output_dir=output_dir):\n",
    "    config_path = os.path.join(output_dir, filename)\n",
    "    with open(config_path, 'w') as outfile:\n",
    "        json.dump(cf, outfile, indent = 4)\n",
    "    print('Output written to %s' % config_path)"
   ]
  },
  {
   "cell_type": "markdown",
   "metadata": {},
   "source": [
    "### Default"
   ]
  },
  {
   "cell_type": "code",
   "execution_count": 59,
   "metadata": {
    "collapsed": false
   },
   "outputs": [],
   "source": [
    "cf_default = {\n",
    "    \"data_folder\" : \"/home/xams/lena/run8/raw/data\",\n",
    "    \"lena_pax_config_path\" : \"/data/xenon/xams/run8/pax_ini/XAMS_raw_to_processed.ini\",\n",
    "    \"zle\" : False,\n",
    "    \"links\": [{\n",
    "        \"type\": \"V2718\",\n",
    "        \"reader\": 0,\n",
    "        \"crate\": 0,\n",
    "        \"link\": 0\n",
    "    }],\n",
    "\n",
    "    \"boards\": [{\n",
    "        \"crate\": 0,\n",
    "        \"serial\": \"077\",\n",
    "        \"reader\": 0,\n",
    "        \"type\": \"V1724\",\n",
    "        \"vme_address\": \"Whatever?\",\n",
    "        \"link\": 0\n",
    "    }],\n",
    "    # blt_size {int} : block transfer size in bytes (decimal).\n",
    "    # V1724 standard: 524288\n",
    "    # V1730 maximum: 2097152?\n",
    "    \"blt_size\": 524288,\n",
    "    # run_start {int} : 0 - board internal (run start via register), \n",
    "    # 1 - s-in (for synchronized boards)\n",
    "    \"run_start\": 0,\n",
    "    \"baseline_mode\": 0,\n",
    "    # write_mode {int}: 0-no writing, 1-to file, 2-mongodb\n",
    "    \"write_mode\": 2,\n",
    "\n",
    "    \"mongo\": {\n",
    "        \"write_concern\": 0,\n",
    "        \"min_insert_size\": 1,\n",
    "        \"database\": \"xamsdata0\",\n",
    "        \"address\": \"mongodb://localhost:27017\",\n",
    "        \"collection\": \"onzin\"\n",
    "    },\n",
    "    \"processing_readout_threshold\": 0,\n",
    "    \"processing_num_threads\": 8,\n",
    "    \"processing_mode\": 3,\n",
    "    \"occurrence_integral\": 0,\n",
    "\n",
    "    \"compression\": 1,\n",
    "    \n",
    "    \"registers\": [\n",
    "        {\n",
    "            \"comment\": \"Reset software (all registers)\",\n",
    "            \"register\": \"EF24\",\n",
    "            \"board\": \"-1\",\n",
    "            \"value\": \"1\"\n",
    "        },\n",
    "        {\n",
    "            \"comment\": \"BLT event number\",\n",
    "            \"register\": \"EF1C\",\n",
    "            \"board\": \"-1\",\n",
    "            \"value\": \"40\"\n",
    "            # Maximum number of events loaded into each block.\n",
    "            # 40hex = 64dec\n",
    "        },\n",
    "        {\n",
    "            \"comment\": \"Enable BERR (error messages)\",\n",
    "            \"register\": \"EF00\",\n",
    "            \"board\": \"-1\",\n",
    "            \"value\": \"10\"\n",
    "        },\n",
    "        {\n",
    "            \"comment\": \"Aquisition control register\",\n",
    "            \"register\": \"8100\",\n",
    "            \"board\": \"-1\",\n",
    "            \"value\": \"5\" \n",
    "            #5: s-in control, 0: board control\n",
    "        },\n",
    "        {\n",
    "            \"comment\": \"Channel calibration\",\n",
    "            \"register\": \"809C\",\n",
    "            \"board\": \"-1\",\n",
    "            \"value\": \"1\"\n",
    "            # enables channel calibration\n",
    "        },\n",
    "        {\n",
    "            \"comment\": \"Channel enable mask\",\n",
    "            \"register\": \"8120\",\n",
    "            \"board\": \"-1\",\n",
    "            \"value\": \"09\"\n",
    "            # set to 01 to enable channel 0 only\n",
    "            # set to 09 to enable channel 0 and 3\n",
    "        },\n",
    "        {\n",
    "            \"comment\": \"Measurement time after trigger\",\n",
    "            \"register\": \"8114\",\n",
    "            \"board\": \"-1\",\n",
    "            \"value\": \"1400\"\n",
    "            # 20hex = 32dec = 320 samples = 640 ns\n",
    "            # 1000 = 81 920 ns\n",
    "        },\n",
    "        {\n",
    "            \"comment\": \"Trigger source enable mask\",\n",
    "            \"register\": \"810C\",\n",
    "            \"board\": \"-1\",\n",
    "            \"value\": \"C1F00003\"\n",
    "            # First digit: C for enable external + software trig\n",
    "            # Second: coincidence level\n",
    "            # Last one (?): channels enable\n",
    "            # Set to \"C0000001\" for only trigger 0 and 1\n",
    "        },\n",
    "        {\n",
    "            \"comment\": \"Buffer organisation\",\n",
    "            \"register\": \"800C\",\n",
    "            \"board\": \"-1\",\n",
    "            \"value\": \"6\"\n",
    "        },\n",
    "        {\n",
    "            \"comment\": \"Interrupt status ID\",\n",
    "            \"register\": \"EF14\",\n",
    "            \"board\": \"-1\",\n",
    "            \"value\": \"55AA\"\n",
    "            # Interrupt\n",
    "        },\n",
    "        {\n",
    "            \"comment\": \"Interrupt event number\",\n",
    "            \"register\": \"EF18\",\n",
    "            \"board\": \"-1\",\n",
    "            \"value\": \"1\"\n",
    "            # Interrupt when 1 event stored\n",
    "        },\n",
    "        {\n",
    "            \"comment\": \"Channel 0 gain\",\n",
    "            \"register\": \"1028\",\n",
    "            \"board\": \"-1\",\n",
    "            \"value\": \"0\"\n",
    "            # Channel n gain 0x1n28 (either 0 (2 Vpp) or 1 (0.5 Vpp))\n",
    "            # ONLY V1730\n",
    "        },\n",
    "        {\n",
    "            \"comment\": \"Channel 3 gain\",\n",
    "            \"register\": \"1328\",\n",
    "            \"board\": \"-1\",\n",
    "            \"value\": \"0\"\n",
    "            # Channel n gain 0x1n28 (either 0 (2 Vpp) or 1 (0.5 Vpp))\n",
    "            # ONLY V1730\n",
    "        },\n",
    "        {\n",
    "            \"comment\": \"Trigger level channel 0\",\n",
    "            \"register\": \"1080\",\n",
    "            \"board\": \"-1\",\n",
    "            \"value\": \"1FD7\"\n",
    "            # 1FF4 (hex) = 8180 (dec)\n",
    "            # 1FEA (hex) = 8170 (dec)\n",
    "            # 1FE0 (hex) = 8160 (dec)\n",
    "            # 1FD6 (hex) = 8150 (dec)\n",
    "            # 1F40 (hex) = 8000 (dec)\n",
    "            # 1E78 (hex) = 7800 (dec)\n",
    "        },\n",
    "        {\n",
    "            \"comment\": \"Trigger level channel 3\",\n",
    "            \"register\": \"1380\",\n",
    "            \"board\": \"-1\",\n",
    "            \"value\": \"201B\"\n",
    "        },\n",
    "        {\n",
    "            \"comment\": \"Trigger polarity\",\n",
    "            \"register\": \"8000\",\n",
    "            \"board\": \"-1\",\n",
    "            \"value\": \"40\"\n",
    "            # Set to 40 for negative, 00 for positive\n",
    "        }\n",
    "    ],\n",
    "}\n"
   ]
  },
  {
   "cell_type": "code",
   "execution_count": 60,
   "metadata": {
    "collapsed": false
   },
   "outputs": [
    {
     "name": "stdout",
     "output_type": "stream",
     "text": [
      "Output written to /home/xams/xams/daqcontrol/ini/default_config.ini\n"
     ]
    }
   ],
   "source": [
    "save_config(cf_default, 'default_config.ini')"
   ]
  },
  {
   "cell_type": "markdown",
   "metadata": {},
   "source": [
    "## Other configuration"
   ]
  },
  {
   "cell_type": "markdown",
   "metadata": {},
   "source": [
    "### Default ZLE"
   ]
  },
  {
   "cell_type": "code",
   "execution_count": 61,
   "metadata": {
    "collapsed": false
   },
   "outputs": [
    {
     "name": "stdout",
     "output_type": "stream",
     "text": [
      "Output written to /home/xams/xams/daqcontrol/ini/default_zle.ini\n"
     ]
    }
   ],
   "source": [
    "cf_default_zle = deepcopy(cf_default)\n",
    "cf_default_zle['zle'] = True\n",
    "save_config(cf_default_zle, 'default_zle.ini')"
   ]
  },
  {
   "cell_type": "markdown",
   "metadata": {},
   "source": [
    "### Gain calibration"
   ]
  },
  {
   "cell_type": "markdown",
   "metadata": {},
   "source": [
    "Settings for PMT calibration. Triggers on a NIM pulse fed to channel 4. Short waveforms (1.28 us) with the PMT pulses that around 700 ns."
   ]
  },
  {
   "cell_type": "code",
   "execution_count": 62,
   "metadata": {
    "collapsed": false
   },
   "outputs": [
    {
     "name": "stdout",
     "output_type": "stream",
     "text": [
      "Register 1428 not found in config, will append it now...\n",
      "Register 1480 not found in config, will append it now...\n",
      "Register 8020 not found in config, will append it now...\n",
      "Output written to /home/xams/xams/daqcontrol/ini/PMT12_gain.ini\n"
     ]
    }
   ],
   "source": [
    "cf_PMT12_gain = deepcopy(cf_default)\n",
    "cf_PMT12_gain['data_folder'] = \"/home/xams/lena/run8/raw/pmtdata\"\n",
    "cf_PMT12_gain[\"lena_pax_config_path\"] = \"/data/xenon/xams/run8/pax_ini/XAMS_raw_to_processed_PMT12_gain.ini\"\n",
    "cf_PMT12_gain = set_register(cf_PMT12_gain, \"810C\", \"C0000004\") # Trigger source\n",
    "cf_PMT12_gain = set_register(cf_PMT12_gain, \"8114\", \"20\")       # Time after trigger\n",
    "cf_PMT12_gain = set_register(cf_PMT12_gain, \"800C\", \"A\")        # Buffer organization\n",
    "cf_PMT12_gain = set_register(cf_PMT12_gain, \"1028\", \"1\")        # Channel 0 gain\n",
    "cf_PMT12_gain = set_register(cf_PMT12_gain, \"1328\", \"1\")        # Channel 3 gain\n",
    "cf_PMT12_gain = set_register(cf_PMT12_gain, \"1428\", \"0\")        # Channel 4 gain\n",
    "cf_PMT12_gain = set_register(cf_PMT12_gain, \"1080\", \"0000\")     # Trigger level channel 0\n",
    "cf_PMT12_gain = set_register(cf_PMT12_gain, \"1380\", \"0000\")     # Trigger level channel 3\n",
    "cf_PMT12_gain = set_register(cf_PMT12_gain, \"1480\", \"1770\")     # Trigger level channel 4 (at 6000 counts, for NIM pulse)\n",
    "cf_PMT12_gain = set_register(cf_PMT12_gain, \"8020\", \"40\")       # Event window size (40hex = 64dec = \n",
    "                                                                #                 640 samples = 1280 ns)\n",
    "save_config(cf_PMT12_gain, 'PMT12_gain.ini')"
   ]
  },
  {
   "cell_type": "markdown",
   "metadata": {},
   "source": [
    "### Baseline"
   ]
  },
  {
   "cell_type": "markdown",
   "metadata": {},
   "source": [
    "Same general configuration, but with the exception that you can trigger on external trigger only. Useful for noise, baseline, on data rate test."
   ]
  },
  {
   "cell_type": "code",
   "execution_count": 63,
   "metadata": {
    "collapsed": false
   },
   "outputs": [
    {
     "name": "stdout",
     "output_type": "stream",
     "text": [
      "Register 1480 not found in config, will append it now...\n",
      "Register 1428 not found in config, will append it now...\n",
      "Output written to /home/xams/xams/daqcontrol/ini/baseline.ini\n"
     ]
    }
   ],
   "source": [
    "cf_baseline = deepcopy(cf_default)\n",
    "cf_baseline['data_folder'] = \"/home/xams/lena/run8/raw/baseline\"\n",
    "cf_baseline[\"lena_pax_config_path\"] = \"/data/xenon/xams/run8/pax_ini/XAMS_raw_to_processed_baseline.ini\"\n",
    "cf_baseline = set_register(cf_baseline, \"810C\", \"C0000004\")  # Trigger source: use ONLY external (or channel 4 0.5V pulse)\n",
    "cf_baseline = set_register(cf_baseline, \"1480\", \"1770\")  # Trigger level channel 4 (-0.25 volt)\n",
    "cf_baseline = set_register(cf_baseline, \"1428\", \"0\")  # Gain channel 4\n",
    "\n",
    "save_config(cf_baseline, 'baseline.ini')"
   ]
  },
  {
   "cell_type": "markdown",
   "metadata": {
    "collapsed": true,
    "heading_collapsed": true
   },
   "source": [
    "### Baseline ZLE"
   ]
  },
  {
   "cell_type": "code",
   "execution_count": 64,
   "metadata": {
    "collapsed": false,
    "hidden": true
   },
   "outputs": [
    {
     "name": "stdout",
     "output_type": "stream",
     "text": [
      "Output written to /home/xams/xams/daqcontrol/ini/baseline_zle.ini\n"
     ]
    }
   ],
   "source": [
    "cf_baseline_zle = deepcopy(cf_baseline)\n",
    "cf_baseline_zle['zle'] = True\n",
    "save_config(cf_baseline_zle, 'baseline_zle.ini')"
   ]
  },
  {
   "cell_type": "markdown",
   "metadata": {
    "heading_collapsed": true
   },
   "source": [
    "### Radon detector"
   ]
  },
  {
   "cell_type": "code",
   "execution_count": 65,
   "metadata": {
    "collapsed": false,
    "hidden": true
   },
   "outputs": [
    {
     "name": "stdout",
     "output_type": "stream",
     "text": [
      "Register 1480 not found in config, will append it now...\n",
      "Register 8020 not found in config, will append it now...\n",
      "Output written to /home/xams/xams/daqcontrol/ini/radon_detector.ini\n"
     ]
    }
   ],
   "source": [
    "cf_rn = deepcopy(cf_default)\n",
    "cf_rn['data_folder'] = '/home/xams/lena/run8/raw/radon_detector'\n",
    "cf_rn['lena_pax_config_path'] = '/data/xenon/xams/run8/pax_ini/XAMS_radon_detector.ini'\n",
    "cf_rn = set_register(cf_rn, \"810C\", \"C0000004\") # Trigger source: channels 4 and 5. \n",
    "                                                # Trigger on timing pulse\n",
    "cf_rn = set_register(cf_rn, \"1480\", \"1FD6\")     # Trigger level channel 4\n",
    "cf_rn = set_register(cf_rn, \"8114\", \"20\")       # Time after trigger\n",
    "cf_rn = set_register(cf_rn, \"800C\", \"A\")        # Buffer organization\n",
    "cf_rn = set_register(cf_rn, \"8120\", \"11\")       # Channel enable mask: Channels 0 and 4\n",
    "cf_rn = set_register(cf_rn, \"8020\", \"40\")       # Event window size (40hex = 64dec = \n",
    "                                                #                 640 samples = 1280 ns)\n",
    "cf_rn = set_register(cf_rn, \"8000\", '40')       # Trigger polarity\n",
    "save_config(cf_rn, 'radon_detector.ini')"
   ]
  },
  {
   "cell_type": "markdown",
   "metadata": {
    "collapsed": true,
    "heading_collapsed": true
   },
   "source": [
    "### Xenon_gas"
   ]
  },
  {
   "cell_type": "code",
   "execution_count": 66,
   "metadata": {
    "collapsed": false,
    "hidden": true
   },
   "outputs": [
    {
     "name": "stdout",
     "output_type": "stream",
     "text": [
      "Output written to /home/xams/xams/daqcontrol/ini/xenon_gas.ini\n"
     ]
    }
   ],
   "source": [
    "cf_rn = deepcopy(cf_default)\n",
    "cf_rn['data_folder'] = '/home/xams/lena/run8/raw/xenon_gas'\n",
    "cf_rn['lena_pax_config_path'] = '/data/xenon/xams/run8/pax_ini/xenon_gas.ini'\n",
    "cf_rn = set_register(cf_rn, \"1080\", \"1FFB\")     # Trigger level channel 0\n",
    "cf_rn = set_register(cf_rn, \"1380\", \"2021\")     # Trigger level channel 3\n",
    "cf_rn = set_register(cf_rn, \"8114\", \"2000\")     # Time after trigger\n",
    "cf_rn = set_register(cf_rn, \"800C\", \"5\")        # Buffer organization\n",
    "cf_rn = set_register(cf_rn, \"EF1C\", \"20\")       # \n",
    "cf_rn['blt_size'] = 2097152\n",
    "save_config(cf_rn, 'xenon_gas.ini')"
   ]
  },
  {
   "cell_type": "markdown",
   "metadata": {
    "collapsed": true,
    "heading_collapsed": true
   },
   "source": [
    "### S1 only"
   ]
  },
  {
   "cell_type": "code",
   "execution_count": null,
   "metadata": {
    "collapsed": true,
    "hidden": true
   },
   "outputs": [],
   "source": []
  },
  {
   "cell_type": "code",
   "execution_count": 67,
   "metadata": {
    "collapsed": false,
    "hidden": true
   },
   "outputs": [
    {
     "name": "stdout",
     "output_type": "stream",
     "text": [
      "Output written to /home/xams/xams/daqcontrol/ini/s1_only.ini\n"
     ]
    }
   ],
   "source": [
    "cf_s1 = deepcopy(cf_default)\n",
    "cf_s1['data_folder'] = '/home/xams/lena/run8/raw/s1_only'\n",
    "cf_s1['lena_pax_config_path'] = '/data/xenon/xams/run8/pax_ini/s1_only.ini'\n",
    "cf_s1 = set_register(cf_s1, \"1080\", \"1FFB\")     # Trigger level channel 0\n",
    "cf_s1 = set_register(cf_s1, \"1380\", \"2021\")     # Trigger level channel 3\n",
    "cf_s1 = set_register(cf_s1, \"8114\", \"0100\")     # Time after trigger\n",
    "                                                # 100hex = 256dec = 2560 samples = 5120 ns\n",
    "cf_s1 = set_register(cf_s1, \"800C\", \"A\")        # Buffer organization\n",
    "                                                # A = 10 us\n",
    "save_config(cf_s1, 's1_only.ini')"
   ]
  },
  {
   "cell_type": "code",
   "execution_count": 68,
   "metadata": {
    "collapsed": false,
    "hidden": true
   },
   "outputs": [],
   "source": [
    "def get_trigger_level(channel, counts):\n",
    "    if channel==0:\n",
    "        level = 8228 - counts\n",
    "    \n",
    "    if channel ==3:\n",
    "        level = 8266 - counts\n",
    "    return hex(level)"
   ]
  },
  {
   "cell_type": "code",
   "execution_count": 69,
   "metadata": {
    "collapsed": false,
    "hidden": true
   },
   "outputs": [
    {
     "data": {
      "text/plain": [
       "163840"
      ]
     },
     "execution_count": 69,
     "metadata": {},
     "output_type": "execute_result"
    }
   ],
   "source": [
    "int('2000', 16) * 10 * 2"
   ]
  },
  {
   "cell_type": "code",
   "execution_count": 70,
   "metadata": {
    "collapsed": false,
    "hidden": true
   },
   "outputs": [
    {
     "data": {
      "text/plain": [
       "163840"
      ]
     },
     "execution_count": 70,
     "metadata": {},
     "output_type": "execute_result"
    }
   ],
   "source": [
    "8192*10*2"
   ]
  },
  {
   "cell_type": "markdown",
   "metadata": {},
   "source": [
    "### Na22_coincidence"
   ]
  },
  {
   "cell_type": "code",
   "execution_count": 71,
   "metadata": {
    "collapsed": false
   },
   "outputs": [
    {
     "name": "stdout",
     "output_type": "stream",
     "text": [
      "Register 1480 not found in config, will append it now...\n",
      "Output written to /home/xams/xams/daqcontrol/ini/Na22_zle.ini\n"
     ]
    }
   ],
   "source": [
    "cf_bla = deepcopy(cf_default)\n",
    "cf_bla['zle'] = True\n",
    "\n",
    "cf_bla['data_folder'] = \"/home/xams/lena/run8/raw/Na22\"\n",
    "cf_bla[\"lena_pax_config_path\"] = \"/data/xenon/xams/run8/pax_ini/XAMS_raw_to_processed_Na22.ini\"\n",
    "\n",
    "cf_bla = set_register(cf_bla, \"8120\", \"19\")       # Channel enable mask\n",
    "cf_bla = set_register(cf_bla, \"810C\", \"C2F00007\") # Trigger source\n",
    "cf_bla = set_register(cf_bla, \"1480\", \"2000\")     # Trigger level channel 4\n",
    "\n",
    "save_config(cf_bla, 'Na22_zle.ini')"
   ]
  },
  {
   "cell_type": "markdown",
   "metadata": {},
   "source": [
    "### NaI_only"
   ]
  },
  {
   "cell_type": "code",
   "execution_count": 72,
   "metadata": {
    "collapsed": false
   },
   "outputs": [
    {
     "name": "stdout",
     "output_type": "stream",
     "text": [
      "Register 8020 not found in config, will append it now...\n",
      "Register 1480 not found in config, will append it now...\n",
      "Output written to /home/xams/xams/daqcontrol/ini/NaI_only.ini\n"
     ]
    }
   ],
   "source": [
    "cf_bla = deepcopy(cf_default)\n",
    "cf_bla['zle'] = False\n",
    "\n",
    "cf_bla['data_folder'] = \"/home/xams/lena/run8/raw/NaI_only\"\n",
    "cf_bla[\"lena_pax_config_path\"] = \"/data/xenon/xams/run8/pax_ini/XAMS_raw_to_processed_NaI_only.ini\"\n",
    "\n",
    "cf_bla = set_register(cf_bla, \"8114\", \"60\")       # Time after trigger\n",
    "cf_bla = set_register(cf_bla, \"800C\", \"A\")        # Buffer organization\n",
    "cf_bla = set_register(cf_bla, \"8020\", \"C0\")       # Event window size (40hex = 1280ns)\n",
    "cf_bla = set_register(cf_bla, \"8120\", \"10\")       # Channel enable mask\n",
    "cf_bla = set_register(cf_bla, \"810C\", \"C0000004\") # Trigger source\n",
    "cf_bla = set_register(cf_bla, \"1080\", \"0000\")     # Trigger level channel 0\n",
    "cf_bla = set_register(cf_bla, \"1380\", \"0000\")     # Trigger level channel 3\n",
    "cf_bla = set_register(cf_bla, \"1480\", \"2000\")     # Trigger level channel 4\n",
    "\n",
    "save_config(cf_bla, 'NaI_only.ini')"
   ]
  },
  {
   "cell_type": "code",
   "execution_count": null,
   "metadata": {
    "collapsed": true
   },
   "outputs": [],
   "source": []
  }
 ],
 "metadata": {
  "anaconda-cloud": {},
  "kernelspec": {
   "display_name": "Python 3",
   "language": "python",
   "name": "python3"
  },
  "language_info": {
   "codemirror_mode": {
    "name": "ipython",
    "version": 3
   },
   "file_extension": ".py",
   "mimetype": "text/x-python",
   "name": "python",
   "nbconvert_exporter": "python",
   "pygments_lexer": "ipython3",
   "version": "3.4.5"
  }
 },
 "nbformat": 4,
 "nbformat_minor": 1
}
