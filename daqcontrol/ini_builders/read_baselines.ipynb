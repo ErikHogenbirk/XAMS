{
 "cells": [
  {
   "cell_type": "code",
   "execution_count": 69,
   "metadata": {
    "collapsed": false
   },
   "outputs": [
    {
     "name": "stdout",
     "output_type": "stream",
     "text": [
      "Reading baseline information from 190205_094222\n",
      "Baselines read:\n",
      "{'1724': [8330.5514705882342, 8345.0882352941189, 8020.8063725490192, 8180.0220588235297, 8331.5857843137255, 8135.0882352941171, 8218.9093137254895, 8260.2377450980384], '1730': [8210.5380000000005, 8189.2749999999996, 7905.6959999999999, 8266.2749999999996, 6384.0519999999997, 8215.0360000000001, 8175.2719999999999, 8192.7270000000008]}\n"
     ]
    }
   ],
   "source": [
    "from pymongo import MongoClient\n",
    "import pymongo\n",
    "import snappy\n",
    "import numpy as np\n",
    "import json\n",
    "\n",
    "\n",
    "client = MongoClient()\n",
    "dbname = 'xamsdata0'\n",
    "\n",
    "# Read the runs database and get the most recent 'baselines' run\n",
    "cursor = client['run']['runs'].find().sort('start',pymongo.DESCENDING)\n",
    "for doc in cursor:\n",
    "    ini_name = doc['ini']['ini_name']\n",
    "    if ini_name == 'baselines':\n",
    "        break\n",
    "\n",
    "# Read the collection name\n",
    "collname = doc['ini']['mongo']['collection']\n",
    "\n",
    "print('Reading baseline information from %s' % collname)\n",
    "\n",
    "# Now connect to database containing data\n",
    "d_1724 = {channel : [] for channel in range(8)}\n",
    "d_1730 = {channel : [] for channel in range(8)}\n",
    "\n",
    "cursor = client[dbname][collname].find()\n",
    "for doc in cursor:\n",
    "    channel = doc['channel']\n",
    "    board = doc['module']\n",
    "    d = snappy.decompress(doc['data'])\n",
    "    w = np.fromstring(d, dtype='<i2')\n",
    "    baseline = np.average(w)\n",
    "    if board == 1730:\n",
    "        d_1730[channel].append(baseline)\n",
    "    elif board == 1724:\n",
    "        d_1724[channel].append(baseline)\n",
    "    else:\n",
    "        print('Huh? What module is this: ', module)\n",
    "        \n",
    "        \n",
    "\n",
    "\n",
    "baselines = {'1724': [np.median(d_1724[channel]) for channel in range(8)], \n",
    "             '1730' : [np.median(d_1730[channel]) for channel in range(8)]}\n",
    "print('Baselines read:')\n",
    "print(baselines)\n",
    "\n",
    "with open('./baselines/baselines_%s.json' % collname, 'w') as outfile:\n",
    "    json.dump(baselines, outfile, indent = 4)\n",
    "    "
   ]
  },
  {
   "cell_type": "code",
   "execution_count": 60,
   "metadata": {
    "collapsed": false
   },
   "outputs": [],
   "source": []
  },
  {
   "cell_type": "code",
   "execution_count": 64,
   "metadata": {
    "collapsed": true
   },
   "outputs": [],
   "source": []
  },
  {
   "cell_type": "code",
   "execution_count": 68,
   "metadata": {
    "collapsed": false
   },
   "outputs": [],
   "source": []
  },
  {
   "cell_type": "code",
   "execution_count": null,
   "metadata": {
    "collapsed": true
   },
   "outputs": [],
   "source": []
  }
 ],
 "metadata": {
  "kernelspec": {
   "display_name": "Python 3",
   "language": "python",
   "name": "python3"
  },
  "language_info": {
   "codemirror_mode": {
    "name": "ipython",
    "version": 3
   },
   "file_extension": ".py",
   "mimetype": "text/x-python",
   "name": "python",
   "nbconvert_exporter": "python",
   "pygments_lexer": "ipython3",
   "version": "3.4.5"
  }
 },
 "nbformat": 4,
 "nbformat_minor": 2
}
